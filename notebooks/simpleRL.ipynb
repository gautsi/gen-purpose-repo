{
 "cells": [
  {
   "cell_type": "markdown",
   "metadata": {},
   "source": [
    "# Simple RL Experiment\n",
    "A notebook to experiment with a simple reinforcement learning problem: get through a 3x3 maze. The maze in a possible starting state looks like this:\n",
    "\n",
    "|1|0|0|\n",
    "|-|-|-|\n",
    "|0|2|0|\n",
    "|0|0|4|\n",
    "\n",
    "The number in each cell indicates:\n",
    "\n",
    "|number|meaning|\n",
    "|--|--|\n",
    "|0|open space|\n",
    "|1|current position|\n",
    "|2|hole (losing position)|\n",
    "|4|goal (winning position)|\n",
    "|3|current position = hole|\n",
    "|5|current position = goal|"
   ]
  },
  {
   "cell_type": "code",
   "execution_count": 1,
   "metadata": {
    "collapsed": true
   },
   "outputs": [],
   "source": [
    "%matplotlib inline\n",
    "import matplotlib.pyplot as plt"
   ]
  },
  {
   "cell_type": "code",
   "execution_count": 2,
   "metadata": {
    "collapsed": true
   },
   "outputs": [],
   "source": [
    "import numpy as np"
   ]
  },
  {
   "cell_type": "code",
   "execution_count": 87,
   "metadata": {
    "collapsed": false
   },
   "outputs": [],
   "source": [
    "def get_states(board_size, hole_pos, goal_pos):\n",
    "    def make_template():\n",
    "        template = np.zeros(board_size)\n",
    "        template[hole_pos] = 2\n",
    "        template[goal_pos] = 4\n",
    "        return template\n",
    "    \n",
    "    def make_state(template, curr_pos):\n",
    "        template[curr_pos] = template[curr_pos] + 1\n",
    "        return template\n",
    "    return [make_state(make_template(), p) for p in np.ndindex(board_size)]\n",
    "\n",
    "def get_curr_pos(state):\n",
    "    return [p for p in np.ndindex(state.shape) if state[p] % 2 == 1][0]\n",
    "\n",
    "def is_end_state(state):\n",
    "    if state[get_curr_pos(state)] in [3, 5]:\n",
    "        return True\n",
    "    else:\n",
    "        return False\n",
    "\n",
    "def action_delta(action):\n",
    "    pos_delta = (0, 0)\n",
    "    if action == 'up':\n",
    "        pos_delta = (-1, 0)    \n",
    "    if action == 'down':\n",
    "        pos_delta = (1, 0)    \n",
    "    if action == 'left':\n",
    "        pos_delta = (0, -1)    \n",
    "    if action == 'right':\n",
    "        pos_delta = (0, 1)  \n",
    "    return pos_delta\n",
    "\n",
    "def get_next_pos(state, action):\n",
    "    return tuple(np.add(get_curr_pos(state), action_delta(action)))\n",
    "\n",
    "def get_next_state(states, state, action):\n",
    "    return [s for s in states if get_curr_pos(s) == get_next_pos(state, action)][0]\n",
    "\n",
    "def get_possible_actions(actions, state):\n",
    "    return [] if is_end_state(state) else [action for action in actions if get_next_pos(state, action) in np.ndindex(state.shape)]\n",
    "\n",
    "def get_state_index(states, state):\n",
    "    return [i for i, s in enumerate(states) if np.array_equal(s, state)][0]\n",
    "\n",
    "def get_action_index(actions, action):\n",
    "    return [i for i, a in enumerate(actions) if a == action][0]\n",
    "\n",
    "def get_possible_qvalues(states, actions, state):\n",
    "    possible_next_actions = [get_action_index(actions, a) for a in get_possible_actions(actions, state)]\n",
    "    return np.take(qmatrix[get_state_index(states, state)], possible_next_actions)\n",
    "\n",
    "def argmax(l):\n",
    "    return [i for i, a in enumerate(l) if a == max(l)]\n",
    "\n",
    "def get_best_action(qmatrix, states, actions, state):\n",
    "    possible_next_actions = [get_action_index(actions, a) for a in get_possible_actions(actions, state)]\n",
    "    return actions[possible_next_actions[np.random.choice(argmax(get_possible_qvalues(states, actions, state)))]]\n",
    "\n",
    "def get_next_action(qmatrix, states, actions, state, rand_factor):\n",
    "    if np.random.rand() <= rand_factor:\n",
    "        return np.random.choice(get_possible_actions(actions, state))\n",
    "    else:\n",
    "        return get_best_action(qmatrix, states, actions, state)\n",
    "    \n",
    "def get_reward(state, num_moves):\n",
    "    if state[get_curr_pos(state)] == 5:\n",
    "        return 1.0 / num_moves\n",
    "    else:\n",
    "        return 0\n",
    "        \n",
    "def update_qmatrix(qmatrix, states, actions, num_moves, state, action):\n",
    "    next_state = get_next_state(states, state, action)\n",
    "    reward = get_reward(next_state, num_moves)\n",
    "    possible_next_qvalues = get_possible_qvalues(states, actions, next_state)\n",
    "    max_next_qvalues = 0 if len(possible_next_qvalues) == 0 else np.max(possible_next_qvalues)\n",
    "    qmatrix[(get_state_index(states, state), get_action_index(actions, action))] = reward + 0.5 * max_next_qvalues\n",
    "    return qmatrix\n",
    "    \n",
    "def run_game(states, actions, qmatrix, starting_state, starting_random_factor):\n",
    "    curr_state = starting_state\n",
    "    moves = []\n",
    "    \n",
    "    while(len(moves) < 20 and not is_end_state(curr_state)):\n",
    "        action = get_next_action(qmatrix, states, actions, curr_state, starting_random_factor / (len(moves) + 1))\n",
    "        qmatrix = update_qmatrix(qmatrix, states, actions, len(moves), curr_state, action)\n",
    "        curr_state = get_next_state(states, curr_state, action)\n",
    "        moves += [action]\n",
    "    \n",
    "    return {'num_moves': len(moves), 'final_reward': get_reward(curr_state, len(moves)), 'moves': moves, 'qmatrix': qmatrix}\n",
    "\n",
    "def run_games(states, actions, qmatrix, starting_state, num_games):\n",
    "    games = []\n",
    "    \n",
    "    while(len(games) < num_games):\n",
    "        games += [run_game(states, actions, qmatrix, starting_state, 1 - 0.01 * len(games))]\n",
    "        qmatrix = games[-1]['qmatrix']\n",
    "    \n",
    "    return games"
   ]
  },
  {
   "cell_type": "code",
   "execution_count": 88,
   "metadata": {
    "collapsed": false
   },
   "outputs": [],
   "source": [
    "states = get_states((3, 3), (1, 1), (2, 2))"
   ]
  },
  {
   "cell_type": "code",
   "execution_count": 89,
   "metadata": {
    "collapsed": true
   },
   "outputs": [],
   "source": [
    "actions = ['up', 'down', 'left', 'right']"
   ]
  },
  {
   "cell_type": "code",
   "execution_count": 90,
   "metadata": {
    "collapsed": false
   },
   "outputs": [],
   "source": [
    "qmatrix = 0.1 * np.random.randn(len(states), len(actions))"
   ]
  },
  {
   "cell_type": "code",
   "execution_count": 91,
   "metadata": {
    "collapsed": false
   },
   "outputs": [
    {
     "data": {
      "text/plain": [
       "array([[-0.10451299,  0.03379517,  0.0483195 , -0.04430384],\n",
       "       [-0.00122274,  0.03406232,  0.1429423 ,  0.10093908],\n",
       "       [ 0.16275808,  0.04363088, -0.06140874,  0.1291808 ],\n",
       "       [-0.13169699, -0.1100291 , -0.11371664, -0.01588945],\n",
       "       [-0.05980818,  0.00600156,  0.01382219, -0.0798041 ],\n",
       "       [-0.18455977,  0.02498336,  0.07086035, -0.00742408],\n",
       "       [ 0.14412972,  0.0170385 , -0.00807287, -0.01698718],\n",
       "       [ 0.02563014, -0.15282174, -0.01806534,  0.08198019],\n",
       "       [-0.0147556 ,  0.27776687, -0.15899732, -0.11334533]])"
      ]
     },
     "execution_count": 91,
     "metadata": {},
     "output_type": "execute_result"
    }
   ],
   "source": [
    "qmatrix"
   ]
  },
  {
   "cell_type": "code",
   "execution_count": 92,
   "metadata": {
    "collapsed": false
   },
   "outputs": [
    {
     "data": {
      "text/plain": [
       "<matplotlib.image.AxesImage at 0x7f74d6f72550>"
      ]
     },
     "execution_count": 92,
     "metadata": {},
     "output_type": "execute_result"
    },
    {
     "data": {
      "image/png": "[encoded data removed]",
      "text/plain": [
       "<matplotlib.figure.Figure at 0x7f74d7055fd0>"
      ]
     },
     "metadata": {},
     "output_type": "display_data"
    }
   ],
   "source": [
    "plt.imshow(qmatrix)"
   ]
  },
  {
   "cell_type": "code",
   "execution_count": 93,
   "metadata": {
    "collapsed": false
   },
   "outputs": [],
   "source": [
    "games_dict = run_games(states, actions, qmatrix, states[0], 10)"
   ]
  },
  {
   "cell_type": "code",
   "execution_count": 95,
   "metadata": {
    "collapsed": false
   },
   "outputs": [
    {
     "data": {
      "text/plain": [
       "<matplotlib.image.AxesImage at 0x7f74d6ee2390>"
      ]
     },
     "execution_count": 95,
     "metadata": {},
     "output_type": "execute_result"
    },
    {
     "data": {
      "image/png": "[encoded data removed]",
      "text/plain": [
       "<matplotlib.figure.Figure at 0x7f74d6fa5a90>"
      ]
     },
     "metadata": {},
     "output_type": "display_data"
    }
   ],
   "source": [
    "plt.imshow(games[-1]['qmatrix'])"
   ]
  },
  {
   "cell_type": "code",
   "execution_count": 76,
   "metadata": {
    "collapsed": false
   },
   "outputs": [
    {
     "data": {
      "text/plain": [
       "array([[ 0.,  0.,  0.],\n",
       "       [ 0.,  2.,  0.],\n",
       "       [ 0.,  1.,  4.]])"
      ]
     },
     "execution_count": 76,
     "metadata": {},
     "output_type": "execute_result"
    }
   ],
   "source": [
    "states[7]"
   ]
  },
  {
   "cell_type": "code",
   "execution_count": 77,
   "metadata": {
    "collapsed": false
   },
   "outputs": [
    {
     "data": {
      "text/plain": [
       "{'final_reward': 0,\n",
       " 'moves': ['down',\n",
       "  'down',\n",
       "  'up',\n",
       "  'down',\n",
       "  'up',\n",
       "  'down',\n",
       "  'up',\n",
       "  'down',\n",
       "  'up',\n",
       "  'down',\n",
       "  'up',\n",
       "  'down',\n",
       "  'up',\n",
       "  'down',\n",
       "  'up',\n",
       "  'down',\n",
       "  'up',\n",
       "  'down',\n",
       "  'up',\n",
       "  'down'],\n",
       " 'num_moves': 20,\n",
       " 'qmatrix': array([[  1.11280272e-01,   2.85786408e-03,   1.44152991e-01,\n",
       "           4.16666667e-02],\n",
       "        [ -1.31901970e-01,  -9.49244809e-02,   6.14176176e-05,\n",
       "           8.33333333e-02],\n",
       "        [  4.99107085e-02,   1.66666667e-01,   2.74931049e-08,\n",
       "          -6.43201384e-02],\n",
       "        [  1.20705557e-04,   5.71572817e-03,   1.82558103e-01,\n",
       "           0.00000000e+00],\n",
       "        [  3.49598753e-02,   1.86027664e-01,  -3.29492009e-02,\n",
       "           8.51280450e-02],\n",
       "        [  5.52904450e-02,   3.33333333e-01,  -1.00080881e-01,\n",
       "          -1.08552977e-02],\n",
       "        [  2.85786408e-03,   3.38440929e-02,   1.41512870e-01,\n",
       "          -2.12846786e-02],\n",
       "        [ -8.18567967e-02,  -9.79899311e-02,  -3.54182822e-03,\n",
       "          -5.71997784e-02],\n",
       "        [ -8.84193673e-02,  -7.62318176e-02,   3.74664166e-01,\n",
       "          -9.84120546e-02]])}"
      ]
     },
     "execution_count": 77,
     "metadata": {},
     "output_type": "execute_result"
    }
   ],
   "source": [
    "run_game(states, actions, games[-1]['qmatrix'], states[0], 0)"
   ]
  },
  {
   "cell_type": "code",
   "execution_count": 78,
   "metadata": {
    "collapsed": false
   },
   "outputs": [
    {
     "data": {
      "text/plain": [
       "[array([[-0.13897093,  0.03464336,  0.04558864,  0.        ],\n",
       "        [-0.12574929, -0.1110017 , -0.01248815,  0.        ],\n",
       "        [-0.11214431,  0.        ,  0.        ,  0.08352908],\n",
       "        [-0.09289048,  0.00571573,  0.02623573,  0.        ],\n",
       "        [-0.05478957, -0.07518182,  0.0475807 , -0.0489637 ],\n",
       "        [-0.04204691, -0.11512331,  0.        ,  0.01217609],\n",
       "        [ 0.01143146, -0.04136298,  0.0972468 ,  0.        ],\n",
       "        [ 0.        , -0.01111798, -0.10183032,  0.2       ],\n",
       "        [ 0.07248221,  0.02685564, -0.12223545,  0.18814847]]),\n",
       " -0.024976291358102951,\n",
       " 0.14804262582123148,\n",
       " 0.14804262582123148,\n",
       " 0.14804262582123148,\n",
       " 0.10405872217316403,\n",
       " 0.045725825321876967,\n",
       " 0.045725825321876967,\n",
       " 0.034643356725071107,\n",
       " 0.034643356725071107,\n",
       " 0.034643356725071107]"
      ]
     },
     "execution_count": 78,
     "metadata": {},
     "output_type": "execute_result"
    }
   ],
   "source": [
    "games_dict['qmatrices']"
   ]
  },
  {
   "cell_type": "code",
   "execution_count": null,
   "metadata": {
    "collapsed": true
   },
   "outputs": [],
   "source": []
  }
 ],
 "metadata": {
  "kernelspec": {
   "display_name": "Python 3",
   "language": "python",
   "name": "python3"
  },
  "language_info": {
   "codemirror_mode": {
    "name": "ipython",
    "version": 3
   },
   "file_extension": ".py",
   "mimetype": "text/x-python",
   "name": "python",
   "nbconvert_exporter": "python",
   "pygments_lexer": "ipython3",
   "version": "3.5.4"
  }
 },
 "nbformat": 4,
 "nbformat_minor": 0
}
