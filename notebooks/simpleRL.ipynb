{
 "cells": [
  {
   "cell_type": "markdown",
   "metadata": {},
   "source": [
    "# Simple RL Experiment\n",
    "A notebook to experiment with a simple reinforcement learning problem: get through a 3x3 maze. The maze in a possible starting state looks like this:\n",
    "\n",
    "|1|0|0|\n",
    "|-|-|-|\n",
    "|0|2|0|\n",
    "|0|0|4|\n",
    "\n",
    "The number in each cell indicates:\n",
    "\n",
    "|number|meaning|\n",
    "|--|--|\n",
    "|0|open space|\n",
    "|1|current position|\n",
    "|2|hole (losing position)|\n",
    "|4|goal (winning position)|\n",
    "|3|current position = hole|\n",
    "|5|current position = goal|"
   ]
  },
  {
   "cell_type": "code",
   "execution_count": 1,
   "metadata": {
    "collapsed": true
   },
   "outputs": [],
   "source": [
    "%matplotlib inline\n",
    "import matplotlib.pyplot as plt"
   ]
  },
  {
   "cell_type": "code",
   "execution_count": 2,
   "metadata": {
    "collapsed": true
   },
   "outputs": [],
   "source": [
    "import numpy as np"
   ]
  },
  {
   "cell_type": "code",
   "execution_count": 9,
   "metadata": {
    "collapsed": false
   },
   "outputs": [],
   "source": [
    "def get_states(board_size, hole_pos, goal_pos):\n",
    "    def make_template():\n",
    "        template = np.zeros(board_size)\n",
    "        template[hole_pos] = 2\n",
    "        template[goal_pos] = 4\n",
    "        return template\n",
    "    \n",
    "    def make_state(template, curr_pos):\n",
    "        template[curr_pos] = template[curr_pos] + 1\n",
    "        return template\n",
    "    return [make_state(make_template(), p) for p in np.ndindex(board_size)]\n",
    "\n",
    "def get_curr_pos(state):\n",
    "    return [p for p in np.ndindex(state.shape) if state[p] % 2 == 1][0]\n",
    "\n",
    "def is_end_state(state):\n",
    "    if state[get_curr_pos(state)] in [3, 5]:\n",
    "        return True\n",
    "    else:\n",
    "        return False\n",
    "\n",
    "def action_delta(action):\n",
    "    pos_delta = (0, 0)\n",
    "    if action == 'up':\n",
    "        pos_delta = (-1, 0)    \n",
    "    if action == 'down':\n",
    "        pos_delta = (1, 0)    \n",
    "    if action == 'left':\n",
    "        pos_delta = (0, -1)    \n",
    "    if action == 'right':\n",
    "        pos_delta = (0, 1)  \n",
    "    return pos_delta\n",
    "\n",
    "def get_next_pos(state, action):\n",
    "    return tuple(np.add(get_curr_pos(state), action_delta(action)))\n",
    "\n",
    "def get_next_state(states, state, action):\n",
    "    return [s for s in states if get_curr_pos(s) == get_next_pos(state, action)][0]\n",
    "\n",
    "def get_possible_actions(actions, state):\n",
    "    return [] if is_end_state(state) else [action for action in actions if get_next_pos(state, action) in np.ndindex(state.shape)]\n",
    "\n",
    "def get_state_index(states, state):\n",
    "    return [i for i, s in enumerate(states) if np.array_equal(s, state)][0]\n",
    "\n",
    "def get_action_index(actions, action):\n",
    "    return [i for i, a in enumerate(actions) if a == action][0]\n",
    "\n",
    "def get_possible_qvalues(states, actions, state):\n",
    "    possible_next_actions = [get_action_index(actions, a) for a in get_possible_actions(actions, state)]\n",
    "    return np.take(qmatrix[get_state_index(states, state)], possible_next_actions)\n",
    "\n",
    "def argmax(l):\n",
    "    return [i for i, a in enumerate(l) if a == max(l)]\n",
    "\n",
    "def get_best_action(qmatrix, states, actions, state):\n",
    "    possible_next_actions = [get_action_index(actions, a) for a in get_possible_actions(actions, state)]\n",
    "    return actions[possible_next_actions[np.random.choice(argmax(get_possible_qvalues(states, actions, state)))]]\n",
    "\n",
    "def get_next_action(qmatrix, states, actions, state, rand_factor):\n",
    "    if np.random.rand() <= rand_factor:\n",
    "        return np.random.choice(get_possible_actions(actions, state))\n",
    "    else:\n",
    "        return get_best_action(qmatrix, states, actions, state)\n",
    "    \n",
    "def get_reward(state, num_moves):\n",
    "    if state[get_curr_pos(state)] == 5:\n",
    "        return 1.0 / num_moves\n",
    "    else:\n",
    "        return 0\n",
    "        \n",
    "def update_qmatrix(qmatrix, states, actions, num_moves, state, action):\n",
    "    next_state = get_next_state(states, state, action)\n",
    "    reward = get_reward(next_state, num_moves)\n",
    "    possible_next_qvalues = get_possible_qvalues(states, actions, next_state)\n",
    "    max_next_qvalues = 0 if len(possible_next_qvalues) == 0 else np.max(possible_next_qvalues)\n",
    "    qmatrix[(get_state_index(states, state), get_action_index(actions, action))] = reward + 0.5 * max_next_qvalues\n",
    "    return qmatrix\n",
    "    \n",
    "def run_game(states, actions, qmatrix, starting_state, starting_random_factor):\n",
    "    curr_state = starting_state\n",
    "    moves = []\n",
    "    \n",
    "    while(len(moves) < 20 and not is_end_state(curr_state)):\n",
    "        action = get_next_action(qmatrix, states, actions, curr_state, starting_random_factor / (len(moves) + 1))\n",
    "        qmatrix = update_qmatrix(qmatrix, states, actions, len(moves), curr_state, action)\n",
    "        curr_state = get_next_state(states, curr_state, action)\n",
    "        moves += [action]\n",
    "    \n",
    "    return {'num_moves': len(moves), 'final_reward': get_reward(curr_state, len(moves)), 'moves': moves, 'qmatrix': qmatrix}\n",
    "\n",
    "def run_games(states, actions, qmatrix, starting_state, num_games):\n",
    "    games = []\n",
    "    \n",
    "    while(len(games) < num_games):\n",
    "        games += [run_game(states, actions, qmatrix, starting_state, 1 - 0.01 * len(games))]\n",
    "        qmatrix = games[-1]['qmatrix']\n",
    "    \n",
    "    return games"
   ]
  },
  {
   "cell_type": "code",
   "execution_count": 10,
   "metadata": {
    "collapsed": false
   },
   "outputs": [],
   "source": [
    "states = get_states((3, 3), (1, 1), (2, 2))"
   ]
  },
  {
   "cell_type": "code",
   "execution_count": 11,
   "metadata": {
    "collapsed": true
   },
   "outputs": [],
   "source": [
    "actions = ['up', 'down', 'left', 'right']"
   ]
  },
  {
   "cell_type": "code",
   "execution_count": 56,
   "metadata": {
    "collapsed": false
   },
   "outputs": [],
   "source": [
    "qmatrix = 0.1 * np.random.randn(len(states), len(actions))"
   ]
  },
  {
   "cell_type": "code",
   "execution_count": 57,
   "metadata": {
    "collapsed": false
   },
   "outputs": [
    {
     "data": {
      "text/plain": [
       "<matplotlib.image.AxesImage at 0x7fa628f9aa90>"
      ]
     },
     "execution_count": 57,
     "metadata": {},
     "output_type": "execute_result"
    },
    {
     "data": {
      "image/png": "[encoded data removed]",
      "text/plain": [
       "<matplotlib.figure.Figure at 0x7fa629000438>"
      ]
     },
     "metadata": {},
     "output_type": "display_data"
    }
   ],
   "source": [
    "plt.imshow(qmatrix)"
   ]
  },
  {
   "cell_type": "code",
   "execution_count": 89,
   "metadata": {
    "collapsed": true
   },
   "outputs": [],
   "source": [
    "games = run_games(states, actions, qmatrix, states[0], 40)"
   ]
  },
  {
   "cell_type": "code",
   "execution_count": 90,
   "metadata": {
    "collapsed": false
   },
   "outputs": [
    {
     "data": {
      "text/plain": [
       "<matplotlib.image.AxesImage at 0x7fa6288bfc88>"
      ]
     },
     "execution_count": 90,
     "metadata": {},
     "output_type": "execute_result"
    },
    {
     "data": {
      "image/png": "[encoded data removed]",
      "text/plain": [
       "<matplotlib.figure.Figure at 0x7fa6289a6518>"
      ]
     },
     "metadata": {},
     "output_type": "display_data"
    }
   ],
   "source": [
    "plt.imshow(games[-1]['qmatrix'])"
   ]
  },
  {
   "cell_type": "code",
   "execution_count": 91,
   "metadata": {
    "collapsed": false
   },
   "outputs": [
    {
     "data": {
      "text/plain": [
       "array([[ 0.,  0.,  0.],\n",
       "       [ 0.,  2.,  0.],\n",
       "       [ 1.,  0.,  4.]])"
      ]
     },
     "execution_count": 91,
     "metadata": {},
     "output_type": "execute_result"
    }
   ],
   "source": [
    "states[6]"
   ]
  },
  {
   "cell_type": "code",
   "execution_count": 92,
   "metadata": {
    "collapsed": false
   },
   "outputs": [
    {
     "data": {
      "text/plain": [
       "{'final_reward': 0.25,\n",
       " 'moves': ['right', 'right', 'down', 'down'],\n",
       " 'num_moves': 4,\n",
       " 'qmatrix': array([[  4.30641657e-02,   4.46428571e-03,   1.18337401e-01,\n",
       "           2.50000000e-02],\n",
       "        [  1.13327581e-01,   0.00000000e+00,   2.08333333e-02,\n",
       "           8.33333333e-02],\n",
       "        [  3.99721884e-05,   1.00000000e-01,   4.16666667e-02,\n",
       "          -1.47744668e-01],\n",
       "        [  2.08333333e-02,   2.23214286e-03,  -6.20161798e-02,\n",
       "           0.00000000e+00],\n",
       "        [ -6.21273623e-02,   6.83902026e-03,  -8.79153232e-02,\n",
       "          -7.58686675e-02],\n",
       "        [  3.57142857e-02,   3.33333333e-01,   0.00000000e+00,\n",
       "           5.78256746e-02],\n",
       "        [  1.04166667e-02,  -2.01768946e-02,   8.73101324e-02,\n",
       "           2.60416667e-03],\n",
       "        [  0.00000000e+00,  -7.15046634e-02,   3.12500000e-03,\n",
       "          -9.05892996e-02],\n",
       "        [ -2.00389978e-01,   7.60987090e-02,  -5.37496321e-03,\n",
       "           2.60476092e-02]])}"
      ]
     },
     "execution_count": 92,
     "metadata": {},
     "output_type": "execute_result"
    }
   ],
   "source": [
    "run_game(states, actions, games[-1]['qmatrix'], states[0], 0)"
   ]
  },
  {
   "cell_type": "code",
   "execution_count": null,
   "metadata": {
    "collapsed": true
   },
   "outputs": [],
   "source": []
  }
 ],
 "metadata": {
  "kernelspec": {
   "display_name": "Python 3",
   "language": "python",
   "name": "python3"
  },
  "language_info": {
   "codemirror_mode": {
    "name": "ipython",
    "version": 3
   },
   "file_extension": ".py",
   "mimetype": "text/x-python",
   "name": "python",
   "nbconvert_exporter": "python",
   "pygments_lexer": "ipython3",
   "version": "3.5.4"
  }
 },
 "nbformat": 4,
 "nbformat_minor": 0
}
