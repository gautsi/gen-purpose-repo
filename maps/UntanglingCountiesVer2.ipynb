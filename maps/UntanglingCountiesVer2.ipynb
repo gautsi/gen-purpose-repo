{
 "cells": [
  {
   "cell_type": "code",
   "execution_count": 1,
   "metadata": {
    "collapsed": true
   },
   "outputs": [],
   "source": [
    "import pandas as pd\n",
    "import numpy as np\n",
    "from tqdm import tqdm\n",
    "\n",
    "import matplotlib.pyplot as plt\n",
    "import seaborn as sns\n",
    "%matplotlib inline\n",
    "\n",
    "import colorlover as cl\n",
    "colors = [[i / 255 for i in j] for j in cl.to_numeric(cl.scales['5']['qual']['Dark2'])]"
   ]
  },
  {
   "cell_type": "code",
   "execution_count": 25,
   "metadata": {
    "collapsed": false
   },
   "outputs": [],
   "source": [
    "county_shapes = pd.read_csv(\"./ny_county_shapes.csv\").set_index(\"county_name\")\n",
    "ny_map_county_shapes = pd.read_csv(\"./ny_map_county_squares.csv\")"
   ]
  },
  {
   "cell_type": "code",
   "execution_count": 26,
   "metadata": {
    "collapsed": true
   },
   "outputs": [],
   "source": [
    "def ny_scatter2(ax, df, coord_col_name = \"test_{}_rank\"):\n",
    "    # fig, ax = plt.subplots(figsize = (s, s))\n",
    "    for ind, county in enumerate(df.county_name.unique()):\n",
    "        county_df = df[df.county_name == county]\n",
    "        ax.scatter(\n",
    "            y = county_df[coord_col_name.format(\"lat\")],\n",
    "            x = county_df[coord_col_name.format(\"lng\")],\n",
    "            s = county_df.sqrt_mult / 2,\n",
    "            marker = \"s\",\n",
    "            label = county,\n",
    "            alpha = 0.7,\n",
    "            color = colors[ind % 5],\n",
    "            edgecolor = \"none\")\n",
    "    # ax.legend(loc = 9, bbox_to_anchor = (0.5,0))\n",
    "    # return fig"
   ]
  },
  {
   "cell_type": "code",
   "execution_count": 27,
   "metadata": {
    "collapsed": false
   },
   "outputs": [
    {
     "data": {
      "image/png": "[encoded data removed]",
      "text/plain": [
       "<matplotlib.figure.Figure at 0x7fada526c7b8>"
      ]
     },
     "metadata": {
      "needs_background": "light"
     },
     "output_type": "display_data"
    }
   ],
   "source": [
    "fig, ax = plt.subplots(figsize = (5, 5))\n",
    "ny_scatter2(ax, ny_map_county_shapes)"
   ]
  },
  {
   "cell_type": "code",
   "execution_count": 28,
   "metadata": {
    "collapsed": false
   },
   "outputs": [],
   "source": [
    "for i in [\"lat\", \"lng\"]:\n",
    "    ny_map_county_shapes[\"new_scaled_{}_rank\".format(i)] = ny_map_county_shapes[\"test_{}_rank\".format(i)]"
   ]
  },
  {
   "cell_type": "code",
   "execution_count": 29,
   "metadata": {
    "collapsed": false
   },
   "outputs": [],
   "source": [
    "ny_map_county_shapes[\"square_id\"] = ny_map_county_shapes.index"
   ]
  },
  {
   "cell_type": "code",
   "execution_count": 30,
   "metadata": {
    "collapsed": false
   },
   "outputs": [],
   "source": [
    "def dist(x1, y1, x2, y2):\n",
    "    return np.sqrt(np.power(x1 - x2, 2) + np.power(y1 - y2, 2))"
   ]
  },
  {
   "cell_type": "code",
   "execution_count": 104,
   "metadata": {
    "collapsed": true
   },
   "outputs": [],
   "source": [
    "def check_intersect(row):\n",
    "    return (min(\n",
    "        [row[\"scaled_min_{}_rank_{}\".format(i, j[0])] <= row[\"scaled_max_{}_rank_{}\".format(i, j[1])]\n",
    "        for i in [\"lng\", \"lat\"] for j in rev_pair([\"x\", \"y\"])]))\n",
    "\n",
    "def compress(ny_map_county_shapes):\n",
    "    ny_map_county_shapes[\"dummy\"] = 1\n",
    "    select_cols = [\"square_id\", \"dummy\"] + [\"new_scaled_{}_rank\".format(i) for i in [\"lat\", \"lng\"]]\n",
    "    ny_map_county_square_pairs = ny_map_county_shapes[select_cols].merge(right = ny_map_county_shapes[select_cols], on = \"dummy\", how = \"left\")\n",
    "    ny_map_county_square_pairs = ny_map_county_square_pairs[~(ny_map_county_square_pairs.square_id_x == ny_map_county_square_pairs.square_id_y)]\n",
    "    \n",
    "    d = dist(*[ny_map_county_square_pairs[\"new_scaled_{}_rank_{}\".format(j, i)] for i in [\"x\", \"y\"] for j in [\"lat\", \"lng\"]])\n",
    "    min_d = d.min()\n",
    "    max_d = d.max()\n",
    "    a = - 0.001 / ((min_d - max_d) ** 2)\n",
    "    d_factor = a * (min_d - d) * (max_d - d)\n",
    "    \n",
    "    for i in [\"lat\", \"lng\"]:\n",
    "        ny_map_county_square_pairs[\"force_{}\".format(i)] = (d_factor * \n",
    "            (ny_map_county_square_pairs[\"new_scaled_{}_rank_y\".format(i)] - ny_map_county_square_pairs[\"new_scaled_{}_rank_x\".format(i)]))\n",
    "        \n",
    "    sum_forces = ny_map_county_square_pairs.groupby([\"square_id_x\"], as_index = False).agg({\"force_{}\".format(i): \"sum\" for i in [\"lat\", \"lng\"]})\n",
    "    \n",
    "    ny_map_county_shapes = ny_map_county_shapes.merge(\n",
    "        right = sum_forces,\n",
    "        left_on = [\"square_id\"],\n",
    "        right_on = [\"square_id_x\"],\n",
    "        how = \"left\")\n",
    "    \n",
    "    for i in [\"lat\", \"lng\"]:\n",
    "        ny_map_county_shapes[\"new_scaled_{}_rank\".format(i)] = (ny_map_county_shapes[\"new_scaled_{}_rank\".format(i)] +\n",
    "            ny_map_county_shapes[\"force_{}\".format(i)])\n",
    "    \n",
    "    return ny_map_county_shapes.drop(columns = [\"force_{}\".format(i) for i in [\"lat\", \"lng\"]])"
   ]
  },
  {
   "cell_type": "code",
   "execution_count": 105,
   "metadata": {
    "collapsed": true
   },
   "outputs": [],
   "source": [
    "niter = 10"
   ]
  },
  {
   "cell_type": "code",
   "execution_count": null,
   "metadata": {
    "collapsed": false
   },
   "outputs": [
    {
     "name": "stderr",
     "output_type": "stream",
     "text": [
      " 10%|█         | 1/10 [00:02<00:25,  2.85s/it]"
     ]
    }
   ],
   "source": [
    "prev = ny_map_county_shapes\n",
    "test_dfs = []\n",
    "\n",
    "for i in tqdm(range(niter)):\n",
    "    test_dfs.append(compress(prev))\n",
    "    prev = test_dfs[-1]"
   ]
  },
  {
   "cell_type": "code",
   "execution_count": null,
   "metadata": {
    "collapsed": false
   },
   "outputs": [],
   "source": [
    "fig, ax = plt.subplots(figsize = (5, niter * 5), nrows = niter + 1)#, sharey = True, sharex = True)\n",
    "ny_scatter2(ax[0], ny_map_county_shapes)\n",
    "for i in range(niter):\n",
    "    ny_scatter2(ax[i + 1], test_dfs[i], coord_col_name = \"new_scaled_{}_rank\")"
   ]
  },
  {
   "cell_type": "code",
   "execution_count": null,
   "metadata": {
    "collapsed": true
   },
   "outputs": [],
   "source": []
  }
 ],
 "metadata": {
  "kernelspec": {
   "display_name": "Python 3",
   "language": "python",
   "name": "python3"
  },
  "language_info": {
   "codemirror_mode": {
    "name": "ipython",
    "version": 3
   },
   "file_extension": ".py",
   "mimetype": "text/x-python",
   "name": "python",
   "nbconvert_exporter": "python",
   "pygments_lexer": "ipython3",
   "version": "3.5.4"
  }
 },
 "nbformat": 4,
 "nbformat_minor": 2
}
