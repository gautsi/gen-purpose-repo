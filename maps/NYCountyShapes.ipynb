{
 "cells": [
  {
   "cell_type": "code",
   "execution_count": 78,
   "metadata": {
    "collapsed": true
   },
   "outputs": [],
   "source": [
    "import pandas as pd\n",
    "import numpy as np"
   ]
  },
  {
   "cell_type": "code",
   "execution_count": 2,
   "metadata": {
    "collapsed": true
   },
   "outputs": [],
   "source": [
    "import matplotlib.pyplot as plt\n",
    "import seaborn as sns\n",
    "%matplotlib inline"
   ]
  },
  {
   "cell_type": "code",
   "execution_count": 3,
   "metadata": {
    "collapsed": true
   },
   "outputs": [],
   "source": [
    "ny_map = pd.read_json(\"ny_map_data_res80.json\")"
   ]
  },
  {
   "cell_type": "code",
   "execution_count": 4,
   "metadata": {
    "collapsed": false
   },
   "outputs": [
    {
     "data": {
      "text/plain": [
       "6400"
      ]
     },
     "execution_count": 4,
     "metadata": {},
     "output_type": "execute_result"
    }
   ],
   "source": [
    "len(ny_map)"
   ]
  },
  {
   "cell_type": "code",
   "execution_count": 5,
   "metadata": {
    "collapsed": false
   },
   "outputs": [
    {
     "data": {
      "text/html": [
       "<div>\n",
       "<style scoped>\n",
       "    .dataframe tbody tr th:only-of-type {\n",
       "        vertical-align: middle;\n",
       "    }\n",
       "\n",
       "    .dataframe tbody tr th {\n",
       "        vertical-align: top;\n",
       "    }\n",
       "\n",
       "    .dataframe thead th {\n",
       "        text-align: right;\n",
       "    }\n",
       "</style>\n",
       "<table border=\"1\" class=\"dataframe\">\n",
       "  <thead>\n",
       "    <tr style=\"text-align: right;\">\n",
       "      <th></th>\n",
       "      <th>county_name</th>\n",
       "      <th>lat</th>\n",
       "      <th>lng</th>\n",
       "      <th>state</th>\n",
       "    </tr>\n",
       "  </thead>\n",
       "  <tbody>\n",
       "    <tr>\n",
       "      <th>0</th>\n",
       "      <td>Pike</td>\n",
       "      <td>41.403671</td>\n",
       "      <td>-74.984937</td>\n",
       "      <td>PA</td>\n",
       "    </tr>\n",
       "    <tr>\n",
       "      <th>1</th>\n",
       "      <td>Kawartha Lakes</td>\n",
       "      <td>44.788228</td>\n",
       "      <td>-79.055823</td>\n",
       "      <td>ON</td>\n",
       "    </tr>\n",
       "    <tr>\n",
       "      <th>2</th>\n",
       "      <td>Montgomery</td>\n",
       "      <td>42.920886</td>\n",
       "      <td>-74.476076</td>\n",
       "      <td>NY</td>\n",
       "    </tr>\n",
       "    <tr>\n",
       "      <th>3</th>\n",
       "      <td>Chautauqua</td>\n",
       "      <td>42.162278</td>\n",
       "      <td>-79.666456</td>\n",
       "      <td>NY</td>\n",
       "    </tr>\n",
       "    <tr>\n",
       "      <th>4</th>\n",
       "      <td>Rensselaer</td>\n",
       "      <td>42.862532</td>\n",
       "      <td>-73.661899</td>\n",
       "      <td>NY</td>\n",
       "    </tr>\n",
       "  </tbody>\n",
       "</table>\n",
       "</div>"
      ],
      "text/plain": [
       "      county_name        lat        lng state\n",
       "0            Pike  41.403671 -74.984937    PA\n",
       "1  Kawartha Lakes  44.788228 -79.055823    ON\n",
       "2      Montgomery  42.920886 -74.476076    NY\n",
       "3      Chautauqua  42.162278 -79.666456    NY\n",
       "4      Rensselaer  42.862532 -73.661899    NY"
      ]
     },
     "execution_count": 5,
     "metadata": {},
     "output_type": "execute_result"
    }
   ],
   "source": [
    "ny_map.head()"
   ]
  },
  {
   "cell_type": "code",
   "execution_count": 179,
   "metadata": {
    "collapsed": false
   },
   "outputs": [],
   "source": [
    "ny_map[\"lng_rank\"] = ny_map.lng.rank(method = \"dense\")\n",
    "ny_map[\"lat_rank\"] = ny_map.lat.rank(method = \"dense\")"
   ]
  },
  {
   "cell_type": "code",
   "execution_count": 180,
   "metadata": {
    "collapsed": false
   },
   "outputs": [],
   "source": [
    "ny_map[\"nyc\"] = ny_map.county_name.map(lambda x: x in [\"New York\", \"Bronx\", \"Richmond\", \"Kings\", \"Queens\"])"
   ]
  },
  {
   "cell_type": "code",
   "execution_count": 181,
   "metadata": {
    "collapsed": false
   },
   "outputs": [],
   "source": [
    "ny_map_restricted = ny_map[ny_map.state == \"NY\"]"
   ]
  },
  {
   "cell_type": "code",
   "execution_count": 182,
   "metadata": {
    "collapsed": false
   },
   "outputs": [
    {
     "data": {
      "text/html": [
       "<div>\n",
       "<style scoped>\n",
       "    .dataframe tbody tr th:only-of-type {\n",
       "        vertical-align: middle;\n",
       "    }\n",
       "\n",
       "    .dataframe tbody tr th {\n",
       "        vertical-align: top;\n",
       "    }\n",
       "\n",
       "    .dataframe thead th {\n",
       "        text-align: right;\n",
       "    }\n",
       "</style>\n",
       "<table border=\"1\" class=\"dataframe\">\n",
       "  <thead>\n",
       "    <tr style=\"text-align: right;\">\n",
       "      <th></th>\n",
       "      <th>lat</th>\n",
       "      <th>lng</th>\n",
       "      <th>state</th>\n",
       "      <th>lng_rank</th>\n",
       "      <th>lat_rank</th>\n",
       "      <th>nyc</th>\n",
       "    </tr>\n",
       "    <tr>\n",
       "      <th>county_name</th>\n",
       "      <th></th>\n",
       "      <th></th>\n",
       "      <th></th>\n",
       "      <th></th>\n",
       "      <th></th>\n",
       "      <th></th>\n",
       "    </tr>\n",
       "  </thead>\n",
       "  <tbody>\n",
       "    <tr>\n",
       "      <th>New York</th>\n",
       "      <td>1</td>\n",
       "      <td>1</td>\n",
       "      <td>1</td>\n",
       "      <td>1</td>\n",
       "      <td>1</td>\n",
       "      <td>1</td>\n",
       "    </tr>\n",
       "    <tr>\n",
       "      <th>Bronx</th>\n",
       "      <td>2</td>\n",
       "      <td>2</td>\n",
       "      <td>2</td>\n",
       "      <td>2</td>\n",
       "      <td>2</td>\n",
       "      <td>2</td>\n",
       "    </tr>\n",
       "    <tr>\n",
       "      <th>Richmond</th>\n",
       "      <td>3</td>\n",
       "      <td>3</td>\n",
       "      <td>3</td>\n",
       "      <td>3</td>\n",
       "      <td>3</td>\n",
       "      <td>3</td>\n",
       "    </tr>\n",
       "    <tr>\n",
       "      <th>Kings</th>\n",
       "      <td>4</td>\n",
       "      <td>4</td>\n",
       "      <td>4</td>\n",
       "      <td>4</td>\n",
       "      <td>4</td>\n",
       "      <td>4</td>\n",
       "    </tr>\n",
       "    <tr>\n",
       "      <th>Queens</th>\n",
       "      <td>5</td>\n",
       "      <td>5</td>\n",
       "      <td>5</td>\n",
       "      <td>5</td>\n",
       "      <td>5</td>\n",
       "      <td>5</td>\n",
       "    </tr>\n",
       "  </tbody>\n",
       "</table>\n",
       "</div>"
      ],
      "text/plain": [
       "             lat  lng  state  lng_rank  lat_rank  nyc\n",
       "county_name                                          \n",
       "New York       1    1      1         1         1    1\n",
       "Bronx          2    2      2         2         2    2\n",
       "Richmond       3    3      3         3         3    3\n",
       "Kings          4    4      4         4         4    4\n",
       "Queens         5    5      5         5         5    5"
      ]
     },
     "execution_count": 182,
     "metadata": {},
     "output_type": "execute_result"
    }
   ],
   "source": [
    "ny_map_restricted.groupby(\"county_name\").count().sort_values(\"lat\").head()"
   ]
  },
  {
   "cell_type": "code",
   "execution_count": 183,
   "metadata": {
    "collapsed": false
   },
   "outputs": [
    {
     "data": {
      "text/html": [
       "<div>\n",
       "<style scoped>\n",
       "    .dataframe tbody tr th:only-of-type {\n",
       "        vertical-align: middle;\n",
       "    }\n",
       "\n",
       "    .dataframe tbody tr th {\n",
       "        vertical-align: top;\n",
       "    }\n",
       "\n",
       "    .dataframe thead th {\n",
       "        text-align: right;\n",
       "    }\n",
       "</style>\n",
       "<table border=\"1\" class=\"dataframe\">\n",
       "  <thead>\n",
       "    <tr style=\"text-align: right;\">\n",
       "      <th></th>\n",
       "      <th>county_name</th>\n",
       "      <th>lat</th>\n",
       "      <th>lng</th>\n",
       "      <th>state</th>\n",
       "      <th>lng_rank</th>\n",
       "      <th>lat_rank</th>\n",
       "      <th>nyc</th>\n",
       "    </tr>\n",
       "  </thead>\n",
       "  <tbody>\n",
       "    <tr>\n",
       "      <th>2491</th>\n",
       "      <td>Kings</td>\n",
       "      <td>40.645063</td>\n",
       "      <td>-73.967215</td>\n",
       "      <td>NY</td>\n",
       "      <td>59.0</td>\n",
       "      <td>4.0</td>\n",
       "      <td>True</td>\n",
       "    </tr>\n",
       "    <tr>\n",
       "      <th>2959</th>\n",
       "      <td>Kings</td>\n",
       "      <td>40.645063</td>\n",
       "      <td>-73.865443</td>\n",
       "      <td>NY</td>\n",
       "      <td>60.0</td>\n",
       "      <td>4.0</td>\n",
       "      <td>True</td>\n",
       "    </tr>\n",
       "    <tr>\n",
       "      <th>5992</th>\n",
       "      <td>Kings</td>\n",
       "      <td>40.703418</td>\n",
       "      <td>-73.967215</td>\n",
       "      <td>NY</td>\n",
       "      <td>59.0</td>\n",
       "      <td>5.0</td>\n",
       "      <td>True</td>\n",
       "    </tr>\n",
       "    <tr>\n",
       "      <th>6332</th>\n",
       "      <td>Kings</td>\n",
       "      <td>40.586709</td>\n",
       "      <td>-73.967215</td>\n",
       "      <td>NY</td>\n",
       "      <td>59.0</td>\n",
       "      <td>3.0</td>\n",
       "      <td>True</td>\n",
       "    </tr>\n",
       "  </tbody>\n",
       "</table>\n",
       "</div>"
      ],
      "text/plain": [
       "     county_name        lat        lng state  lng_rank  lat_rank   nyc\n",
       "2491       Kings  40.645063 -73.967215    NY      59.0       4.0  True\n",
       "2959       Kings  40.645063 -73.865443    NY      60.0       4.0  True\n",
       "5992       Kings  40.703418 -73.967215    NY      59.0       5.0  True\n",
       "6332       Kings  40.586709 -73.967215    NY      59.0       3.0  True"
      ]
     },
     "execution_count": 183,
     "metadata": {},
     "output_type": "execute_result"
    }
   ],
   "source": [
    "ny_map[ny_map.county_name == \"Kings\"]"
   ]
  },
  {
   "cell_type": "code",
   "execution_count": 184,
   "metadata": {
    "collapsed": false
   },
   "outputs": [
    {
     "data": {
      "text/html": [
       "<div>\n",
       "<style scoped>\n",
       "    .dataframe tbody tr th:only-of-type {\n",
       "        vertical-align: middle;\n",
       "    }\n",
       "\n",
       "    .dataframe tbody tr th {\n",
       "        vertical-align: top;\n",
       "    }\n",
       "\n",
       "    .dataframe thead th {\n",
       "        text-align: right;\n",
       "    }\n",
       "</style>\n",
       "<table border=\"1\" class=\"dataframe\">\n",
       "  <thead>\n",
       "    <tr style=\"text-align: right;\">\n",
       "      <th></th>\n",
       "      <th>county_name</th>\n",
       "      <th>lat</th>\n",
       "      <th>lng</th>\n",
       "      <th>state</th>\n",
       "      <th>lng_rank</th>\n",
       "      <th>lat_rank</th>\n",
       "      <th>nyc</th>\n",
       "    </tr>\n",
       "  </thead>\n",
       "  <tbody>\n",
       "    <tr>\n",
       "      <th>157</th>\n",
       "      <td>Queens</td>\n",
       "      <td>40.703418</td>\n",
       "      <td>-73.865443</td>\n",
       "      <td>NY</td>\n",
       "      <td>60.0</td>\n",
       "      <td>5.0</td>\n",
       "      <td>True</td>\n",
       "    </tr>\n",
       "    <tr>\n",
       "      <th>1205</th>\n",
       "      <td>Queens</td>\n",
       "      <td>40.761772</td>\n",
       "      <td>-73.865443</td>\n",
       "      <td>NY</td>\n",
       "      <td>60.0</td>\n",
       "      <td>6.0</td>\n",
       "      <td>True</td>\n",
       "    </tr>\n",
       "    <tr>\n",
       "      <th>3393</th>\n",
       "      <td>Queens</td>\n",
       "      <td>40.645063</td>\n",
       "      <td>-73.763671</td>\n",
       "      <td>NY</td>\n",
       "      <td>61.0</td>\n",
       "      <td>4.0</td>\n",
       "      <td>True</td>\n",
       "    </tr>\n",
       "    <tr>\n",
       "      <th>3554</th>\n",
       "      <td>Queens</td>\n",
       "      <td>40.703418</td>\n",
       "      <td>-73.763671</td>\n",
       "      <td>NY</td>\n",
       "      <td>61.0</td>\n",
       "      <td>5.0</td>\n",
       "      <td>True</td>\n",
       "    </tr>\n",
       "    <tr>\n",
       "      <th>4335</th>\n",
       "      <td>Queens</td>\n",
       "      <td>40.761772</td>\n",
       "      <td>-73.763671</td>\n",
       "      <td>NY</td>\n",
       "      <td>61.0</td>\n",
       "      <td>6.0</td>\n",
       "      <td>True</td>\n",
       "    </tr>\n",
       "  </tbody>\n",
       "</table>\n",
       "</div>"
      ],
      "text/plain": [
       "     county_name        lat        lng state  lng_rank  lat_rank   nyc\n",
       "157       Queens  40.703418 -73.865443    NY      60.0       5.0  True\n",
       "1205      Queens  40.761772 -73.865443    NY      60.0       6.0  True\n",
       "3393      Queens  40.645063 -73.763671    NY      61.0       4.0  True\n",
       "3554      Queens  40.703418 -73.763671    NY      61.0       5.0  True\n",
       "4335      Queens  40.761772 -73.763671    NY      61.0       6.0  True"
      ]
     },
     "execution_count": 184,
     "metadata": {},
     "output_type": "execute_result"
    }
   ],
   "source": [
    "ny_map[ny_map.county_name == \"Queens\"]"
   ]
  },
  {
   "cell_type": "code",
   "execution_count": 185,
   "metadata": {
    "collapsed": true
   },
   "outputs": [],
   "source": [
    "sns.set_style(\"dark\")"
   ]
  },
  {
   "cell_type": "code",
   "execution_count": 186,
   "metadata": {
    "collapsed": false
   },
   "outputs": [
    {
     "data": {
      "image/png": "[encoded data removed]",
      "text/plain": [
       "<matplotlib.figure.Figure at 0x7fe410a3acc0>"
      ]
     },
     "metadata": {},
     "output_type": "display_data"
    }
   ],
   "source": [
    "fig, ax = plt.subplots(figsize = (8, 8))\n",
    "\n",
    "ax = sns.scatterplot(data = ny_map_restricted, x = \"lng_rank\", y = \"lat_rank\", hue = \"county_name\", marker = \"s\", palette = \"Dark2\", s = 35)\n",
    "\n",
    "ax.legend_.remove()"
   ]
  },
  {
   "cell_type": "code",
   "execution_count": 187,
   "metadata": {
    "collapsed": true
   },
   "outputs": [],
   "source": [
    "ag_df = pd.read_csv(\"./election_results.csv\")"
   ]
  },
  {
   "cell_type": "code",
   "execution_count": 188,
   "metadata": {
    "collapsed": false
   },
   "outputs": [],
   "source": [
    "county_totals = ag_df[~(ag_df.county == \"All\")].groupby([\"county\"], as_index = False)[\"ttl\"].sum()"
   ]
  },
  {
   "cell_type": "code",
   "execution_count": 233,
   "metadata": {
    "collapsed": false
   },
   "outputs": [],
   "source": [
    "county_totals[\"pre_mult\"] = county_totals.ttl / county_totals.ttl.min()"
   ]
  },
  {
   "cell_type": "code",
   "execution_count": 234,
   "metadata": {
    "collapsed": false
   },
   "outputs": [
    {
     "data": {
      "text/plain": [
       "62"
      ]
     },
     "execution_count": 234,
     "metadata": {},
     "output_type": "execute_result"
    }
   ],
   "source": [
    "len(county_totals)"
   ]
  },
  {
   "cell_type": "code",
   "execution_count": 235,
   "metadata": {
    "collapsed": false
   },
   "outputs": [
    {
     "data": {
      "text/html": [
       "<div>\n",
       "<style scoped>\n",
       "    .dataframe tbody tr th:only-of-type {\n",
       "        vertical-align: middle;\n",
       "    }\n",
       "\n",
       "    .dataframe tbody tr th {\n",
       "        vertical-align: top;\n",
       "    }\n",
       "\n",
       "    .dataframe thead th {\n",
       "        text-align: right;\n",
       "    }\n",
       "</style>\n",
       "<table border=\"1\" class=\"dataframe\">\n",
       "  <thead>\n",
       "    <tr style=\"text-align: right;\">\n",
       "      <th></th>\n",
       "      <th>county</th>\n",
       "      <th>ttl</th>\n",
       "      <th>mult</th>\n",
       "      <th>pre_mult</th>\n",
       "    </tr>\n",
       "  </thead>\n",
       "  <tbody>\n",
       "    <tr>\n",
       "      <th>23</th>\n",
       "      <td>Kings</td>\n",
       "      <td>296159</td>\n",
       "      <td>1282.073593</td>\n",
       "      <td>1282.073593</td>\n",
       "    </tr>\n",
       "    <tr>\n",
       "      <th>30</th>\n",
       "      <td>New York</td>\n",
       "      <td>236022</td>\n",
       "      <td>1021.740260</td>\n",
       "      <td>1021.740260</td>\n",
       "    </tr>\n",
       "    <tr>\n",
       "      <th>40</th>\n",
       "      <td>Queens</td>\n",
       "      <td>182995</td>\n",
       "      <td>792.186147</td>\n",
       "      <td>792.186147</td>\n",
       "    </tr>\n",
       "    <tr>\n",
       "      <th>2</th>\n",
       "      <td>Bronx</td>\n",
       "      <td>125978</td>\n",
       "      <td>545.359307</td>\n",
       "      <td>545.359307</td>\n",
       "    </tr>\n",
       "    <tr>\n",
       "      <th>59</th>\n",
       "      <td>Westchester</td>\n",
       "      <td>85187</td>\n",
       "      <td>368.774892</td>\n",
       "      <td>368.774892</td>\n",
       "    </tr>\n",
       "  </tbody>\n",
       "</table>\n",
       "</div>"
      ],
      "text/plain": [
       "         county     ttl         mult     pre_mult\n",
       "23        Kings  296159  1282.073593  1282.073593\n",
       "30     New York  236022  1021.740260  1021.740260\n",
       "40       Queens  182995   792.186147   792.186147\n",
       "2         Bronx  125978   545.359307   545.359307\n",
       "59  Westchester   85187   368.774892   368.774892"
      ]
     },
     "execution_count": 235,
     "metadata": {},
     "output_type": "execute_result"
    }
   ],
   "source": [
    "county_totals.sort_values(\"pre_mult\", ascending = False).head()"
   ]
  },
  {
   "cell_type": "code",
   "execution_count": 236,
   "metadata": {
    "collapsed": false
   },
   "outputs": [],
   "source": [
    "county_totals[\"county\"] = county_totals.county.astype(\"str\").map(lambda x: x.replace(\".\", \" \"))"
   ]
  },
  {
   "cell_type": "code",
   "execution_count": 237,
   "metadata": {
    "collapsed": false
   },
   "outputs": [],
   "source": [
    "ny_map_county_ttl = ny_map_restricted.merge(right = county_totals, left_on = [\"county_name\"], right_on = [\"county\"], how = \"left\")"
   ]
  },
  {
   "cell_type": "code",
   "execution_count": 238,
   "metadata": {
    "collapsed": false
   },
   "outputs": [
    {
     "data": {
      "text/plain": [
       "0"
      ]
     },
     "execution_count": 238,
     "metadata": {},
     "output_type": "execute_result"
    }
   ],
   "source": [
    "len(ny_map_county_ttl[pd.isnull(ny_map_county_ttl.ttl)])"
   ]
  },
  {
   "cell_type": "code",
   "execution_count": 239,
   "metadata": {
    "collapsed": false
   },
   "outputs": [],
   "source": [
    "get_bounds = lambda x: (\n",
    "    ny_map_restricted\n",
    "        .groupby([\"county_name\"], as_index = False)\n",
    "        .agg({i: x for i in [\"lng_rank\", \"lat_rank\"]})\n",
    "        .rename(columns = {i: \"{}_{}\".format(x, i) for i in [\"lng_rank\", \"lat_rank\"]})\n",
    ")"
   ]
  },
  {
   "cell_type": "code",
   "execution_count": 240,
   "metadata": {
    "collapsed": false
   },
   "outputs": [],
   "source": [
    "num_squares = ny_map_restricted.groupby([\"county_name\"], as_index = False)[\"lng\"].count().rename(columns = {\"lng\": \"num_squares\"})"
   ]
  },
  {
   "cell_type": "code",
   "execution_count": 241,
   "metadata": {
    "collapsed": false
   },
   "outputs": [],
   "source": [
    "county_shapes = (get_bounds(\"min\")\n",
    "    .merge(right = get_bounds(\"max\"), on = [\"county_name\"], how = \"left\")\n",
    "    .merge(right = num_squares, on = [\"county_name\"], how = \"left\"))"
   ]
  },
  {
   "cell_type": "code",
   "execution_count": 242,
   "metadata": {
    "collapsed": false
   },
   "outputs": [],
   "source": [
    "for i in [\"lng\", \"lat\"]:\n",
    "    county_shapes[\"mid_{}_rank\".format(i)] = (county_shapes[\"min_{}_rank\".format(i)] +\n",
    "        ((county_shapes[\"max_{}_rank\".format(i)] - county_shapes[\"min_{}_rank\".format(i)]) / 2))"
   ]
  },
  {
   "cell_type": "code",
   "execution_count": 243,
   "metadata": {
    "collapsed": false
   },
   "outputs": [],
   "source": [
    "ny_map_county_shapes = ny_map_county_ttl.merge(right = county_shapes, on = [\"county_name\"], how= \"left\")"
   ]
  },
  {
   "cell_type": "code",
   "execution_count": 244,
   "metadata": {
    "collapsed": false
   },
   "outputs": [],
   "source": [
    "ny_map_county_shapes[\"mult\"] = ny_map_county_shapes.pre_mult / ny_map_county_shapes.num_squares\n",
    "ny_map_county_shapes[\"sqrt_mult\"] = ny_map_county_shapes.mult.map(lambda x: np.sqrt(x))"
   ]
  },
  {
   "cell_type": "code",
   "execution_count": 245,
   "metadata": {
    "collapsed": false
   },
   "outputs": [
    {
     "data": {
      "text/html": [
       "<div>\n",
       "<style scoped>\n",
       "    .dataframe tbody tr th:only-of-type {\n",
       "        vertical-align: middle;\n",
       "    }\n",
       "\n",
       "    .dataframe tbody tr th {\n",
       "        vertical-align: top;\n",
       "    }\n",
       "\n",
       "    .dataframe thead th {\n",
       "        text-align: right;\n",
       "    }\n",
       "</style>\n",
       "<table border=\"1\" class=\"dataframe\">\n",
       "  <thead>\n",
       "    <tr style=\"text-align: right;\">\n",
       "      <th></th>\n",
       "      <th>county_name</th>\n",
       "      <th>lat</th>\n",
       "      <th>lng</th>\n",
       "      <th>state</th>\n",
       "      <th>lng_rank</th>\n",
       "      <th>lat_rank</th>\n",
       "      <th>nyc</th>\n",
       "      <th>county</th>\n",
       "      <th>ttl</th>\n",
       "      <th>mult</th>\n",
       "      <th>pre_mult</th>\n",
       "      <th>min_lng_rank</th>\n",
       "      <th>min_lat_rank</th>\n",
       "      <th>max_lng_rank</th>\n",
       "      <th>max_lat_rank</th>\n",
       "      <th>num_squares</th>\n",
       "      <th>mid_lng_rank</th>\n",
       "      <th>mid_lat_rank</th>\n",
       "      <th>sqrt_mult</th>\n",
       "    </tr>\n",
       "  </thead>\n",
       "  <tbody>\n",
       "    <tr>\n",
       "      <th>52</th>\n",
       "      <td>Queens</td>\n",
       "      <td>40.703418</td>\n",
       "      <td>-73.865443</td>\n",
       "      <td>NY</td>\n",
       "      <td>60.0</td>\n",
       "      <td>5.0</td>\n",
       "      <td>True</td>\n",
       "      <td>Queens</td>\n",
       "      <td>182995</td>\n",
       "      <td>158.437229</td>\n",
       "      <td>792.186147</td>\n",
       "      <td>60.0</td>\n",
       "      <td>4.0</td>\n",
       "      <td>61.0</td>\n",
       "      <td>6.0</td>\n",
       "      <td>5</td>\n",
       "      <td>60.5</td>\n",
       "      <td>5.0</td>\n",
       "      <td>12.587185</td>\n",
       "    </tr>\n",
       "    <tr>\n",
       "      <th>431</th>\n",
       "      <td>Queens</td>\n",
       "      <td>40.761772</td>\n",
       "      <td>-73.865443</td>\n",
       "      <td>NY</td>\n",
       "      <td>60.0</td>\n",
       "      <td>6.0</td>\n",
       "      <td>True</td>\n",
       "      <td>Queens</td>\n",
       "      <td>182995</td>\n",
       "      <td>158.437229</td>\n",
       "      <td>792.186147</td>\n",
       "      <td>60.0</td>\n",
       "      <td>4.0</td>\n",
       "      <td>61.0</td>\n",
       "      <td>6.0</td>\n",
       "      <td>5</td>\n",
       "      <td>60.5</td>\n",
       "      <td>5.0</td>\n",
       "      <td>12.587185</td>\n",
       "    </tr>\n",
       "    <tr>\n",
       "      <th>444</th>\n",
       "      <td>Bronx</td>\n",
       "      <td>40.878481</td>\n",
       "      <td>-73.865443</td>\n",
       "      <td>NY</td>\n",
       "      <td>60.0</td>\n",
       "      <td>8.0</td>\n",
       "      <td>True</td>\n",
       "      <td>Bronx</td>\n",
       "      <td>125978</td>\n",
       "      <td>272.679654</td>\n",
       "      <td>545.359307</td>\n",
       "      <td>60.0</td>\n",
       "      <td>7.0</td>\n",
       "      <td>60.0</td>\n",
       "      <td>8.0</td>\n",
       "      <td>2</td>\n",
       "      <td>60.0</td>\n",
       "      <td>7.5</td>\n",
       "      <td>16.513015</td>\n",
       "    </tr>\n",
       "    <tr>\n",
       "      <th>846</th>\n",
       "      <td>Richmond</td>\n",
       "      <td>40.586709</td>\n",
       "      <td>-74.068987</td>\n",
       "      <td>NY</td>\n",
       "      <td>58.0</td>\n",
       "      <td>3.0</td>\n",
       "      <td>True</td>\n",
       "      <td>Richmond</td>\n",
       "      <td>25851</td>\n",
       "      <td>37.303030</td>\n",
       "      <td>111.909091</td>\n",
       "      <td>57.0</td>\n",
       "      <td>2.0</td>\n",
       "      <td>58.0</td>\n",
       "      <td>3.0</td>\n",
       "      <td>3</td>\n",
       "      <td>57.5</td>\n",
       "      <td>2.5</td>\n",
       "      <td>6.107621</td>\n",
       "    </tr>\n",
       "    <tr>\n",
       "      <th>911</th>\n",
       "      <td>Kings</td>\n",
       "      <td>40.645063</td>\n",
       "      <td>-73.967215</td>\n",
       "      <td>NY</td>\n",
       "      <td>59.0</td>\n",
       "      <td>4.0</td>\n",
       "      <td>True</td>\n",
       "      <td>Kings</td>\n",
       "      <td>296159</td>\n",
       "      <td>320.518398</td>\n",
       "      <td>1282.073593</td>\n",
       "      <td>59.0</td>\n",
       "      <td>3.0</td>\n",
       "      <td>60.0</td>\n",
       "      <td>5.0</td>\n",
       "      <td>4</td>\n",
       "      <td>59.5</td>\n",
       "      <td>4.0</td>\n",
       "      <td>17.903028</td>\n",
       "    </tr>\n",
       "  </tbody>\n",
       "</table>\n",
       "</div>"
      ],
      "text/plain": [
       "    county_name        lat        lng state  lng_rank  lat_rank   nyc  \\\n",
       "52       Queens  40.703418 -73.865443    NY      60.0       5.0  True   \n",
       "431      Queens  40.761772 -73.865443    NY      60.0       6.0  True   \n",
       "444       Bronx  40.878481 -73.865443    NY      60.0       8.0  True   \n",
       "846    Richmond  40.586709 -74.068987    NY      58.0       3.0  True   \n",
       "911       Kings  40.645063 -73.967215    NY      59.0       4.0  True   \n",
       "\n",
       "       county     ttl        mult     pre_mult  min_lng_rank  min_lat_rank  \\\n",
       "52     Queens  182995  158.437229   792.186147          60.0           4.0   \n",
       "431    Queens  182995  158.437229   792.186147          60.0           4.0   \n",
       "444     Bronx  125978  272.679654   545.359307          60.0           7.0   \n",
       "846  Richmond   25851   37.303030   111.909091          57.0           2.0   \n",
       "911     Kings  296159  320.518398  1282.073593          59.0           3.0   \n",
       "\n",
       "     max_lng_rank  max_lat_rank  num_squares  mid_lng_rank  mid_lat_rank  \\\n",
       "52           61.0           6.0            5          60.5           5.0   \n",
       "431          61.0           6.0            5          60.5           5.0   \n",
       "444          60.0           8.0            2          60.0           7.5   \n",
       "846          58.0           3.0            3          57.5           2.5   \n",
       "911          60.0           5.0            4          59.5           4.0   \n",
       "\n",
       "     sqrt_mult  \n",
       "52   12.587185  \n",
       "431  12.587185  \n",
       "444  16.513015  \n",
       "846   6.107621  \n",
       "911  17.903028  "
      ]
     },
     "execution_count": 245,
     "metadata": {},
     "output_type": "execute_result"
    }
   ],
   "source": [
    "ny_map_county_shapes[ny_map_county_shapes.nyc].head()"
   ]
  },
  {
   "cell_type": "code",
   "execution_count": 246,
   "metadata": {
    "collapsed": false
   },
   "outputs": [],
   "source": [
    "for i in [\"lng\", \"lat\"]:\n",
    "    ny_map_county_shapes[\"scaled_{}_rank\".format(i)] = ny_map_county_shapes.apply(\n",
    "        lambda x: x[\"{}_rank\".format(i)] + x[\"sqrt_mult\"] * (x[\"{}_rank\".format(i)] - x[\"mid_{}_rank\".format(i)]),\n",
    "        axis = 1)"
   ]
  },
  {
   "cell_type": "code",
   "execution_count": 247,
   "metadata": {
    "collapsed": false
   },
   "outputs": [
    {
     "data": {
      "text/html": [
       "<div>\n",
       "<style scoped>\n",
       "    .dataframe tbody tr th:only-of-type {\n",
       "        vertical-align: middle;\n",
       "    }\n",
       "\n",
       "    .dataframe tbody tr th {\n",
       "        vertical-align: top;\n",
       "    }\n",
       "\n",
       "    .dataframe thead th {\n",
       "        text-align: right;\n",
       "    }\n",
       "</style>\n",
       "<table border=\"1\" class=\"dataframe\">\n",
       "  <thead>\n",
       "    <tr style=\"text-align: right;\">\n",
       "      <th></th>\n",
       "      <th>county_name</th>\n",
       "      <th>lat</th>\n",
       "      <th>lng</th>\n",
       "      <th>state</th>\n",
       "      <th>lng_rank</th>\n",
       "      <th>lat_rank</th>\n",
       "      <th>nyc</th>\n",
       "      <th>county</th>\n",
       "      <th>ttl</th>\n",
       "      <th>mult</th>\n",
       "      <th>...</th>\n",
       "      <th>min_lng_rank</th>\n",
       "      <th>min_lat_rank</th>\n",
       "      <th>max_lng_rank</th>\n",
       "      <th>max_lat_rank</th>\n",
       "      <th>num_squares</th>\n",
       "      <th>mid_lng_rank</th>\n",
       "      <th>mid_lat_rank</th>\n",
       "      <th>sqrt_mult</th>\n",
       "      <th>scaled_lng_rank</th>\n",
       "      <th>scaled_lat_rank</th>\n",
       "    </tr>\n",
       "  </thead>\n",
       "  <tbody>\n",
       "    <tr>\n",
       "      <th>52</th>\n",
       "      <td>Queens</td>\n",
       "      <td>40.703418</td>\n",
       "      <td>-73.865443</td>\n",
       "      <td>NY</td>\n",
       "      <td>60.0</td>\n",
       "      <td>5.0</td>\n",
       "      <td>True</td>\n",
       "      <td>Queens</td>\n",
       "      <td>182995</td>\n",
       "      <td>158.437229</td>\n",
       "      <td>...</td>\n",
       "      <td>60.0</td>\n",
       "      <td>4.0</td>\n",
       "      <td>61.0</td>\n",
       "      <td>6.0</td>\n",
       "      <td>5</td>\n",
       "      <td>60.5</td>\n",
       "      <td>5.0</td>\n",
       "      <td>12.587185</td>\n",
       "      <td>53.706407</td>\n",
       "      <td>5.000000</td>\n",
       "    </tr>\n",
       "    <tr>\n",
       "      <th>431</th>\n",
       "      <td>Queens</td>\n",
       "      <td>40.761772</td>\n",
       "      <td>-73.865443</td>\n",
       "      <td>NY</td>\n",
       "      <td>60.0</td>\n",
       "      <td>6.0</td>\n",
       "      <td>True</td>\n",
       "      <td>Queens</td>\n",
       "      <td>182995</td>\n",
       "      <td>158.437229</td>\n",
       "      <td>...</td>\n",
       "      <td>60.0</td>\n",
       "      <td>4.0</td>\n",
       "      <td>61.0</td>\n",
       "      <td>6.0</td>\n",
       "      <td>5</td>\n",
       "      <td>60.5</td>\n",
       "      <td>5.0</td>\n",
       "      <td>12.587185</td>\n",
       "      <td>53.706407</td>\n",
       "      <td>18.587185</td>\n",
       "    </tr>\n",
       "    <tr>\n",
       "      <th>444</th>\n",
       "      <td>Bronx</td>\n",
       "      <td>40.878481</td>\n",
       "      <td>-73.865443</td>\n",
       "      <td>NY</td>\n",
       "      <td>60.0</td>\n",
       "      <td>8.0</td>\n",
       "      <td>True</td>\n",
       "      <td>Bronx</td>\n",
       "      <td>125978</td>\n",
       "      <td>272.679654</td>\n",
       "      <td>...</td>\n",
       "      <td>60.0</td>\n",
       "      <td>7.0</td>\n",
       "      <td>60.0</td>\n",
       "      <td>8.0</td>\n",
       "      <td>2</td>\n",
       "      <td>60.0</td>\n",
       "      <td>7.5</td>\n",
       "      <td>16.513015</td>\n",
       "      <td>60.000000</td>\n",
       "      <td>16.256507</td>\n",
       "    </tr>\n",
       "    <tr>\n",
       "      <th>846</th>\n",
       "      <td>Richmond</td>\n",
       "      <td>40.586709</td>\n",
       "      <td>-74.068987</td>\n",
       "      <td>NY</td>\n",
       "      <td>58.0</td>\n",
       "      <td>3.0</td>\n",
       "      <td>True</td>\n",
       "      <td>Richmond</td>\n",
       "      <td>25851</td>\n",
       "      <td>37.303030</td>\n",
       "      <td>...</td>\n",
       "      <td>57.0</td>\n",
       "      <td>2.0</td>\n",
       "      <td>58.0</td>\n",
       "      <td>3.0</td>\n",
       "      <td>3</td>\n",
       "      <td>57.5</td>\n",
       "      <td>2.5</td>\n",
       "      <td>6.107621</td>\n",
       "      <td>61.053810</td>\n",
       "      <td>6.053810</td>\n",
       "    </tr>\n",
       "    <tr>\n",
       "      <th>911</th>\n",
       "      <td>Kings</td>\n",
       "      <td>40.645063</td>\n",
       "      <td>-73.967215</td>\n",
       "      <td>NY</td>\n",
       "      <td>59.0</td>\n",
       "      <td>4.0</td>\n",
       "      <td>True</td>\n",
       "      <td>Kings</td>\n",
       "      <td>296159</td>\n",
       "      <td>320.518398</td>\n",
       "      <td>...</td>\n",
       "      <td>59.0</td>\n",
       "      <td>3.0</td>\n",
       "      <td>60.0</td>\n",
       "      <td>5.0</td>\n",
       "      <td>4</td>\n",
       "      <td>59.5</td>\n",
       "      <td>4.0</td>\n",
       "      <td>17.903028</td>\n",
       "      <td>50.048486</td>\n",
       "      <td>4.000000</td>\n",
       "    </tr>\n",
       "  </tbody>\n",
       "</table>\n",
       "<p>5 rows × 21 columns</p>\n",
       "</div>"
      ],
      "text/plain": [
       "    county_name        lat        lng state  lng_rank  lat_rank   nyc  \\\n",
       "52       Queens  40.703418 -73.865443    NY      60.0       5.0  True   \n",
       "431      Queens  40.761772 -73.865443    NY      60.0       6.0  True   \n",
       "444       Bronx  40.878481 -73.865443    NY      60.0       8.0  True   \n",
       "846    Richmond  40.586709 -74.068987    NY      58.0       3.0  True   \n",
       "911       Kings  40.645063 -73.967215    NY      59.0       4.0  True   \n",
       "\n",
       "       county     ttl        mult       ...         min_lng_rank  \\\n",
       "52     Queens  182995  158.437229       ...                 60.0   \n",
       "431    Queens  182995  158.437229       ...                 60.0   \n",
       "444     Bronx  125978  272.679654       ...                 60.0   \n",
       "846  Richmond   25851   37.303030       ...                 57.0   \n",
       "911     Kings  296159  320.518398       ...                 59.0   \n",
       "\n",
       "     min_lat_rank  max_lng_rank  max_lat_rank  num_squares  mid_lng_rank  \\\n",
       "52            4.0          61.0           6.0            5          60.5   \n",
       "431           4.0          61.0           6.0            5          60.5   \n",
       "444           7.0          60.0           8.0            2          60.0   \n",
       "846           2.0          58.0           3.0            3          57.5   \n",
       "911           3.0          60.0           5.0            4          59.5   \n",
       "\n",
       "     mid_lat_rank  sqrt_mult  scaled_lng_rank  scaled_lat_rank  \n",
       "52            5.0  12.587185        53.706407         5.000000  \n",
       "431           5.0  12.587185        53.706407        18.587185  \n",
       "444           7.5  16.513015        60.000000        16.256507  \n",
       "846           2.5   6.107621        61.053810         6.053810  \n",
       "911           4.0  17.903028        50.048486         4.000000  \n",
       "\n",
       "[5 rows x 21 columns]"
      ]
     },
     "execution_count": 247,
     "metadata": {},
     "output_type": "execute_result"
    }
   ],
   "source": [
    "ny_map_county_shapes[ny_map_county_shapes.nyc].head()"
   ]
  },
  {
   "cell_type": "code",
   "execution_count": 248,
   "metadata": {
    "collapsed": false
   },
   "outputs": [],
   "source": [
    "ny_map_county_shapes[\"sqrt_mult_int\"] = ny_map_county_shapes.sqrt_mult.astype(\"int\")"
   ]
  },
  {
   "cell_type": "code",
   "execution_count": 249,
   "metadata": {
    "collapsed": true
   },
   "outputs": [],
   "source": [
    "nyc_map_county_shapes = ny_map_county_shapes[ny_map_county_shapes.nyc]"
   ]
  },
  {
   "cell_type": "code",
   "execution_count": 250,
   "metadata": {
    "collapsed": false
   },
   "outputs": [
    {
     "data": {
      "text/html": [
       "<div>\n",
       "<style scoped>\n",
       "    .dataframe tbody tr th:only-of-type {\n",
       "        vertical-align: middle;\n",
       "    }\n",
       "\n",
       "    .dataframe tbody tr th {\n",
       "        vertical-align: top;\n",
       "    }\n",
       "\n",
       "    .dataframe thead th {\n",
       "        text-align: right;\n",
       "    }\n",
       "</style>\n",
       "<table border=\"1\" class=\"dataframe\">\n",
       "  <thead>\n",
       "    <tr style=\"text-align: right;\">\n",
       "      <th></th>\n",
       "      <th>county_name</th>\n",
       "      <th>lat</th>\n",
       "      <th>lng</th>\n",
       "      <th>state</th>\n",
       "      <th>lng_rank</th>\n",
       "      <th>lat_rank</th>\n",
       "      <th>nyc</th>\n",
       "      <th>county</th>\n",
       "      <th>ttl</th>\n",
       "      <th>mult</th>\n",
       "      <th>...</th>\n",
       "      <th>min_lat_rank</th>\n",
       "      <th>max_lng_rank</th>\n",
       "      <th>max_lat_rank</th>\n",
       "      <th>num_squares</th>\n",
       "      <th>mid_lng_rank</th>\n",
       "      <th>mid_lat_rank</th>\n",
       "      <th>sqrt_mult</th>\n",
       "      <th>scaled_lng_rank</th>\n",
       "      <th>scaled_lat_rank</th>\n",
       "      <th>sqrt_mult_int</th>\n",
       "    </tr>\n",
       "  </thead>\n",
       "  <tbody>\n",
       "    <tr>\n",
       "      <th>52</th>\n",
       "      <td>Queens</td>\n",
       "      <td>40.703418</td>\n",
       "      <td>-73.865443</td>\n",
       "      <td>NY</td>\n",
       "      <td>60.0</td>\n",
       "      <td>5.0</td>\n",
       "      <td>True</td>\n",
       "      <td>Queens</td>\n",
       "      <td>182995</td>\n",
       "      <td>158.437229</td>\n",
       "      <td>...</td>\n",
       "      <td>4.0</td>\n",
       "      <td>61.0</td>\n",
       "      <td>6.0</td>\n",
       "      <td>5</td>\n",
       "      <td>60.5</td>\n",
       "      <td>5.0</td>\n",
       "      <td>12.587185</td>\n",
       "      <td>53.706407</td>\n",
       "      <td>5.000000</td>\n",
       "      <td>12</td>\n",
       "    </tr>\n",
       "    <tr>\n",
       "      <th>431</th>\n",
       "      <td>Queens</td>\n",
       "      <td>40.761772</td>\n",
       "      <td>-73.865443</td>\n",
       "      <td>NY</td>\n",
       "      <td>60.0</td>\n",
       "      <td>6.0</td>\n",
       "      <td>True</td>\n",
       "      <td>Queens</td>\n",
       "      <td>182995</td>\n",
       "      <td>158.437229</td>\n",
       "      <td>...</td>\n",
       "      <td>4.0</td>\n",
       "      <td>61.0</td>\n",
       "      <td>6.0</td>\n",
       "      <td>5</td>\n",
       "      <td>60.5</td>\n",
       "      <td>5.0</td>\n",
       "      <td>12.587185</td>\n",
       "      <td>53.706407</td>\n",
       "      <td>18.587185</td>\n",
       "      <td>12</td>\n",
       "    </tr>\n",
       "    <tr>\n",
       "      <th>444</th>\n",
       "      <td>Bronx</td>\n",
       "      <td>40.878481</td>\n",
       "      <td>-73.865443</td>\n",
       "      <td>NY</td>\n",
       "      <td>60.0</td>\n",
       "      <td>8.0</td>\n",
       "      <td>True</td>\n",
       "      <td>Bronx</td>\n",
       "      <td>125978</td>\n",
       "      <td>272.679654</td>\n",
       "      <td>...</td>\n",
       "      <td>7.0</td>\n",
       "      <td>60.0</td>\n",
       "      <td>8.0</td>\n",
       "      <td>2</td>\n",
       "      <td>60.0</td>\n",
       "      <td>7.5</td>\n",
       "      <td>16.513015</td>\n",
       "      <td>60.000000</td>\n",
       "      <td>16.256507</td>\n",
       "      <td>16</td>\n",
       "    </tr>\n",
       "    <tr>\n",
       "      <th>846</th>\n",
       "      <td>Richmond</td>\n",
       "      <td>40.586709</td>\n",
       "      <td>-74.068987</td>\n",
       "      <td>NY</td>\n",
       "      <td>58.0</td>\n",
       "      <td>3.0</td>\n",
       "      <td>True</td>\n",
       "      <td>Richmond</td>\n",
       "      <td>25851</td>\n",
       "      <td>37.303030</td>\n",
       "      <td>...</td>\n",
       "      <td>2.0</td>\n",
       "      <td>58.0</td>\n",
       "      <td>3.0</td>\n",
       "      <td>3</td>\n",
       "      <td>57.5</td>\n",
       "      <td>2.5</td>\n",
       "      <td>6.107621</td>\n",
       "      <td>61.053810</td>\n",
       "      <td>6.053810</td>\n",
       "      <td>6</td>\n",
       "    </tr>\n",
       "    <tr>\n",
       "      <th>911</th>\n",
       "      <td>Kings</td>\n",
       "      <td>40.645063</td>\n",
       "      <td>-73.967215</td>\n",
       "      <td>NY</td>\n",
       "      <td>59.0</td>\n",
       "      <td>4.0</td>\n",
       "      <td>True</td>\n",
       "      <td>Kings</td>\n",
       "      <td>296159</td>\n",
       "      <td>320.518398</td>\n",
       "      <td>...</td>\n",
       "      <td>3.0</td>\n",
       "      <td>60.0</td>\n",
       "      <td>5.0</td>\n",
       "      <td>4</td>\n",
       "      <td>59.5</td>\n",
       "      <td>4.0</td>\n",
       "      <td>17.903028</td>\n",
       "      <td>50.048486</td>\n",
       "      <td>4.000000</td>\n",
       "      <td>17</td>\n",
       "    </tr>\n",
       "  </tbody>\n",
       "</table>\n",
       "<p>5 rows × 22 columns</p>\n",
       "</div>"
      ],
      "text/plain": [
       "    county_name        lat        lng state  lng_rank  lat_rank   nyc  \\\n",
       "52       Queens  40.703418 -73.865443    NY      60.0       5.0  True   \n",
       "431      Queens  40.761772 -73.865443    NY      60.0       6.0  True   \n",
       "444       Bronx  40.878481 -73.865443    NY      60.0       8.0  True   \n",
       "846    Richmond  40.586709 -74.068987    NY      58.0       3.0  True   \n",
       "911       Kings  40.645063 -73.967215    NY      59.0       4.0  True   \n",
       "\n",
       "       county     ttl        mult      ...        min_lat_rank  max_lng_rank  \\\n",
       "52     Queens  182995  158.437229      ...                 4.0          61.0   \n",
       "431    Queens  182995  158.437229      ...                 4.0          61.0   \n",
       "444     Bronx  125978  272.679654      ...                 7.0          60.0   \n",
       "846  Richmond   25851   37.303030      ...                 2.0          58.0   \n",
       "911     Kings  296159  320.518398      ...                 3.0          60.0   \n",
       "\n",
       "     max_lat_rank  num_squares  mid_lng_rank  mid_lat_rank  sqrt_mult  \\\n",
       "52            6.0            5          60.5           5.0  12.587185   \n",
       "431           6.0            5          60.5           5.0  12.587185   \n",
       "444           8.0            2          60.0           7.5  16.513015   \n",
       "846           3.0            3          57.5           2.5   6.107621   \n",
       "911           5.0            4          59.5           4.0  17.903028   \n",
       "\n",
       "     scaled_lng_rank  scaled_lat_rank  sqrt_mult_int  \n",
       "52         53.706407         5.000000             12  \n",
       "431        53.706407        18.587185             12  \n",
       "444        60.000000        16.256507             16  \n",
       "846        61.053810         6.053810              6  \n",
       "911        50.048486         4.000000             17  \n",
       "\n",
       "[5 rows x 22 columns]"
      ]
     },
     "execution_count": 250,
     "metadata": {},
     "output_type": "execute_result"
    }
   ],
   "source": [
    "nyc_map_county_shapes.head()"
   ]
  },
  {
   "cell_type": "code",
   "execution_count": 254,
   "metadata": {
    "collapsed": false
   },
   "outputs": [],
   "source": [
    "def ny_scatter(df):\n",
    "    fig, ax = plt.subplots(figsize = (8, 8))\n",
    "    for county in df.county_name.unique():\n",
    "        county_df = df[df.county_name == county]\n",
    "        ax.scatter(\n",
    "            y = county_df.scaled_lat_rank,\n",
    "            x = county_df.scaled_lng_rank,\n",
    "            s = county_df.mult * 2,\n",
    "            marker = \"s\",\n",
    "            label = county)\n",
    "    # ax.legend(loc = 9, bbox_to_anchor = (0.5,0))\n",
    "    return fig"
   ]
  },
  {
   "cell_type": "code",
   "execution_count": 255,
   "metadata": {
    "collapsed": false
   },
   "outputs": [
    {
     "data": {
      "image/png": "[encoded data removed]",
      "text/plain": [
       "<matplotlib.figure.Figure at 0x7fe410bca588>"
      ]
     },
     "metadata": {},
     "output_type": "display_data"
    }
   ],
   "source": [
    "fig = ny_scatter(ny_map_county_shapes[ny_map_county_shapes.nyc])"
   ]
  },
  {
   "cell_type": "code",
   "execution_count": 256,
   "metadata": {
    "collapsed": false
   },
   "outputs": [
    {
     "data": {
      "image/png": "[encoded data removed]",
      "text/plain": [
       "<matplotlib.figure.Figure at 0x7fe410a3af60>"
      ]
     },
     "metadata": {},
     "output_type": "display_data"
    }
   ],
   "source": [
    "fig = ny_scatter(ny_map_county_shapes)"
   ]
  },
  {
   "cell_type": "code",
   "execution_count": null,
   "metadata": {
    "collapsed": true
   },
   "outputs": [],
   "source": []
  }
 ],
 "metadata": {
  "kernelspec": {
   "display_name": "Python 3",
   "language": "python",
   "name": "python3"
  },
  "language_info": {
   "codemirror_mode": {
    "name": "ipython",
    "version": 3
   },
   "file_extension": ".py",
   "mimetype": "text/x-python",
   "name": "python",
   "nbconvert_exporter": "python",
   "pygments_lexer": "ipython3",
   "version": "3.5.4"
  }
 },
 "nbformat": 4,
 "nbformat_minor": 2
}
