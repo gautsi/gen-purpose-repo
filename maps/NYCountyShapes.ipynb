{
 "cells": [
  {
   "cell_type": "code",
   "execution_count": 107,
   "metadata": {
    "collapsed": true
   },
   "outputs": [],
   "source": [
    "import pandas as pd\n",
    "import numpy as np"
   ]
  },
  {
   "cell_type": "code",
   "execution_count": 108,
   "metadata": {
    "collapsed": true
   },
   "outputs": [],
   "source": [
    "import matplotlib.pyplot as plt\n",
    "import seaborn as sns\n",
    "%matplotlib inline"
   ]
  },
  {
   "cell_type": "code",
   "execution_count": 109,
   "metadata": {
    "collapsed": true
   },
   "outputs": [],
   "source": [
    "ny_map = pd.read_json(\"ny_map_data_res80.json\")"
   ]
  },
  {
   "cell_type": "code",
   "execution_count": 110,
   "metadata": {
    "collapsed": false
   },
   "outputs": [
    {
     "data": {
      "text/plain": [
       "6400"
      ]
     },
     "execution_count": 110,
     "metadata": {},
     "output_type": "execute_result"
    }
   ],
   "source": [
    "len(ny_map)"
   ]
  },
  {
   "cell_type": "code",
   "execution_count": 111,
   "metadata": {
    "collapsed": false
   },
   "outputs": [
    {
     "data": {
      "text/html": [
       "<div>\n",
       "<style scoped>\n",
       "    .dataframe tbody tr th:only-of-type {\n",
       "        vertical-align: middle;\n",
       "    }\n",
       "\n",
       "    .dataframe tbody tr th {\n",
       "        vertical-align: top;\n",
       "    }\n",
       "\n",
       "    .dataframe thead th {\n",
       "        text-align: right;\n",
       "    }\n",
       "</style>\n",
       "<table border=\"1\" class=\"dataframe\">\n",
       "  <thead>\n",
       "    <tr style=\"text-align: right;\">\n",
       "      <th></th>\n",
       "      <th>county_name</th>\n",
       "      <th>lat</th>\n",
       "      <th>lng</th>\n",
       "      <th>state</th>\n",
       "    </tr>\n",
       "  </thead>\n",
       "  <tbody>\n",
       "    <tr>\n",
       "      <th>0</th>\n",
       "      <td>Pike</td>\n",
       "      <td>41.403671</td>\n",
       "      <td>-74.984937</td>\n",
       "      <td>PA</td>\n",
       "    </tr>\n",
       "    <tr>\n",
       "      <th>1</th>\n",
       "      <td>Kawartha Lakes</td>\n",
       "      <td>44.788228</td>\n",
       "      <td>-79.055823</td>\n",
       "      <td>ON</td>\n",
       "    </tr>\n",
       "    <tr>\n",
       "      <th>2</th>\n",
       "      <td>Montgomery</td>\n",
       "      <td>42.920886</td>\n",
       "      <td>-74.476076</td>\n",
       "      <td>NY</td>\n",
       "    </tr>\n",
       "    <tr>\n",
       "      <th>3</th>\n",
       "      <td>Chautauqua</td>\n",
       "      <td>42.162278</td>\n",
       "      <td>-79.666456</td>\n",
       "      <td>NY</td>\n",
       "    </tr>\n",
       "    <tr>\n",
       "      <th>4</th>\n",
       "      <td>Rensselaer</td>\n",
       "      <td>42.862532</td>\n",
       "      <td>-73.661899</td>\n",
       "      <td>NY</td>\n",
       "    </tr>\n",
       "  </tbody>\n",
       "</table>\n",
       "</div>"
      ],
      "text/plain": [
       "      county_name        lat        lng state\n",
       "0            Pike  41.403671 -74.984937    PA\n",
       "1  Kawartha Lakes  44.788228 -79.055823    ON\n",
       "2      Montgomery  42.920886 -74.476076    NY\n",
       "3      Chautauqua  42.162278 -79.666456    NY\n",
       "4      Rensselaer  42.862532 -73.661899    NY"
      ]
     },
     "execution_count": 111,
     "metadata": {},
     "output_type": "execute_result"
    }
   ],
   "source": [
    "ny_map.head()"
   ]
  },
  {
   "cell_type": "code",
   "execution_count": 112,
   "metadata": {
    "collapsed": false
   },
   "outputs": [],
   "source": [
    "ny_map[\"lng_rank\"] = ny_map.lng.rank(method = \"dense\")\n",
    "ny_map[\"lat_rank\"] = ny_map.lat.rank(method = \"dense\")"
   ]
  },
  {
   "cell_type": "code",
   "execution_count": 113,
   "metadata": {
    "collapsed": false
   },
   "outputs": [],
   "source": [
    "ny_map[\"nyc\"] = ny_map.county_name.map(lambda x: x in [\"New York\", \"Bronx\", \"Richmond\", \"Kings\", \"Queens\"])"
   ]
  },
  {
   "cell_type": "code",
   "execution_count": 114,
   "metadata": {
    "collapsed": false
   },
   "outputs": [],
   "source": [
    "ny_map_restricted = ny_map[ny_map.state == \"NY\"]"
   ]
  },
  {
   "cell_type": "code",
   "execution_count": 115,
   "metadata": {
    "collapsed": false
   },
   "outputs": [
    {
     "data": {
      "text/html": [
       "<div>\n",
       "<style scoped>\n",
       "    .dataframe tbody tr th:only-of-type {\n",
       "        vertical-align: middle;\n",
       "    }\n",
       "\n",
       "    .dataframe tbody tr th {\n",
       "        vertical-align: top;\n",
       "    }\n",
       "\n",
       "    .dataframe thead th {\n",
       "        text-align: right;\n",
       "    }\n",
       "</style>\n",
       "<table border=\"1\" class=\"dataframe\">\n",
       "  <thead>\n",
       "    <tr style=\"text-align: right;\">\n",
       "      <th></th>\n",
       "      <th>lat</th>\n",
       "      <th>lng</th>\n",
       "      <th>state</th>\n",
       "      <th>lng_rank</th>\n",
       "      <th>lat_rank</th>\n",
       "      <th>nyc</th>\n",
       "    </tr>\n",
       "    <tr>\n",
       "      <th>county_name</th>\n",
       "      <th></th>\n",
       "      <th></th>\n",
       "      <th></th>\n",
       "      <th></th>\n",
       "      <th></th>\n",
       "      <th></th>\n",
       "    </tr>\n",
       "  </thead>\n",
       "  <tbody>\n",
       "    <tr>\n",
       "      <th>New York</th>\n",
       "      <td>1</td>\n",
       "      <td>1</td>\n",
       "      <td>1</td>\n",
       "      <td>1</td>\n",
       "      <td>1</td>\n",
       "      <td>1</td>\n",
       "    </tr>\n",
       "    <tr>\n",
       "      <th>Bronx</th>\n",
       "      <td>2</td>\n",
       "      <td>2</td>\n",
       "      <td>2</td>\n",
       "      <td>2</td>\n",
       "      <td>2</td>\n",
       "      <td>2</td>\n",
       "    </tr>\n",
       "    <tr>\n",
       "      <th>Richmond</th>\n",
       "      <td>3</td>\n",
       "      <td>3</td>\n",
       "      <td>3</td>\n",
       "      <td>3</td>\n",
       "      <td>3</td>\n",
       "      <td>3</td>\n",
       "    </tr>\n",
       "    <tr>\n",
       "      <th>Kings</th>\n",
       "      <td>4</td>\n",
       "      <td>4</td>\n",
       "      <td>4</td>\n",
       "      <td>4</td>\n",
       "      <td>4</td>\n",
       "      <td>4</td>\n",
       "    </tr>\n",
       "    <tr>\n",
       "      <th>Queens</th>\n",
       "      <td>5</td>\n",
       "      <td>5</td>\n",
       "      <td>5</td>\n",
       "      <td>5</td>\n",
       "      <td>5</td>\n",
       "      <td>5</td>\n",
       "    </tr>\n",
       "  </tbody>\n",
       "</table>\n",
       "</div>"
      ],
      "text/plain": [
       "             lat  lng  state  lng_rank  lat_rank  nyc\n",
       "county_name                                          \n",
       "New York       1    1      1         1         1    1\n",
       "Bronx          2    2      2         2         2    2\n",
       "Richmond       3    3      3         3         3    3\n",
       "Kings          4    4      4         4         4    4\n",
       "Queens         5    5      5         5         5    5"
      ]
     },
     "execution_count": 115,
     "metadata": {},
     "output_type": "execute_result"
    }
   ],
   "source": [
    "ny_map_restricted.groupby(\"county_name\").count().sort_values(\"lat\").head()"
   ]
  },
  {
   "cell_type": "code",
   "execution_count": 116,
   "metadata": {
    "collapsed": false
   },
   "outputs": [
    {
     "data": {
      "text/html": [
       "<div>\n",
       "<style scoped>\n",
       "    .dataframe tbody tr th:only-of-type {\n",
       "        vertical-align: middle;\n",
       "    }\n",
       "\n",
       "    .dataframe tbody tr th {\n",
       "        vertical-align: top;\n",
       "    }\n",
       "\n",
       "    .dataframe thead th {\n",
       "        text-align: right;\n",
       "    }\n",
       "</style>\n",
       "<table border=\"1\" class=\"dataframe\">\n",
       "  <thead>\n",
       "    <tr style=\"text-align: right;\">\n",
       "      <th></th>\n",
       "      <th>county_name</th>\n",
       "      <th>lat</th>\n",
       "      <th>lng</th>\n",
       "      <th>state</th>\n",
       "      <th>lng_rank</th>\n",
       "      <th>lat_rank</th>\n",
       "      <th>nyc</th>\n",
       "    </tr>\n",
       "  </thead>\n",
       "  <tbody>\n",
       "    <tr>\n",
       "      <th>2491</th>\n",
       "      <td>Kings</td>\n",
       "      <td>40.645063</td>\n",
       "      <td>-73.967215</td>\n",
       "      <td>NY</td>\n",
       "      <td>59.0</td>\n",
       "      <td>4.0</td>\n",
       "      <td>True</td>\n",
       "    </tr>\n",
       "    <tr>\n",
       "      <th>2959</th>\n",
       "      <td>Kings</td>\n",
       "      <td>40.645063</td>\n",
       "      <td>-73.865443</td>\n",
       "      <td>NY</td>\n",
       "      <td>60.0</td>\n",
       "      <td>4.0</td>\n",
       "      <td>True</td>\n",
       "    </tr>\n",
       "    <tr>\n",
       "      <th>5992</th>\n",
       "      <td>Kings</td>\n",
       "      <td>40.703418</td>\n",
       "      <td>-73.967215</td>\n",
       "      <td>NY</td>\n",
       "      <td>59.0</td>\n",
       "      <td>5.0</td>\n",
       "      <td>True</td>\n",
       "    </tr>\n",
       "    <tr>\n",
       "      <th>6332</th>\n",
       "      <td>Kings</td>\n",
       "      <td>40.586709</td>\n",
       "      <td>-73.967215</td>\n",
       "      <td>NY</td>\n",
       "      <td>59.0</td>\n",
       "      <td>3.0</td>\n",
       "      <td>True</td>\n",
       "    </tr>\n",
       "  </tbody>\n",
       "</table>\n",
       "</div>"
      ],
      "text/plain": [
       "     county_name        lat        lng state  lng_rank  lat_rank   nyc\n",
       "2491       Kings  40.645063 -73.967215    NY      59.0       4.0  True\n",
       "2959       Kings  40.645063 -73.865443    NY      60.0       4.0  True\n",
       "5992       Kings  40.703418 -73.967215    NY      59.0       5.0  True\n",
       "6332       Kings  40.586709 -73.967215    NY      59.0       3.0  True"
      ]
     },
     "execution_count": 116,
     "metadata": {},
     "output_type": "execute_result"
    }
   ],
   "source": [
    "ny_map[ny_map.county_name == \"Kings\"]"
   ]
  },
  {
   "cell_type": "code",
   "execution_count": 117,
   "metadata": {
    "collapsed": false
   },
   "outputs": [
    {
     "data": {
      "text/html": [
       "<div>\n",
       "<style scoped>\n",
       "    .dataframe tbody tr th:only-of-type {\n",
       "        vertical-align: middle;\n",
       "    }\n",
       "\n",
       "    .dataframe tbody tr th {\n",
       "        vertical-align: top;\n",
       "    }\n",
       "\n",
       "    .dataframe thead th {\n",
       "        text-align: right;\n",
       "    }\n",
       "</style>\n",
       "<table border=\"1\" class=\"dataframe\">\n",
       "  <thead>\n",
       "    <tr style=\"text-align: right;\">\n",
       "      <th></th>\n",
       "      <th>county_name</th>\n",
       "      <th>lat</th>\n",
       "      <th>lng</th>\n",
       "      <th>state</th>\n",
       "      <th>lng_rank</th>\n",
       "      <th>lat_rank</th>\n",
       "      <th>nyc</th>\n",
       "    </tr>\n",
       "  </thead>\n",
       "  <tbody>\n",
       "    <tr>\n",
       "      <th>157</th>\n",
       "      <td>Queens</td>\n",
       "      <td>40.703418</td>\n",
       "      <td>-73.865443</td>\n",
       "      <td>NY</td>\n",
       "      <td>60.0</td>\n",
       "      <td>5.0</td>\n",
       "      <td>True</td>\n",
       "    </tr>\n",
       "    <tr>\n",
       "      <th>1205</th>\n",
       "      <td>Queens</td>\n",
       "      <td>40.761772</td>\n",
       "      <td>-73.865443</td>\n",
       "      <td>NY</td>\n",
       "      <td>60.0</td>\n",
       "      <td>6.0</td>\n",
       "      <td>True</td>\n",
       "    </tr>\n",
       "    <tr>\n",
       "      <th>3393</th>\n",
       "      <td>Queens</td>\n",
       "      <td>40.645063</td>\n",
       "      <td>-73.763671</td>\n",
       "      <td>NY</td>\n",
       "      <td>61.0</td>\n",
       "      <td>4.0</td>\n",
       "      <td>True</td>\n",
       "    </tr>\n",
       "    <tr>\n",
       "      <th>3554</th>\n",
       "      <td>Queens</td>\n",
       "      <td>40.703418</td>\n",
       "      <td>-73.763671</td>\n",
       "      <td>NY</td>\n",
       "      <td>61.0</td>\n",
       "      <td>5.0</td>\n",
       "      <td>True</td>\n",
       "    </tr>\n",
       "    <tr>\n",
       "      <th>4335</th>\n",
       "      <td>Queens</td>\n",
       "      <td>40.761772</td>\n",
       "      <td>-73.763671</td>\n",
       "      <td>NY</td>\n",
       "      <td>61.0</td>\n",
       "      <td>6.0</td>\n",
       "      <td>True</td>\n",
       "    </tr>\n",
       "  </tbody>\n",
       "</table>\n",
       "</div>"
      ],
      "text/plain": [
       "     county_name        lat        lng state  lng_rank  lat_rank   nyc\n",
       "157       Queens  40.703418 -73.865443    NY      60.0       5.0  True\n",
       "1205      Queens  40.761772 -73.865443    NY      60.0       6.0  True\n",
       "3393      Queens  40.645063 -73.763671    NY      61.0       4.0  True\n",
       "3554      Queens  40.703418 -73.763671    NY      61.0       5.0  True\n",
       "4335      Queens  40.761772 -73.763671    NY      61.0       6.0  True"
      ]
     },
     "execution_count": 117,
     "metadata": {},
     "output_type": "execute_result"
    }
   ],
   "source": [
    "ny_map[ny_map.county_name == \"Queens\"]"
   ]
  },
  {
   "cell_type": "code",
   "execution_count": 118,
   "metadata": {
    "collapsed": true
   },
   "outputs": [],
   "source": [
    "sns.set_style(\"dark\")"
   ]
  },
  {
   "cell_type": "code",
   "execution_count": 119,
   "metadata": {
    "collapsed": false
   },
   "outputs": [
    {
     "data": {
      "image/png": "[encoded data removed]",
      "text/plain": [
       "<matplotlib.figure.Figure at 0x7f297962e128>"
      ]
     },
     "metadata": {},
     "output_type": "display_data"
    }
   ],
   "source": [
    "fig, ax = plt.subplots(figsize = (8, 8))\n",
    "\n",
    "ax = sns.scatterplot(data = ny_map_restricted, x = \"lng_rank\", y = \"lat_rank\", hue = \"county_name\", marker = \"s\", palette = \"Dark2\", s = 35)\n",
    "\n",
    "ax.legend_.remove()"
   ]
  },
  {
   "cell_type": "code",
   "execution_count": 120,
   "metadata": {
    "collapsed": true
   },
   "outputs": [],
   "source": [
    "ag_df = pd.read_csv(\"./election_results.csv\")"
   ]
  },
  {
   "cell_type": "code",
   "execution_count": 121,
   "metadata": {
    "collapsed": false
   },
   "outputs": [],
   "source": [
    "county_totals = ag_df[~(ag_df.county == \"All\")].groupby([\"county\"], as_index = False)[\"ttl\"].sum()"
   ]
  },
  {
   "cell_type": "code",
   "execution_count": 122,
   "metadata": {
    "collapsed": false
   },
   "outputs": [],
   "source": [
    "county_totals[\"county\"] = county_totals.county.astype(\"str\").map(lambda x: x.replace(\".\", \" \"))"
   ]
  },
  {
   "cell_type": "code",
   "execution_count": 123,
   "metadata": {
    "collapsed": false
   },
   "outputs": [],
   "source": [
    "get_bounds = lambda x: (\n",
    "    ny_map_restricted\n",
    "        .groupby([\"county_name\"], as_index = False)\n",
    "        .agg({i: x for i in [\"lng_rank\", \"lat_rank\"]})\n",
    "        .rename(columns = {i: \"{}_{}\".format(x, i) for i in [\"lng_rank\", \"lat_rank\"]})\n",
    ")"
   ]
  },
  {
   "cell_type": "code",
   "execution_count": 124,
   "metadata": {
    "collapsed": false
   },
   "outputs": [],
   "source": [
    "num_squares = ny_map_restricted.groupby([\"county_name\"], as_index = False)[\"lng\"].count().rename(columns = {\"lng\": \"num_squares\"})"
   ]
  },
  {
   "cell_type": "code",
   "execution_count": 125,
   "metadata": {
    "collapsed": false
   },
   "outputs": [],
   "source": [
    "county_shapes = (get_bounds(\"min\")\n",
    "    .merge(right = get_bounds(\"max\"), on = [\"county_name\"], how = \"left\")\n",
    "    .merge(right = num_squares, on = [\"county_name\"], how = \"left\")\n",
    "    .merge(right = county_totals, left_on = [\"county_name\"], right_on = [\"county\"], how = \"left\"))"
   ]
  },
  {
   "cell_type": "code",
   "execution_count": 126,
   "metadata": {
    "collapsed": false
   },
   "outputs": [],
   "source": [
    "county_shapes[\"pre_mult\"] = county_shapes.apply(lambda x: x.ttl / x.num_squares, axis = 1)\n",
    "county_shapes[\"mult\"] = county_shapes[\"pre_mult\"] / county_shapes.pre_mult.min()\n",
    "county_shapes[\"sqrt_mult\"] = county_shapes.mult.map(lambda x: np.sqrt(x))"
   ]
  },
  {
   "cell_type": "code",
   "execution_count": 127,
   "metadata": {
    "collapsed": false
   },
   "outputs": [
    {
     "data": {
      "text/html": [
       "<div>\n",
       "<style scoped>\n",
       "    .dataframe tbody tr th:only-of-type {\n",
       "        vertical-align: middle;\n",
       "    }\n",
       "\n",
       "    .dataframe tbody tr th {\n",
       "        vertical-align: top;\n",
       "    }\n",
       "\n",
       "    .dataframe thead th {\n",
       "        text-align: right;\n",
       "    }\n",
       "</style>\n",
       "<table border=\"1\" class=\"dataframe\">\n",
       "  <thead>\n",
       "    <tr style=\"text-align: right;\">\n",
       "      <th></th>\n",
       "      <th>county_name</th>\n",
       "      <th>min_lng_rank</th>\n",
       "      <th>min_lat_rank</th>\n",
       "      <th>max_lng_rank</th>\n",
       "      <th>max_lat_rank</th>\n",
       "      <th>num_squares</th>\n",
       "      <th>county</th>\n",
       "      <th>ttl</th>\n",
       "      <th>pre_mult</th>\n",
       "      <th>mult</th>\n",
       "      <th>sqrt_mult</th>\n",
       "    </tr>\n",
       "  </thead>\n",
       "  <tbody>\n",
       "    <tr>\n",
       "      <th>30</th>\n",
       "      <td>New York</td>\n",
       "      <td>59.0</td>\n",
       "      <td>6.0</td>\n",
       "      <td>59.0</td>\n",
       "      <td>6.0</td>\n",
       "      <td>1</td>\n",
       "      <td>New York</td>\n",
       "      <td>236022</td>\n",
       "      <td>236022.00</td>\n",
       "      <td>88891.402597</td>\n",
       "      <td>298.146613</td>\n",
       "    </tr>\n",
       "    <tr>\n",
       "      <th>23</th>\n",
       "      <td>Kings</td>\n",
       "      <td>59.0</td>\n",
       "      <td>3.0</td>\n",
       "      <td>60.0</td>\n",
       "      <td>5.0</td>\n",
       "      <td>4</td>\n",
       "      <td>Kings</td>\n",
       "      <td>296159</td>\n",
       "      <td>74039.75</td>\n",
       "      <td>27885.100649</td>\n",
       "      <td>166.988325</td>\n",
       "    </tr>\n",
       "    <tr>\n",
       "      <th>2</th>\n",
       "      <td>Bronx</td>\n",
       "      <td>60.0</td>\n",
       "      <td>7.0</td>\n",
       "      <td>60.0</td>\n",
       "      <td>8.0</td>\n",
       "      <td>2</td>\n",
       "      <td>Bronx</td>\n",
       "      <td>125978</td>\n",
       "      <td>62989.00</td>\n",
       "      <td>23723.129870</td>\n",
       "      <td>154.023147</td>\n",
       "    </tr>\n",
       "    <tr>\n",
       "      <th>40</th>\n",
       "      <td>Queens</td>\n",
       "      <td>60.0</td>\n",
       "      <td>4.0</td>\n",
       "      <td>61.0</td>\n",
       "      <td>6.0</td>\n",
       "      <td>5</td>\n",
       "      <td>Queens</td>\n",
       "      <td>182995</td>\n",
       "      <td>36599.00</td>\n",
       "      <td>13784.038961</td>\n",
       "      <td>117.405447</td>\n",
       "    </tr>\n",
       "    <tr>\n",
       "      <th>42</th>\n",
       "      <td>Richmond</td>\n",
       "      <td>57.0</td>\n",
       "      <td>2.0</td>\n",
       "      <td>58.0</td>\n",
       "      <td>3.0</td>\n",
       "      <td>3</td>\n",
       "      <td>Richmond</td>\n",
       "      <td>25851</td>\n",
       "      <td>8617.00</td>\n",
       "      <td>3245.363636</td>\n",
       "      <td>56.968093</td>\n",
       "    </tr>\n",
       "  </tbody>\n",
       "</table>\n",
       "</div>"
      ],
      "text/plain": [
       "   county_name  min_lng_rank  min_lat_rank  max_lng_rank  max_lat_rank  \\\n",
       "30    New York          59.0           6.0          59.0           6.0   \n",
       "23       Kings          59.0           3.0          60.0           5.0   \n",
       "2        Bronx          60.0           7.0          60.0           8.0   \n",
       "40      Queens          60.0           4.0          61.0           6.0   \n",
       "42    Richmond          57.0           2.0          58.0           3.0   \n",
       "\n",
       "    num_squares    county     ttl   pre_mult          mult   sqrt_mult  \n",
       "30            1  New York  236022  236022.00  88891.402597  298.146613  \n",
       "23            4     Kings  296159   74039.75  27885.100649  166.988325  \n",
       "2             2     Bronx  125978   62989.00  23723.129870  154.023147  \n",
       "40            5    Queens  182995   36599.00  13784.038961  117.405447  \n",
       "42            3  Richmond   25851    8617.00   3245.363636   56.968093  "
      ]
     },
     "execution_count": 127,
     "metadata": {},
     "output_type": "execute_result"
    }
   ],
   "source": [
    "county_shapes.sort_values(\"mult\", ascending = False).head()"
   ]
  },
  {
   "cell_type": "code",
   "execution_count": 128,
   "metadata": {
    "collapsed": false
   },
   "outputs": [],
   "source": [
    "for i in [\"lng\", \"lat\"]:\n",
    "    county_shapes[\"mid_{}_rank\".format(i)] = (county_shapes[\"min_{}_rank\".format(i)] +\n",
    "        ((county_shapes[\"max_{}_rank\".format(i)] - county_shapes[\"min_{}_rank\".format(i)]) / 2))"
   ]
  },
  {
   "cell_type": "code",
   "execution_count": 133,
   "metadata": {
    "collapsed": false
   },
   "outputs": [],
   "source": [
    "ny_map_county_shapes = ny_map_restricted.merge(right = county_shapes, on = [\"county_name\"], how= \"left\")"
   ]
  },
  {
   "cell_type": "code",
   "execution_count": 134,
   "metadata": {
    "collapsed": false
   },
   "outputs": [
    {
     "data": {
      "text/html": [
       "<div>\n",
       "<style scoped>\n",
       "    .dataframe tbody tr th:only-of-type {\n",
       "        vertical-align: middle;\n",
       "    }\n",
       "\n",
       "    .dataframe tbody tr th {\n",
       "        vertical-align: top;\n",
       "    }\n",
       "\n",
       "    .dataframe thead th {\n",
       "        text-align: right;\n",
       "    }\n",
       "</style>\n",
       "<table border=\"1\" class=\"dataframe\">\n",
       "  <thead>\n",
       "    <tr style=\"text-align: right;\">\n",
       "      <th></th>\n",
       "      <th>county_name</th>\n",
       "      <th>lat</th>\n",
       "      <th>lng</th>\n",
       "      <th>state</th>\n",
       "      <th>lng_rank</th>\n",
       "      <th>lat_rank</th>\n",
       "      <th>nyc</th>\n",
       "      <th>min_lng_rank</th>\n",
       "      <th>min_lat_rank</th>\n",
       "      <th>max_lng_rank</th>\n",
       "      <th>max_lat_rank</th>\n",
       "      <th>num_squares</th>\n",
       "      <th>county</th>\n",
       "      <th>ttl</th>\n",
       "      <th>pre_mult</th>\n",
       "      <th>mult</th>\n",
       "      <th>sqrt_mult</th>\n",
       "      <th>mid_lng_rank</th>\n",
       "      <th>mid_lat_rank</th>\n",
       "    </tr>\n",
       "  </thead>\n",
       "  <tbody>\n",
       "    <tr>\n",
       "      <th>52</th>\n",
       "      <td>Queens</td>\n",
       "      <td>40.703418</td>\n",
       "      <td>-73.865443</td>\n",
       "      <td>NY</td>\n",
       "      <td>60.0</td>\n",
       "      <td>5.0</td>\n",
       "      <td>True</td>\n",
       "      <td>60.0</td>\n",
       "      <td>4.0</td>\n",
       "      <td>61.0</td>\n",
       "      <td>6.0</td>\n",
       "      <td>5</td>\n",
       "      <td>Queens</td>\n",
       "      <td>182995</td>\n",
       "      <td>36599.00</td>\n",
       "      <td>13784.038961</td>\n",
       "      <td>117.405447</td>\n",
       "      <td>60.5</td>\n",
       "      <td>5.0</td>\n",
       "    </tr>\n",
       "    <tr>\n",
       "      <th>431</th>\n",
       "      <td>Queens</td>\n",
       "      <td>40.761772</td>\n",
       "      <td>-73.865443</td>\n",
       "      <td>NY</td>\n",
       "      <td>60.0</td>\n",
       "      <td>6.0</td>\n",
       "      <td>True</td>\n",
       "      <td>60.0</td>\n",
       "      <td>4.0</td>\n",
       "      <td>61.0</td>\n",
       "      <td>6.0</td>\n",
       "      <td>5</td>\n",
       "      <td>Queens</td>\n",
       "      <td>182995</td>\n",
       "      <td>36599.00</td>\n",
       "      <td>13784.038961</td>\n",
       "      <td>117.405447</td>\n",
       "      <td>60.5</td>\n",
       "      <td>5.0</td>\n",
       "    </tr>\n",
       "    <tr>\n",
       "      <th>444</th>\n",
       "      <td>Bronx</td>\n",
       "      <td>40.878481</td>\n",
       "      <td>-73.865443</td>\n",
       "      <td>NY</td>\n",
       "      <td>60.0</td>\n",
       "      <td>8.0</td>\n",
       "      <td>True</td>\n",
       "      <td>60.0</td>\n",
       "      <td>7.0</td>\n",
       "      <td>60.0</td>\n",
       "      <td>8.0</td>\n",
       "      <td>2</td>\n",
       "      <td>Bronx</td>\n",
       "      <td>125978</td>\n",
       "      <td>62989.00</td>\n",
       "      <td>23723.129870</td>\n",
       "      <td>154.023147</td>\n",
       "      <td>60.0</td>\n",
       "      <td>7.5</td>\n",
       "    </tr>\n",
       "    <tr>\n",
       "      <th>846</th>\n",
       "      <td>Richmond</td>\n",
       "      <td>40.586709</td>\n",
       "      <td>-74.068987</td>\n",
       "      <td>NY</td>\n",
       "      <td>58.0</td>\n",
       "      <td>3.0</td>\n",
       "      <td>True</td>\n",
       "      <td>57.0</td>\n",
       "      <td>2.0</td>\n",
       "      <td>58.0</td>\n",
       "      <td>3.0</td>\n",
       "      <td>3</td>\n",
       "      <td>Richmond</td>\n",
       "      <td>25851</td>\n",
       "      <td>8617.00</td>\n",
       "      <td>3245.363636</td>\n",
       "      <td>56.968093</td>\n",
       "      <td>57.5</td>\n",
       "      <td>2.5</td>\n",
       "    </tr>\n",
       "    <tr>\n",
       "      <th>911</th>\n",
       "      <td>Kings</td>\n",
       "      <td>40.645063</td>\n",
       "      <td>-73.967215</td>\n",
       "      <td>NY</td>\n",
       "      <td>59.0</td>\n",
       "      <td>4.0</td>\n",
       "      <td>True</td>\n",
       "      <td>59.0</td>\n",
       "      <td>3.0</td>\n",
       "      <td>60.0</td>\n",
       "      <td>5.0</td>\n",
       "      <td>4</td>\n",
       "      <td>Kings</td>\n",
       "      <td>296159</td>\n",
       "      <td>74039.75</td>\n",
       "      <td>27885.100649</td>\n",
       "      <td>166.988325</td>\n",
       "      <td>59.5</td>\n",
       "      <td>4.0</td>\n",
       "    </tr>\n",
       "  </tbody>\n",
       "</table>\n",
       "</div>"
      ],
      "text/plain": [
       "    county_name        lat        lng state  lng_rank  lat_rank   nyc  \\\n",
       "52       Queens  40.703418 -73.865443    NY      60.0       5.0  True   \n",
       "431      Queens  40.761772 -73.865443    NY      60.0       6.0  True   \n",
       "444       Bronx  40.878481 -73.865443    NY      60.0       8.0  True   \n",
       "846    Richmond  40.586709 -74.068987    NY      58.0       3.0  True   \n",
       "911       Kings  40.645063 -73.967215    NY      59.0       4.0  True   \n",
       "\n",
       "     min_lng_rank  min_lat_rank  max_lng_rank  max_lat_rank  num_squares  \\\n",
       "52           60.0           4.0          61.0           6.0            5   \n",
       "431          60.0           4.0          61.0           6.0            5   \n",
       "444          60.0           7.0          60.0           8.0            2   \n",
       "846          57.0           2.0          58.0           3.0            3   \n",
       "911          59.0           3.0          60.0           5.0            4   \n",
       "\n",
       "       county     ttl  pre_mult          mult   sqrt_mult  mid_lng_rank  \\\n",
       "52     Queens  182995  36599.00  13784.038961  117.405447          60.5   \n",
       "431    Queens  182995  36599.00  13784.038961  117.405447          60.5   \n",
       "444     Bronx  125978  62989.00  23723.129870  154.023147          60.0   \n",
       "846  Richmond   25851   8617.00   3245.363636   56.968093          57.5   \n",
       "911     Kings  296159  74039.75  27885.100649  166.988325          59.5   \n",
       "\n",
       "     mid_lat_rank  \n",
       "52            5.0  \n",
       "431           5.0  \n",
       "444           7.5  \n",
       "846           2.5  \n",
       "911           4.0  "
      ]
     },
     "execution_count": 134,
     "metadata": {},
     "output_type": "execute_result"
    }
   ],
   "source": [
    "ny_map_county_shapes[ny_map_county_shapes.nyc].head()"
   ]
  },
  {
   "cell_type": "code",
   "execution_count": 135,
   "metadata": {
    "collapsed": false
   },
   "outputs": [],
   "source": [
    "for i in [\"lng\", \"lat\"]:\n",
    "    ny_map_county_shapes[\"scaled_{}_rank\".format(i)] = ny_map_county_shapes.apply(\n",
    "        lambda x: x[\"{}_rank\".format(i)] + x[\"sqrt_mult\"] * (x[\"{}_rank\".format(i)] - x[\"mid_{}_rank\".format(i)]),\n",
    "        axis = 1)"
   ]
  },
  {
   "cell_type": "code",
   "execution_count": 136,
   "metadata": {
    "collapsed": false
   },
   "outputs": [
    {
     "data": {
      "text/html": [
       "<div>\n",
       "<style scoped>\n",
       "    .dataframe tbody tr th:only-of-type {\n",
       "        vertical-align: middle;\n",
       "    }\n",
       "\n",
       "    .dataframe tbody tr th {\n",
       "        vertical-align: top;\n",
       "    }\n",
       "\n",
       "    .dataframe thead th {\n",
       "        text-align: right;\n",
       "    }\n",
       "</style>\n",
       "<table border=\"1\" class=\"dataframe\">\n",
       "  <thead>\n",
       "    <tr style=\"text-align: right;\">\n",
       "      <th></th>\n",
       "      <th>county_name</th>\n",
       "      <th>lat</th>\n",
       "      <th>lng</th>\n",
       "      <th>state</th>\n",
       "      <th>lng_rank</th>\n",
       "      <th>lat_rank</th>\n",
       "      <th>nyc</th>\n",
       "      <th>min_lng_rank</th>\n",
       "      <th>min_lat_rank</th>\n",
       "      <th>max_lng_rank</th>\n",
       "      <th>...</th>\n",
       "      <th>num_squares</th>\n",
       "      <th>county</th>\n",
       "      <th>ttl</th>\n",
       "      <th>pre_mult</th>\n",
       "      <th>mult</th>\n",
       "      <th>sqrt_mult</th>\n",
       "      <th>mid_lng_rank</th>\n",
       "      <th>mid_lat_rank</th>\n",
       "      <th>scaled_lng_rank</th>\n",
       "      <th>scaled_lat_rank</th>\n",
       "    </tr>\n",
       "  </thead>\n",
       "  <tbody>\n",
       "    <tr>\n",
       "      <th>52</th>\n",
       "      <td>Queens</td>\n",
       "      <td>40.703418</td>\n",
       "      <td>-73.865443</td>\n",
       "      <td>NY</td>\n",
       "      <td>60.0</td>\n",
       "      <td>5.0</td>\n",
       "      <td>True</td>\n",
       "      <td>60.0</td>\n",
       "      <td>4.0</td>\n",
       "      <td>61.0</td>\n",
       "      <td>...</td>\n",
       "      <td>5</td>\n",
       "      <td>Queens</td>\n",
       "      <td>182995</td>\n",
       "      <td>36599.00</td>\n",
       "      <td>13784.038961</td>\n",
       "      <td>117.405447</td>\n",
       "      <td>60.5</td>\n",
       "      <td>5.0</td>\n",
       "      <td>1.297277</td>\n",
       "      <td>5.000000</td>\n",
       "    </tr>\n",
       "    <tr>\n",
       "      <th>431</th>\n",
       "      <td>Queens</td>\n",
       "      <td>40.761772</td>\n",
       "      <td>-73.865443</td>\n",
       "      <td>NY</td>\n",
       "      <td>60.0</td>\n",
       "      <td>6.0</td>\n",
       "      <td>True</td>\n",
       "      <td>60.0</td>\n",
       "      <td>4.0</td>\n",
       "      <td>61.0</td>\n",
       "      <td>...</td>\n",
       "      <td>5</td>\n",
       "      <td>Queens</td>\n",
       "      <td>182995</td>\n",
       "      <td>36599.00</td>\n",
       "      <td>13784.038961</td>\n",
       "      <td>117.405447</td>\n",
       "      <td>60.5</td>\n",
       "      <td>5.0</td>\n",
       "      <td>1.297277</td>\n",
       "      <td>123.405447</td>\n",
       "    </tr>\n",
       "    <tr>\n",
       "      <th>444</th>\n",
       "      <td>Bronx</td>\n",
       "      <td>40.878481</td>\n",
       "      <td>-73.865443</td>\n",
       "      <td>NY</td>\n",
       "      <td>60.0</td>\n",
       "      <td>8.0</td>\n",
       "      <td>True</td>\n",
       "      <td>60.0</td>\n",
       "      <td>7.0</td>\n",
       "      <td>60.0</td>\n",
       "      <td>...</td>\n",
       "      <td>2</td>\n",
       "      <td>Bronx</td>\n",
       "      <td>125978</td>\n",
       "      <td>62989.00</td>\n",
       "      <td>23723.129870</td>\n",
       "      <td>154.023147</td>\n",
       "      <td>60.0</td>\n",
       "      <td>7.5</td>\n",
       "      <td>60.000000</td>\n",
       "      <td>85.011574</td>\n",
       "    </tr>\n",
       "    <tr>\n",
       "      <th>846</th>\n",
       "      <td>Richmond</td>\n",
       "      <td>40.586709</td>\n",
       "      <td>-74.068987</td>\n",
       "      <td>NY</td>\n",
       "      <td>58.0</td>\n",
       "      <td>3.0</td>\n",
       "      <td>True</td>\n",
       "      <td>57.0</td>\n",
       "      <td>2.0</td>\n",
       "      <td>58.0</td>\n",
       "      <td>...</td>\n",
       "      <td>3</td>\n",
       "      <td>Richmond</td>\n",
       "      <td>25851</td>\n",
       "      <td>8617.00</td>\n",
       "      <td>3245.363636</td>\n",
       "      <td>56.968093</td>\n",
       "      <td>57.5</td>\n",
       "      <td>2.5</td>\n",
       "      <td>86.484047</td>\n",
       "      <td>31.484047</td>\n",
       "    </tr>\n",
       "    <tr>\n",
       "      <th>911</th>\n",
       "      <td>Kings</td>\n",
       "      <td>40.645063</td>\n",
       "      <td>-73.967215</td>\n",
       "      <td>NY</td>\n",
       "      <td>59.0</td>\n",
       "      <td>4.0</td>\n",
       "      <td>True</td>\n",
       "      <td>59.0</td>\n",
       "      <td>3.0</td>\n",
       "      <td>60.0</td>\n",
       "      <td>...</td>\n",
       "      <td>4</td>\n",
       "      <td>Kings</td>\n",
       "      <td>296159</td>\n",
       "      <td>74039.75</td>\n",
       "      <td>27885.100649</td>\n",
       "      <td>166.988325</td>\n",
       "      <td>59.5</td>\n",
       "      <td>4.0</td>\n",
       "      <td>-24.494162</td>\n",
       "      <td>4.000000</td>\n",
       "    </tr>\n",
       "  </tbody>\n",
       "</table>\n",
       "<p>5 rows × 21 columns</p>\n",
       "</div>"
      ],
      "text/plain": [
       "    county_name        lat        lng state  lng_rank  lat_rank   nyc  \\\n",
       "52       Queens  40.703418 -73.865443    NY      60.0       5.0  True   \n",
       "431      Queens  40.761772 -73.865443    NY      60.0       6.0  True   \n",
       "444       Bronx  40.878481 -73.865443    NY      60.0       8.0  True   \n",
       "846    Richmond  40.586709 -74.068987    NY      58.0       3.0  True   \n",
       "911       Kings  40.645063 -73.967215    NY      59.0       4.0  True   \n",
       "\n",
       "     min_lng_rank  min_lat_rank  max_lng_rank       ...         num_squares  \\\n",
       "52           60.0           4.0          61.0       ...                   5   \n",
       "431          60.0           4.0          61.0       ...                   5   \n",
       "444          60.0           7.0          60.0       ...                   2   \n",
       "846          57.0           2.0          58.0       ...                   3   \n",
       "911          59.0           3.0          60.0       ...                   4   \n",
       "\n",
       "       county     ttl  pre_mult          mult   sqrt_mult  mid_lng_rank  \\\n",
       "52     Queens  182995  36599.00  13784.038961  117.405447          60.5   \n",
       "431    Queens  182995  36599.00  13784.038961  117.405447          60.5   \n",
       "444     Bronx  125978  62989.00  23723.129870  154.023147          60.0   \n",
       "846  Richmond   25851   8617.00   3245.363636   56.968093          57.5   \n",
       "911     Kings  296159  74039.75  27885.100649  166.988325          59.5   \n",
       "\n",
       "     mid_lat_rank  scaled_lng_rank  scaled_lat_rank  \n",
       "52            5.0         1.297277         5.000000  \n",
       "431           5.0         1.297277       123.405447  \n",
       "444           7.5        60.000000        85.011574  \n",
       "846           2.5        86.484047        31.484047  \n",
       "911           4.0       -24.494162         4.000000  \n",
       "\n",
       "[5 rows x 21 columns]"
      ]
     },
     "execution_count": 136,
     "metadata": {},
     "output_type": "execute_result"
    }
   ],
   "source": [
    "ny_map_county_shapes[ny_map_county_shapes.nyc].head()"
   ]
  },
  {
   "cell_type": "code",
   "execution_count": 138,
   "metadata": {
    "collapsed": true
   },
   "outputs": [],
   "source": [
    "nyc_map_county_shapes = ny_map_county_shapes[ny_map_county_shapes.nyc]"
   ]
  },
  {
   "cell_type": "code",
   "execution_count": 139,
   "metadata": {
    "collapsed": false
   },
   "outputs": [
    {
     "data": {
      "text/html": [
       "<div>\n",
       "<style scoped>\n",
       "    .dataframe tbody tr th:only-of-type {\n",
       "        vertical-align: middle;\n",
       "    }\n",
       "\n",
       "    .dataframe tbody tr th {\n",
       "        vertical-align: top;\n",
       "    }\n",
       "\n",
       "    .dataframe thead th {\n",
       "        text-align: right;\n",
       "    }\n",
       "</style>\n",
       "<table border=\"1\" class=\"dataframe\">\n",
       "  <thead>\n",
       "    <tr style=\"text-align: right;\">\n",
       "      <th></th>\n",
       "      <th>county_name</th>\n",
       "      <th>lat</th>\n",
       "      <th>lng</th>\n",
       "      <th>state</th>\n",
       "      <th>lng_rank</th>\n",
       "      <th>lat_rank</th>\n",
       "      <th>nyc</th>\n",
       "      <th>min_lng_rank</th>\n",
       "      <th>min_lat_rank</th>\n",
       "      <th>max_lng_rank</th>\n",
       "      <th>...</th>\n",
       "      <th>county</th>\n",
       "      <th>ttl</th>\n",
       "      <th>pre_mult</th>\n",
       "      <th>mult</th>\n",
       "      <th>sqrt_mult</th>\n",
       "      <th>mid_lng_rank</th>\n",
       "      <th>mid_lat_rank</th>\n",
       "      <th>scaled_lng_rank</th>\n",
       "      <th>scaled_lat_rank</th>\n",
       "      <th>sqrt_mult_int</th>\n",
       "    </tr>\n",
       "  </thead>\n",
       "  <tbody>\n",
       "    <tr>\n",
       "      <th>52</th>\n",
       "      <td>Queens</td>\n",
       "      <td>40.703418</td>\n",
       "      <td>-73.865443</td>\n",
       "      <td>NY</td>\n",
       "      <td>60.0</td>\n",
       "      <td>5.0</td>\n",
       "      <td>True</td>\n",
       "      <td>60.0</td>\n",
       "      <td>4.0</td>\n",
       "      <td>61.0</td>\n",
       "      <td>...</td>\n",
       "      <td>Queens</td>\n",
       "      <td>182995</td>\n",
       "      <td>36599.00</td>\n",
       "      <td>13784.038961</td>\n",
       "      <td>117.405447</td>\n",
       "      <td>60.5</td>\n",
       "      <td>5.0</td>\n",
       "      <td>1.297277</td>\n",
       "      <td>5.000000</td>\n",
       "      <td>117</td>\n",
       "    </tr>\n",
       "    <tr>\n",
       "      <th>431</th>\n",
       "      <td>Queens</td>\n",
       "      <td>40.761772</td>\n",
       "      <td>-73.865443</td>\n",
       "      <td>NY</td>\n",
       "      <td>60.0</td>\n",
       "      <td>6.0</td>\n",
       "      <td>True</td>\n",
       "      <td>60.0</td>\n",
       "      <td>4.0</td>\n",
       "      <td>61.0</td>\n",
       "      <td>...</td>\n",
       "      <td>Queens</td>\n",
       "      <td>182995</td>\n",
       "      <td>36599.00</td>\n",
       "      <td>13784.038961</td>\n",
       "      <td>117.405447</td>\n",
       "      <td>60.5</td>\n",
       "      <td>5.0</td>\n",
       "      <td>1.297277</td>\n",
       "      <td>123.405447</td>\n",
       "      <td>117</td>\n",
       "    </tr>\n",
       "    <tr>\n",
       "      <th>444</th>\n",
       "      <td>Bronx</td>\n",
       "      <td>40.878481</td>\n",
       "      <td>-73.865443</td>\n",
       "      <td>NY</td>\n",
       "      <td>60.0</td>\n",
       "      <td>8.0</td>\n",
       "      <td>True</td>\n",
       "      <td>60.0</td>\n",
       "      <td>7.0</td>\n",
       "      <td>60.0</td>\n",
       "      <td>...</td>\n",
       "      <td>Bronx</td>\n",
       "      <td>125978</td>\n",
       "      <td>62989.00</td>\n",
       "      <td>23723.129870</td>\n",
       "      <td>154.023147</td>\n",
       "      <td>60.0</td>\n",
       "      <td>7.5</td>\n",
       "      <td>60.000000</td>\n",
       "      <td>85.011574</td>\n",
       "      <td>154</td>\n",
       "    </tr>\n",
       "    <tr>\n",
       "      <th>846</th>\n",
       "      <td>Richmond</td>\n",
       "      <td>40.586709</td>\n",
       "      <td>-74.068987</td>\n",
       "      <td>NY</td>\n",
       "      <td>58.0</td>\n",
       "      <td>3.0</td>\n",
       "      <td>True</td>\n",
       "      <td>57.0</td>\n",
       "      <td>2.0</td>\n",
       "      <td>58.0</td>\n",
       "      <td>...</td>\n",
       "      <td>Richmond</td>\n",
       "      <td>25851</td>\n",
       "      <td>8617.00</td>\n",
       "      <td>3245.363636</td>\n",
       "      <td>56.968093</td>\n",
       "      <td>57.5</td>\n",
       "      <td>2.5</td>\n",
       "      <td>86.484047</td>\n",
       "      <td>31.484047</td>\n",
       "      <td>56</td>\n",
       "    </tr>\n",
       "    <tr>\n",
       "      <th>911</th>\n",
       "      <td>Kings</td>\n",
       "      <td>40.645063</td>\n",
       "      <td>-73.967215</td>\n",
       "      <td>NY</td>\n",
       "      <td>59.0</td>\n",
       "      <td>4.0</td>\n",
       "      <td>True</td>\n",
       "      <td>59.0</td>\n",
       "      <td>3.0</td>\n",
       "      <td>60.0</td>\n",
       "      <td>...</td>\n",
       "      <td>Kings</td>\n",
       "      <td>296159</td>\n",
       "      <td>74039.75</td>\n",
       "      <td>27885.100649</td>\n",
       "      <td>166.988325</td>\n",
       "      <td>59.5</td>\n",
       "      <td>4.0</td>\n",
       "      <td>-24.494162</td>\n",
       "      <td>4.000000</td>\n",
       "      <td>166</td>\n",
       "    </tr>\n",
       "  </tbody>\n",
       "</table>\n",
       "<p>5 rows × 22 columns</p>\n",
       "</div>"
      ],
      "text/plain": [
       "    county_name        lat        lng state  lng_rank  lat_rank   nyc  \\\n",
       "52       Queens  40.703418 -73.865443    NY      60.0       5.0  True   \n",
       "431      Queens  40.761772 -73.865443    NY      60.0       6.0  True   \n",
       "444       Bronx  40.878481 -73.865443    NY      60.0       8.0  True   \n",
       "846    Richmond  40.586709 -74.068987    NY      58.0       3.0  True   \n",
       "911       Kings  40.645063 -73.967215    NY      59.0       4.0  True   \n",
       "\n",
       "     min_lng_rank  min_lat_rank  max_lng_rank      ...          county  \\\n",
       "52           60.0           4.0          61.0      ...          Queens   \n",
       "431          60.0           4.0          61.0      ...          Queens   \n",
       "444          60.0           7.0          60.0      ...           Bronx   \n",
       "846          57.0           2.0          58.0      ...        Richmond   \n",
       "911          59.0           3.0          60.0      ...           Kings   \n",
       "\n",
       "        ttl  pre_mult          mult   sqrt_mult  mid_lng_rank  mid_lat_rank  \\\n",
       "52   182995  36599.00  13784.038961  117.405447          60.5           5.0   \n",
       "431  182995  36599.00  13784.038961  117.405447          60.5           5.0   \n",
       "444  125978  62989.00  23723.129870  154.023147          60.0           7.5   \n",
       "846   25851   8617.00   3245.363636   56.968093          57.5           2.5   \n",
       "911  296159  74039.75  27885.100649  166.988325          59.5           4.0   \n",
       "\n",
       "     scaled_lng_rank  scaled_lat_rank  sqrt_mult_int  \n",
       "52          1.297277         5.000000            117  \n",
       "431         1.297277       123.405447            117  \n",
       "444        60.000000        85.011574            154  \n",
       "846        86.484047        31.484047             56  \n",
       "911       -24.494162         4.000000            166  \n",
       "\n",
       "[5 rows x 22 columns]"
      ]
     },
     "execution_count": 139,
     "metadata": {},
     "output_type": "execute_result"
    }
   ],
   "source": [
    "nyc_map_county_shapes.head()"
   ]
  },
  {
   "cell_type": "code",
   "execution_count": 140,
   "metadata": {
    "collapsed": false
   },
   "outputs": [],
   "source": [
    "import colorlover as cl"
   ]
  },
  {
   "cell_type": "code",
   "execution_count": 141,
   "metadata": {
    "collapsed": false
   },
   "outputs": [],
   "source": [
    "colors = [[i / 255 for i in j] for j in cl.to_numeric(cl.scales['5']['qual']['Dark2'])]"
   ]
  },
  {
   "cell_type": "code",
   "execution_count": 163,
   "metadata": {
    "collapsed": false
   },
   "outputs": [],
   "source": [
    "def ny_scatter(df):\n",
    "    fig, ax = plt.subplots(figsize = (8, 8))\n",
    "    for ind, county in enumerate(df.county_name.unique()):\n",
    "        county_df = df[df.county_name == county]\n",
    "        ax.scatter(\n",
    "            y = county_df.scaled_lat_rank,\n",
    "            x = county_df.scaled_lng_rank,\n",
    "            s = county_df.sqrt_mult,\n",
    "            marker = \"s\",\n",
    "            label = county,\n",
    "            alpha = 0.7,\n",
    "            color = colors[ind % 5],\n",
    "            edgecolor = \"none\")\n",
    "    # ax.legend(loc = 9, bbox_to_anchor = (0.5,0))\n",
    "    return fig"
   ]
  },
  {
   "cell_type": "code",
   "execution_count": 164,
   "metadata": {
    "collapsed": false
   },
   "outputs": [
    {
     "data": {
      "image/png": "[encoded data removed]",
      "text/plain": [
       "<matplotlib.figure.Figure at 0x7f2975cdb6d8>"
      ]
     },
     "metadata": {},
     "output_type": "display_data"
    }
   ],
   "source": [
    "fig = ny_scatter(ny_map_county_shapes[ny_map_county_shapes.nyc])"
   ]
  },
  {
   "cell_type": "code",
   "execution_count": 165,
   "metadata": {
    "collapsed": false
   },
   "outputs": [
    {
     "data": {
      "image/png": "[encoded data removed]",
      "text/plain": [
       "<matplotlib.figure.Figure at 0x7f2975c6e9e8>"
      ]
     },
     "metadata": {},
     "output_type": "display_data"
    }
   ],
   "source": [
    "fig = ny_scatter(ny_map_county_shapes)"
   ]
  },
  {
   "cell_type": "code",
   "execution_count": 155,
   "metadata": {
    "collapsed": false
   },
   "outputs": [
    {
     "data": {
      "text/plain": [
       "<matplotlib.axes._subplots.AxesSubplot at 0x7f2979035438>"
      ]
     },
     "execution_count": 155,
     "metadata": {},
     "output_type": "execute_result"
    },
    {
     "data": {
      "image/png": "[encoded data removed]",
      "text/plain": [
       "<matplotlib.figure.Figure at 0x7f2979715748>"
      ]
     },
     "metadata": {},
     "output_type": "display_data"
    }
   ],
   "source": [
    "ny_map_county_shapes.mult.hist()"
   ]
  },
  {
   "cell_type": "code",
   "execution_count": 159,
   "metadata": {
    "collapsed": false
   },
   "outputs": [],
   "source": [
    "for i in [\"lat\", \"lng\"]:\n",
    "    county_shapes[\"{}_rank_range\".format(i)] = county_shapes[\"max_{}_rank\".format(i)] - county_shapes[\"min_{}_rank\".format(i)] + 1\n",
    "    for sj, j in enumerate([\"min\", \"max\"]):\n",
    "        county_shapes[\"scaled_{}_{}_rank\".format(j, i)] = county_shapes.apply(\n",
    "            lambda x: x[\"mid_{}_rank\".format(i)] + ((2 * sj - 1) * x[\"sqrt_mult\"] * x[\"{}_rank_range\".format(i)] / 2),\n",
    "            axis = 1)"
   ]
  },
  {
   "cell_type": "code",
   "execution_count": 162,
   "metadata": {
    "collapsed": false
   },
   "outputs": [],
   "source": [
    "county_shapes.to_csv(\"./ny_county_shapes.csv\", index = False)"
   ]
  }
 ],
 "metadata": {
  "kernelspec": {
   "display_name": "Python 3",
   "language": "python",
   "name": "python3"
  },
  "language_info": {
   "codemirror_mode": {
    "name": "ipython",
    "version": 3
   },
   "file_extension": ".py",
   "mimetype": "text/x-python",
   "name": "python",
   "nbconvert_exporter": "python",
   "pygments_lexer": "ipython3",
   "version": "3.5.4"
  }
 },
 "nbformat": 4,
 "nbformat_minor": 2
}
