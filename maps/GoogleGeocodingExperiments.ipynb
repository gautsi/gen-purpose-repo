{
 "cells": [
  {
   "cell_type": "code",
   "execution_count": 1,
   "metadata": {
    "collapsed": true
   },
   "outputs": [],
   "source": [
    "import config\n",
    "import googlemaps\n",
    "import pickle\n",
    "import numpy as np\n",
    "from tqdm import tqdm\n",
    "import time"
   ]
  },
  {
   "cell_type": "code",
   "execution_count": 2,
   "metadata": {
    "collapsed": false
   },
   "outputs": [],
   "source": [
    "gmaps = googlemaps.Client(key = config.geocode_api_key)"
   ]
  },
  {
   "cell_type": "markdown",
   "metadata": {},
   "source": [
    "NY corners:\n",
    "- 41.990493, -79.872683\n",
    "- 40.470645, -74.270542\n",
    "- 41.093908, -71.838898\n",
    "- 45.085109, -73.342132"
   ]
  },
  {
   "cell_type": "code",
   "execution_count": 3,
   "metadata": {
    "collapsed": true
   },
   "outputs": [],
   "source": [
    "ny_boundaries = {\n",
    "    \"min_lat\": 40.47,\n",
    "    \"max_lat\": 45.08,\n",
    "    \"min_lng\": -79.87,\n",
    "    \"max_lng\": -71.83\n",
    "}"
   ]
  },
  {
   "cell_type": "code",
   "execution_count": 4,
   "metadata": {
    "collapsed": true
   },
   "outputs": [],
   "source": [
    "def get_ny_linspace(lat_or_lng, num_points):\n",
    "    return np.linspace(ny_boundaries[\"min_\" + lat_or_lng], ny_boundaries[\"max_\" + lat_or_lng], num_points)"
   ]
  },
  {
   "cell_type": "code",
   "execution_count": 6,
   "metadata": {
    "collapsed": false
   },
   "outputs": [
    {
     "name": "stderr",
     "output_type": "stream",
     "text": [
      "100%|██████████| 2500/2500 [13:25<00:00,  3.10it/s]\n"
     ]
    }
   ],
   "source": [
    "for lat, lng in tqdm([(i, j) for i in get_ny_linspace(\"lat\", 50) for j in get_ny_linspace(\"lng\", 50)]):\n",
    "    time.sleep(0.2)\n",
    "    result = gmaps.reverse_geocode(latlng = (lat, lng), result_type = \"administrative_area_level_2\")\n",
    "    with open(\"pickles/res50/{}_{}.pkl\".format(lat, lng), \"wb\") as output:\n",
    "        pickle.dump(result, output)"
   ]
  },
  {
   "cell_type": "code",
   "execution_count": null,
   "metadata": {
    "collapsed": true
   },
   "outputs": [],
   "source": []
  }
 ],
 "metadata": {
  "kernelspec": {
   "display_name": "Python 3",
   "language": "python",
   "name": "python3"
  },
  "language_info": {
   "codemirror_mode": {
    "name": "ipython",
    "version": 3
   },
   "file_extension": ".py",
   "mimetype": "text/x-python",
   "name": "python",
   "nbconvert_exporter": "python",
   "pygments_lexer": "ipython3",
   "version": "3.5.4"
  }
 },
 "nbformat": 4,
 "nbformat_minor": 0
}
