{
 "cells": [
  {
   "cell_type": "code",
   "execution_count": 1,
   "metadata": {
    "collapsed": true
   },
   "outputs": [],
   "source": [
    "import pandas as pd\n",
    "import numpy as np\n",
    "\n",
    "import matplotlib.pyplot as plt\n",
    "import seaborn as sns\n",
    "%matplotlib inline"
   ]
  },
  {
   "cell_type": "code",
   "execution_count": 2,
   "metadata": {
    "collapsed": true
   },
   "outputs": [],
   "source": [
    "import colorlover as cl\n",
    "colors = [[i / 255 for i in j] for j in cl.to_numeric(cl.scales['5']['qual']['Dark2'])]"
   ]
  },
  {
   "cell_type": "code",
   "execution_count": 3,
   "metadata": {
    "collapsed": true
   },
   "outputs": [],
   "source": [
    "ny_map = pd.read_json(\"ny_map_data_res80.json\")"
   ]
  },
  {
   "cell_type": "code",
   "execution_count": 4,
   "metadata": {
    "collapsed": false
   },
   "outputs": [],
   "source": [
    "county_shapes = pd.read_csv(\"ny_new_county_shapes.csv\")"
   ]
  },
  {
   "cell_type": "code",
   "execution_count": 5,
   "metadata": {
    "collapsed": true
   },
   "outputs": [],
   "source": [
    "ny_map[\"lng_rank\"] = ny_map.lng.rank(method = \"dense\")\n",
    "ny_map[\"lat_rank\"] = ny_map.lat.rank(method = \"dense\")"
   ]
  },
  {
   "cell_type": "code",
   "execution_count": 6,
   "metadata": {
    "collapsed": true
   },
   "outputs": [],
   "source": [
    "ny_map[\"nyc\"] = ny_map.county_name.map(lambda x: x in [\"New York\", \"Bronx\", \"Richmond\", \"Kings\", \"Queens\"])"
   ]
  },
  {
   "cell_type": "code",
   "execution_count": 7,
   "metadata": {
    "collapsed": true
   },
   "outputs": [],
   "source": [
    "ny_map_restricted = ny_map[ny_map.state == \"NY\"]"
   ]
  },
  {
   "cell_type": "code",
   "execution_count": 8,
   "metadata": {
    "collapsed": false
   },
   "outputs": [],
   "source": [
    "ny_map_county_shapes = ny_map_restricted.merge(right = county_shapes, left_on = [\"county_name\"], right_on = [\"county\"], how= \"left\")"
   ]
  },
  {
   "cell_type": "code",
   "execution_count": 9,
   "metadata": {
    "collapsed": false
   },
   "outputs": [
    {
     "data": {
      "text/plain": [
       "Index(['county_name', 'lat', 'lng', 'state', 'lng_rank', 'lat_rank', 'nyc',\n",
       "       'min_lng_rank', 'min_lat_rank', 'max_lng_rank', 'max_lat_rank',\n",
       "       'num_squares', 'county', 'ttl', 'pre_mult', 'mult', 'sqrt_mult',\n",
       "       'mid_lng_rank', 'mid_lat_rank', 'lat_rank_range', 'scaled_min_lat_rank',\n",
       "       'scaled_max_lat_rank', 'lng_rank_range', 'scaled_min_lng_rank',\n",
       "       'scaled_max_lng_rank', 'new_mid_lat_rank', 'new_mid_lng_rank', 'dummy'],\n",
       "      dtype='object')"
      ]
     },
     "execution_count": 9,
     "metadata": {},
     "output_type": "execute_result"
    }
   ],
   "source": [
    "ny_map_county_shapes.columns"
   ]
  },
  {
   "cell_type": "code",
   "execution_count": 10,
   "metadata": {
    "collapsed": false
   },
   "outputs": [],
   "source": [
    "for i in [\"lng\", \"lat\"]:\n",
    "    ny_map_county_shapes[\"{}_mid_diff\".format(i)] = ny_map_county_shapes[\"new_mid_{}_rank\".format(i)] - ny_map_county_shapes[\"mid_{}_rank\".format(i)]\n",
    "    ny_map_county_shapes[\"scaled_{}_rank\".format(i)] = ny_map_county_shapes.apply(\n",
    "        lambda x: x[\"{}_mid_diff\".format(i)] + x[\"{}_rank\".format(i)] + x[\"sqrt_mult\"] * (x[\"{}_rank\".format(i)] - x[\"mid_{}_rank\".format(i)]),\n",
    "        axis = 1)"
   ]
  },
  {
   "cell_type": "code",
   "execution_count": 11,
   "metadata": {
    "collapsed": false
   },
   "outputs": [],
   "source": [
    "def ny_scatter(df):\n",
    "    fig, ax = plt.subplots(figsize = (8, 8))\n",
    "    for ind, county in enumerate(df.county_name.unique()):\n",
    "        county_df = df[df.county_name == county]\n",
    "        ax.scatter(\n",
    "            y = county_df.scaled_lat_rank,\n",
    "            x = county_df.scaled_lng_rank,\n",
    "            s = county_df.sqrt_mult,\n",
    "            marker = \"s\",\n",
    "            label = county,\n",
    "            alpha = 0.7,\n",
    "            color = colors[ind % 5],\n",
    "            edgecolor = \"none\")\n",
    "    # ax.legend(loc = 9, bbox_to_anchor = (0.5,0))\n",
    "    return fig"
   ]
  },
  {
   "cell_type": "code",
   "execution_count": 12,
   "metadata": {
    "collapsed": false
   },
   "outputs": [
    {
     "data": {
      "image/png": "[encoded data removed]",
      "text/plain": [
       "<matplotlib.figure.Figure at 0x7f6d93393588>"
      ]
     },
     "metadata": {
      "needs_background": "light"
     },
     "output_type": "display_data"
    }
   ],
   "source": [
    "fig = ny_scatter(ny_map_county_shapes)"
   ]
  },
  {
   "cell_type": "code",
   "execution_count": null,
   "metadata": {
    "collapsed": true
   },
   "outputs": [],
   "source": []
  }
 ],
 "metadata": {
  "kernelspec": {
   "display_name": "Python 3",
   "language": "python",
   "name": "python3"
  },
  "language_info": {
   "codemirror_mode": {
    "name": "ipython",
    "version": 3
   },
   "file_extension": ".py",
   "mimetype": "text/x-python",
   "name": "python",
   "nbconvert_exporter": "python",
   "pygments_lexer": "ipython3",
   "version": "3.5.4"
  }
 },
 "nbformat": 4,
 "nbformat_minor": 2
}
