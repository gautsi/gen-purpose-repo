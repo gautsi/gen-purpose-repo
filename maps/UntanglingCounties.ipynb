{
 "cells": [
  {
   "cell_type": "code",
   "execution_count": 1,
   "metadata": {
    "collapsed": true
   },
   "outputs": [],
   "source": [
    "import pandas as pd\n",
    "import numpy as np\n",
    "from tqdm import tqdm"
   ]
  },
  {
   "cell_type": "code",
   "execution_count": 2,
   "metadata": {
    "collapsed": true
   },
   "outputs": [],
   "source": [
    "import matplotlib.pyplot as plt\n",
    "import seaborn as sns\n",
    "%matplotlib inline"
   ]
  },
  {
   "cell_type": "code",
   "execution_count": 3,
   "metadata": {
    "collapsed": false
   },
   "outputs": [],
   "source": [
    "county_shapes = pd.read_csv(\"./ny_county_shapes.csv\").set_index(\"county_name\")"
   ]
  },
  {
   "cell_type": "code",
   "execution_count": 4,
   "metadata": {
    "collapsed": false
   },
   "outputs": [
    {
     "data": {
      "text/plain": [
       "62"
      ]
     },
     "execution_count": 4,
     "metadata": {},
     "output_type": "execute_result"
    }
   ],
   "source": [
    "len(county_shapes)"
   ]
  },
  {
   "cell_type": "code",
   "execution_count": 5,
   "metadata": {
    "collapsed": false
   },
   "outputs": [
    {
     "data": {
      "text/plain": [
       "Index(['min_lng_rank', 'min_lat_rank', 'max_lng_rank', 'max_lat_rank',\n",
       "       'num_squares', 'county', 'ttl', 'pre_mult', 'mult', 'sqrt_mult',\n",
       "       'mid_lng_rank', 'mid_lat_rank', 'lat_rank_range', 'scaled_min_lat_rank',\n",
       "       'scaled_max_lat_rank', 'lng_rank_range', 'scaled_min_lng_rank',\n",
       "       'scaled_max_lng_rank'],\n",
       "      dtype='object')"
      ]
     },
     "execution_count": 5,
     "metadata": {},
     "output_type": "execute_result"
    }
   ],
   "source": [
    "county_shapes.columns"
   ]
  },
  {
   "cell_type": "code",
   "execution_count": 6,
   "metadata": {
    "collapsed": false
   },
   "outputs": [],
   "source": [
    "for i in [\"lat\", \"lng\"]:\n",
    "    county_shapes[\"new_mid_{}_rank\".format(i)] = county_shapes[\"mid_{}_rank\".format(i)]"
   ]
  },
  {
   "cell_type": "code",
   "execution_count": 7,
   "metadata": {
    "collapsed": true
   },
   "outputs": [],
   "source": [
    "county_shapes[\"dummy\"] = 1\n",
    "county_pairs = county_shapes[[\"dummy\", \"county\"]].merge(right = county_shapes[[\"dummy\", \"county\"]], on = \"dummy\", how = \"left\")\n",
    "county_pairs = county_pairs[~(county_pairs.county_x == county_pairs.county_y)]"
   ]
  },
  {
   "cell_type": "code",
   "execution_count": 8,
   "metadata": {
    "collapsed": false
   },
   "outputs": [],
   "source": [
    "def rev_pair(l):\n",
    "    return [l, l[::-1]]\n",
    "\n",
    "def check_intersect(row):\n",
    "    return (min(\n",
    "        [row[\"scaled_min_{}_rank_{}\".format(i, j[0])] <= row[\"scaled_max_{}_rank_{}\".format(i, j[1])]\n",
    "        for i in [\"lng\", \"lat\"] for j in rev_pair([\"x\", \"y\"])]))\n",
    "\n",
    "def dist(x1, y1, x2, y2):\n",
    "    return np.sqrt(np.power(x1 - x2, 2) + np.power(y1 - y2, 2))\n",
    "\n",
    "def move(x1, y1, x2, y2, move_dist):\n",
    "    d = dist(x1, x2, y1, y2)\n",
    "    dist_ratio = 1.0 * (d + move_dist) / d\n",
    "    new_x1 = x2 + dist_ratio * (x1 - x2)\n",
    "    new_y1 = y2 + dist_ratio * (y1 - y2)\n",
    "    new_x2 = x1 + dist_ratio * (x2 - x1)\n",
    "    new_y2 = y1 + dist_ratio * (y2 - y1)\n",
    "    return new_x1, new_y1, new_x2, new_y2\n",
    "\n",
    "def move_row(row, move_dist):\n",
    "    return move(*([row[\"new_mid_{}_rank_{}\".format(i, j)] for j in [\"x\", \"y\"] for i in [\"lat\", \"lng\"]] + [move_dist]))\n",
    "\n",
    "\n",
    "\n",
    "def untangle(county_shapes, move_dist, county_x, county_y):\n",
    "    county_shapes[\"dummy\"] = 1\n",
    "    county_shapes_join = county_shapes.merge(right = county_shapes, on = \"dummy\", how = \"left\")\n",
    "    county_shapes_join_diff = county_shapes_join[~(county_shapes_join.county_x == county_shapes_join.county_y)]\n",
    "    \n",
    "    row = county_shapes_join_diff[(county_shapes_join_diff.county_x == county_x) & (county_shapes_join_diff.county_y == county_y)].iloc[0]\n",
    "    if check_intersect(row):\n",
    "        # print(\"intersects: {} and {}\".format(rand_row[\"county_x\"], rand_row[\"county_y\"]))\n",
    "        new_centers = move_row(row, move_dist)\n",
    "        \n",
    "        # move the smaller county\n",
    "        # if rand_row[\"mult_x\"] > rand_row[\"mult_y\"]:\n",
    "        #     s = 1\n",
    "        #     i = \"y\"\n",
    "        # else:\n",
    "        #     s = 0\n",
    "        #     i = \"x\"\n",
    "        for s, i in enumerate([\"x\", \"y\"]):\n",
    "            for t, j in enumerate([\"lat\", \"lng\"]):\n",
    "                old_value = county_shapes.at[row[\"county_{}\".format(i)], \"new_mid_{}_rank\".format(j)]\n",
    "                new_value = new_centers[2 * s + t]\n",
    "                # print(\"old: {} new: {}\".format(old_value, new_value))\n",
    "                county_name = row[\"county_{}\".format(i)]\n",
    "                county_shapes.at[county_name, \"new_mid_{}_rank\".format(j)] = new_centers[2 * s + t]\n",
    "\n",
    "                # update mins and maxes\n",
    "                for u, k in enumerate([\"min\", \"max\"]):\n",
    "                    county_shapes.at[county_name, \"scaled_{}_{}_rank\".format(k, j)] = (\n",
    "                        county_shapes.at[county_name, \"new_mid_{}_rank\".format(j)] +\n",
    "                        ((2 * u - 1) * county_shapes.at[county_name, \"sqrt_mult\"] *\n",
    "                        county_shapes.at[county_name, \"{}_rank_range\".format(j)] / 2))\n",
    "        return [row[\"county_x\"], row[\"county_y\"]]\n",
    "    else:\n",
    "        return [\"\", \"\"]"
   ]
  },
  {
   "cell_type": "code",
   "execution_count": 16,
   "metadata": {
    "collapsed": false
   },
   "outputs": [
    {
     "name": "stderr",
     "output_type": "stream",
     "text": [
      "100%|██████████| 100000/100000 [20:30<00:00, 81.25it/s]\n"
     ]
    }
   ],
   "source": [
    "untangles = []\n",
    "num_pairs = len(county_pairs)\n",
    "for i in tqdm(range(100000)):\n",
    "    county_pair = county_pairs.iloc[i % num_pairs]\n",
    "    untangles.append(untangle(county_shapes, 1, county_pair.county_x, county_pair.county_y) + [i + 1])"
   ]
  },
  {
   "cell_type": "code",
   "execution_count": 17,
   "metadata": {
    "collapsed": false
   },
   "outputs": [
    {
     "data": {
      "text/plain": [
       "<matplotlib.axes._subplots.AxesSubplot at 0x7f94c53224e0>"
      ]
     },
     "execution_count": 17,
     "metadata": {},
     "output_type": "execute_result"
    },
    {
     "data": {
      "image/png": "[encoded data removed]",
      "text/plain": [
       "<matplotlib.figure.Figure at 0x7f94c536af98>"
      ]
     },
     "metadata": {
      "needs_background": "light"
     },
     "output_type": "display_data"
    }
   ],
   "source": [
    "untangles_df = pd.DataFrame(untangles, columns = [\"county_x\", \"county_y\", \"iteration\"])\n",
    "untangles_df[\"intersect\"] = untangles_df.county_x.map(lambda x: not x == \"\")\n",
    "untangles_df[\"num_inter\"] = untangles_df.intersect.cumsum()\n",
    "untangles_df[\"pcnt_inter\"] = untangles_df.num_inter / untangles_df.iteration\n",
    "untangles_df.pcnt_inter.plot()"
   ]
  },
  {
   "cell_type": "code",
   "execution_count": 18,
   "metadata": {
    "collapsed": true
   },
   "outputs": [],
   "source": [
    "orig_county_shapes = pd.read_csv(\"./ny_county_shapes.csv\").set_index(\"county_name\")"
   ]
  },
  {
   "cell_type": "code",
   "execution_count": 19,
   "metadata": {
    "collapsed": true
   },
   "outputs": [],
   "source": [
    "cols = [\"scaled_{}_{}_rank\".format(i, j) for i in [\"min\", \"max\"] for j in [\"lat\", \"lng\"]] + [\"mid_{}_rank\".format(j) for j in [\"lat\", \"lng\"]]"
   ]
  },
  {
   "cell_type": "code",
   "execution_count": 20,
   "metadata": {
    "collapsed": false
   },
   "outputs": [
    {
     "data": {
      "text/html": [
       "<div>\n",
       "<style scoped>\n",
       "    .dataframe tbody tr th:only-of-type {\n",
       "        vertical-align: middle;\n",
       "    }\n",
       "\n",
       "    .dataframe tbody tr th {\n",
       "        vertical-align: top;\n",
       "    }\n",
       "\n",
       "    .dataframe thead th {\n",
       "        text-align: right;\n",
       "    }\n",
       "</style>\n",
       "<table border=\"1\" class=\"dataframe\">\n",
       "  <thead>\n",
       "    <tr style=\"text-align: right;\">\n",
       "      <th></th>\n",
       "      <th>scaled_min_lat_rank</th>\n",
       "      <th>scaled_min_lng_rank</th>\n",
       "      <th>scaled_max_lat_rank</th>\n",
       "      <th>scaled_max_lng_rank</th>\n",
       "      <th>mid_lat_rank</th>\n",
       "      <th>mid_lng_rank</th>\n",
       "    </tr>\n",
       "    <tr>\n",
       "      <th>county_name</th>\n",
       "      <th></th>\n",
       "      <th></th>\n",
       "      <th></th>\n",
       "      <th></th>\n",
       "      <th></th>\n",
       "      <th></th>\n",
       "    </tr>\n",
       "  </thead>\n",
       "  <tbody>\n",
       "    <tr>\n",
       "      <th>Albany</th>\n",
       "      <td>-24.308027</td>\n",
       "      <td>7.493311</td>\n",
       "      <td>99.308027</td>\n",
       "      <td>110.506689</td>\n",
       "      <td>37.5</td>\n",
       "      <td>59.0</td>\n",
       "    </tr>\n",
       "    <tr>\n",
       "      <th>Allegany</th>\n",
       "      <td>17.477854</td>\n",
       "      <td>9.818570</td>\n",
       "      <td>46.522146</td>\n",
       "      <td>29.181430</td>\n",
       "      <td>32.0</td>\n",
       "      <td>19.5</td>\n",
       "    </tr>\n",
       "    <tr>\n",
       "      <th>Bronx</th>\n",
       "      <td>-146.523147</td>\n",
       "      <td>-17.011574</td>\n",
       "      <td>161.523147</td>\n",
       "      <td>137.011574</td>\n",
       "      <td>7.5</td>\n",
       "      <td>60.0</td>\n",
       "    </tr>\n",
       "    <tr>\n",
       "      <th>Broome</th>\n",
       "      <td>-6.285955</td>\n",
       "      <td>3.714045</td>\n",
       "      <td>68.285955</td>\n",
       "      <td>78.285955</td>\n",
       "      <td>31.0</td>\n",
       "      <td>41.0</td>\n",
       "    </tr>\n",
       "    <tr>\n",
       "      <th>Cattaraugus</th>\n",
       "      <td>16.060458</td>\n",
       "      <td>-1.668482</td>\n",
       "      <td>47.939542</td>\n",
       "      <td>26.668482</td>\n",
       "      <td>32.0</td>\n",
       "      <td>12.5</td>\n",
       "    </tr>\n",
       "  </tbody>\n",
       "</table>\n",
       "</div>"
      ],
      "text/plain": [
       "             scaled_min_lat_rank  scaled_min_lng_rank  scaled_max_lat_rank  \\\n",
       "county_name                                                                  \n",
       "Albany                -24.308027             7.493311            99.308027   \n",
       "Allegany               17.477854             9.818570            46.522146   \n",
       "Bronx                -146.523147           -17.011574           161.523147   \n",
       "Broome                 -6.285955             3.714045            68.285955   \n",
       "Cattaraugus            16.060458            -1.668482            47.939542   \n",
       "\n",
       "             scaled_max_lng_rank  mid_lat_rank  mid_lng_rank  \n",
       "county_name                                                   \n",
       "Albany                110.506689          37.5          59.0  \n",
       "Allegany               29.181430          32.0          19.5  \n",
       "Bronx                 137.011574           7.5          60.0  \n",
       "Broome                 78.285955          31.0          41.0  \n",
       "Cattaraugus            26.668482          32.0          12.5  "
      ]
     },
     "execution_count": 20,
     "metadata": {},
     "output_type": "execute_result"
    }
   ],
   "source": [
    "orig_county_shapes[cols].head()"
   ]
  },
  {
   "cell_type": "code",
   "execution_count": 21,
   "metadata": {
    "collapsed": false
   },
   "outputs": [
    {
     "data": {
      "text/html": [
       "<div>\n",
       "<style scoped>\n",
       "    .dataframe tbody tr th:only-of-type {\n",
       "        vertical-align: middle;\n",
       "    }\n",
       "\n",
       "    .dataframe tbody tr th {\n",
       "        vertical-align: top;\n",
       "    }\n",
       "\n",
       "    .dataframe thead th {\n",
       "        text-align: right;\n",
       "    }\n",
       "</style>\n",
       "<table border=\"1\" class=\"dataframe\">\n",
       "  <thead>\n",
       "    <tr style=\"text-align: right;\">\n",
       "      <th></th>\n",
       "      <th>scaled_min_lat_rank</th>\n",
       "      <th>scaled_min_lng_rank</th>\n",
       "      <th>scaled_max_lat_rank</th>\n",
       "      <th>scaled_max_lng_rank</th>\n",
       "      <th>mid_lat_rank</th>\n",
       "      <th>mid_lng_rank</th>\n",
       "    </tr>\n",
       "    <tr>\n",
       "      <th>county_name</th>\n",
       "      <th></th>\n",
       "      <th></th>\n",
       "      <th></th>\n",
       "      <th></th>\n",
       "      <th></th>\n",
       "      <th></th>\n",
       "    </tr>\n",
       "  </thead>\n",
       "  <tbody>\n",
       "    <tr>\n",
       "      <th>Albany</th>\n",
       "      <td>40.567916</td>\n",
       "      <td>147.591407</td>\n",
       "      <td>164.183969</td>\n",
       "      <td>250.604784</td>\n",
       "      <td>37.5</td>\n",
       "      <td>59.0</td>\n",
       "    </tr>\n",
       "    <tr>\n",
       "      <th>Allegany</th>\n",
       "      <td>-17.041263</td>\n",
       "      <td>-40.840356</td>\n",
       "      <td>12.003029</td>\n",
       "      <td>-21.477495</td>\n",
       "      <td>32.0</td>\n",
       "      <td>19.5</td>\n",
       "    </tr>\n",
       "    <tr>\n",
       "      <th>Bronx</th>\n",
       "      <td>-384.625064</td>\n",
       "      <td>60.016644</td>\n",
       "      <td>-76.578770</td>\n",
       "      <td>214.039791</td>\n",
       "      <td>7.5</td>\n",
       "      <td>60.0</td>\n",
       "    </tr>\n",
       "    <tr>\n",
       "      <th>Broome</th>\n",
       "      <td>-145.915376</td>\n",
       "      <td>-69.539215</td>\n",
       "      <td>-71.343467</td>\n",
       "      <td>5.032695</td>\n",
       "      <td>31.0</td>\n",
       "      <td>41.0</td>\n",
       "    </tr>\n",
       "    <tr>\n",
       "      <th>Cattaraugus</th>\n",
       "      <td>21.859438</td>\n",
       "      <td>-49.484011</td>\n",
       "      <td>53.738522</td>\n",
       "      <td>-21.147047</td>\n",
       "      <td>32.0</td>\n",
       "      <td>12.5</td>\n",
       "    </tr>\n",
       "  </tbody>\n",
       "</table>\n",
       "</div>"
      ],
      "text/plain": [
       "             scaled_min_lat_rank  scaled_min_lng_rank  scaled_max_lat_rank  \\\n",
       "county_name                                                                  \n",
       "Albany                 40.567916           147.591407           164.183969   \n",
       "Allegany              -17.041263           -40.840356            12.003029   \n",
       "Bronx                -384.625064            60.016644           -76.578770   \n",
       "Broome               -145.915376           -69.539215           -71.343467   \n",
       "Cattaraugus            21.859438           -49.484011            53.738522   \n",
       "\n",
       "             scaled_max_lng_rank  mid_lat_rank  mid_lng_rank  \n",
       "county_name                                                   \n",
       "Albany                250.604784          37.5          59.0  \n",
       "Allegany              -21.477495          32.0          19.5  \n",
       "Bronx                 214.039791           7.5          60.0  \n",
       "Broome                  5.032695          31.0          41.0  \n",
       "Cattaraugus           -21.147047          32.0          12.5  "
      ]
     },
     "execution_count": 21,
     "metadata": {},
     "output_type": "execute_result"
    }
   ],
   "source": [
    "county_shapes[cols].head()"
   ]
  },
  {
   "cell_type": "code",
   "execution_count": 22,
   "metadata": {
    "collapsed": false
   },
   "outputs": [
    {
     "data": {
      "text/plain": [
       "<matplotlib.collections.PathCollection at 0x7f94c525a5c0>"
      ]
     },
     "execution_count": 22,
     "metadata": {},
     "output_type": "execute_result"
    },
    {
     "data": {
      "image/png": "[encoded data removed]",
      "text/plain": [
       "<matplotlib.figure.Figure at 0x7f94c5560dd8>"
      ]
     },
     "metadata": {
      "needs_background": "light"
     },
     "output_type": "display_data"
    }
   ],
   "source": [
    "fig, ax = plt.subplots(figsize = (5, 5))\n",
    "ax.scatter(x = county_shapes.new_mid_lng_rank, y = county_shapes.new_mid_lat_rank, c = \"blue\", marker = \"s\", s = 200, alpha = 0.2)\n",
    "ax.scatter(x = orig_county_shapes.mid_lng_rank, y = orig_county_shapes.mid_lat_rank, c = \"red\", marker = \"s\", s = 200, alpha = 0.2)"
   ]
  },
  {
   "cell_type": "code",
   "execution_count": 23,
   "metadata": {
    "collapsed": true
   },
   "outputs": [],
   "source": [
    "county_shapes.to_csv(\"./ny_new_county_shapes.csv\", index = False)"
   ]
  },
  {
   "cell_type": "code",
   "execution_count": null,
   "metadata": {
    "collapsed": true
   },
   "outputs": [],
   "source": []
  }
 ],
 "metadata": {
  "kernelspec": {
   "display_name": "Python 3",
   "language": "python",
   "name": "python3"
  },
  "language_info": {
   "codemirror_mode": {
    "name": "ipython",
    "version": 3
   },
   "file_extension": ".py",
   "mimetype": "text/x-python",
   "name": "python",
   "nbconvert_exporter": "python",
   "pygments_lexer": "ipython3",
   "version": "3.5.4"
  }
 },
 "nbformat": 4,
 "nbformat_minor": 2
}
