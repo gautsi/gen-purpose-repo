{
 "cells": [
  {
   "cell_type": "code",
   "execution_count": 105,
   "metadata": {
    "collapsed": true
   },
   "outputs": [],
   "source": [
    "import pandas as pd\n",
    "import numpy as np\n",
    "from tqdm import tqdm"
   ]
  },
  {
   "cell_type": "code",
   "execution_count": 6,
   "metadata": {
    "collapsed": true
   },
   "outputs": [],
   "source": [
    "import matplotlib.pyplot as plt\n",
    "import seaborn as sns\n",
    "%matplotlib inline"
   ]
  },
  {
   "cell_type": "code",
   "execution_count": 139,
   "metadata": {
    "collapsed": true
   },
   "outputs": [],
   "source": [
    "county_shapes = pd.read_csv(\"./ny_county_shapes.csv\").set_index(\"county_name\").iloc[:2]"
   ]
  },
  {
   "cell_type": "code",
   "execution_count": 140,
   "metadata": {
    "collapsed": false
   },
   "outputs": [
    {
     "data": {
      "text/plain": [
       "2"
      ]
     },
     "execution_count": 140,
     "metadata": {},
     "output_type": "execute_result"
    }
   ],
   "source": [
    "len(county_shapes)"
   ]
  },
  {
   "cell_type": "code",
   "execution_count": 141,
   "metadata": {
    "collapsed": false
   },
   "outputs": [],
   "source": [
    "def rev_pair(l):\n",
    "    return [l, l[::-1]]\n",
    "\n",
    "def check_intersect(row):\n",
    "    return (min(\n",
    "        [row[\"scaled_min_{}_rank_{}\".format(i, j[0])] <= row[\"scaled_max_{}_rank_{}\".format(i, j[1])]\n",
    "        for i in [\"lng\", \"lat\"] for j in rev_pair([\"x\", \"y\"])]))\n",
    "\n",
    "def dist(x1, y1, x2, y2):\n",
    "    return np.sqrt(np.power(x1 - x2, 2) + np.power(y1 - y2, 2))\n",
    "\n",
    "def move(x1, y1, x2, y2, move_dist):\n",
    "    d = dist(x1, x2, y1, y2)\n",
    "    dist_ratio = 1.0 * (d + move_dist) / d\n",
    "    new_x1 = x2 + dist_ratio * (x1 - x2)\n",
    "    new_y1 = y2 + dist_ratio * (y1 - y2)\n",
    "    new_x2 = x1 + dist_ratio * (x2 - x1)\n",
    "    new_y2 = y1 + dist_ratio * (y2 - y1)\n",
    "    return new_x1, new_y1, new_x2, new_y2\n",
    "\n",
    "def move_row(row, move_dist):\n",
    "    return move(*([row[\"mid_{}_rank_{}\".format(i, j)] for j in [\"x\", \"y\"] for i in [\"lat\", \"lng\"]] + [move_dist]))\n",
    "\n",
    "def untangle(county_shapes, move_dist):\n",
    "    county_shapes[\"dummy\"] = 1\n",
    "    county_shapes_join = county_shapes.merge(right = county_shapes, on = \"dummy\", how = \"left\")\n",
    "    county_shapes_join_diff = county_shapes_join[~(county_shapes_join.county_x == county_shapes_join.county_y)]\n",
    "    \n",
    "    rand_row = county_shapes_join_diff.sample().iloc[0]\n",
    "    if check_intersect(rand_row):\n",
    "        # print(\"intersects: {} and {}\".format(rand_row[\"county_x\"], rand_row[\"county_y\"]))\n",
    "        new_centers = move_row(rand_row, move_dist)\n",
    "        for s, i in enumerate([\"x\", \"y\"]):\n",
    "            for t, j in enumerate([\"lat\", \"lng\"]):\n",
    "                old_value = county_shapes.at[rand_row[\"county_{}\".format(i)], \"mid_{}_rank\".format(j)]\n",
    "                new_value = new_centers[2 * s + t]\n",
    "                # print(\"old: {} new: {}\".format(old_value, new_value))\n",
    "                county_shapes.at[rand_row[\"county_{}\".format(i)], \"mid_{}_rank\".format(j)] = new_centers[2 * s + t]"
   ]
  },
  {
   "cell_type": "markdown",
   "metadata": {},
   "source": [
    "You also have to recalculate mins and maxes!"
   ]
  },
  {
   "cell_type": "code",
   "execution_count": 142,
   "metadata": {
    "collapsed": false
   },
   "outputs": [
    {
     "name": "stderr",
     "output_type": "stream",
     "text": [
      "100%|██████████| 1000/1000 [00:07<00:00, 140.82it/s]\n"
     ]
    }
   ],
   "source": [
    "for i in tqdm(range(1000)):\n",
    "    untangle(county_shapes, 10)"
   ]
  },
  {
   "cell_type": "code",
   "execution_count": 143,
   "metadata": {
    "collapsed": true
   },
   "outputs": [],
   "source": [
    "orig_county_shapes = pd.read_csv(\"./ny_county_shapes.csv\").set_index(\"county_name\").iloc[:2]"
   ]
  },
  {
   "cell_type": "code",
   "execution_count": 144,
   "metadata": {
    "collapsed": false
   },
   "outputs": [
    {
     "data": {
      "text/plain": [
       "<matplotlib.collections.PathCollection at 0x7f597d7a3438>"
      ]
     },
     "execution_count": 144,
     "metadata": {},
     "output_type": "execute_result"
    },
    {
     "data": {
      "image/png": "[encoded data removed]",
      "text/plain": [
       "<matplotlib.figure.Figure at 0x7f597d92c470>"
      ]
     },
     "metadata": {
      "needs_background": "light"
     },
     "output_type": "display_data"
    }
   ],
   "source": [
    "fig, ax = plt.subplots(figsize = (5, 5))\n",
    "ax.scatter(x = county_shapes.mid_lng_rank, y = county_shapes.mid_lat_rank, c = \"blue\", marker = \"s\", s = 200, alpha = 0.5)\n",
    "ax.scatter(x = orig_county_shapes.mid_lng_rank, y = orig_county_shapes.mid_lat_rank, c = \"red\", marker = \"s\", s = 200, alpha = 0.5)"
   ]
  },
  {
   "cell_type": "code",
   "execution_count": 145,
   "metadata": {
    "collapsed": false
   },
   "outputs": [
    {
     "data": {
      "text/html": [
       "<div>\n",
       "<style scoped>\n",
       "    .dataframe tbody tr th:only-of-type {\n",
       "        vertical-align: middle;\n",
       "    }\n",
       "\n",
       "    .dataframe tbody tr th {\n",
       "        vertical-align: top;\n",
       "    }\n",
       "\n",
       "    .dataframe thead th {\n",
       "        text-align: right;\n",
       "    }\n",
       "</style>\n",
       "<table border=\"1\" class=\"dataframe\">\n",
       "  <thead>\n",
       "    <tr style=\"text-align: right;\">\n",
       "      <th></th>\n",
       "      <th>min_lng_rank</th>\n",
       "      <th>min_lat_rank</th>\n",
       "      <th>max_lng_rank</th>\n",
       "      <th>max_lat_rank</th>\n",
       "      <th>num_squares</th>\n",
       "      <th>county</th>\n",
       "      <th>ttl</th>\n",
       "      <th>pre_mult</th>\n",
       "      <th>mult</th>\n",
       "      <th>sqrt_mult</th>\n",
       "      <th>mid_lng_rank</th>\n",
       "      <th>mid_lat_rank</th>\n",
       "      <th>lat_rank_range</th>\n",
       "      <th>scaled_min_lat_rank</th>\n",
       "      <th>scaled_max_lat_rank</th>\n",
       "      <th>lng_rank_range</th>\n",
       "      <th>scaled_min_lng_rank</th>\n",
       "      <th>scaled_max_lng_rank</th>\n",
       "      <th>dummy</th>\n",
       "    </tr>\n",
       "    <tr>\n",
       "      <th>county_name</th>\n",
       "      <th></th>\n",
       "      <th></th>\n",
       "      <th></th>\n",
       "      <th></th>\n",
       "      <th></th>\n",
       "      <th></th>\n",
       "      <th></th>\n",
       "      <th></th>\n",
       "      <th></th>\n",
       "      <th></th>\n",
       "      <th></th>\n",
       "      <th></th>\n",
       "      <th></th>\n",
       "      <th></th>\n",
       "      <th></th>\n",
       "      <th></th>\n",
       "      <th></th>\n",
       "      <th></th>\n",
       "      <th></th>\n",
       "    </tr>\n",
       "  </thead>\n",
       "  <tbody>\n",
       "    <tr>\n",
       "      <th>Albany</th>\n",
       "      <td>57.0</td>\n",
       "      <td>35.0</td>\n",
       "      <td>61.0</td>\n",
       "      <td>40.0</td>\n",
       "      <td>24</td>\n",
       "      <td>Albany</td>\n",
       "      <td>27049</td>\n",
       "      <td>1127.041667</td>\n",
       "      <td>424.470238</td>\n",
       "      <td>20.602676</td>\n",
       "      <td>16487.804939</td>\n",
       "      <td>2325.055118</td>\n",
       "      <td>6.0</td>\n",
       "      <td>-24.308027</td>\n",
       "      <td>99.308027</td>\n",
       "      <td>5.0</td>\n",
       "      <td>7.493311</td>\n",
       "      <td>110.506689</td>\n",
       "      <td>1</td>\n",
       "    </tr>\n",
       "    <tr>\n",
       "      <th>Allegany</th>\n",
       "      <td>17.0</td>\n",
       "      <td>28.0</td>\n",
       "      <td>22.0</td>\n",
       "      <td>36.0</td>\n",
       "      <td>46</td>\n",
       "      <td>Allegany</td>\n",
       "      <td>1272</td>\n",
       "      <td>27.652174</td>\n",
       "      <td>10.414455</td>\n",
       "      <td>3.227143</td>\n",
       "      <td>-16409.304939</td>\n",
       "      <td>-2255.555118</td>\n",
       "      <td>9.0</td>\n",
       "      <td>17.477854</td>\n",
       "      <td>46.522146</td>\n",
       "      <td>6.0</td>\n",
       "      <td>9.818570</td>\n",
       "      <td>29.181430</td>\n",
       "      <td>1</td>\n",
       "    </tr>\n",
       "  </tbody>\n",
       "</table>\n",
       "</div>"
      ],
      "text/plain": [
       "             min_lng_rank  min_lat_rank  max_lng_rank  max_lat_rank  \\\n",
       "county_name                                                           \n",
       "Albany               57.0          35.0          61.0          40.0   \n",
       "Allegany             17.0          28.0          22.0          36.0   \n",
       "\n",
       "             num_squares    county    ttl     pre_mult        mult  sqrt_mult  \\\n",
       "county_name                                                                     \n",
       "Albany                24    Albany  27049  1127.041667  424.470238  20.602676   \n",
       "Allegany              46  Allegany   1272    27.652174   10.414455   3.227143   \n",
       "\n",
       "             mid_lng_rank  mid_lat_rank  lat_rank_range  scaled_min_lat_rank  \\\n",
       "county_name                                                                    \n",
       "Albany       16487.804939   2325.055118             6.0           -24.308027   \n",
       "Allegany    -16409.304939  -2255.555118             9.0            17.477854   \n",
       "\n",
       "             scaled_max_lat_rank  lng_rank_range  scaled_min_lng_rank  \\\n",
       "county_name                                                             \n",
       "Albany                 99.308027             5.0             7.493311   \n",
       "Allegany               46.522146             6.0             9.818570   \n",
       "\n",
       "             scaled_max_lng_rank  dummy  \n",
       "county_name                              \n",
       "Albany                110.506689      1  \n",
       "Allegany               29.181430      1  "
      ]
     },
     "execution_count": 145,
     "metadata": {},
     "output_type": "execute_result"
    }
   ],
   "source": [
    "county_shapes"
   ]
  },
  {
   "cell_type": "code",
   "execution_count": null,
   "metadata": {
    "collapsed": true
   },
   "outputs": [],
   "source": []
  }
 ],
 "metadata": {
  "kernelspec": {
   "display_name": "Python 3",
   "language": "python",
   "name": "python3"
  },
  "language_info": {
   "codemirror_mode": {
    "name": "ipython",
    "version": 3
   },
   "file_extension": ".py",
   "mimetype": "text/x-python",
   "name": "python",
   "nbconvert_exporter": "python",
   "pygments_lexer": "ipython3",
   "version": "3.5.4"
  }
 },
 "nbformat": 4,
 "nbformat_minor": 2
}
