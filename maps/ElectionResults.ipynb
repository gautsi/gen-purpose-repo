{
 "cells": [
  {
   "cell_type": "code",
   "execution_count": 1,
   "metadata": {
    "collapsed": false
   },
   "outputs": [],
   "source": [
    "from bs4 import BeautifulSoup\n",
    "import urllib.request\n",
    "import re"
   ]
  },
  {
   "cell_type": "code",
   "execution_count": 2,
   "metadata": {
    "collapsed": true
   },
   "outputs": [],
   "source": [
    "import pandas as pd"
   ]
  },
  {
   "cell_type": "code",
   "execution_count": 3,
   "metadata": {
    "collapsed": false
   },
   "outputs": [],
   "source": [
    "fp = urllib.request.urlopen(\"http://www.elections.ny.gov/ENR/NYSENRAccessible.html\")\n",
    "mybytes = fp.read()\n",
    "\n",
    "mystr = mybytes.decode(\"utf8\")\n",
    "fp.close()"
   ]
  },
  {
   "cell_type": "code",
   "execution_count": 4,
   "metadata": {
    "collapsed": false
   },
   "outputs": [
    {
     "data": {
      "text/plain": [
       "962853"
      ]
     },
     "execution_count": 4,
     "metadata": {},
     "output_type": "execute_result"
    }
   ],
   "source": [
    "len(mystr)"
   ]
  },
  {
   "cell_type": "code",
   "execution_count": 5,
   "metadata": {
    "collapsed": true
   },
   "outputs": [],
   "source": [
    "soup = BeautifulSoup(mystr, 'html.parser')"
   ]
  },
  {
   "cell_type": "code",
   "execution_count": 6,
   "metadata": {
    "collapsed": false
   },
   "outputs": [],
   "source": [
    "info = [{\n",
    "    \"h4\": h.text.strip(),\n",
    "    \"p\": h.find_next(\"p\").text.strip(),\n",
    "    \"table\": h.find_next(\"table\").text.strip(),\n",
    "    \"rows\": [[j.text.strip() for j in i.find_all(\"td\")] for i in h.find_next(\"table\").find_all(\"tr\")]} for h in soup.find_all(\"h4\")]"
   ]
  },
  {
   "cell_type": "code",
   "execution_count": 7,
   "metadata": {
    "collapsed": true
   },
   "outputs": [
    {
     "data": {
      "text/plain": [
       "{'Attorney General\\xa0DEM Primary',\n",
       " 'Attorney General\\xa0REF Primary',\n",
       " 'Governor\\xa0DEM Primary',\n",
       " 'Lt. Governor\\xa0DEM Primary',\n",
       " 'State Assembly\\xa0CON Primary > 118th Assembly District',\n",
       " 'State Assembly\\xa0CON Primary > 142nd Assembly District',\n",
       " 'State Assembly\\xa0CON Primary > 62nd Assembly District',\n",
       " 'State Assembly\\xa0DEM Primary > 104th Assembly District',\n",
       " 'State Assembly\\xa0DEM Primary > 107th Assembly District',\n",
       " 'State Assembly\\xa0DEM Primary > 121st Assembly District',\n",
       " 'State Assembly\\xa0DEM Primary > 124th Assembly District',\n",
       " 'State Assembly\\xa0DEM Primary > 136th Assembly District',\n",
       " 'State Assembly\\xa0DEM Primary > 137th Assembly District',\n",
       " 'State Assembly\\xa0DEM Primary > 18th Assembly District',\n",
       " 'State Assembly\\xa0DEM Primary > 20th Assembly District',\n",
       " 'State Assembly\\xa0DEM Primary > 30th Assembly District',\n",
       " 'State Assembly\\xa0DEM Primary > 33rd Assembly District',\n",
       " 'State Assembly\\xa0DEM Primary > 39th Assembly District',\n",
       " 'State Assembly\\xa0DEM Primary > 42nd Assembly District',\n",
       " 'State Assembly\\xa0DEM Primary > 46th Assembly District',\n",
       " 'State Assembly\\xa0DEM Primary > 53rd Assembly District',\n",
       " 'State Assembly\\xa0DEM Primary > 60th Assembly District',\n",
       " 'State Assembly\\xa0DEM Primary > 61st Assembly District',\n",
       " 'State Assembly\\xa0DEM Primary > 68th Assembly District',\n",
       " 'State Assembly\\xa0DEM Primary > 69th Assembly District',\n",
       " 'State Assembly\\xa0DEM Primary > 71st Assembly District',\n",
       " 'State Assembly\\xa0DEM Primary > 72nd Assembly District',\n",
       " 'State Assembly\\xa0DEM Primary > 74th Assembly District',\n",
       " 'State Assembly\\xa0DEM Primary > 84th Assembly District',\n",
       " 'State Assembly\\xa0DEM Primary > 87th Assembly District',\n",
       " 'State Assembly\\xa0GRE Primary > 107th Assembly District',\n",
       " 'State Assembly\\xa0GRE Primary > 111th Assembly District',\n",
       " 'State Assembly\\xa0GRE Primary > 28th Assembly District',\n",
       " 'State Assembly\\xa0GRE Primary > 90th Assembly District',\n",
       " 'State Assembly\\xa0IND Primary > 106th Assembly District',\n",
       " 'State Assembly\\xa0IND Primary > 142nd Assembly District',\n",
       " 'State Assembly\\xa0IND Primary > 28th Assembly District',\n",
       " 'State Assembly\\xa0IND Primary > 43rd Assembly District',\n",
       " 'State Assembly\\xa0IND Primary > 73rd Assembly District',\n",
       " 'State Assembly\\xa0REF Primary > 110th Assembly District',\n",
       " 'State Assembly\\xa0REF Primary > 144th Assembly District',\n",
       " 'State Assembly\\xa0REF Primary > 17th Assembly District',\n",
       " 'State Assembly\\xa0REF Primary > 20th Assembly District',\n",
       " 'State Assembly\\xa0REF Primary > 21st Assembly District',\n",
       " 'State Assembly\\xa0REF Primary > 23rd Assembly District',\n",
       " 'State Assembly\\xa0REF Primary > 24th Assembly District',\n",
       " 'State Assembly\\xa0REF Primary > 25th Assembly District',\n",
       " 'State Assembly\\xa0REF Primary > 27th Assembly District',\n",
       " 'State Assembly\\xa0REF Primary > 32nd Assembly District',\n",
       " 'State Assembly\\xa0REF Primary > 33rd Assembly District',\n",
       " 'State Assembly\\xa0REF Primary > 34th Assembly District',\n",
       " 'State Assembly\\xa0REF Primary > 35th Assembly District',\n",
       " 'State Assembly\\xa0REF Primary > 37th Assembly District',\n",
       " 'State Assembly\\xa0REF Primary > 40th Assembly District',\n",
       " 'State Assembly\\xa0REF Primary > 62nd Assembly District',\n",
       " 'State Assembly\\xa0REF Primary > 63rd Assembly District',\n",
       " 'State Assembly\\xa0REF Primary > 64th Assembly District',\n",
       " 'State Assembly\\xa0REF Primary > 65th Assembly District',\n",
       " 'State Assembly\\xa0REF Primary > 66th Assembly District',\n",
       " 'State Assembly\\xa0REF Primary > 97th Assembly District',\n",
       " 'State Assembly\\xa0REP Primary > 118th Assembly District',\n",
       " 'State Assembly\\xa0REP Primary > 119th Assembly District',\n",
       " 'State Assembly\\xa0REP Primary > 122nd Assembly District',\n",
       " 'State Assembly\\xa0REP Primary > 133rd Assembly District',\n",
       " 'State Assembly\\xa0REP Primary > 142nd Assembly District',\n",
       " 'State Assembly\\xa0REP Primary > 17th Assembly District',\n",
       " 'State Assembly\\xa0REP Primary > 2nd Assembly District',\n",
       " 'State Assembly\\xa0REP Primary > 62nd Assembly District',\n",
       " 'State Assembly\\xa0WEP Primary > 106th Assembly District',\n",
       " 'State Assembly\\xa0WEP Primary > 28th Assembly District',\n",
       " 'State Assembly\\xa0WEP Primary > 30th Assembly District',\n",
       " 'State Assembly\\xa0WEP Primary > 46th Assembly District',\n",
       " 'State Assembly\\xa0WEP Primary > 7th Assembly District',\n",
       " 'State Assembly\\xa0WEP Primary > 90th Assembly District',\n",
       " 'State Assembly\\xa0WOR Primary > 28th Assembly District',\n",
       " 'State Assembly\\xa0WOR Primary > 66th Assembly District',\n",
       " 'State Assembly\\xa0WOR Primary > 90th Assembly District',\n",
       " 'State Senate\\xa0DEM Primary > 11th Senate District',\n",
       " 'State Senate\\xa0DEM Primary > 13th Senate District',\n",
       " 'State Senate\\xa0DEM Primary > 17th Senate District',\n",
       " 'State Senate\\xa0DEM Primary > 18th Senate District',\n",
       " 'State Senate\\xa0DEM Primary > 20th Senate District',\n",
       " 'State Senate\\xa0DEM Primary > 22nd Senate District',\n",
       " 'State Senate\\xa0DEM Primary > 23rd Senate District',\n",
       " 'State Senate\\xa0DEM Primary > 31st Senate District',\n",
       " 'State Senate\\xa0DEM Primary > 34th Senate District',\n",
       " 'State Senate\\xa0DEM Primary > 35th Senate District',\n",
       " 'State Senate\\xa0DEM Primary > 38th Senate District',\n",
       " 'State Senate\\xa0DEM Primary > 40th Senate District',\n",
       " 'State Senate\\xa0DEM Primary > 42nd Senate District',\n",
       " 'State Senate\\xa0DEM Primary > 53rd Senate District',\n",
       " 'State Senate\\xa0DEM Primary > 58th Senate District',\n",
       " 'State Senate\\xa0DEM Primary > 63rd Senate District',\n",
       " 'State Senate\\xa0IND Primary > 28th Senate District',\n",
       " 'State Senate\\xa0REF Primary > 12th Senate District',\n",
       " 'State Senate\\xa0REF Primary > 15th Senate District',\n",
       " 'State Senate\\xa0REF Primary > 23rd Senate District',\n",
       " 'State Senate\\xa0REF Primary > 26th Senate District',\n",
       " 'State Senate\\xa0REF Primary > 39th Senate District',\n",
       " 'State Senate\\xa0REF Primary > 42nd Senate District',\n",
       " 'State Senate\\xa0REF Primary > 49th Senate District',\n",
       " 'State Senate\\xa0REF Primary > 9th Senate District',\n",
       " 'State Senate\\xa0REP Primary > 11th Senate District',\n",
       " 'State Senate\\xa0REP Primary > 15th Senate District',\n",
       " 'State Senate\\xa0WEP Primary > 53rd Senate District'}"
      ]
     },
     "execution_count": 7,
     "metadata": {},
     "output_type": "execute_result"
    }
   ],
   "source": [
    "# all h4 values\n",
    "set([i[\"h4\"] for i in info])"
   ]
  },
  {
   "cell_type": "code",
   "execution_count": 55,
   "metadata": {
    "collapsed": true
   },
   "outputs": [],
   "source": [
    "ag_info = [i for i in info if i[\"h4\"] == \"Attorney General\\xa0DEM Primary\"]"
   ]
  },
  {
   "cell_type": "code",
   "execution_count": 56,
   "metadata": {
    "collapsed": false
   },
   "outputs": [],
   "source": [
    "prep_ag_info = [[i[\"h4\"], i[\"p\"], i[\"table\"]] + r for i in ag_info for r in i[\"rows\"][1:]]"
   ]
  },
  {
   "cell_type": "code",
   "execution_count": 57,
   "metadata": {
    "collapsed": false
   },
   "outputs": [],
   "source": [
    "ag_df = pd.DataFrame(prep_ag_info, columns = [\"h4\", \"p\", \"table\", \"candidate\", \"party\", \"ttl\", \"pcnt\"])"
   ]
  },
  {
   "cell_type": "code",
   "execution_count": 58,
   "metadata": {
    "collapsed": false
   },
   "outputs": [],
   "source": [
    "reg_ttl_and_county = (ag_df\n",
    "    .p\n",
    "    .str.replace(\"\\r\", \"\")\n",
    "    .str.replace(\"\\n\", \"\")\n",
    "    .str.findall(\".*Active Registered Voters (\\d*).*Results for (.*) (?:(?:county)|(?:Counties))\", re.MULTILINE))"
   ]
  },
  {
   "cell_type": "code",
   "execution_count": 59,
   "metadata": {
    "collapsed": true
   },
   "outputs": [],
   "source": [
    "test = 'Vote for  1                Active Registered Voters 661867    \\r\\n    Results for New York county 1298 of 1298 precincts reporting'"
   ]
  },
  {
   "cell_type": "code",
   "execution_count": 60,
   "metadata": {
    "collapsed": true
   },
   "outputs": [],
   "source": [
    "test2 = test.replace(\"\\r\", \"\").replace(\"\\n\", \"\")"
   ]
  },
  {
   "cell_type": "code",
   "execution_count": 61,
   "metadata": {
    "collapsed": false
   },
   "outputs": [
    {
     "data": {
      "text/plain": [
       "'Vote for  1                Active Registered Voters 661867        Results for New York county 1298 of 1298 precincts reporting'"
      ]
     },
     "execution_count": 61,
     "metadata": {},
     "output_type": "execute_result"
    }
   ],
   "source": [
    "test2"
   ]
  },
  {
   "cell_type": "code",
   "execution_count": 62,
   "metadata": {
    "collapsed": false
   },
   "outputs": [
    {
     "data": {
      "text/plain": [
       "[('661867', 'New York')]"
      ]
     },
     "execution_count": 62,
     "metadata": {},
     "output_type": "execute_result"
    }
   ],
   "source": [
    "re.findall(\".*Active Registered Voters (\\d*).*Results for (.*) (?:(?:county)|(?:Counties))\", test2, re.MULTILINE)"
   ]
  },
  {
   "cell_type": "code",
   "execution_count": 63,
   "metadata": {
    "collapsed": false
   },
   "outputs": [],
   "source": [
    "ag_df[\"ttl_reg_voters\"] = reg_ttl_and_county.map(lambda x: x[0][0])\n",
    "ag_df[\"county\"] = reg_ttl_and_county.map(lambda x: x[0][1])\n",
    "ag_df[\"ttl\"] = ag_df.ttl.astype(\"int\")"
   ]
  },
  {
   "cell_type": "code",
   "execution_count": 64,
   "metadata": {
    "collapsed": false
   },
   "outputs": [
    {
     "data": {
      "text/plain": [
       "'Vote for  1                Active Registered Voters 661867    \\r\\n    Results for New York county 1298 of 1298 precincts reporting'"
      ]
     },
     "execution_count": 64,
     "metadata": {},
     "output_type": "execute_result"
    }
   ],
   "source": [
    "ag_df[~(ag_df.county == \"All\")].sort_values(\"ttl\", ascending = False).p.iloc[1]"
   ]
  },
  {
   "cell_type": "code",
   "execution_count": 65,
   "metadata": {
    "collapsed": false
   },
   "outputs": [
    {
     "data": {
      "text/plain": [
       "h4                                     Attorney General DEM Primary\n",
       "p                 Vote for  1                Active Registered V...\n",
       "table             Candidate Name\\nParty\\nTotal Votes\\nVotes Perc...\n",
       "candidate                                           Zephyr Teachout\n",
       "party                                                           DEM\n",
       "ttl                                                           99762\n",
       "pcnt                                                          42.27\n",
       "ttl_reg_voters                                               661867\n",
       "county                                                     New York\n",
       "Name: 220, dtype: object"
      ]
     },
     "execution_count": 65,
     "metadata": {},
     "output_type": "execute_result"
    }
   ],
   "source": [
    "ag_df[~(ag_df.county == \"All\")].sort_values(\"ttl\", ascending = False).iloc[1]"
   ]
  },
  {
   "cell_type": "code",
   "execution_count": 66,
   "metadata": {
    "collapsed": false
   },
   "outputs": [
    {
     "data": {
      "text/html": [
       "<div>\n",
       "<style scoped>\n",
       "    .dataframe tbody tr th:only-of-type {\n",
       "        vertical-align: middle;\n",
       "    }\n",
       "\n",
       "    .dataframe tbody tr th {\n",
       "        vertical-align: top;\n",
       "    }\n",
       "\n",
       "    .dataframe thead th {\n",
       "        text-align: right;\n",
       "    }\n",
       "</style>\n",
       "<table border=\"1\" class=\"dataframe\">\n",
       "  <thead>\n",
       "    <tr style=\"text-align: right;\">\n",
       "      <th></th>\n",
       "      <th>h4</th>\n",
       "      <th>p</th>\n",
       "      <th>table</th>\n",
       "      <th>candidate</th>\n",
       "      <th>party</th>\n",
       "      <th>ttl</th>\n",
       "      <th>pcnt</th>\n",
       "      <th>ttl_reg_voters</th>\n",
       "      <th>county</th>\n",
       "    </tr>\n",
       "  </thead>\n",
       "  <tbody>\n",
       "    <tr>\n",
       "      <th>0</th>\n",
       "      <td>Attorney General DEM Primary</td>\n",
       "      <td>Vote for  1                Active Registered V...</td>\n",
       "      <td>Candidate Name\\nParty\\nTotal Votes\\nVotes Perc...</td>\n",
       "      <td>Sean Patrick Maloney</td>\n",
       "      <td>DEM</td>\n",
       "      <td>357462</td>\n",
       "      <td>23.85</td>\n",
       "      <td>5621811</td>\n",
       "      <td>All</td>\n",
       "    </tr>\n",
       "    <tr>\n",
       "      <th>1</th>\n",
       "      <td>Attorney General DEM Primary</td>\n",
       "      <td>Vote for  1                Active Registered V...</td>\n",
       "      <td>Candidate Name\\nParty\\nTotal Votes\\nVotes Perc...</td>\n",
       "      <td>Letitia A. James</td>\n",
       "      <td>DEM</td>\n",
       "      <td>579298</td>\n",
       "      <td>38.66</td>\n",
       "      <td>5621811</td>\n",
       "      <td>All</td>\n",
       "    </tr>\n",
       "    <tr>\n",
       "      <th>2</th>\n",
       "      <td>Attorney General DEM Primary</td>\n",
       "      <td>Vote for  1                Active Registered V...</td>\n",
       "      <td>Candidate Name\\nParty\\nTotal Votes\\nVotes Perc...</td>\n",
       "      <td>Leecia R. Eve</td>\n",
       "      <td>DEM</td>\n",
       "      <td>48738</td>\n",
       "      <td>3.25</td>\n",
       "      <td>5621811</td>\n",
       "      <td>All</td>\n",
       "    </tr>\n",
       "    <tr>\n",
       "      <th>3</th>\n",
       "      <td>Attorney General DEM Primary</td>\n",
       "      <td>Vote for  1                Active Registered V...</td>\n",
       "      <td>Candidate Name\\nParty\\nTotal Votes\\nVotes Perc...</td>\n",
       "      <td>Zephyr Teachout</td>\n",
       "      <td>DEM</td>\n",
       "      <td>442114</td>\n",
       "      <td>29.50</td>\n",
       "      <td>5621811</td>\n",
       "      <td>All</td>\n",
       "    </tr>\n",
       "    <tr>\n",
       "      <th>4</th>\n",
       "      <td>Attorney General DEM Primary</td>\n",
       "      <td>Vote for  1                Active Registered V...</td>\n",
       "      <td>Candidate Name\\nParty\\nTotal Votes\\nVotes Perc...</td>\n",
       "      <td>Blank</td>\n",
       "      <td></td>\n",
       "      <td>58979</td>\n",
       "      <td>3.94</td>\n",
       "      <td>5621811</td>\n",
       "      <td>All</td>\n",
       "    </tr>\n",
       "    <tr>\n",
       "      <th>5</th>\n",
       "      <td>Attorney General DEM Primary</td>\n",
       "      <td>Vote for  1                Active Registered V...</td>\n",
       "      <td>Candidate Name\\nParty\\nTotal Votes\\nVotes Perc...</td>\n",
       "      <td>Void</td>\n",
       "      <td></td>\n",
       "      <td>9003</td>\n",
       "      <td>0.60</td>\n",
       "      <td>5621811</td>\n",
       "      <td>All</td>\n",
       "    </tr>\n",
       "    <tr>\n",
       "      <th>6</th>\n",
       "      <td>Attorney General DEM Primary</td>\n",
       "      <td>Vote for  1                Active Registered V...</td>\n",
       "      <td>Candidate Name\\nParty\\nTotal Votes\\nVotes Perc...</td>\n",
       "      <td>Write-in</td>\n",
       "      <td></td>\n",
       "      <td>2968</td>\n",
       "      <td>0.20</td>\n",
       "      <td>5621811</td>\n",
       "      <td>All</td>\n",
       "    </tr>\n",
       "  </tbody>\n",
       "</table>\n",
       "</div>"
      ],
      "text/plain": [
       "                             h4  \\\n",
       "0  Attorney General DEM Primary   \n",
       "1  Attorney General DEM Primary   \n",
       "2  Attorney General DEM Primary   \n",
       "3  Attorney General DEM Primary   \n",
       "4  Attorney General DEM Primary   \n",
       "5  Attorney General DEM Primary   \n",
       "6  Attorney General DEM Primary   \n",
       "\n",
       "                                                   p  \\\n",
       "0  Vote for  1                Active Registered V...   \n",
       "1  Vote for  1                Active Registered V...   \n",
       "2  Vote for  1                Active Registered V...   \n",
       "3  Vote for  1                Active Registered V...   \n",
       "4  Vote for  1                Active Registered V...   \n",
       "5  Vote for  1                Active Registered V...   \n",
       "6  Vote for  1                Active Registered V...   \n",
       "\n",
       "                                               table             candidate  \\\n",
       "0  Candidate Name\\nParty\\nTotal Votes\\nVotes Perc...  Sean Patrick Maloney   \n",
       "1  Candidate Name\\nParty\\nTotal Votes\\nVotes Perc...      Letitia A. James   \n",
       "2  Candidate Name\\nParty\\nTotal Votes\\nVotes Perc...         Leecia R. Eve   \n",
       "3  Candidate Name\\nParty\\nTotal Votes\\nVotes Perc...       Zephyr Teachout   \n",
       "4  Candidate Name\\nParty\\nTotal Votes\\nVotes Perc...                 Blank   \n",
       "5  Candidate Name\\nParty\\nTotal Votes\\nVotes Perc...                  Void   \n",
       "6  Candidate Name\\nParty\\nTotal Votes\\nVotes Perc...              Write-in   \n",
       "\n",
       "  party     ttl   pcnt ttl_reg_voters county  \n",
       "0   DEM  357462  23.85        5621811    All  \n",
       "1   DEM  579298  38.66        5621811    All  \n",
       "2   DEM   48738   3.25        5621811    All  \n",
       "3   DEM  442114  29.50        5621811    All  \n",
       "4         58979   3.94        5621811    All  \n",
       "5          9003   0.60        5621811    All  \n",
       "6          2968   0.20        5621811    All  "
      ]
     },
     "execution_count": 66,
     "metadata": {},
     "output_type": "execute_result"
    }
   ],
   "source": [
    "ag_df.iloc[:7]"
   ]
  },
  {
   "cell_type": "markdown",
   "metadata": {},
   "source": [
    "Check: do the sums of ttl voters for counties match the \"All\" count?"
   ]
  },
  {
   "cell_type": "code",
   "execution_count": 67,
   "metadata": {
    "collapsed": false
   },
   "outputs": [
    {
     "data": {
      "text/html": [
       "<div>\n",
       "<style scoped>\n",
       "    .dataframe tbody tr th:only-of-type {\n",
       "        vertical-align: middle;\n",
       "    }\n",
       "\n",
       "    .dataframe tbody tr th {\n",
       "        vertical-align: top;\n",
       "    }\n",
       "\n",
       "    .dataframe thead th {\n",
       "        text-align: right;\n",
       "    }\n",
       "</style>\n",
       "<table border=\"1\" class=\"dataframe\">\n",
       "  <thead>\n",
       "    <tr style=\"text-align: right;\">\n",
       "      <th></th>\n",
       "      <th>candidate</th>\n",
       "      <th>ttl</th>\n",
       "    </tr>\n",
       "  </thead>\n",
       "  <tbody>\n",
       "    <tr>\n",
       "      <th>0</th>\n",
       "      <td>Blank</td>\n",
       "      <td>58979</td>\n",
       "    </tr>\n",
       "    <tr>\n",
       "      <th>1</th>\n",
       "      <td>Leecia R. Eve</td>\n",
       "      <td>48738</td>\n",
       "    </tr>\n",
       "    <tr>\n",
       "      <th>2</th>\n",
       "      <td>Letitia A. James</td>\n",
       "      <td>579298</td>\n",
       "    </tr>\n",
       "    <tr>\n",
       "      <th>3</th>\n",
       "      <td>Sean Patrick Maloney</td>\n",
       "      <td>357462</td>\n",
       "    </tr>\n",
       "    <tr>\n",
       "      <th>4</th>\n",
       "      <td>Void</td>\n",
       "      <td>9003</td>\n",
       "    </tr>\n",
       "    <tr>\n",
       "      <th>5</th>\n",
       "      <td>Write-in</td>\n",
       "      <td>2968</td>\n",
       "    </tr>\n",
       "    <tr>\n",
       "      <th>6</th>\n",
       "      <td>Zephyr Teachout</td>\n",
       "      <td>442114</td>\n",
       "    </tr>\n",
       "  </tbody>\n",
       "</table>\n",
       "</div>"
      ],
      "text/plain": [
       "              candidate     ttl\n",
       "0                 Blank   58979\n",
       "1         Leecia R. Eve   48738\n",
       "2      Letitia A. James  579298\n",
       "3  Sean Patrick Maloney  357462\n",
       "4                  Void    9003\n",
       "5              Write-in    2968\n",
       "6       Zephyr Teachout  442114"
      ]
     },
     "execution_count": 67,
     "metadata": {},
     "output_type": "execute_result"
    }
   ],
   "source": [
    "ag_df[~(ag_df.county == \"All\")].groupby([\"candidate\"], as_index = False)[\"ttl\"].sum()"
   ]
  },
  {
   "cell_type": "code",
   "execution_count": 68,
   "metadata": {
    "collapsed": true
   },
   "outputs": [],
   "source": [
    "ag_df.to_csv(\"./election_results.csv\", index = False)"
   ]
  },
  {
   "cell_type": "code",
   "execution_count": null,
   "metadata": {
    "collapsed": true
   },
   "outputs": [],
   "source": []
  }
 ],
 "metadata": {
  "kernelspec": {
   "display_name": "Python 3",
   "language": "python",
   "name": "python3"
  },
  "language_info": {
   "codemirror_mode": {
    "name": "ipython",
    "version": 3
   },
   "file_extension": ".py",
   "mimetype": "text/x-python",
   "name": "python",
   "nbconvert_exporter": "python",
   "pygments_lexer": "ipython3",
   "version": "3.5.4"
  }
 },
 "nbformat": 4,
 "nbformat_minor": 2
}
