{
 "cells": [
  {
   "cell_type": "markdown",
   "metadata": {},
   "source": [
    "# Untangling Counties Ver 3"
   ]
  },
  {
   "cell_type": "markdown",
   "metadata": {},
   "source": [
    "### Import libraries"
   ]
  },
  {
   "cell_type": "code",
   "execution_count": 1,
   "metadata": {
    "collapsed": true
   },
   "outputs": [],
   "source": [
    "import pandas as pd\n",
    "import numpy as np\n",
    "from tqdm import tqdm\n",
    "\n",
    "import matplotlib.pyplot as plt\n",
    "import seaborn as sns\n",
    "%matplotlib inline\n",
    "\n",
    "import colorlover as cl\n",
    "colors = [[i / 255 for i in j] for j in cl.to_numeric(cl.scales['5']['qual']['Dark2'])]"
   ]
  },
  {
   "cell_type": "markdown",
   "metadata": {},
   "source": [
    "### Functions"
   ]
  },
  {
   "cell_type": "code",
   "execution_count": 2,
   "metadata": {
    "collapsed": true
   },
   "outputs": [],
   "source": [
    "def ny_scatter2(ax, df, coord_col_name = \"test_{}_rank\"):\n",
    "    # fig, ax = plt.subplots(figsize = (s, s))\n",
    "    for ind, county in enumerate(df.county_name.unique()):\n",
    "        county_df = df[df.county_name == county]\n",
    "        ax.scatter(\n",
    "            y = county_df[coord_col_name.format(\"lat\")],\n",
    "            x = county_df[coord_col_name.format(\"lng\")],\n",
    "            s = county_df.sqrt_mult,\n",
    "            marker = \"s\",\n",
    "            label = county,\n",
    "            alpha = 0.7,\n",
    "            color = colors[ind % 5],\n",
    "            edgecolor = \"none\")\n",
    "    # ax.legend(loc = 9, bbox_to_anchor = (0.5,0))\n",
    "    # return fig\n",
    "    \n",
    "def get_min_max(df, center_col_name = \"prop_scaled_{}_rank\", side_col_name = \"sqrt_mult\"):\n",
    "    for si, i in enumerate([\"min\", \"max\"]):\n",
    "        for j in [\"lat\", \"lng\"]:\n",
    "            df[(\"{}_\" + center_col_name).format(i, j)] = (\n",
    "                df[center_col_name.format(j)] + (2 * si - 1) *\n",
    "                (df[side_col_name] / 2))\n",
    "    return df\n",
    "\n",
    "def normalize(df, col_names, min_col_name, max_col_name):\n",
    "    for c in col_names:\n",
    "        df[\"norm_\" + c] = (df[c] - df[min_col_name].min()) / (df[max_col_name].max() - df[min_col_name].min())\n",
    "    return df"
   ]
  },
  {
   "cell_type": "markdown",
   "metadata": {},
   "source": [
    "### Read in data"
   ]
  },
  {
   "cell_type": "code",
   "execution_count": 3,
   "metadata": {
    "collapsed": true
   },
   "outputs": [],
   "source": [
    "county_shapes = pd.read_csv(\"./ny_county_shapes.csv\").set_index(\"county_name\")\n",
    "ny_map_county_squares = pd.read_csv(\"./ny_map_county_squares.csv\")"
   ]
  },
  {
   "cell_type": "code",
   "execution_count": 4,
   "metadata": {
    "collapsed": false
   },
   "outputs": [
    {
     "data": {
      "text/html": [
       "<div>\n",
       "<style scoped>\n",
       "    .dataframe tbody tr th:only-of-type {\n",
       "        vertical-align: middle;\n",
       "    }\n",
       "\n",
       "    .dataframe tbody tr th {\n",
       "        vertical-align: top;\n",
       "    }\n",
       "\n",
       "    .dataframe thead th {\n",
       "        text-align: right;\n",
       "    }\n",
       "</style>\n",
       "<table border=\"1\" class=\"dataframe\">\n",
       "  <thead>\n",
       "    <tr style=\"text-align: right;\">\n",
       "      <th></th>\n",
       "      <th>county_name</th>\n",
       "      <th>lat</th>\n",
       "      <th>lng</th>\n",
       "      <th>state</th>\n",
       "      <th>lng_rank</th>\n",
       "      <th>lat_rank</th>\n",
       "      <th>nyc</th>\n",
       "      <th>min_lng_rank</th>\n",
       "      <th>min_lat_rank</th>\n",
       "      <th>max_lng_rank</th>\n",
       "      <th>...</th>\n",
       "      <th>ttl</th>\n",
       "      <th>pre_mult</th>\n",
       "      <th>mult</th>\n",
       "      <th>sqrt_mult</th>\n",
       "      <th>mid_lng_rank</th>\n",
       "      <th>mid_lat_rank</th>\n",
       "      <th>scaled_lng_rank</th>\n",
       "      <th>scaled_lat_rank</th>\n",
       "      <th>test_lat_rank</th>\n",
       "      <th>test_lng_rank</th>\n",
       "    </tr>\n",
       "  </thead>\n",
       "  <tbody>\n",
       "    <tr>\n",
       "      <th>0</th>\n",
       "      <td>Montgomery</td>\n",
       "      <td>42.920886</td>\n",
       "      <td>-74.476076</td>\n",
       "      <td>NY</td>\n",
       "      <td>54.0</td>\n",
       "      <td>43.0</td>\n",
       "      <td>False</td>\n",
       "      <td>52.0</td>\n",
       "      <td>41.0</td>\n",
       "      <td>57.0</td>\n",
       "      <td>...</td>\n",
       "      <td>1522</td>\n",
       "      <td>72.476190</td>\n",
       "      <td>27.296228</td>\n",
       "      <td>5.224579</td>\n",
       "      <td>54.5</td>\n",
       "      <td>42.5</td>\n",
       "      <td>51.387710</td>\n",
       "      <td>45.612290</td>\n",
       "      <td>12820.304341</td>\n",
       "      <td>16099.917080</td>\n",
       "    </tr>\n",
       "    <tr>\n",
       "      <th>1</th>\n",
       "      <td>Chautauqua</td>\n",
       "      <td>42.162278</td>\n",
       "      <td>-79.666456</td>\n",
       "      <td>NY</td>\n",
       "      <td>3.0</td>\n",
       "      <td>30.0</td>\n",
       "      <td>False</td>\n",
       "      <td>3.0</td>\n",
       "      <td>28.0</td>\n",
       "      <td>8.0</td>\n",
       "      <td>...</td>\n",
       "      <td>4765</td>\n",
       "      <td>108.295455</td>\n",
       "      <td>40.786600</td>\n",
       "      <td>6.386439</td>\n",
       "      <td>5.5</td>\n",
       "      <td>32.0</td>\n",
       "      <td>-12.966097</td>\n",
       "      <td>17.227123</td>\n",
       "      <td>8944.398378</td>\n",
       "      <td>894.439838</td>\n",
       "    </tr>\n",
       "    <tr>\n",
       "      <th>2</th>\n",
       "      <td>Rensselaer</td>\n",
       "      <td>42.862532</td>\n",
       "      <td>-73.661899</td>\n",
       "      <td>NY</td>\n",
       "      <td>62.0</td>\n",
       "      <td>42.0</td>\n",
       "      <td>False</td>\n",
       "      <td>61.0</td>\n",
       "      <td>36.0</td>\n",
       "      <td>65.0</td>\n",
       "      <td>...</td>\n",
       "      <td>7983</td>\n",
       "      <td>249.468750</td>\n",
       "      <td>93.955763</td>\n",
       "      <td>9.693078</td>\n",
       "      <td>63.0</td>\n",
       "      <td>39.5</td>\n",
       "      <td>52.306922</td>\n",
       "      <td>66.232695</td>\n",
       "      <td>12522.157729</td>\n",
       "      <td>18485.089980</td>\n",
       "    </tr>\n",
       "    <tr>\n",
       "      <th>3</th>\n",
       "      <td>St Lawrence</td>\n",
       "      <td>44.379747</td>\n",
       "      <td>-75.392025</td>\n",
       "      <td>NY</td>\n",
       "      <td>45.0</td>\n",
       "      <td>68.0</td>\n",
       "      <td>False</td>\n",
       "      <td>41.0</td>\n",
       "      <td>63.0</td>\n",
       "      <td>53.0</td>\n",
       "      <td>...</td>\n",
       "      <td>3837</td>\n",
       "      <td>27.804348</td>\n",
       "      <td>10.471767</td>\n",
       "      <td>3.236011</td>\n",
       "      <td>47.0</td>\n",
       "      <td>70.5</td>\n",
       "      <td>38.527978</td>\n",
       "      <td>59.909972</td>\n",
       "      <td>20273.969656</td>\n",
       "      <td>13416.597566</td>\n",
       "    </tr>\n",
       "    <tr>\n",
       "      <th>4</th>\n",
       "      <td>Delaware</td>\n",
       "      <td>41.987215</td>\n",
       "      <td>-74.984937</td>\n",
       "      <td>NY</td>\n",
       "      <td>49.0</td>\n",
       "      <td>27.0</td>\n",
       "      <td>False</td>\n",
       "      <td>45.0</td>\n",
       "      <td>25.0</td>\n",
       "      <td>54.0</td>\n",
       "      <td>...</td>\n",
       "      <td>1949</td>\n",
       "      <td>27.842857</td>\n",
       "      <td>10.486271</td>\n",
       "      <td>3.238251</td>\n",
       "      <td>49.5</td>\n",
       "      <td>30.0</td>\n",
       "      <td>47.380874</td>\n",
       "      <td>17.285246</td>\n",
       "      <td>8049.958540</td>\n",
       "      <td>14609.184017</td>\n",
       "    </tr>\n",
       "  </tbody>\n",
       "</table>\n",
       "<p>5 rows × 23 columns</p>\n",
       "</div>"
      ],
      "text/plain": [
       "   county_name        lat        lng state  lng_rank  lat_rank    nyc  \\\n",
       "0   Montgomery  42.920886 -74.476076    NY      54.0      43.0  False   \n",
       "1   Chautauqua  42.162278 -79.666456    NY       3.0      30.0  False   \n",
       "2   Rensselaer  42.862532 -73.661899    NY      62.0      42.0  False   \n",
       "3  St Lawrence  44.379747 -75.392025    NY      45.0      68.0  False   \n",
       "4     Delaware  41.987215 -74.984937    NY      49.0      27.0  False   \n",
       "\n",
       "   min_lng_rank  min_lat_rank  max_lng_rank      ...         ttl    pre_mult  \\\n",
       "0          52.0          41.0          57.0      ...        1522   72.476190   \n",
       "1           3.0          28.0           8.0      ...        4765  108.295455   \n",
       "2          61.0          36.0          65.0      ...        7983  249.468750   \n",
       "3          41.0          63.0          53.0      ...        3837   27.804348   \n",
       "4          45.0          25.0          54.0      ...        1949   27.842857   \n",
       "\n",
       "        mult  sqrt_mult  mid_lng_rank  mid_lat_rank  scaled_lng_rank  \\\n",
       "0  27.296228   5.224579          54.5          42.5        51.387710   \n",
       "1  40.786600   6.386439           5.5          32.0       -12.966097   \n",
       "2  93.955763   9.693078          63.0          39.5        52.306922   \n",
       "3  10.471767   3.236011          47.0          70.5        38.527978   \n",
       "4  10.486271   3.238251          49.5          30.0        47.380874   \n",
       "\n",
       "   scaled_lat_rank  test_lat_rank  test_lng_rank  \n",
       "0        45.612290   12820.304341   16099.917080  \n",
       "1        17.227123    8944.398378     894.439838  \n",
       "2        66.232695   12522.157729   18485.089980  \n",
       "3        59.909972   20273.969656   13416.597566  \n",
       "4        17.285246    8049.958540   14609.184017  \n",
       "\n",
       "[5 rows x 23 columns]"
      ]
     },
     "execution_count": 4,
     "metadata": {},
     "output_type": "execute_result"
    }
   ],
   "source": [
    "ny_map_county_squares.head()"
   ]
  },
  {
   "cell_type": "code",
   "execution_count": 5,
   "metadata": {
    "collapsed": false
   },
   "outputs": [
    {
     "data": {
      "text/plain": [
       "(79.0, 3.0)"
      ]
     },
     "execution_count": 5,
     "metadata": {},
     "output_type": "execute_result"
    }
   ],
   "source": [
    "ny_map_county_squares.lng_rank.max(), ny_map_county_squares.lng_rank.min()"
   ]
  },
  {
   "cell_type": "code",
   "execution_count": 6,
   "metadata": {
    "collapsed": false
   },
   "outputs": [
    {
     "data": {
      "text/plain": [
       "(78.0, 2.0)"
      ]
     },
     "execution_count": 6,
     "metadata": {},
     "output_type": "execute_result"
    }
   ],
   "source": [
    "ny_map_county_squares.lat_rank.max(), ny_map_county_squares.lat_rank.min()"
   ]
  },
  {
   "cell_type": "code",
   "execution_count": 53,
   "metadata": {
    "collapsed": true
   },
   "outputs": [],
   "source": [
    "lat_max_sqrt_mult = ny_map_county_squares.groupby([\"lat_rank\"], as_index = False)[\"sqrt_mult\"].max().sort_values(\"lat_rank\")\n",
    "lng_max_sqrt_mult = ny_map_county_squares.groupby([\"lng_rank\"], as_index = False)[\"sqrt_mult\"].max().sort_values(\"lng_rank\")"
   ]
  },
  {
   "cell_type": "code",
   "execution_count": 54,
   "metadata": {
    "collapsed": false
   },
   "outputs": [],
   "source": [
    "max_sqrt_mult = ny_map_county_squares.sqrt_mult.max()"
   ]
  },
  {
   "cell_type": "code",
   "execution_count": 55,
   "metadata": {
    "collapsed": false
   },
   "outputs": [
    {
     "data": {
      "text/plain": [
       "298.146612587503"
      ]
     },
     "execution_count": 55,
     "metadata": {},
     "output_type": "execute_result"
    }
   ],
   "source": [
    "max_sqrt_mult"
   ]
  },
  {
   "cell_type": "code",
   "execution_count": 56,
   "metadata": {
    "collapsed": false
   },
   "outputs": [],
   "source": [
    "lat_max_sqrt_mult[\"next_lat\"] = lat_max_sqrt_mult.lat_rank + 1\n",
    "lat_max_sqrt_mult = lat_max_sqrt_mult.merge(right = lat_max_sqrt_mult, left_on = [\"lat_rank\"], right_on = [\"next_lat\"], how = \"left\").fillna(0)\n",
    "\n",
    "lng_max_sqrt_mult[\"next_lng\"] = lng_max_sqrt_mult.lng_rank + 1\n",
    "lng_max_sqrt_mult = lng_max_sqrt_mult.merge(right = lng_max_sqrt_mult, left_on = [\"lng_rank\"], right_on = [\"next_lng\"], how = \"left\").fillna(0)"
   ]
  },
  {
   "cell_type": "code",
   "execution_count": 57,
   "metadata": {
    "collapsed": false
   },
   "outputs": [
    {
     "data": {
      "text/html": [
       "<div>\n",
       "<style scoped>\n",
       "    .dataframe tbody tr th:only-of-type {\n",
       "        vertical-align: middle;\n",
       "    }\n",
       "\n",
       "    .dataframe tbody tr th {\n",
       "        vertical-align: top;\n",
       "    }\n",
       "\n",
       "    .dataframe thead th {\n",
       "        text-align: right;\n",
       "    }\n",
       "</style>\n",
       "<table border=\"1\" class=\"dataframe\">\n",
       "  <thead>\n",
       "    <tr style=\"text-align: right;\">\n",
       "      <th></th>\n",
       "      <th>lat_rank_x</th>\n",
       "      <th>sqrt_mult_x</th>\n",
       "      <th>next_lat_x</th>\n",
       "      <th>lat_rank_y</th>\n",
       "      <th>sqrt_mult_y</th>\n",
       "      <th>next_lat_y</th>\n",
       "    </tr>\n",
       "  </thead>\n",
       "  <tbody>\n",
       "    <tr>\n",
       "      <th>0</th>\n",
       "      <td>2.0</td>\n",
       "      <td>56.968093</td>\n",
       "      <td>3.0</td>\n",
       "      <td>0.0</td>\n",
       "      <td>0.000000</td>\n",
       "      <td>0.0</td>\n",
       "    </tr>\n",
       "    <tr>\n",
       "      <th>1</th>\n",
       "      <td>3.0</td>\n",
       "      <td>166.988325</td>\n",
       "      <td>4.0</td>\n",
       "      <td>2.0</td>\n",
       "      <td>56.968093</td>\n",
       "      <td>3.0</td>\n",
       "    </tr>\n",
       "    <tr>\n",
       "      <th>2</th>\n",
       "      <td>4.0</td>\n",
       "      <td>166.988325</td>\n",
       "      <td>5.0</td>\n",
       "      <td>3.0</td>\n",
       "      <td>166.988325</td>\n",
       "      <td>4.0</td>\n",
       "    </tr>\n",
       "    <tr>\n",
       "      <th>3</th>\n",
       "      <td>5.0</td>\n",
       "      <td>166.988325</td>\n",
       "      <td>6.0</td>\n",
       "      <td>4.0</td>\n",
       "      <td>166.988325</td>\n",
       "      <td>5.0</td>\n",
       "    </tr>\n",
       "    <tr>\n",
       "      <th>4</th>\n",
       "      <td>6.0</td>\n",
       "      <td>298.146613</td>\n",
       "      <td>7.0</td>\n",
       "      <td>5.0</td>\n",
       "      <td>166.988325</td>\n",
       "      <td>6.0</td>\n",
       "    </tr>\n",
       "  </tbody>\n",
       "</table>\n",
       "</div>"
      ],
      "text/plain": [
       "   lat_rank_x  sqrt_mult_x  next_lat_x  lat_rank_y  sqrt_mult_y  next_lat_y\n",
       "0         2.0    56.968093         3.0         0.0     0.000000         0.0\n",
       "1         3.0   166.988325         4.0         2.0    56.968093         3.0\n",
       "2         4.0   166.988325         5.0         3.0   166.988325         4.0\n",
       "3         5.0   166.988325         6.0         4.0   166.988325         5.0\n",
       "4         6.0   298.146613         7.0         5.0   166.988325         6.0"
      ]
     },
     "execution_count": 57,
     "metadata": {},
     "output_type": "execute_result"
    }
   ],
   "source": [
    "lat_max_sqrt_mult.head()"
   ]
  },
  {
   "cell_type": "code",
   "execution_count": 58,
   "metadata": {
    "collapsed": false
   },
   "outputs": [],
   "source": [
    "lat_max_sqrt_mult[\"lat_adjust\"] = max_sqrt_mult - (lat_max_sqrt_mult[\"sqrt_mult_x\"] + lat_max_sqrt_mult[\"sqrt_mult_y\"]) / 2\n",
    "lng_max_sqrt_mult[\"lng_adjust\"] = max_sqrt_mult - (lng_max_sqrt_mult[\"sqrt_mult_x\"] + lng_max_sqrt_mult[\"sqrt_mult_y\"]) / 2"
   ]
  },
  {
   "cell_type": "code",
   "execution_count": 59,
   "metadata": {
    "collapsed": false
   },
   "outputs": [],
   "source": [
    "lat_max_sqrt_mult[\"cum_lat_adjust\"] = lat_max_sqrt_mult.lat_adjust.cumsum()\n",
    "lng_max_sqrt_mult[\"cum_lng_adjust\"] = lng_max_sqrt_mult.lng_adjust.cumsum()"
   ]
  },
  {
   "cell_type": "code",
   "execution_count": 60,
   "metadata": {
    "collapsed": false
   },
   "outputs": [
    {
     "data": {
      "text/html": [
       "<div>\n",
       "<style scoped>\n",
       "    .dataframe tbody tr th:only-of-type {\n",
       "        vertical-align: middle;\n",
       "    }\n",
       "\n",
       "    .dataframe tbody tr th {\n",
       "        vertical-align: top;\n",
       "    }\n",
       "\n",
       "    .dataframe thead th {\n",
       "        text-align: right;\n",
       "    }\n",
       "</style>\n",
       "<table border=\"1\" class=\"dataframe\">\n",
       "  <thead>\n",
       "    <tr style=\"text-align: right;\">\n",
       "      <th></th>\n",
       "      <th>lat_rank_x</th>\n",
       "      <th>sqrt_mult_x</th>\n",
       "      <th>next_lat_x</th>\n",
       "      <th>lat_rank_y</th>\n",
       "      <th>sqrt_mult_y</th>\n",
       "      <th>next_lat_y</th>\n",
       "      <th>lat_adjust</th>\n",
       "      <th>cum_lat_adjust</th>\n",
       "    </tr>\n",
       "  </thead>\n",
       "  <tbody>\n",
       "    <tr>\n",
       "      <th>0</th>\n",
       "      <td>2.0</td>\n",
       "      <td>56.968093</td>\n",
       "      <td>3.0</td>\n",
       "      <td>0.0</td>\n",
       "      <td>0.000000</td>\n",
       "      <td>0.0</td>\n",
       "      <td>269.662566</td>\n",
       "      <td>269.662566</td>\n",
       "    </tr>\n",
       "    <tr>\n",
       "      <th>1</th>\n",
       "      <td>3.0</td>\n",
       "      <td>166.988325</td>\n",
       "      <td>4.0</td>\n",
       "      <td>2.0</td>\n",
       "      <td>56.968093</td>\n",
       "      <td>3.0</td>\n",
       "      <td>186.168404</td>\n",
       "      <td>455.830970</td>\n",
       "    </tr>\n",
       "    <tr>\n",
       "      <th>2</th>\n",
       "      <td>4.0</td>\n",
       "      <td>166.988325</td>\n",
       "      <td>5.0</td>\n",
       "      <td>3.0</td>\n",
       "      <td>166.988325</td>\n",
       "      <td>4.0</td>\n",
       "      <td>131.158288</td>\n",
       "      <td>586.989257</td>\n",
       "    </tr>\n",
       "    <tr>\n",
       "      <th>3</th>\n",
       "      <td>5.0</td>\n",
       "      <td>166.988325</td>\n",
       "      <td>6.0</td>\n",
       "      <td>4.0</td>\n",
       "      <td>166.988325</td>\n",
       "      <td>5.0</td>\n",
       "      <td>131.158288</td>\n",
       "      <td>718.147545</td>\n",
       "    </tr>\n",
       "    <tr>\n",
       "      <th>4</th>\n",
       "      <td>6.0</td>\n",
       "      <td>298.146613</td>\n",
       "      <td>7.0</td>\n",
       "      <td>5.0</td>\n",
       "      <td>166.988325</td>\n",
       "      <td>6.0</td>\n",
       "      <td>65.579144</td>\n",
       "      <td>783.726689</td>\n",
       "    </tr>\n",
       "  </tbody>\n",
       "</table>\n",
       "</div>"
      ],
      "text/plain": [
       "   lat_rank_x  sqrt_mult_x  next_lat_x  lat_rank_y  sqrt_mult_y  next_lat_y  \\\n",
       "0         2.0    56.968093         3.0         0.0     0.000000         0.0   \n",
       "1         3.0   166.988325         4.0         2.0    56.968093         3.0   \n",
       "2         4.0   166.988325         5.0         3.0   166.988325         4.0   \n",
       "3         5.0   166.988325         6.0         4.0   166.988325         5.0   \n",
       "4         6.0   298.146613         7.0         5.0   166.988325         6.0   \n",
       "\n",
       "   lat_adjust  cum_lat_adjust  \n",
       "0  269.662566      269.662566  \n",
       "1  186.168404      455.830970  \n",
       "2  131.158288      586.989257  \n",
       "3  131.158288      718.147545  \n",
       "4   65.579144      783.726689  "
      ]
     },
     "execution_count": 60,
     "metadata": {},
     "output_type": "execute_result"
    }
   ],
   "source": [
    "lat_max_sqrt_mult.head()"
   ]
  },
  {
   "cell_type": "code",
   "execution_count": 61,
   "metadata": {
    "collapsed": false
   },
   "outputs": [],
   "source": [
    "ny_map_county_squares_w_adjust = ny_map_county_squares.merge(\n",
    "    right = lat_max_sqrt_mult[[\"lat_rank_x\", \"cum_lat_adjust\"]],\n",
    "    left_on = \"lat_rank\",\n",
    "    right_on = \"lat_rank_x\",\n",
    "    how = \"left\").merge(\n",
    "    right = lng_max_sqrt_mult[[\"lng_rank_x\", \"cum_lng_adjust\"]],\n",
    "    left_on = \"lng_rank\",\n",
    "    right_on = \"lng_rank_x\",\n",
    "    how = \"left\")"
   ]
  },
  {
   "cell_type": "code",
   "execution_count": 62,
   "metadata": {
    "collapsed": false
   },
   "outputs": [],
   "source": [
    "for i in [\"lat\", \"lng\"]:\n",
    "    ny_map_county_squares_w_adjust[\"new_test_{}_rank\".format(i)] = (\n",
    "        ny_map_county_squares_w_adjust[\"test_{}_rank\".format(i)] - ny_map_county_squares_w_adjust[\"cum_{}_adjust\".format(i)])"
   ]
  },
  {
   "cell_type": "code",
   "execution_count": 63,
   "metadata": {
    "collapsed": false
   },
   "outputs": [
    {
     "data": {
      "image/png": "[encoded data removed]",
      "text/plain": [
       "<matplotlib.figure.Figure at 0x7f43784a4eb8>"
      ]
     },
     "metadata": {
      "needs_background": "light"
     },
     "output_type": "display_data"
    }
   ],
   "source": [
    "fig, ax = plt.subplots(figsize = (5, 5))\n",
    "ny_scatter2(ax, ny_map_county_squares_w_adjust)"
   ]
  },
  {
   "cell_type": "code",
   "execution_count": 64,
   "metadata": {
    "collapsed": false
   },
   "outputs": [
    {
     "data": {
      "image/png": "[encoded data removed]",
      "text/plain": [
       "<matplotlib.figure.Figure at 0x7f437840dba8>"
      ]
     },
     "metadata": {
      "needs_background": "light"
     },
     "output_type": "display_data"
    }
   ],
   "source": [
    "fig, ax = plt.subplots(figsize = (5, 5))\n",
    "ny_scatter2(ax, ny_map_county_squares_w_adjust, coord_col_name = \"new_test_{}_rank\")"
   ]
  },
  {
   "cell_type": "code",
   "execution_count": 65,
   "metadata": {
    "collapsed": true
   },
   "outputs": [],
   "source": [
    "ny_map_county_squares_w_adjust = get_min_max(ny_map_county_squares_w_adjust, center_col_name = \"new_test_{}_rank\")"
   ]
  },
  {
   "cell_type": "code",
   "execution_count": 66,
   "metadata": {
    "collapsed": true
   },
   "outputs": [],
   "source": [
    "norm_cols = ([{\n",
    "    \"col_names\": [\"{}_rank\".format(i)],\n",
    "    \"min_col_name\": \"{}_rank\".format(i),\n",
    "    \"max_col_name\": \"{}_rank\".format(i)} for i in [\"lat\", \"lng\"]] + \n",
    "    [{\n",
    "    \"col_names\": [\"{}new_test_{}_rank\".format(j, i) for j in [\"\", \"min_\", \"max_\"]],\n",
    "    \"min_col_name\": \"min_new_test_{}_rank\".format(i),\n",
    "    \"max_col_name\": \"max_new_test_{}_rank\".format(i)} for i in [\"lat\", \"lng\"]])\n",
    "\n",
    "for i in norm_cols:\n",
    "    ny_map_county_squares_w_adjust = normalize(ny_map_county_squares_w_adjust, col_names = i[\"col_names\"], min_col_name = i[\"min_col_name\"], max_col_name = i[\"max_col_name\"])"
   ]
  },
  {
   "cell_type": "code",
   "execution_count": 67,
   "metadata": {
    "collapsed": false
   },
   "outputs": [
    {
     "data": {
      "text/plain": [
       "Index(['county_name', 'lat', 'lng', 'state', 'lng_rank', 'lat_rank', 'nyc',\n",
       "       'min_lng_rank', 'min_lat_rank', 'max_lng_rank', 'max_lat_rank',\n",
       "       'num_squares', 'county', 'ttl', 'pre_mult', 'mult', 'sqrt_mult',\n",
       "       'mid_lng_rank', 'mid_lat_rank', 'scaled_lng_rank', 'scaled_lat_rank',\n",
       "       'test_lat_rank', 'test_lng_rank', 'lat_rank_x', 'cum_lat_adjust',\n",
       "       'lng_rank_x', 'cum_lng_adjust', 'new_test_lat_rank',\n",
       "       'new_test_lng_rank', 'min_new_test_lat_rank', 'min_new_test_lng_rank',\n",
       "       'max_new_test_lat_rank', 'max_new_test_lng_rank', 'norm_lat_rank',\n",
       "       'norm_lng_rank', 'norm_new_test_lat_rank', 'norm_min_new_test_lat_rank',\n",
       "       'norm_max_new_test_lat_rank', 'norm_new_test_lng_rank',\n",
       "       'norm_min_new_test_lng_rank', 'norm_max_new_test_lng_rank'],\n",
       "      dtype='object')"
      ]
     },
     "execution_count": 67,
     "metadata": {},
     "output_type": "execute_result"
    }
   ],
   "source": [
    "ny_map_county_squares_w_adjust.columns"
   ]
  },
  {
   "cell_type": "code",
   "execution_count": 68,
   "metadata": {
    "collapsed": true
   },
   "outputs": [],
   "source": [
    "counties = ny_map_county_squares_w_adjust[[\"county\"]].drop_duplicates().reset_index()\n",
    "counties[\"county_id\"] = counties.index"
   ]
  },
  {
   "cell_type": "code",
   "execution_count": 69,
   "metadata": {
    "collapsed": true
   },
   "outputs": [],
   "source": [
    "ny_map_county_squares_w_adjust = ny_map_county_squares_w_adjust.merge(right = counties[[\"county\", \"county_id\"]], on = [\"county\"], how = \"left\")"
   ]
  },
  {
   "cell_type": "code",
   "execution_count": 70,
   "metadata": {
    "collapsed": true
   },
   "outputs": [],
   "source": [
    "norm_col_names = [\"norm_\" + i for j in [i[\"col_names\"] for i in norm_cols] for i in j]"
   ]
  },
  {
   "cell_type": "code",
   "execution_count": 71,
   "metadata": {
    "collapsed": false
   },
   "outputs": [],
   "source": [
    "ny_map_county_squares_w_adjust[\"square_id\"] = ny_map_county_squares_w_adjust.index"
   ]
  },
  {
   "cell_type": "code",
   "execution_count": 72,
   "metadata": {
    "collapsed": false
   },
   "outputs": [],
   "source": [
    "ny_map_county_squares_w_adjust[[\"square_id\", \"county\", \"county_id\"] + norm_col_names].to_json(\n",
    "    \"./untangled_norm_county_squares_ver2.json\", orient = \"records\")"
   ]
  },
  {
   "cell_type": "code",
   "execution_count": 73,
   "metadata": {
    "collapsed": false
   },
   "outputs": [
    {
     "data": {
      "text/html": [
       "<div>\n",
       "<style scoped>\n",
       "    .dataframe tbody tr th:only-of-type {\n",
       "        vertical-align: middle;\n",
       "    }\n",
       "\n",
       "    .dataframe tbody tr th {\n",
       "        vertical-align: top;\n",
       "    }\n",
       "\n",
       "    .dataframe thead th {\n",
       "        text-align: right;\n",
       "    }\n",
       "</style>\n",
       "<table border=\"1\" class=\"dataframe\">\n",
       "  <thead>\n",
       "    <tr style=\"text-align: right;\">\n",
       "      <th></th>\n",
       "      <th>county_name</th>\n",
       "      <th>lat</th>\n",
       "      <th>lng</th>\n",
       "      <th>state</th>\n",
       "      <th>lng_rank</th>\n",
       "      <th>lat_rank</th>\n",
       "      <th>nyc</th>\n",
       "      <th>min_lng_rank</th>\n",
       "      <th>min_lat_rank</th>\n",
       "      <th>max_lng_rank</th>\n",
       "      <th>...</th>\n",
       "      <th>norm_lat_rank</th>\n",
       "      <th>norm_lng_rank</th>\n",
       "      <th>norm_new_test_lat_rank</th>\n",
       "      <th>norm_min_new_test_lat_rank</th>\n",
       "      <th>norm_max_new_test_lat_rank</th>\n",
       "      <th>norm_new_test_lng_rank</th>\n",
       "      <th>norm_min_new_test_lng_rank</th>\n",
       "      <th>norm_max_new_test_lng_rank</th>\n",
       "      <th>county_id</th>\n",
       "      <th>square_id</th>\n",
       "    </tr>\n",
       "  </thead>\n",
       "  <tbody>\n",
       "    <tr>\n",
       "      <th>444</th>\n",
       "      <td>Bronx</td>\n",
       "      <td>40.878481</td>\n",
       "      <td>-73.865443</td>\n",
       "      <td>NY</td>\n",
       "      <td>60.0</td>\n",
       "      <td>8.0</td>\n",
       "      <td>True</td>\n",
       "      <td>60.0</td>\n",
       "      <td>7.0</td>\n",
       "      <td>60.0</td>\n",
       "      <td>...</td>\n",
       "      <td>0.078947</td>\n",
       "      <td>0.750000</td>\n",
       "      <td>0.489130</td>\n",
       "      <td>0.454480</td>\n",
       "      <td>0.52378</td>\n",
       "      <td>0.556725</td>\n",
       "      <td>0.520479</td>\n",
       "      <td>0.592970</td>\n",
       "      <td>58</td>\n",
       "      <td>444</td>\n",
       "    </tr>\n",
       "    <tr>\n",
       "      <th>1070</th>\n",
       "      <td>New York</td>\n",
       "      <td>40.761772</td>\n",
       "      <td>-73.967215</td>\n",
       "      <td>NY</td>\n",
       "      <td>59.0</td>\n",
       "      <td>6.0</td>\n",
       "      <td>True</td>\n",
       "      <td>59.0</td>\n",
       "      <td>6.0</td>\n",
       "      <td>59.0</td>\n",
       "      <td>...</td>\n",
       "      <td>0.052632</td>\n",
       "      <td>0.736842</td>\n",
       "      <td>0.318107</td>\n",
       "      <td>0.251033</td>\n",
       "      <td>0.38518</td>\n",
       "      <td>0.447267</td>\n",
       "      <td>0.377106</td>\n",
       "      <td>0.517428</td>\n",
       "      <td>61</td>\n",
       "      <td>1070</td>\n",
       "    </tr>\n",
       "    <tr>\n",
       "      <th>1547</th>\n",
       "      <td>Bronx</td>\n",
       "      <td>40.820127</td>\n",
       "      <td>-73.865443</td>\n",
       "      <td>NY</td>\n",
       "      <td>60.0</td>\n",
       "      <td>7.0</td>\n",
       "      <td>True</td>\n",
       "      <td>60.0</td>\n",
       "      <td>7.0</td>\n",
       "      <td>60.0</td>\n",
       "      <td>...</td>\n",
       "      <td>0.065789</td>\n",
       "      <td>0.750000</td>\n",
       "      <td>0.419830</td>\n",
       "      <td>0.385180</td>\n",
       "      <td>0.45448</td>\n",
       "      <td>0.556725</td>\n",
       "      <td>0.520479</td>\n",
       "      <td>0.592970</td>\n",
       "      <td>58</td>\n",
       "      <td>1547</td>\n",
       "    </tr>\n",
       "  </tbody>\n",
       "</table>\n",
       "<p>3 rows × 43 columns</p>\n",
       "</div>"
      ],
      "text/plain": [
       "     county_name        lat        lng state  lng_rank  lat_rank   nyc  \\\n",
       "444        Bronx  40.878481 -73.865443    NY      60.0       8.0  True   \n",
       "1070    New York  40.761772 -73.967215    NY      59.0       6.0  True   \n",
       "1547       Bronx  40.820127 -73.865443    NY      60.0       7.0  True   \n",
       "\n",
       "      min_lng_rank  min_lat_rank  max_lng_rank    ...      norm_lat_rank  \\\n",
       "444           60.0           7.0          60.0    ...           0.078947   \n",
       "1070          59.0           6.0          59.0    ...           0.052632   \n",
       "1547          60.0           7.0          60.0    ...           0.065789   \n",
       "\n",
       "      norm_lng_rank norm_new_test_lat_rank  norm_min_new_test_lat_rank  \\\n",
       "444        0.750000               0.489130                    0.454480   \n",
       "1070       0.736842               0.318107                    0.251033   \n",
       "1547       0.750000               0.419830                    0.385180   \n",
       "\n",
       "      norm_max_new_test_lat_rank  norm_new_test_lng_rank  \\\n",
       "444                      0.52378                0.556725   \n",
       "1070                     0.38518                0.447267   \n",
       "1547                     0.45448                0.556725   \n",
       "\n",
       "      norm_min_new_test_lng_rank  norm_max_new_test_lng_rank  county_id  \\\n",
       "444                     0.520479                    0.592970         58   \n",
       "1070                    0.377106                    0.517428         61   \n",
       "1547                    0.520479                    0.592970         58   \n",
       "\n",
       "      square_id  \n",
       "444         444  \n",
       "1070       1070  \n",
       "1547       1547  \n",
       "\n",
       "[3 rows x 43 columns]"
      ]
     },
     "execution_count": 73,
     "metadata": {},
     "output_type": "execute_result"
    }
   ],
   "source": [
    "ny_map_county_squares_w_adjust[ny_map_county_squares_w_adjust.county.isin([\"New York\", \"Bronx\"])]"
   ]
  },
  {
   "cell_type": "code",
   "execution_count": 48,
   "metadata": {
    "collapsed": false
   },
   "outputs": [
    {
     "data": {
      "text/html": [
       "<div>\n",
       "<style scoped>\n",
       "    .dataframe tbody tr th:only-of-type {\n",
       "        vertical-align: middle;\n",
       "    }\n",
       "\n",
       "    .dataframe tbody tr th {\n",
       "        vertical-align: top;\n",
       "    }\n",
       "\n",
       "    .dataframe thead th {\n",
       "        text-align: right;\n",
       "    }\n",
       "</style>\n",
       "<table border=\"1\" class=\"dataframe\">\n",
       "  <thead>\n",
       "    <tr style=\"text-align: right;\">\n",
       "      <th></th>\n",
       "      <th>lng_rank_x</th>\n",
       "      <th>sqrt_mult_x</th>\n",
       "      <th>prev_lng_x</th>\n",
       "      <th>lng_rank_y</th>\n",
       "      <th>sqrt_mult_y</th>\n",
       "      <th>prev_lng_y</th>\n",
       "      <th>lng_adjust</th>\n",
       "      <th>cum_lng_adjust</th>\n",
       "    </tr>\n",
       "  </thead>\n",
       "  <tbody>\n",
       "    <tr>\n",
       "      <th>55</th>\n",
       "      <td>58.0</td>\n",
       "      <td>56.968093</td>\n",
       "      <td>57.0</td>\n",
       "      <td>59.0</td>\n",
       "      <td>298.146613</td>\n",
       "      <td>58.0</td>\n",
       "      <td>120.589260</td>\n",
       "      <td>15749.079691</td>\n",
       "    </tr>\n",
       "    <tr>\n",
       "      <th>56</th>\n",
       "      <td>59.0</td>\n",
       "      <td>298.146613</td>\n",
       "      <td>58.0</td>\n",
       "      <td>60.0</td>\n",
       "      <td>166.988325</td>\n",
       "      <td>59.0</td>\n",
       "      <td>65.579144</td>\n",
       "      <td>15814.658834</td>\n",
       "    </tr>\n",
       "    <tr>\n",
       "      <th>57</th>\n",
       "      <td>60.0</td>\n",
       "      <td>166.988325</td>\n",
       "      <td>59.0</td>\n",
       "      <td>61.0</td>\n",
       "      <td>117.405447</td>\n",
       "      <td>60.0</td>\n",
       "      <td>155.949727</td>\n",
       "      <td>15970.608561</td>\n",
       "    </tr>\n",
       "    <tr>\n",
       "      <th>58</th>\n",
       "      <td>61.0</td>\n",
       "      <td>117.405447</td>\n",
       "      <td>60.0</td>\n",
       "      <td>62.0</td>\n",
       "      <td>45.806947</td>\n",
       "      <td>61.0</td>\n",
       "      <td>216.540415</td>\n",
       "      <td>16187.148976</td>\n",
       "    </tr>\n",
       "  </tbody>\n",
       "</table>\n",
       "</div>"
      ],
      "text/plain": [
       "    lng_rank_x  sqrt_mult_x  prev_lng_x  lng_rank_y  sqrt_mult_y  prev_lng_y  \\\n",
       "55        58.0    56.968093        57.0        59.0   298.146613        58.0   \n",
       "56        59.0   298.146613        58.0        60.0   166.988325        59.0   \n",
       "57        60.0   166.988325        59.0        61.0   117.405447        60.0   \n",
       "58        61.0   117.405447        60.0        62.0    45.806947        61.0   \n",
       "\n",
       "    lng_adjust  cum_lng_adjust  \n",
       "55  120.589260    15749.079691  \n",
       "56   65.579144    15814.658834  \n",
       "57  155.949727    15970.608561  \n",
       "58  216.540415    16187.148976  "
      ]
     },
     "execution_count": 48,
     "metadata": {},
     "output_type": "execute_result"
    }
   ],
   "source": [
    "lng_max_sqrt_mult[lng_max_sqrt_mult.lng_rank_x.between(58, 61)]"
   ]
  },
  {
   "cell_type": "code",
   "execution_count": 34,
   "metadata": {
    "collapsed": false
   },
   "outputs": [
    {
     "data": {
      "text/html": [
       "<div>\n",
       "<style scoped>\n",
       "    .dataframe tbody tr th:only-of-type {\n",
       "        vertical-align: middle;\n",
       "    }\n",
       "\n",
       "    .dataframe tbody tr th {\n",
       "        vertical-align: top;\n",
       "    }\n",
       "\n",
       "    .dataframe thead th {\n",
       "        text-align: right;\n",
       "    }\n",
       "</style>\n",
       "<table border=\"1\" class=\"dataframe\">\n",
       "  <thead>\n",
       "    <tr style=\"text-align: right;\">\n",
       "      <th></th>\n",
       "      <th>county</th>\n",
       "      <th>sqrt_mult</th>\n",
       "      <th>lng_rank</th>\n",
       "      <th>lat_rank</th>\n",
       "      <th>test_lng_rank</th>\n",
       "      <th>test_lat_rank</th>\n",
       "      <th>cum_lat_adjust</th>\n",
       "      <th>min_test_lat_rank</th>\n",
       "      <th>min_test_lng_rank</th>\n",
       "      <th>max_test_lat_rank</th>\n",
       "      <th>max_test_lng_rank</th>\n",
       "    </tr>\n",
       "  </thead>\n",
       "  <tbody>\n",
       "    <tr>\n",
       "      <th>444</th>\n",
       "      <td>Bronx</td>\n",
       "      <td>154.023147</td>\n",
       "      <td>60.0</td>\n",
       "      <td>8.0</td>\n",
       "      <td>17888.796755</td>\n",
       "      <td>2385.172901</td>\n",
       "      <td>922.900313</td>\n",
       "      <td>2308.161327</td>\n",
       "      <td>17811.785182</td>\n",
       "      <td>2462.184474</td>\n",
       "      <td>17965.808329</td>\n",
       "    </tr>\n",
       "    <tr>\n",
       "      <th>1070</th>\n",
       "      <td>New York</td>\n",
       "      <td>298.146613</td>\n",
       "      <td>59.0</td>\n",
       "      <td>6.0</td>\n",
       "      <td>17590.650143</td>\n",
       "      <td>1788.879676</td>\n",
       "      <td>634.653383</td>\n",
       "      <td>1639.806369</td>\n",
       "      <td>17441.576836</td>\n",
       "      <td>1937.952982</td>\n",
       "      <td>17739.723449</td>\n",
       "    </tr>\n",
       "    <tr>\n",
       "      <th>1547</th>\n",
       "      <td>Bronx</td>\n",
       "      <td>154.023147</td>\n",
       "      <td>60.0</td>\n",
       "      <td>7.0</td>\n",
       "      <td>17888.796755</td>\n",
       "      <td>2087.026288</td>\n",
       "      <td>778.776848</td>\n",
       "      <td>2010.014715</td>\n",
       "      <td>17811.785182</td>\n",
       "      <td>2164.037862</td>\n",
       "      <td>17965.808329</td>\n",
       "    </tr>\n",
       "  </tbody>\n",
       "</table>\n",
       "</div>"
      ],
      "text/plain": [
       "        county   sqrt_mult  lng_rank  lat_rank  test_lng_rank  test_lat_rank  \\\n",
       "444      Bronx  154.023147      60.0       8.0   17888.796755    2385.172901   \n",
       "1070  New York  298.146613      59.0       6.0   17590.650143    1788.879676   \n",
       "1547     Bronx  154.023147      60.0       7.0   17888.796755    2087.026288   \n",
       "\n",
       "      cum_lat_adjust  min_test_lat_rank  min_test_lng_rank  max_test_lat_rank  \\\n",
       "444       922.900313        2308.161327       17811.785182        2462.184474   \n",
       "1070      634.653383        1639.806369       17441.576836        1937.952982   \n",
       "1547      778.776848        2010.014715       17811.785182        2164.037862   \n",
       "\n",
       "      max_test_lng_rank  \n",
       "444        17965.808329  \n",
       "1070       17739.723449  \n",
       "1547       17965.808329  "
      ]
     },
     "execution_count": 34,
     "metadata": {},
     "output_type": "execute_result"
    }
   ],
   "source": [
    "get_min_max(ny_map_county_squares_w_adjust[ny_map_county_squares_w_adjust.county.isin([\"New York\", \"Bronx\"])][[\n",
    "    \"county\",\n",
    "    \"sqrt_mult\",\n",
    "    \"lng_rank\",\n",
    "    \"lat_rank\",\n",
    "    \"test_lng_rank\",\n",
    "    \"test_lat_rank\",\n",
    "    \"cum_lat_adjust\"\n",
    "]], \"test_{}_rank\")"
   ]
  },
  {
   "cell_type": "code",
   "execution_count": null,
   "metadata": {
    "collapsed": true
   },
   "outputs": [],
   "source": []
  }
 ],
 "metadata": {
  "kernelspec": {
   "display_name": "Python 3",
   "language": "python",
   "name": "python3"
  },
  "language_info": {
   "codemirror_mode": {
    "name": "ipython",
    "version": 3
   },
   "file_extension": ".py",
   "mimetype": "text/x-python",
   "name": "python",
   "nbconvert_exporter": "python",
   "pygments_lexer": "ipython3",
   "version": "3.5.4"
  }
 },
 "nbformat": 4,
 "nbformat_minor": 2
}
