{
 "cells": [
  {
   "cell_type": "markdown",
   "metadata": {},
   "source": [
    "# Untangling Counties Ver 3"
   ]
  },
  {
   "cell_type": "markdown",
   "metadata": {},
   "source": [
    "### Import libraries"
   ]
  },
  {
   "cell_type": "code",
   "execution_count": 1,
   "metadata": {
    "collapsed": true
   },
   "outputs": [],
   "source": [
    "import pandas as pd\n",
    "import numpy as np\n",
    "from tqdm import tqdm\n",
    "\n",
    "import matplotlib.pyplot as plt\n",
    "import seaborn as sns\n",
    "%matplotlib inline\n",
    "\n",
    "import colorlover as cl\n",
    "colors = [[i / 255 for i in j] for j in cl.to_numeric(cl.scales['5']['qual']['Dark2'])]"
   ]
  },
  {
   "cell_type": "markdown",
   "metadata": {},
   "source": [
    "### Functions"
   ]
  },
  {
   "cell_type": "code",
   "execution_count": 21,
   "metadata": {
    "collapsed": true
   },
   "outputs": [],
   "source": [
    "def ny_scatter2(ax, df, coord_col_name = \"test_{}_rank\"):\n",
    "    # fig, ax = plt.subplots(figsize = (s, s))\n",
    "    for ind, county in enumerate(df.county_name.unique()):\n",
    "        county_df = df[df.county_name == county]\n",
    "        ax.scatter(\n",
    "            y = county_df[coord_col_name.format(\"lat\")],\n",
    "            x = county_df[coord_col_name.format(\"lng\")],\n",
    "            s = county_df.sqrt_mult,\n",
    "            marker = \"s\",\n",
    "            label = county,\n",
    "            alpha = 0.7,\n",
    "            color = colors[ind % 5],\n",
    "            edgecolor = \"none\")\n",
    "    # ax.legend(loc = 9, bbox_to_anchor = (0.5,0))\n",
    "    # return fig\n",
    "    \n",
    "def get_min_max(df, center_col_name = \"prop_scaled_{}_rank\", side_col_name = \"sqrt_mult\"):\n",
    "    for si, i in enumerate([\"min\", \"max\"]):\n",
    "        for j in [\"lat\", \"lng\"]:\n",
    "            df[(\"{}_\" + center_col_name).format(i, j)] = (\n",
    "                df[center_col_name.format(j)] + (2 * si - 1) *\n",
    "                (df[side_col_name] / 2))\n",
    "    return df\n",
    "\n",
    "def normalize(df, col_names, min_col_name, max_col_name):\n",
    "    for c in col_names:\n",
    "        df[\"norm_\" + c] = (df[c] - df[min_col_name].min()) / (df[max_col_name].max() - df[min_col_name].min())\n",
    "    return df"
   ]
  },
  {
   "cell_type": "markdown",
   "metadata": {},
   "source": [
    "### Read in data"
   ]
  },
  {
   "cell_type": "code",
   "execution_count": 3,
   "metadata": {
    "collapsed": true
   },
   "outputs": [],
   "source": [
    "county_shapes = pd.read_csv(\"./ny_county_shapes.csv\").set_index(\"county_name\")\n",
    "ny_map_county_squares = pd.read_csv(\"./ny_map_county_squares.csv\")"
   ]
  },
  {
   "cell_type": "code",
   "execution_count": 4,
   "metadata": {
    "collapsed": false
   },
   "outputs": [
    {
     "data": {
      "text/html": [
       "<div>\n",
       "<style scoped>\n",
       "    .dataframe tbody tr th:only-of-type {\n",
       "        vertical-align: middle;\n",
       "    }\n",
       "\n",
       "    .dataframe tbody tr th {\n",
       "        vertical-align: top;\n",
       "    }\n",
       "\n",
       "    .dataframe thead th {\n",
       "        text-align: right;\n",
       "    }\n",
       "</style>\n",
       "<table border=\"1\" class=\"dataframe\">\n",
       "  <thead>\n",
       "    <tr style=\"text-align: right;\">\n",
       "      <th></th>\n",
       "      <th>county_name</th>\n",
       "      <th>lat</th>\n",
       "      <th>lng</th>\n",
       "      <th>state</th>\n",
       "      <th>lng_rank</th>\n",
       "      <th>lat_rank</th>\n",
       "      <th>nyc</th>\n",
       "      <th>min_lng_rank</th>\n",
       "      <th>min_lat_rank</th>\n",
       "      <th>max_lng_rank</th>\n",
       "      <th>...</th>\n",
       "      <th>ttl</th>\n",
       "      <th>pre_mult</th>\n",
       "      <th>mult</th>\n",
       "      <th>sqrt_mult</th>\n",
       "      <th>mid_lng_rank</th>\n",
       "      <th>mid_lat_rank</th>\n",
       "      <th>scaled_lng_rank</th>\n",
       "      <th>scaled_lat_rank</th>\n",
       "      <th>test_lat_rank</th>\n",
       "      <th>test_lng_rank</th>\n",
       "    </tr>\n",
       "  </thead>\n",
       "  <tbody>\n",
       "    <tr>\n",
       "      <th>0</th>\n",
       "      <td>Montgomery</td>\n",
       "      <td>42.920886</td>\n",
       "      <td>-74.476076</td>\n",
       "      <td>NY</td>\n",
       "      <td>54.0</td>\n",
       "      <td>43.0</td>\n",
       "      <td>False</td>\n",
       "      <td>52.0</td>\n",
       "      <td>41.0</td>\n",
       "      <td>57.0</td>\n",
       "      <td>...</td>\n",
       "      <td>1522</td>\n",
       "      <td>72.476190</td>\n",
       "      <td>27.296228</td>\n",
       "      <td>5.224579</td>\n",
       "      <td>54.5</td>\n",
       "      <td>42.5</td>\n",
       "      <td>51.387710</td>\n",
       "      <td>45.612290</td>\n",
       "      <td>12820.304341</td>\n",
       "      <td>16099.917080</td>\n",
       "    </tr>\n",
       "    <tr>\n",
       "      <th>1</th>\n",
       "      <td>Chautauqua</td>\n",
       "      <td>42.162278</td>\n",
       "      <td>-79.666456</td>\n",
       "      <td>NY</td>\n",
       "      <td>3.0</td>\n",
       "      <td>30.0</td>\n",
       "      <td>False</td>\n",
       "      <td>3.0</td>\n",
       "      <td>28.0</td>\n",
       "      <td>8.0</td>\n",
       "      <td>...</td>\n",
       "      <td>4765</td>\n",
       "      <td>108.295455</td>\n",
       "      <td>40.786600</td>\n",
       "      <td>6.386439</td>\n",
       "      <td>5.5</td>\n",
       "      <td>32.0</td>\n",
       "      <td>-12.966097</td>\n",
       "      <td>17.227123</td>\n",
       "      <td>8944.398378</td>\n",
       "      <td>894.439838</td>\n",
       "    </tr>\n",
       "    <tr>\n",
       "      <th>2</th>\n",
       "      <td>Rensselaer</td>\n",
       "      <td>42.862532</td>\n",
       "      <td>-73.661899</td>\n",
       "      <td>NY</td>\n",
       "      <td>62.0</td>\n",
       "      <td>42.0</td>\n",
       "      <td>False</td>\n",
       "      <td>61.0</td>\n",
       "      <td>36.0</td>\n",
       "      <td>65.0</td>\n",
       "      <td>...</td>\n",
       "      <td>7983</td>\n",
       "      <td>249.468750</td>\n",
       "      <td>93.955763</td>\n",
       "      <td>9.693078</td>\n",
       "      <td>63.0</td>\n",
       "      <td>39.5</td>\n",
       "      <td>52.306922</td>\n",
       "      <td>66.232695</td>\n",
       "      <td>12522.157729</td>\n",
       "      <td>18485.089980</td>\n",
       "    </tr>\n",
       "    <tr>\n",
       "      <th>3</th>\n",
       "      <td>St Lawrence</td>\n",
       "      <td>44.379747</td>\n",
       "      <td>-75.392025</td>\n",
       "      <td>NY</td>\n",
       "      <td>45.0</td>\n",
       "      <td>68.0</td>\n",
       "      <td>False</td>\n",
       "      <td>41.0</td>\n",
       "      <td>63.0</td>\n",
       "      <td>53.0</td>\n",
       "      <td>...</td>\n",
       "      <td>3837</td>\n",
       "      <td>27.804348</td>\n",
       "      <td>10.471767</td>\n",
       "      <td>3.236011</td>\n",
       "      <td>47.0</td>\n",
       "      <td>70.5</td>\n",
       "      <td>38.527978</td>\n",
       "      <td>59.909972</td>\n",
       "      <td>20273.969656</td>\n",
       "      <td>13416.597566</td>\n",
       "    </tr>\n",
       "    <tr>\n",
       "      <th>4</th>\n",
       "      <td>Delaware</td>\n",
       "      <td>41.987215</td>\n",
       "      <td>-74.984937</td>\n",
       "      <td>NY</td>\n",
       "      <td>49.0</td>\n",
       "      <td>27.0</td>\n",
       "      <td>False</td>\n",
       "      <td>45.0</td>\n",
       "      <td>25.0</td>\n",
       "      <td>54.0</td>\n",
       "      <td>...</td>\n",
       "      <td>1949</td>\n",
       "      <td>27.842857</td>\n",
       "      <td>10.486271</td>\n",
       "      <td>3.238251</td>\n",
       "      <td>49.5</td>\n",
       "      <td>30.0</td>\n",
       "      <td>47.380874</td>\n",
       "      <td>17.285246</td>\n",
       "      <td>8049.958540</td>\n",
       "      <td>14609.184017</td>\n",
       "    </tr>\n",
       "  </tbody>\n",
       "</table>\n",
       "<p>5 rows × 23 columns</p>\n",
       "</div>"
      ],
      "text/plain": [
       "   county_name        lat        lng state  lng_rank  lat_rank    nyc  \\\n",
       "0   Montgomery  42.920886 -74.476076    NY      54.0      43.0  False   \n",
       "1   Chautauqua  42.162278 -79.666456    NY       3.0      30.0  False   \n",
       "2   Rensselaer  42.862532 -73.661899    NY      62.0      42.0  False   \n",
       "3  St Lawrence  44.379747 -75.392025    NY      45.0      68.0  False   \n",
       "4     Delaware  41.987215 -74.984937    NY      49.0      27.0  False   \n",
       "\n",
       "   min_lng_rank  min_lat_rank  max_lng_rank      ...         ttl    pre_mult  \\\n",
       "0          52.0          41.0          57.0      ...        1522   72.476190   \n",
       "1           3.0          28.0           8.0      ...        4765  108.295455   \n",
       "2          61.0          36.0          65.0      ...        7983  249.468750   \n",
       "3          41.0          63.0          53.0      ...        3837   27.804348   \n",
       "4          45.0          25.0          54.0      ...        1949   27.842857   \n",
       "\n",
       "        mult  sqrt_mult  mid_lng_rank  mid_lat_rank  scaled_lng_rank  \\\n",
       "0  27.296228   5.224579          54.5          42.5        51.387710   \n",
       "1  40.786600   6.386439           5.5          32.0       -12.966097   \n",
       "2  93.955763   9.693078          63.0          39.5        52.306922   \n",
       "3  10.471767   3.236011          47.0          70.5        38.527978   \n",
       "4  10.486271   3.238251          49.5          30.0        47.380874   \n",
       "\n",
       "   scaled_lat_rank  test_lat_rank  test_lng_rank  \n",
       "0        45.612290   12820.304341   16099.917080  \n",
       "1        17.227123    8944.398378     894.439838  \n",
       "2        66.232695   12522.157729   18485.089980  \n",
       "3        59.909972   20273.969656   13416.597566  \n",
       "4        17.285246    8049.958540   14609.184017  \n",
       "\n",
       "[5 rows x 23 columns]"
      ]
     },
     "execution_count": 4,
     "metadata": {},
     "output_type": "execute_result"
    }
   ],
   "source": [
    "ny_map_county_squares.head()"
   ]
  },
  {
   "cell_type": "code",
   "execution_count": 5,
   "metadata": {
    "collapsed": false
   },
   "outputs": [
    {
     "data": {
      "text/plain": [
       "(79.0, 3.0)"
      ]
     },
     "execution_count": 5,
     "metadata": {},
     "output_type": "execute_result"
    }
   ],
   "source": [
    "ny_map_county_squares.lng_rank.max(), ny_map_county_squares.lng_rank.min()"
   ]
  },
  {
   "cell_type": "code",
   "execution_count": 6,
   "metadata": {
    "collapsed": false
   },
   "outputs": [
    {
     "data": {
      "text/plain": [
       "(78.0, 2.0)"
      ]
     },
     "execution_count": 6,
     "metadata": {},
     "output_type": "execute_result"
    }
   ],
   "source": [
    "ny_map_county_squares.lat_rank.max(), ny_map_county_squares.lat_rank.min()"
   ]
  },
  {
   "cell_type": "code",
   "execution_count": 7,
   "metadata": {
    "collapsed": true
   },
   "outputs": [],
   "source": [
    "lat_max_sqrt_mult = ny_map_county_squares.groupby([\"lat_rank\"], as_index = False)[\"sqrt_mult\"].max()\n",
    "lng_max_sqrt_mult = ny_map_county_squares.groupby([\"lng_rank\"], as_index = False)[\"sqrt_mult\"].max()"
   ]
  },
  {
   "cell_type": "code",
   "execution_count": 8,
   "metadata": {
    "collapsed": false
   },
   "outputs": [],
   "source": [
    "max_sqrt_mult = ny_map_county_squares.sqrt_mult.max()"
   ]
  },
  {
   "cell_type": "code",
   "execution_count": 9,
   "metadata": {
    "collapsed": false
   },
   "outputs": [
    {
     "data": {
      "text/plain": [
       "298.146612587503"
      ]
     },
     "execution_count": 9,
     "metadata": {},
     "output_type": "execute_result"
    }
   ],
   "source": [
    "max_sqrt_mult"
   ]
  },
  {
   "cell_type": "code",
   "execution_count": 10,
   "metadata": {
    "collapsed": true
   },
   "outputs": [],
   "source": [
    "lat_max_sqrt_mult[\"lat_adjust\"] = max_sqrt_mult - lat_max_sqrt_mult[\"sqrt_mult\"]\n",
    "lng_max_sqrt_mult[\"lng_adjust\"] = max_sqrt_mult - lng_max_sqrt_mult[\"sqrt_mult\"]"
   ]
  },
  {
   "cell_type": "code",
   "execution_count": 12,
   "metadata": {
    "collapsed": false
   },
   "outputs": [],
   "source": [
    "lat_max_sqrt_mult[\"cum_lat_adjust\"] = lat_max_sqrt_mult.lat_adjust.cumsum()\n",
    "lng_max_sqrt_mult[\"cum_lng_adjust\"] = lng_max_sqrt_mult.lng_adjust.cumsum()"
   ]
  },
  {
   "cell_type": "code",
   "execution_count": 13,
   "metadata": {
    "collapsed": false
   },
   "outputs": [
    {
     "data": {
      "text/html": [
       "<div>\n",
       "<style scoped>\n",
       "    .dataframe tbody tr th:only-of-type {\n",
       "        vertical-align: middle;\n",
       "    }\n",
       "\n",
       "    .dataframe tbody tr th {\n",
       "        vertical-align: top;\n",
       "    }\n",
       "\n",
       "    .dataframe thead th {\n",
       "        text-align: right;\n",
       "    }\n",
       "</style>\n",
       "<table border=\"1\" class=\"dataframe\">\n",
       "  <thead>\n",
       "    <tr style=\"text-align: right;\">\n",
       "      <th></th>\n",
       "      <th>lat_rank</th>\n",
       "      <th>sqrt_mult</th>\n",
       "      <th>lat_adjust</th>\n",
       "      <th>cum_lat_adjust</th>\n",
       "    </tr>\n",
       "  </thead>\n",
       "  <tbody>\n",
       "    <tr>\n",
       "      <th>0</th>\n",
       "      <td>2.0</td>\n",
       "      <td>56.968093</td>\n",
       "      <td>241.178519</td>\n",
       "      <td>241.178519</td>\n",
       "    </tr>\n",
       "    <tr>\n",
       "      <th>1</th>\n",
       "      <td>3.0</td>\n",
       "      <td>166.988325</td>\n",
       "      <td>131.158288</td>\n",
       "      <td>372.336807</td>\n",
       "    </tr>\n",
       "    <tr>\n",
       "      <th>2</th>\n",
       "      <td>4.0</td>\n",
       "      <td>166.988325</td>\n",
       "      <td>131.158288</td>\n",
       "      <td>503.495095</td>\n",
       "    </tr>\n",
       "    <tr>\n",
       "      <th>3</th>\n",
       "      <td>5.0</td>\n",
       "      <td>166.988325</td>\n",
       "      <td>131.158288</td>\n",
       "      <td>634.653383</td>\n",
       "    </tr>\n",
       "    <tr>\n",
       "      <th>4</th>\n",
       "      <td>6.0</td>\n",
       "      <td>298.146613</td>\n",
       "      <td>0.000000</td>\n",
       "      <td>634.653383</td>\n",
       "    </tr>\n",
       "  </tbody>\n",
       "</table>\n",
       "</div>"
      ],
      "text/plain": [
       "   lat_rank   sqrt_mult  lat_adjust  cum_lat_adjust\n",
       "0       2.0   56.968093  241.178519      241.178519\n",
       "1       3.0  166.988325  131.158288      372.336807\n",
       "2       4.0  166.988325  131.158288      503.495095\n",
       "3       5.0  166.988325  131.158288      634.653383\n",
       "4       6.0  298.146613    0.000000      634.653383"
      ]
     },
     "execution_count": 13,
     "metadata": {},
     "output_type": "execute_result"
    }
   ],
   "source": [
    "lat_max_sqrt_mult.head()"
   ]
  },
  {
   "cell_type": "code",
   "execution_count": 14,
   "metadata": {
    "collapsed": false
   },
   "outputs": [],
   "source": [
    "ny_map_county_squares_w_adjust = ny_map_county_squares.merge(\n",
    "    right = lat_max_sqrt_mult[[\"lat_rank\", \"cum_lat_adjust\"]],\n",
    "    on = \"lat_rank\",\n",
    "    how = \"left\").merge(\n",
    "    right = lng_max_sqrt_mult[[\"lng_rank\", \"cum_lng_adjust\"]],\n",
    "    on = \"lng_rank\",\n",
    "    how = \"left\")"
   ]
  },
  {
   "cell_type": "code",
   "execution_count": 15,
   "metadata": {
    "collapsed": false
   },
   "outputs": [],
   "source": [
    "for i in [\"lat\", \"lng\"]:\n",
    "    ny_map_county_squares_w_adjust[\"new_test_{}_rank\".format(i)] = (\n",
    "        ny_map_county_squares_w_adjust[\"test_{}_rank\".format(i)] - ny_map_county_squares_w_adjust[\"cum_{}_adjust\".format(i)])"
   ]
  },
  {
   "cell_type": "code",
   "execution_count": 17,
   "metadata": {
    "collapsed": false
   },
   "outputs": [
    {
     "data": {
      "image/png": "[encoded data removed]",
      "text/plain": [
       "<matplotlib.figure.Figure at 0x7fd853cce748>"
      ]
     },
     "metadata": {
      "needs_background": "light"
     },
     "output_type": "display_data"
    }
   ],
   "source": [
    "fig, ax = plt.subplots(figsize = (5, 5))\n",
    "ny_scatter2(ax, ny_map_county_squares_w_adjust)"
   ]
  },
  {
   "cell_type": "code",
   "execution_count": 18,
   "metadata": {
    "collapsed": false
   },
   "outputs": [
    {
     "data": {
      "image/png": "[encoded data removed]",
      "text/plain": [
       "<matplotlib.figure.Figure at 0x7fd853cb1a58>"
      ]
     },
     "metadata": {
      "needs_background": "light"
     },
     "output_type": "display_data"
    }
   ],
   "source": [
    "fig, ax = plt.subplots(figsize = (5, 5))\n",
    "ny_scatter2(ax, ny_map_county_squares_w_adjust, coord_col_name = \"new_test_{}_rank\")"
   ]
  },
  {
   "cell_type": "code",
   "execution_count": 20,
   "metadata": {
    "collapsed": true
   },
   "outputs": [],
   "source": [
    "ny_map_county_squares_w_adjust = get_min_max(ny_map_county_squares_w_adjust, center_col_name = \"new_test_{}_rank\")"
   ]
  },
  {
   "cell_type": "code",
   "execution_count": 22,
   "metadata": {
    "collapsed": true
   },
   "outputs": [],
   "source": [
    "norm_cols = ([{\n",
    "    \"col_names\": [\"{}_rank\".format(i)],\n",
    "    \"min_col_name\": \"{}_rank\".format(i),\n",
    "    \"max_col_name\": \"{}_rank\".format(i)} for i in [\"lat\", \"lng\"]] + \n",
    "    [{\n",
    "    \"col_names\": [\"{}new_test_{}_rank\".format(j, i) for j in [\"\", \"min_\", \"max_\"]],\n",
    "    \"min_col_name\": \"min_new_test_{}_rank\".format(i),\n",
    "    \"max_col_name\": \"max_new_test_{}_rank\".format(i)} for i in [\"lat\", \"lng\"]])\n",
    "\n",
    "for i in norm_cols:\n",
    "    ny_map_county_squares_w_adjust = normalize(ny_map_county_squares_w_adjust, col_names = i[\"col_names\"], min_col_name = i[\"min_col_name\"], max_col_name = i[\"max_col_name\"])"
   ]
  },
  {
   "cell_type": "code",
   "execution_count": 23,
   "metadata": {
    "collapsed": false
   },
   "outputs": [
    {
     "data": {
      "text/plain": [
       "Index(['county_name', 'lat', 'lng', 'state', 'lng_rank', 'lat_rank', 'nyc',\n",
       "       'min_lng_rank', 'min_lat_rank', 'max_lng_rank', 'max_lat_rank',\n",
       "       'num_squares', 'county', 'ttl', 'pre_mult', 'mult', 'sqrt_mult',\n",
       "       'mid_lng_rank', 'mid_lat_rank', 'scaled_lng_rank', 'scaled_lat_rank',\n",
       "       'test_lat_rank', 'test_lng_rank', 'cum_lat_adjust', 'cum_lng_adjust',\n",
       "       'new_test_lat_rank', 'new_test_lng_rank', 'min_new_test_lat_rank',\n",
       "       'min_new_test_lng_rank', 'max_new_test_lat_rank',\n",
       "       'max_new_test_lng_rank', 'norm_lat_rank', 'norm_lng_rank',\n",
       "       'norm_new_test_lat_rank', 'norm_min_new_test_lat_rank',\n",
       "       'norm_max_new_test_lat_rank', 'norm_new_test_lng_rank',\n",
       "       'norm_min_new_test_lng_rank', 'norm_max_new_test_lng_rank'],\n",
       "      dtype='object')"
      ]
     },
     "execution_count": 23,
     "metadata": {},
     "output_type": "execute_result"
    }
   ],
   "source": [
    "ny_map_county_squares_w_adjust.columns"
   ]
  },
  {
   "cell_type": "code",
   "execution_count": 24,
   "metadata": {
    "collapsed": true
   },
   "outputs": [],
   "source": [
    "counties = ny_map_county_squares_w_adjust[[\"county\"]].drop_duplicates().reset_index()\n",
    "counties[\"county_id\"] = counties.index"
   ]
  },
  {
   "cell_type": "code",
   "execution_count": 25,
   "metadata": {
    "collapsed": true
   },
   "outputs": [],
   "source": [
    "ny_map_county_squares_w_adjust = ny_map_county_squares_w_adjust.merge(right = counties[[\"county\", \"county_id\"]], on = [\"county\"], how = \"left\")"
   ]
  },
  {
   "cell_type": "code",
   "execution_count": 26,
   "metadata": {
    "collapsed": true
   },
   "outputs": [],
   "source": [
    "norm_col_names = [\"norm_\" + i for j in [i[\"col_names\"] for i in norm_cols] for i in j]"
   ]
  },
  {
   "cell_type": "code",
   "execution_count": 31,
   "metadata": {
    "collapsed": false
   },
   "outputs": [],
   "source": [
    "ny_map_county_squares_w_adjust[\"square_id\"] = ny_map_county_squares_w_adjust.index"
   ]
  },
  {
   "cell_type": "code",
   "execution_count": 32,
   "metadata": {
    "collapsed": false
   },
   "outputs": [],
   "source": [
    "ny_map_county_squares_w_adjust[[\"square_id\", \"county\", \"county_id\"] + norm_col_names].to_json(\n",
    "    \"./untangled_norm_county_squares_ver2.json\", orient = \"records\")"
   ]
  },
  {
   "cell_type": "code",
   "execution_count": null,
   "metadata": {
    "collapsed": true
   },
   "outputs": [],
   "source": []
  }
 ],
 "metadata": {
  "kernelspec": {
   "display_name": "Python 3",
   "language": "python",
   "name": "python3"
  },
  "language_info": {
   "codemirror_mode": {
    "name": "ipython",
    "version": 3
   },
   "file_extension": ".py",
   "mimetype": "text/x-python",
   "name": "python",
   "nbconvert_exporter": "python",
   "pygments_lexer": "ipython3",
   "version": "3.5.4"
  }
 },
 "nbformat": 4,
 "nbformat_minor": 2
}
