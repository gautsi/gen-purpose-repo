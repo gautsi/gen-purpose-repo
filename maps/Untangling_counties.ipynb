{
 "cells": [
  {
   "cell_type": "code",
   "execution_count": 1,
   "metadata": {
    "collapsed": true
   },
   "outputs": [],
   "source": [
    "import pandas as pd"
   ]
  },
  {
   "cell_type": "code",
   "execution_count": 2,
   "metadata": {
    "collapsed": true
   },
   "outputs": [],
   "source": [
    "county_shapes = pd.read_csv(\"./ny_county_shapes.csv\")"
   ]
  },
  {
   "cell_type": "code",
   "execution_count": 3,
   "metadata": {
    "collapsed": false
   },
   "outputs": [
    {
     "data": {
      "text/plain": [
       "62"
      ]
     },
     "execution_count": 3,
     "metadata": {},
     "output_type": "execute_result"
    }
   ],
   "source": [
    "len(county_shapes)"
   ]
  },
  {
   "cell_type": "code",
   "execution_count": 7,
   "metadata": {
    "collapsed": false
   },
   "outputs": [],
   "source": [
    "county_shapes[\"dummy\"] = 1"
   ]
  },
  {
   "cell_type": "code",
   "execution_count": 8,
   "metadata": {
    "collapsed": true
   },
   "outputs": [],
   "source": [
    "county_shapes_join = county_shapes.merge(right = county_shapes, on = \"dummy\", how = \"left\")"
   ]
  },
  {
   "cell_type": "code",
   "execution_count": 11,
   "metadata": {
    "collapsed": false
   },
   "outputs": [],
   "source": [
    "county_shapes_join_diff = county_shapes_join[~(county_shapes_join.county_x == county_shapes_join.county_y)]"
   ]
  },
  {
   "cell_type": "code",
   "execution_count": 12,
   "metadata": {
    "collapsed": false
   },
   "outputs": [
    {
     "data": {
      "text/html": [
       "<div>\n",
       "<style scoped>\n",
       "    .dataframe tbody tr th:only-of-type {\n",
       "        vertical-align: middle;\n",
       "    }\n",
       "\n",
       "    .dataframe tbody tr th {\n",
       "        vertical-align: top;\n",
       "    }\n",
       "\n",
       "    .dataframe thead th {\n",
       "        text-align: right;\n",
       "    }\n",
       "</style>\n",
       "<table border=\"1\" class=\"dataframe\">\n",
       "  <thead>\n",
       "    <tr style=\"text-align: right;\">\n",
       "      <th></th>\n",
       "      <th>county_name_x</th>\n",
       "      <th>min_lng_rank_x</th>\n",
       "      <th>min_lat_rank_x</th>\n",
       "      <th>max_lng_rank_x</th>\n",
       "      <th>max_lat_rank_x</th>\n",
       "      <th>num_squares_x</th>\n",
       "      <th>county_x</th>\n",
       "      <th>ttl_x</th>\n",
       "      <th>pre_mult_x</th>\n",
       "      <th>mult_x</th>\n",
       "      <th>...</th>\n",
       "      <th>mult_y</th>\n",
       "      <th>sqrt_mult_y</th>\n",
       "      <th>mid_lng_rank_y</th>\n",
       "      <th>mid_lat_rank_y</th>\n",
       "      <th>lat_rank_range_y</th>\n",
       "      <th>scaled_min_lat_rank_y</th>\n",
       "      <th>scaled_max_lat_rank_y</th>\n",
       "      <th>lng_rank_range_y</th>\n",
       "      <th>scaled_min_lng_rank_y</th>\n",
       "      <th>scaled_max_lng_rank_y</th>\n",
       "    </tr>\n",
       "  </thead>\n",
       "  <tbody>\n",
       "    <tr>\n",
       "      <th>1</th>\n",
       "      <td>Albany</td>\n",
       "      <td>57.0</td>\n",
       "      <td>35.0</td>\n",
       "      <td>61.0</td>\n",
       "      <td>40.0</td>\n",
       "      <td>24</td>\n",
       "      <td>Albany</td>\n",
       "      <td>27049</td>\n",
       "      <td>1127.041667</td>\n",
       "      <td>424.470238</td>\n",
       "      <td>...</td>\n",
       "      <td>10.414455</td>\n",
       "      <td>3.227143</td>\n",
       "      <td>19.5</td>\n",
       "      <td>32.0</td>\n",
       "      <td>9.0</td>\n",
       "      <td>17.477854</td>\n",
       "      <td>46.522146</td>\n",
       "      <td>6.0</td>\n",
       "      <td>9.818570</td>\n",
       "      <td>29.181430</td>\n",
       "    </tr>\n",
       "    <tr>\n",
       "      <th>2</th>\n",
       "      <td>Albany</td>\n",
       "      <td>57.0</td>\n",
       "      <td>35.0</td>\n",
       "      <td>61.0</td>\n",
       "      <td>40.0</td>\n",
       "      <td>24</td>\n",
       "      <td>Albany</td>\n",
       "      <td>27049</td>\n",
       "      <td>1127.041667</td>\n",
       "      <td>424.470238</td>\n",
       "      <td>...</td>\n",
       "      <td>23723.129870</td>\n",
       "      <td>154.023147</td>\n",
       "      <td>60.0</td>\n",
       "      <td>7.5</td>\n",
       "      <td>2.0</td>\n",
       "      <td>-146.523147</td>\n",
       "      <td>161.523147</td>\n",
       "      <td>1.0</td>\n",
       "      <td>-17.011574</td>\n",
       "      <td>137.011574</td>\n",
       "    </tr>\n",
       "    <tr>\n",
       "      <th>3</th>\n",
       "      <td>Albany</td>\n",
       "      <td>57.0</td>\n",
       "      <td>35.0</td>\n",
       "      <td>61.0</td>\n",
       "      <td>40.0</td>\n",
       "      <td>24</td>\n",
       "      <td>Albany</td>\n",
       "      <td>27049</td>\n",
       "      <td>1127.041667</td>\n",
       "      <td>424.470238</td>\n",
       "      <td>...</td>\n",
       "      <td>113.489177</td>\n",
       "      <td>10.653130</td>\n",
       "      <td>41.0</td>\n",
       "      <td>31.0</td>\n",
       "      <td>7.0</td>\n",
       "      <td>-6.285955</td>\n",
       "      <td>68.285955</td>\n",
       "      <td>7.0</td>\n",
       "      <td>3.714045</td>\n",
       "      <td>78.285955</td>\n",
       "    </tr>\n",
       "    <tr>\n",
       "      <th>4</th>\n",
       "      <td>Albany</td>\n",
       "      <td>57.0</td>\n",
       "      <td>35.0</td>\n",
       "      <td>61.0</td>\n",
       "      <td>40.0</td>\n",
       "      <td>24</td>\n",
       "      <td>Albany</td>\n",
       "      <td>27049</td>\n",
       "      <td>1127.041667</td>\n",
       "      <td>424.470238</td>\n",
       "      <td>...</td>\n",
       "      <td>12.546618</td>\n",
       "      <td>3.542120</td>\n",
       "      <td>12.5</td>\n",
       "      <td>32.0</td>\n",
       "      <td>9.0</td>\n",
       "      <td>16.060458</td>\n",
       "      <td>47.939542</td>\n",
       "      <td>8.0</td>\n",
       "      <td>-1.668482</td>\n",
       "      <td>26.668482</td>\n",
       "    </tr>\n",
       "    <tr>\n",
       "      <th>5</th>\n",
       "      <td>Albany</td>\n",
       "      <td>57.0</td>\n",
       "      <td>35.0</td>\n",
       "      <td>61.0</td>\n",
       "      <td>40.0</td>\n",
       "      <td>24</td>\n",
       "      <td>Albany</td>\n",
       "      <td>27049</td>\n",
       "      <td>1127.041667</td>\n",
       "      <td>424.470238</td>\n",
       "      <td>...</td>\n",
       "      <td>35.779221</td>\n",
       "      <td>5.981573</td>\n",
       "      <td>34.0</td>\n",
       "      <td>44.0</td>\n",
       "      <td>13.0</td>\n",
       "      <td>5.119773</td>\n",
       "      <td>82.880227</td>\n",
       "      <td>5.0</td>\n",
       "      <td>19.046066</td>\n",
       "      <td>48.953934</td>\n",
       "    </tr>\n",
       "  </tbody>\n",
       "</table>\n",
       "<p>5 rows × 39 columns</p>\n",
       "</div>"
      ],
      "text/plain": [
       "  county_name_x  min_lng_rank_x  min_lat_rank_x  max_lng_rank_x  \\\n",
       "1        Albany            57.0            35.0            61.0   \n",
       "2        Albany            57.0            35.0            61.0   \n",
       "3        Albany            57.0            35.0            61.0   \n",
       "4        Albany            57.0            35.0            61.0   \n",
       "5        Albany            57.0            35.0            61.0   \n",
       "\n",
       "   max_lat_rank_x  num_squares_x county_x  ttl_x   pre_mult_x      mult_x  \\\n",
       "1            40.0             24   Albany  27049  1127.041667  424.470238   \n",
       "2            40.0             24   Albany  27049  1127.041667  424.470238   \n",
       "3            40.0             24   Albany  27049  1127.041667  424.470238   \n",
       "4            40.0             24   Albany  27049  1127.041667  424.470238   \n",
       "5            40.0             24   Albany  27049  1127.041667  424.470238   \n",
       "\n",
       "           ...                  mult_y  sqrt_mult_y  mid_lng_rank_y  \\\n",
       "1          ...               10.414455     3.227143            19.5   \n",
       "2          ...            23723.129870   154.023147            60.0   \n",
       "3          ...              113.489177    10.653130            41.0   \n",
       "4          ...               12.546618     3.542120            12.5   \n",
       "5          ...               35.779221     5.981573            34.0   \n",
       "\n",
       "   mid_lat_rank_y  lat_rank_range_y  scaled_min_lat_rank_y  \\\n",
       "1            32.0               9.0              17.477854   \n",
       "2             7.5               2.0            -146.523147   \n",
       "3            31.0               7.0              -6.285955   \n",
       "4            32.0               9.0              16.060458   \n",
       "5            44.0              13.0               5.119773   \n",
       "\n",
       "   scaled_max_lat_rank_y  lng_rank_range_y  scaled_min_lng_rank_y  \\\n",
       "1              46.522146               6.0               9.818570   \n",
       "2             161.523147               1.0             -17.011574   \n",
       "3              68.285955               7.0               3.714045   \n",
       "4              47.939542               8.0              -1.668482   \n",
       "5              82.880227               5.0              19.046066   \n",
       "\n",
       "   scaled_max_lng_rank_y  \n",
       "1              29.181430  \n",
       "2             137.011574  \n",
       "3              78.285955  \n",
       "4              26.668482  \n",
       "5              48.953934  \n",
       "\n",
       "[5 rows x 39 columns]"
      ]
     },
     "execution_count": 12,
     "metadata": {},
     "output_type": "execute_result"
    }
   ],
   "source": [
    "county_shapes_join_diff.head()"
   ]
  },
  {
   "cell_type": "code",
   "execution_count": null,
   "metadata": {
    "collapsed": true
   },
   "outputs": [],
   "source": []
  }
 ],
 "metadata": {
  "kernelspec": {
   "display_name": "Python 3",
   "language": "python",
   "name": "python3"
  },
  "language_info": {
   "codemirror_mode": {
    "name": "ipython",
    "version": 3
   },
   "file_extension": ".py",
   "mimetype": "text/x-python",
   "name": "python",
   "nbconvert_exporter": "python",
   "pygments_lexer": "ipython3",
   "version": "3.5.4"
  }
 },
 "nbformat": 4,
 "nbformat_minor": 2
}
