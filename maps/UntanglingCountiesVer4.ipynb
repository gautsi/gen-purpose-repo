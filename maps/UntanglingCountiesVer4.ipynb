{
 "cells": [
  {
   "cell_type": "markdown",
   "metadata": {},
   "source": [
    "# Untangling Counties Ver 4"
   ]
  },
  {
   "cell_type": "markdown",
   "metadata": {},
   "source": [
    "### Import libraries"
   ]
  },
  {
   "cell_type": "code",
   "execution_count": 95,
   "metadata": {
    "collapsed": true
   },
   "outputs": [],
   "source": [
    "import pandas as pd\n",
    "import numpy as np\n",
    "from tqdm import tqdm\n",
    "\n",
    "import matplotlib.pyplot as plt\n",
    "import seaborn as sns\n",
    "%matplotlib inline\n",
    "\n",
    "import colorlover as cl\n",
    "colors = [[i / 255 for i in j] for j in cl.to_numeric(cl.scales['5']['qual']['Dark2'])]"
   ]
  },
  {
   "cell_type": "markdown",
   "metadata": {},
   "source": [
    "### Functions"
   ]
  },
  {
   "cell_type": "code",
   "execution_count": null,
   "metadata": {
    "collapsed": true
   },
   "outputs": [],
   "source": []
  },
  {
   "cell_type": "markdown",
   "metadata": {},
   "source": [
    "### Import data"
   ]
  },
  {
   "cell_type": "code",
   "execution_count": 96,
   "metadata": {
    "collapsed": false
   },
   "outputs": [],
   "source": [
    "county_shapes = pd.read_csv(\"./ny_county_shapes.csv\").set_index(\"county_name\")\n",
    "squares = pd.read_csv(\"./ny_map_county_squares.csv\")\n",
    "squares[\"square_id\"] = ny_map_county_squares.index\n",
    "for i in [\"lat\", \"lng\"]:\n",
    "    squares[\"new_{}_rank\".format(i)] = squares[\"test_{}_rank\".format(i)]"
   ]
  },
  {
   "cell_type": "code",
   "execution_count": 97,
   "metadata": {
    "collapsed": false
   },
   "outputs": [
    {
     "data": {
      "text/plain": [
       "2300"
      ]
     },
     "execution_count": 97,
     "metadata": {},
     "output_type": "execute_result"
    }
   ],
   "source": [
    "len(squares)"
   ]
  },
  {
   "cell_type": "code",
   "execution_count": 98,
   "metadata": {
    "collapsed": false
   },
   "outputs": [
    {
     "data": {
      "text/html": [
       "<div>\n",
       "<style scoped>\n",
       "    .dataframe tbody tr th:only-of-type {\n",
       "        vertical-align: middle;\n",
       "    }\n",
       "\n",
       "    .dataframe tbody tr th {\n",
       "        vertical-align: top;\n",
       "    }\n",
       "\n",
       "    .dataframe thead th {\n",
       "        text-align: right;\n",
       "    }\n",
       "</style>\n",
       "<table border=\"1\" class=\"dataframe\">\n",
       "  <thead>\n",
       "    <tr style=\"text-align: right;\">\n",
       "      <th></th>\n",
       "      <th>county_name</th>\n",
       "      <th>lat</th>\n",
       "      <th>lng</th>\n",
       "      <th>state</th>\n",
       "      <th>lng_rank</th>\n",
       "      <th>lat_rank</th>\n",
       "      <th>nyc</th>\n",
       "      <th>min_lng_rank</th>\n",
       "      <th>min_lat_rank</th>\n",
       "      <th>max_lng_rank</th>\n",
       "      <th>...</th>\n",
       "      <th>sqrt_mult</th>\n",
       "      <th>mid_lng_rank</th>\n",
       "      <th>mid_lat_rank</th>\n",
       "      <th>scaled_lng_rank</th>\n",
       "      <th>scaled_lat_rank</th>\n",
       "      <th>test_lat_rank</th>\n",
       "      <th>test_lng_rank</th>\n",
       "      <th>square_id</th>\n",
       "      <th>new_lat_rank</th>\n",
       "      <th>new_lng_rank</th>\n",
       "    </tr>\n",
       "  </thead>\n",
       "  <tbody>\n",
       "    <tr>\n",
       "      <th>0</th>\n",
       "      <td>Montgomery</td>\n",
       "      <td>42.920886</td>\n",
       "      <td>-74.476076</td>\n",
       "      <td>NY</td>\n",
       "      <td>54.0</td>\n",
       "      <td>43.0</td>\n",
       "      <td>False</td>\n",
       "      <td>52.0</td>\n",
       "      <td>41.0</td>\n",
       "      <td>57.0</td>\n",
       "      <td>...</td>\n",
       "      <td>5.224579</td>\n",
       "      <td>54.5</td>\n",
       "      <td>42.5</td>\n",
       "      <td>51.387710</td>\n",
       "      <td>45.612290</td>\n",
       "      <td>12820.304341</td>\n",
       "      <td>16099.917080</td>\n",
       "      <td>0</td>\n",
       "      <td>12820.304341</td>\n",
       "      <td>16099.917080</td>\n",
       "    </tr>\n",
       "    <tr>\n",
       "      <th>1</th>\n",
       "      <td>Chautauqua</td>\n",
       "      <td>42.162278</td>\n",
       "      <td>-79.666456</td>\n",
       "      <td>NY</td>\n",
       "      <td>3.0</td>\n",
       "      <td>30.0</td>\n",
       "      <td>False</td>\n",
       "      <td>3.0</td>\n",
       "      <td>28.0</td>\n",
       "      <td>8.0</td>\n",
       "      <td>...</td>\n",
       "      <td>6.386439</td>\n",
       "      <td>5.5</td>\n",
       "      <td>32.0</td>\n",
       "      <td>-12.966097</td>\n",
       "      <td>17.227123</td>\n",
       "      <td>8944.398378</td>\n",
       "      <td>894.439838</td>\n",
       "      <td>1</td>\n",
       "      <td>8944.398378</td>\n",
       "      <td>894.439838</td>\n",
       "    </tr>\n",
       "    <tr>\n",
       "      <th>2</th>\n",
       "      <td>Rensselaer</td>\n",
       "      <td>42.862532</td>\n",
       "      <td>-73.661899</td>\n",
       "      <td>NY</td>\n",
       "      <td>62.0</td>\n",
       "      <td>42.0</td>\n",
       "      <td>False</td>\n",
       "      <td>61.0</td>\n",
       "      <td>36.0</td>\n",
       "      <td>65.0</td>\n",
       "      <td>...</td>\n",
       "      <td>9.693078</td>\n",
       "      <td>63.0</td>\n",
       "      <td>39.5</td>\n",
       "      <td>52.306922</td>\n",
       "      <td>66.232695</td>\n",
       "      <td>12522.157729</td>\n",
       "      <td>18485.089980</td>\n",
       "      <td>2</td>\n",
       "      <td>12522.157729</td>\n",
       "      <td>18485.089980</td>\n",
       "    </tr>\n",
       "    <tr>\n",
       "      <th>3</th>\n",
       "      <td>St Lawrence</td>\n",
       "      <td>44.379747</td>\n",
       "      <td>-75.392025</td>\n",
       "      <td>NY</td>\n",
       "      <td>45.0</td>\n",
       "      <td>68.0</td>\n",
       "      <td>False</td>\n",
       "      <td>41.0</td>\n",
       "      <td>63.0</td>\n",
       "      <td>53.0</td>\n",
       "      <td>...</td>\n",
       "      <td>3.236011</td>\n",
       "      <td>47.0</td>\n",
       "      <td>70.5</td>\n",
       "      <td>38.527978</td>\n",
       "      <td>59.909972</td>\n",
       "      <td>20273.969656</td>\n",
       "      <td>13416.597566</td>\n",
       "      <td>3</td>\n",
       "      <td>20273.969656</td>\n",
       "      <td>13416.597566</td>\n",
       "    </tr>\n",
       "    <tr>\n",
       "      <th>4</th>\n",
       "      <td>Delaware</td>\n",
       "      <td>41.987215</td>\n",
       "      <td>-74.984937</td>\n",
       "      <td>NY</td>\n",
       "      <td>49.0</td>\n",
       "      <td>27.0</td>\n",
       "      <td>False</td>\n",
       "      <td>45.0</td>\n",
       "      <td>25.0</td>\n",
       "      <td>54.0</td>\n",
       "      <td>...</td>\n",
       "      <td>3.238251</td>\n",
       "      <td>49.5</td>\n",
       "      <td>30.0</td>\n",
       "      <td>47.380874</td>\n",
       "      <td>17.285246</td>\n",
       "      <td>8049.958540</td>\n",
       "      <td>14609.184017</td>\n",
       "      <td>4</td>\n",
       "      <td>8049.958540</td>\n",
       "      <td>14609.184017</td>\n",
       "    </tr>\n",
       "  </tbody>\n",
       "</table>\n",
       "<p>5 rows × 26 columns</p>\n",
       "</div>"
      ],
      "text/plain": [
       "   county_name        lat        lng state  lng_rank  lat_rank    nyc  \\\n",
       "0   Montgomery  42.920886 -74.476076    NY      54.0      43.0  False   \n",
       "1   Chautauqua  42.162278 -79.666456    NY       3.0      30.0  False   \n",
       "2   Rensselaer  42.862532 -73.661899    NY      62.0      42.0  False   \n",
       "3  St Lawrence  44.379747 -75.392025    NY      45.0      68.0  False   \n",
       "4     Delaware  41.987215 -74.984937    NY      49.0      27.0  False   \n",
       "\n",
       "   min_lng_rank  min_lat_rank  max_lng_rank      ...       sqrt_mult  \\\n",
       "0          52.0          41.0          57.0      ...        5.224579   \n",
       "1           3.0          28.0           8.0      ...        6.386439   \n",
       "2          61.0          36.0          65.0      ...        9.693078   \n",
       "3          41.0          63.0          53.0      ...        3.236011   \n",
       "4          45.0          25.0          54.0      ...        3.238251   \n",
       "\n",
       "   mid_lng_rank mid_lat_rank  scaled_lng_rank  scaled_lat_rank  test_lat_rank  \\\n",
       "0          54.5         42.5        51.387710        45.612290   12820.304341   \n",
       "1           5.5         32.0       -12.966097        17.227123    8944.398378   \n",
       "2          63.0         39.5        52.306922        66.232695   12522.157729   \n",
       "3          47.0         70.5        38.527978        59.909972   20273.969656   \n",
       "4          49.5         30.0        47.380874        17.285246    8049.958540   \n",
       "\n",
       "   test_lng_rank  square_id  new_lat_rank  new_lng_rank  \n",
       "0   16099.917080          0  12820.304341  16099.917080  \n",
       "1     894.439838          1   8944.398378    894.439838  \n",
       "2   18485.089980          2  12522.157729  18485.089980  \n",
       "3   13416.597566          3  20273.969656  13416.597566  \n",
       "4   14609.184017          4   8049.958540  14609.184017  \n",
       "\n",
       "[5 rows x 26 columns]"
      ]
     },
     "execution_count": 98,
     "metadata": {},
     "output_type": "execute_result"
    }
   ],
   "source": [
    "squares.head()"
   ]
  },
  {
   "cell_type": "markdown",
   "metadata": {},
   "source": [
    "#### Finding neighbors"
   ]
  },
  {
   "cell_type": "code",
   "execution_count": 99,
   "metadata": {
    "collapsed": true
   },
   "outputs": [],
   "source": [
    "def get_angle(df, coord_pat, coord_list = [\"lat\", \"lng\"], entity_list = [\"x\", \"y\"]):\n",
    "    return np.arctan2(\n",
    "        df[coord_pat.format(coord_list[1], entity_list[1])] - df[coord_pat.format(coord_list[1], entity_list[0])],\n",
    "        df[coord_pat.format(coord_list[0], entity_list[1])] - df[coord_pat.format(coord_list[0], entity_list[0])]) / np.pi\n",
    "\n",
    "def get_neighbors(squares, dist = 1):\n",
    "    neighbors = squares[[\"square_id\", \"lat_rank\", \"lng_rank\"]]\n",
    "    neighbors[\"dummy\"] = 1\n",
    "    neighbors = neighbors.merge(right = neighbors, on = [\"dummy\"], how = \"left\")\n",
    "    neighbors = neighbors[\n",
    "        ~(neighbors.square_id_x == neighbors.square_id_y) &\n",
    "        (np.abs(neighbors.lng_rank_x - neighbors.lng_rank_y) <= dist) & \n",
    "        (np.abs(neighbors.lat_rank_x - neighbors.lat_rank_y) <= dist)]\n",
    "    neighbors[\"angle\"] = get_angle(neighbors, coord_pat = \"{}_rank_{}\")\n",
    "    return neighbors.drop(columns = [\"dummy\"])"
   ]
  },
  {
   "cell_type": "code",
   "execution_count": 100,
   "metadata": {
    "collapsed": false
   },
   "outputs": [
    {
     "name": "stderr",
     "output_type": "stream",
     "text": [
      "/home/gautam_sisodia/anaconda3/lib/python3.5/site-packages/ipykernel_launcher.py:8: SettingWithCopyWarning: \n",
      "A value is trying to be set on a copy of a slice from a DataFrame.\n",
      "Try using .loc[row_indexer,col_indexer] = value instead\n",
      "\n",
      "See the caveats in the documentation: http://pandas.pydata.org/pandas-docs/stable/indexing.html#indexing-view-versus-copy\n",
      "  \n"
     ]
    }
   ],
   "source": [
    "neighbors = get_neighbors(squares, dist = 4)"
   ]
  },
  {
   "cell_type": "code",
   "execution_count": 101,
   "metadata": {
    "collapsed": true
   },
   "outputs": [],
   "source": [
    "neighbors[\"dummy\"] = 1\n",
    "num_neighbors = neighbors.groupby(\n",
    "    [\"square_id_x\"],\n",
    "    as_index = False)[\"dummy\"].sum().rename(\n",
    "    columns = {\"square_id_x\": \"square_id\", \"dummy\": \"num_neighbors\"})"
   ]
  },
  {
   "cell_type": "code",
   "execution_count": 102,
   "metadata": {
    "collapsed": false
   },
   "outputs": [],
   "source": [
    "squares_w_num_neighbors = squares.merge(right = num_neighbors, on = [\"square_id\"], how = \"left\")"
   ]
  },
  {
   "cell_type": "code",
   "execution_count": 103,
   "metadata": {
    "collapsed": false
   },
   "outputs": [
    {
     "data": {
      "text/html": [
       "<div>\n",
       "<style scoped>\n",
       "    .dataframe tbody tr th:only-of-type {\n",
       "        vertical-align: middle;\n",
       "    }\n",
       "\n",
       "    .dataframe tbody tr th {\n",
       "        vertical-align: top;\n",
       "    }\n",
       "\n",
       "    .dataframe thead th {\n",
       "        text-align: right;\n",
       "    }\n",
       "</style>\n",
       "<table border=\"1\" class=\"dataframe\">\n",
       "  <thead>\n",
       "    <tr style=\"text-align: right;\">\n",
       "      <th></th>\n",
       "      <th>county_name</th>\n",
       "      <th>lat</th>\n",
       "      <th>lng</th>\n",
       "      <th>state</th>\n",
       "      <th>lng_rank</th>\n",
       "      <th>lat_rank</th>\n",
       "      <th>nyc</th>\n",
       "      <th>min_lng_rank</th>\n",
       "      <th>min_lat_rank</th>\n",
       "      <th>max_lng_rank</th>\n",
       "      <th>...</th>\n",
       "      <th>mid_lng_rank</th>\n",
       "      <th>mid_lat_rank</th>\n",
       "      <th>scaled_lng_rank</th>\n",
       "      <th>scaled_lat_rank</th>\n",
       "      <th>test_lat_rank</th>\n",
       "      <th>test_lng_rank</th>\n",
       "      <th>square_id</th>\n",
       "      <th>new_lat_rank</th>\n",
       "      <th>new_lng_rank</th>\n",
       "      <th>num_neighbors</th>\n",
       "    </tr>\n",
       "  </thead>\n",
       "  <tbody>\n",
       "  </tbody>\n",
       "</table>\n",
       "<p>0 rows × 27 columns</p>\n",
       "</div>"
      ],
      "text/plain": [
       "Empty DataFrame\n",
       "Columns: [county_name, lat, lng, state, lng_rank, lat_rank, nyc, min_lng_rank, min_lat_rank, max_lng_rank, max_lat_rank, num_squares, county, ttl, pre_mult, mult, sqrt_mult, mid_lng_rank, mid_lat_rank, scaled_lng_rank, scaled_lat_rank, test_lat_rank, test_lng_rank, square_id, new_lat_rank, new_lng_rank, num_neighbors]\n",
       "Index: []\n",
       "\n",
       "[0 rows x 27 columns]"
      ]
     },
     "execution_count": 103,
     "metadata": {},
     "output_type": "execute_result"
    }
   ],
   "source": [
    "squares_w_num_neighbors[pd.isnull(squares_w_num_neighbors.num_neighbors)]"
   ]
  },
  {
   "cell_type": "code",
   "execution_count": 119,
   "metadata": {
    "collapsed": true
   },
   "outputs": [],
   "source": [
    "def join_neigbors(squares, neighbors, select_cols):\n",
    "    return squares[[\"square_id\"] + select_cols].rename(\n",
    "        columns = {\"square_id\": \"square_id_x\"}).merge(\n",
    "        right = neighbors,\n",
    "        on = [\"square_id_x\"],\n",
    "        how = \"right\").merge(\n",
    "        right = squares[[\"square_id\"] + select_cols].rename(\n",
    "            columns = {\"square_id\": \"square_id_y\"}),\n",
    "        on = [\"square_id_y\"],\n",
    "        how = \"left\")    \n",
    "\n",
    "def update_pos(squares, neighbors, dist_mult = 10):\n",
    "    for i in [\"lat\", \"lng\"]:\n",
    "        squares[\"prop_{}_rank\".format(i)] = squares[\"new_{}_rank\".format(i)] + dist_mult * 2 * (np.random.rand() - 0.5)\n",
    "    prop_neighbors = join_neigbors(\n",
    "        squares,\n",
    "        neighbors,\n",
    "        select_cols = [\"{}_{}_rank\".format(i, j) for i in [\"prop\", \"new\"] for j in [\"lat\", \"lng\"]] + [\"sqrt_mult\"])"
   ]
  },
  {
   "cell_type": "code",
   "execution_count": 120,
   "metadata": {
    "collapsed": false
   },
   "outputs": [],
   "source": [
    "check_angles = join_neigbors(squares, neighbors, [\"new_{}_rank\".format(i) for i in [\"lat\", \"lng\"]])"
   ]
  },
  {
   "cell_type": "code",
   "execution_count": 121,
   "metadata": {
    "collapsed": true
   },
   "outputs": [],
   "source": [
    "check_angles[\"new_angle\"] = get_angle(check_angles, \"new_{}_rank_{}\")"
   ]
  },
  {
   "cell_type": "code",
   "execution_count": 122,
   "metadata": {
    "collapsed": false
   },
   "outputs": [
    {
     "data": {
      "text/plain": [
       "7.6777556534679547e-11"
      ]
     },
     "execution_count": 122,
     "metadata": {},
     "output_type": "execute_result"
    }
   ],
   "source": [
    "np.sum(np.abs(check_angles.angle - check_angles.new_angle))"
   ]
  },
  {
   "cell_type": "code",
   "execution_count": 123,
   "metadata": {
    "collapsed": false
   },
   "outputs": [],
   "source": [
    "update_pos(squares, neighbors)"
   ]
  },
  {
   "cell_type": "code",
   "execution_count": null,
   "metadata": {
    "collapsed": true
   },
   "outputs": [],
   "source": []
  }
 ],
 "metadata": {
  "kernelspec": {
   "display_name": "Python 3",
   "language": "python",
   "name": "python3"
  },
  "language_info": {
   "codemirror_mode": {
    "name": "ipython",
    "version": 3
   },
   "file_extension": ".py",
   "mimetype": "text/x-python",
   "name": "python",
   "nbconvert_exporter": "python",
   "pygments_lexer": "ipython3",
   "version": "3.5.4"
  }
 },
 "nbformat": 4,
 "nbformat_minor": 2
}
