{
 "cells": [
  {
   "cell_type": "code",
   "execution_count": 1,
   "metadata": {
    "collapsed": true
   },
   "outputs": [],
   "source": [
    "import pandas as pd"
   ]
  },
  {
   "cell_type": "code",
   "execution_count": 2,
   "metadata": {
    "collapsed": false
   },
   "outputs": [],
   "source": [
    "mg = pd.read_json(\"./math_gen2.json\")"
   ]
  },
  {
   "cell_type": "code",
   "execution_count": 3,
   "metadata": {
    "collapsed": false
   },
   "outputs": [
    {
     "data": {
      "text/plain": [
       "16118"
      ]
     },
     "execution_count": 3,
     "metadata": {},
     "output_type": "execute_result"
    }
   ],
   "source": [
    "len(mg)"
   ]
  },
  {
   "cell_type": "code",
   "execution_count": 4,
   "metadata": {
    "collapsed": false
   },
   "outputs": [
    {
     "data": {
      "text/html": [
       "<div>\n",
       "<style scoped>\n",
       "    .dataframe tbody tr th:only-of-type {\n",
       "        vertical-align: middle;\n",
       "    }\n",
       "\n",
       "    .dataframe tbody tr th {\n",
       "        vertical-align: top;\n",
       "    }\n",
       "\n",
       "    .dataframe thead th {\n",
       "        text-align: right;\n",
       "    }\n",
       "</style>\n",
       "<table border=\"1\" class=\"dataframe\">\n",
       "  <thead>\n",
       "    <tr style=\"text-align: right;\">\n",
       "      <th></th>\n",
       "      <th>advisors</th>\n",
       "      <th>deg_uni_year</th>\n",
       "      <th>id</th>\n",
       "      <th>img_alt</th>\n",
       "      <th>name</th>\n",
       "      <th>students</th>\n",
       "    </tr>\n",
       "  </thead>\n",
       "  <tbody>\n",
       "    <tr>\n",
       "      <th>0</th>\n",
       "      <td>[{'link': 'id.php?id=28320', 'name': 'Sholto P...</td>\n",
       "      <td>Ph.D. University of Washington 2014</td>\n",
       "      <td>230516</td>\n",
       "      <td>Tree|UnitedStates</td>\n",
       "      <td>Gautam  Sisodia</td>\n",
       "      <td>[]</td>\n",
       "    </tr>\n",
       "    <tr>\n",
       "      <th>1</th>\n",
       "      <td>[{'link': 'id.php?id=47087', 'name': 'John Cou...</td>\n",
       "      <td>Ph.D. University of Leeds 1981</td>\n",
       "      <td>28320</td>\n",
       "      <td>Tree|UnitedKingdom</td>\n",
       "      <td>Sholto Paul Smith</td>\n",
       "      <td>[{'link': 'id.php?id=28246', 'name': 'Mori, Iz...</td>\n",
       "    </tr>\n",
       "    <tr>\n",
       "      <th>2</th>\n",
       "      <td>[{'link': 'id.php?id=28320', 'name': 'Sholto P...</td>\n",
       "      <td>Ph.D. University of Washington 1998</td>\n",
       "      <td>28246</td>\n",
       "      <td>Tree|UnitedStates</td>\n",
       "      <td>Izuru  Mori</td>\n",
       "      <td>[]</td>\n",
       "    </tr>\n",
       "    <tr>\n",
       "      <th>3</th>\n",
       "      <td>[{'link': 'id.php?id=28320', 'name': 'Sholto P...</td>\n",
       "      <td>Ph.D. University of Washington 2001</td>\n",
       "      <td>57845</td>\n",
       "      <td>Tree|UnitedStates</td>\n",
       "      <td>Adam  Nyman</td>\n",
       "      <td>[]</td>\n",
       "    </tr>\n",
       "    <tr>\n",
       "      <th>4</th>\n",
       "      <td>[{'link': 'id.php?id=28320', 'name': 'Sholto P...</td>\n",
       "      <td>Ph.D. University of Washington 1988</td>\n",
       "      <td>28247</td>\n",
       "      <td>Tree|UnitedStates</td>\n",
       "      <td>Patrick Thomas Perkins</td>\n",
       "      <td>[]</td>\n",
       "    </tr>\n",
       "  </tbody>\n",
       "</table>\n",
       "</div>"
      ],
      "text/plain": [
       "                                            advisors  \\\n",
       "0  [{'link': 'id.php?id=28320', 'name': 'Sholto P...   \n",
       "1  [{'link': 'id.php?id=47087', 'name': 'John Cou...   \n",
       "2  [{'link': 'id.php?id=28320', 'name': 'Sholto P...   \n",
       "3  [{'link': 'id.php?id=28320', 'name': 'Sholto P...   \n",
       "4  [{'link': 'id.php?id=28320', 'name': 'Sholto P...   \n",
       "\n",
       "                          deg_uni_year      id             img_alt  \\\n",
       "0  Ph.D. University of Washington 2014  230516   Tree|UnitedStates   \n",
       "1       Ph.D. University of Leeds 1981   28320  Tree|UnitedKingdom   \n",
       "2  Ph.D. University of Washington 1998   28246   Tree|UnitedStates   \n",
       "3  Ph.D. University of Washington 2001   57845   Tree|UnitedStates   \n",
       "4  Ph.D. University of Washington 1988   28247   Tree|UnitedStates   \n",
       "\n",
       "                     name                                           students  \n",
       "0         Gautam  Sisodia                                                 []  \n",
       "1       Sholto Paul Smith  [{'link': 'id.php?id=28246', 'name': 'Mori, Iz...  \n",
       "2             Izuru  Mori                                                 []  \n",
       "3             Adam  Nyman                                                 []  \n",
       "4  Patrick Thomas Perkins                                                 []  "
      ]
     },
     "execution_count": 4,
     "metadata": {},
     "output_type": "execute_result"
    }
   ],
   "source": [
    "mg.head()"
   ]
  },
  {
   "cell_type": "code",
   "execution_count": 5,
   "metadata": {
    "collapsed": false
   },
   "outputs": [
    {
     "data": {
      "text/html": [
       "<div>\n",
       "<style scoped>\n",
       "    .dataframe tbody tr th:only-of-type {\n",
       "        vertical-align: middle;\n",
       "    }\n",
       "\n",
       "    .dataframe tbody tr th {\n",
       "        vertical-align: top;\n",
       "    }\n",
       "\n",
       "    .dataframe thead th {\n",
       "        text-align: right;\n",
       "    }\n",
       "</style>\n",
       "<table border=\"1\" class=\"dataframe\">\n",
       "  <thead>\n",
       "    <tr style=\"text-align: right;\">\n",
       "      <th></th>\n",
       "      <th>advisors</th>\n",
       "      <th>deg_uni_year</th>\n",
       "      <th>id</th>\n",
       "      <th>img_alt</th>\n",
       "      <th>name</th>\n",
       "      <th>students</th>\n",
       "    </tr>\n",
       "  </thead>\n",
       "  <tbody>\n",
       "    <tr>\n",
       "      <th>16113</th>\n",
       "      <td>[{'link': 'id.php?id=149158', 'name': 'David  ...</td>\n",
       "      <td>Ph.D. Northeastern University 2008</td>\n",
       "      <td>183469</td>\n",
       "      <td>Tree|UnitedStates</td>\n",
       "      <td>Dimitar Georgiev Valchev</td>\n",
       "      <td>[]</td>\n",
       "    </tr>\n",
       "    <tr>\n",
       "      <th>16114</th>\n",
       "      <td>[{'link': 'id.php?id=75417', 'name': 'Sergio  ...</td>\n",
       "      <td>Ph.D. Princeton University 2010</td>\n",
       "      <td>149153</td>\n",
       "      <td>Tree|UnitedStates</td>\n",
       "      <td>Aman  Jain</td>\n",
       "      <td>[]</td>\n",
       "    </tr>\n",
       "    <tr>\n",
       "      <th>16115</th>\n",
       "      <td>[{'link': 'id.php?id=97416', 'name': 'Sanjeev ...</td>\n",
       "      <td>Ph.D. Princeton University 2007</td>\n",
       "      <td>148990</td>\n",
       "      <td>Tree|UnitedStates</td>\n",
       "      <td>Aurelie  Lozano</td>\n",
       "      <td>[]</td>\n",
       "    </tr>\n",
       "    <tr>\n",
       "      <th>16116</th>\n",
       "      <td>[{'link': 'id.php?id=75417', 'name': 'Sergio  ...</td>\n",
       "      <td>Ph.D. Princeton University 1991</td>\n",
       "      <td>149157</td>\n",
       "      <td>Tree|UnitedStates</td>\n",
       "      <td>Roger  Cheng</td>\n",
       "      <td>[{'link': 'id.php?id=226137', 'name': 'Chen, S...</td>\n",
       "    </tr>\n",
       "    <tr>\n",
       "      <th>16117</th>\n",
       "      <td>[{'link': 'id.php?id=149157', 'name': 'Roger  ...</td>\n",
       "      <td>Ph.D. Hong Kong University of Science and Tech...</td>\n",
       "      <td>226137</td>\n",
       "      <td>Tree|HongKong</td>\n",
       "      <td>Shibo  Chen</td>\n",
       "      <td>[]</td>\n",
       "    </tr>\n",
       "  </tbody>\n",
       "</table>\n",
       "</div>"
      ],
      "text/plain": [
       "                                                advisors  \\\n",
       "16113  [{'link': 'id.php?id=149158', 'name': 'David  ...   \n",
       "16114  [{'link': 'id.php?id=75417', 'name': 'Sergio  ...   \n",
       "16115  [{'link': 'id.php?id=97416', 'name': 'Sanjeev ...   \n",
       "16116  [{'link': 'id.php?id=75417', 'name': 'Sergio  ...   \n",
       "16117  [{'link': 'id.php?id=149157', 'name': 'Roger  ...   \n",
       "\n",
       "                                            deg_uni_year      id  \\\n",
       "16113                 Ph.D. Northeastern University 2008  183469   \n",
       "16114                    Ph.D. Princeton University 2010  149153   \n",
       "16115                    Ph.D. Princeton University 2007  148990   \n",
       "16116                    Ph.D. Princeton University 1991  149157   \n",
       "16117  Ph.D. Hong Kong University of Science and Tech...  226137   \n",
       "\n",
       "                 img_alt                      name  \\\n",
       "16113  Tree|UnitedStates  Dimitar Georgiev Valchev   \n",
       "16114  Tree|UnitedStates                Aman  Jain   \n",
       "16115  Tree|UnitedStates           Aurelie  Lozano   \n",
       "16116  Tree|UnitedStates              Roger  Cheng   \n",
       "16117      Tree|HongKong               Shibo  Chen   \n",
       "\n",
       "                                                students  \n",
       "16113                                                 []  \n",
       "16114                                                 []  \n",
       "16115                                                 []  \n",
       "16116  [{'link': 'id.php?id=226137', 'name': 'Chen, S...  \n",
       "16117                                                 []  "
      ]
     },
     "execution_count": 5,
     "metadata": {},
     "output_type": "execute_result"
    }
   ],
   "source": [
    "mg.tail()"
   ]
  },
  {
   "cell_type": "code",
   "execution_count": 6,
   "metadata": {
    "collapsed": true
   },
   "outputs": [],
   "source": [
    "mg[\"num_students\"] = mg.students.map(len)"
   ]
  },
  {
   "cell_type": "code",
   "execution_count": 7,
   "metadata": {
    "collapsed": false
   },
   "outputs": [
    {
     "data": {
      "text/html": [
       "<div>\n",
       "<style scoped>\n",
       "    .dataframe tbody tr th:only-of-type {\n",
       "        vertical-align: middle;\n",
       "    }\n",
       "\n",
       "    .dataframe tbody tr th {\n",
       "        vertical-align: top;\n",
       "    }\n",
       "\n",
       "    .dataframe thead th {\n",
       "        text-align: right;\n",
       "    }\n",
       "</style>\n",
       "<table border=\"1\" class=\"dataframe\">\n",
       "  <thead>\n",
       "    <tr style=\"text-align: right;\">\n",
       "      <th></th>\n",
       "      <th>advisors</th>\n",
       "      <th>deg_uni_year</th>\n",
       "      <th>id</th>\n",
       "      <th>img_alt</th>\n",
       "      <th>name</th>\n",
       "      <th>students</th>\n",
       "      <th>num_students</th>\n",
       "    </tr>\n",
       "  </thead>\n",
       "  <tbody>\n",
       "    <tr>\n",
       "      <th>12144</th>\n",
       "      <td>[{'link': 'id.php?id=64318', 'name': 'Bernard ...</td>\n",
       "      <td>Ph.D. Massachusetts Institute of Technology 1987</td>\n",
       "      <td>93643</td>\n",
       "      <td>Tree|UnitedStates</td>\n",
       "      <td>C.-C. Jay  Kuo</td>\n",
       "      <td>[{'link': 'id.php?id=135405', 'name': 'Baek, W...</td>\n",
       "      <td>147</td>\n",
       "    </tr>\n",
       "    <tr>\n",
       "      <th>6664</th>\n",
       "      <td>[{'link': 'id.php?id=36703', 'name': 'Jacques-...</td>\n",
       "      <td>Ph.D. Université de Paris 1967</td>\n",
       "      <td>11498</td>\n",
       "      <td>Tree|France</td>\n",
       "      <td>Roger Meyer Temam</td>\n",
       "      <td>[{'link': 'id.php?id=56557', 'name': 'Abergel,...</td>\n",
       "      <td>124</td>\n",
       "    </tr>\n",
       "    <tr>\n",
       "      <th>4017</th>\n",
       "      <td>[{'link': 'id.php?id=114762', 'name': 'Lev Ana...</td>\n",
       "      <td>Ph.D. Lomonosov Moscow State University 1967</td>\n",
       "      <td>65093</td>\n",
       "      <td>Tree|Russia</td>\n",
       "      <td>Alexander Vasil'evich Mikhalëv</td>\n",
       "      <td>[{'link': 'id.php?id=118800', 'name': 'Agapito...</td>\n",
       "      <td>100</td>\n",
       "    </tr>\n",
       "    <tr>\n",
       "      <th>1813</th>\n",
       "      <td>[{'link': 'id.php?id=21560', 'name': 'Erhard  ...</td>\n",
       "      <td>Ph.D. Ludwig-Maximilians-Universität München 1966</td>\n",
       "      <td>21566</td>\n",
       "      <td>Tree|Germany</td>\n",
       "      <td>Willi  Jäger</td>\n",
       "      <td>[{'link': 'id.php?id=37263', 'name': 'Alt, Wol...</td>\n",
       "      <td>100</td>\n",
       "    </tr>\n",
       "    <tr>\n",
       "      <th>3491</th>\n",
       "      <td>[{'link': 'id.php?id=9041', 'name': 'Robert Le...</td>\n",
       "      <td>Ph.D. Cornell University 1974</td>\n",
       "      <td>35475</td>\n",
       "      <td>Tree|UnitedStates</td>\n",
       "      <td>Kurt  Mehlhorn</td>\n",
       "      <td>[{'link': 'id.php?id=196051', 'name': 'Abed, F...</td>\n",
       "      <td>86</td>\n",
       "    </tr>\n",
       "  </tbody>\n",
       "</table>\n",
       "</div>"
      ],
      "text/plain": [
       "                                                advisors  \\\n",
       "12144  [{'link': 'id.php?id=64318', 'name': 'Bernard ...   \n",
       "6664   [{'link': 'id.php?id=36703', 'name': 'Jacques-...   \n",
       "4017   [{'link': 'id.php?id=114762', 'name': 'Lev Ana...   \n",
       "1813   [{'link': 'id.php?id=21560', 'name': 'Erhard  ...   \n",
       "3491   [{'link': 'id.php?id=9041', 'name': 'Robert Le...   \n",
       "\n",
       "                                            deg_uni_year     id  \\\n",
       "12144   Ph.D. Massachusetts Institute of Technology 1987  93643   \n",
       "6664                      Ph.D. Université de Paris 1967  11498   \n",
       "4017        Ph.D. Lomonosov Moscow State University 1967  65093   \n",
       "1813   Ph.D. Ludwig-Maximilians-Universität München 1966  21566   \n",
       "3491                       Ph.D. Cornell University 1974  35475   \n",
       "\n",
       "                 img_alt                            name  \\\n",
       "12144  Tree|UnitedStates                  C.-C. Jay  Kuo   \n",
       "6664         Tree|France               Roger Meyer Temam   \n",
       "4017         Tree|Russia  Alexander Vasil'evich Mikhalëv   \n",
       "1813        Tree|Germany                    Willi  Jäger   \n",
       "3491   Tree|UnitedStates                  Kurt  Mehlhorn   \n",
       "\n",
       "                                                students  num_students  \n",
       "12144  [{'link': 'id.php?id=135405', 'name': 'Baek, W...           147  \n",
       "6664   [{'link': 'id.php?id=56557', 'name': 'Abergel,...           124  \n",
       "4017   [{'link': 'id.php?id=118800', 'name': 'Agapito...           100  \n",
       "1813   [{'link': 'id.php?id=37263', 'name': 'Alt, Wol...           100  \n",
       "3491   [{'link': 'id.php?id=196051', 'name': 'Abed, F...            86  "
      ]
     },
     "execution_count": 7,
     "metadata": {},
     "output_type": "execute_result"
    }
   ],
   "source": [
    "mg.sort_values(\"num_students\", ascending = False).head()"
   ]
  },
  {
   "cell_type": "code",
   "execution_count": 8,
   "metadata": {
    "collapsed": false
   },
   "outputs": [
    {
     "data": {
      "text/plain": [
       "Tree|UnitedStates     6079\n",
       "Tree|Germany          1907\n",
       "Tree|France           1193\n",
       "Tree|UnitedKingdom     845\n",
       "Tree                   660\n",
       "Tree|Canada            605\n",
       "Tree|Netherlands       585\n",
       "Tree|Switzerland       288\n",
       "Tree|Italy             235\n",
       "Tree|Australia         226\n",
       "Tree|Russia            226\n",
       "Tree|Belgium           217\n",
       "Tree|Spain             214\n",
       "Tree|Israel            212\n",
       "Tree|Sweden            202\n",
       "Tree|Brazil            177\n",
       "Tree|Iran              164\n",
       "Tree|Austria           134\n",
       "Tree|Romania           130\n",
       "Tree|India             117\n",
       "Name: img_alt, dtype: int64"
      ]
     },
     "execution_count": 8,
     "metadata": {},
     "output_type": "execute_result"
    }
   ],
   "source": [
    "mg.img_alt.value_counts().iloc[:20]"
   ]
  },
  {
   "cell_type": "code",
   "execution_count": 9,
   "metadata": {
    "collapsed": false
   },
   "outputs": [],
   "source": [
    "mg[\"year\"] = mg.deg_uni_year.str.split(\" \").map(lambda x: x[-1])"
   ]
  },
  {
   "cell_type": "code",
   "execution_count": 10,
   "metadata": {
    "collapsed": false
   },
   "outputs": [],
   "source": [
    "year_counts = mg.assign(num_degrees = 1).groupby([\"year\"], as_index = False)[\"num_degrees\"].sum()"
   ]
  },
  {
   "cell_type": "code",
   "execution_count": 11,
   "metadata": {
    "collapsed": false
   },
   "outputs": [],
   "source": [
    "%matplotlib inline"
   ]
  },
  {
   "cell_type": "code",
   "execution_count": 12,
   "metadata": {
    "collapsed": false
   },
   "outputs": [
    {
     "data": {
      "text/plain": [
       "<matplotlib.axes._subplots.AxesSubplot at 0x7fcdf5145668>"
      ]
     },
     "execution_count": 12,
     "metadata": {},
     "output_type": "execute_result"
    },
    {
     "data": {
      "image/png": "[encoded data removed]",
      "text/plain": [
       "<matplotlib.figure.Figure at 0x7fcdf5157278>"
      ]
     },
     "metadata": {
      "needs_background": "light"
     },
     "output_type": "display_data"
    }
   ],
   "source": [
    "year_counts.plot()"
   ]
  },
  {
   "cell_type": "code",
   "execution_count": 13,
   "metadata": {
    "collapsed": false
   },
   "outputs": [
    {
     "data": {
      "text/html": [
       "<div>\n",
       "<style scoped>\n",
       "    .dataframe tbody tr th:only-of-type {\n",
       "        vertical-align: middle;\n",
       "    }\n",
       "\n",
       "    .dataframe tbody tr th {\n",
       "        vertical-align: top;\n",
       "    }\n",
       "\n",
       "    .dataframe thead th {\n",
       "        text-align: right;\n",
       "    }\n",
       "</style>\n",
       "<table border=\"1\" class=\"dataframe\">\n",
       "  <thead>\n",
       "    <tr style=\"text-align: right;\">\n",
       "      <th></th>\n",
       "      <th>year</th>\n",
       "      <th>num_degrees</th>\n",
       "    </tr>\n",
       "  </thead>\n",
       "  <tbody>\n",
       "    <tr>\n",
       "      <th>111</th>\n",
       "      <td>2012</td>\n",
       "      <td>582</td>\n",
       "    </tr>\n",
       "    <tr>\n",
       "      <th>112</th>\n",
       "      <td>2013</td>\n",
       "      <td>578</td>\n",
       "    </tr>\n",
       "    <tr>\n",
       "      <th>0</th>\n",
       "      <td></td>\n",
       "      <td>567</td>\n",
       "    </tr>\n",
       "    <tr>\n",
       "      <th>114</th>\n",
       "      <td>2015</td>\n",
       "      <td>554</td>\n",
       "    </tr>\n",
       "    <tr>\n",
       "      <th>113</th>\n",
       "      <td>2014</td>\n",
       "      <td>537</td>\n",
       "    </tr>\n",
       "  </tbody>\n",
       "</table>\n",
       "</div>"
      ],
      "text/plain": [
       "     year  num_degrees\n",
       "111  2012          582\n",
       "112  2013          578\n",
       "0                  567\n",
       "114  2015          554\n",
       "113  2014          537"
      ]
     },
     "execution_count": 13,
     "metadata": {},
     "output_type": "execute_result"
    }
   ],
   "source": [
    "year_counts.sort_values(\"num_degrees\", ascending = False).head()"
   ]
  },
  {
   "cell_type": "code",
   "execution_count": 14,
   "metadata": {
    "collapsed": false
   },
   "outputs": [
    {
     "data": {
      "text/html": [
       "<div>\n",
       "<style scoped>\n",
       "    .dataframe tbody tr th:only-of-type {\n",
       "        vertical-align: middle;\n",
       "    }\n",
       "\n",
       "    .dataframe tbody tr th {\n",
       "        vertical-align: top;\n",
       "    }\n",
       "\n",
       "    .dataframe thead th {\n",
       "        text-align: right;\n",
       "    }\n",
       "</style>\n",
       "<table border=\"1\" class=\"dataframe\">\n",
       "  <thead>\n",
       "    <tr style=\"text-align: right;\">\n",
       "      <th></th>\n",
       "      <th>year</th>\n",
       "      <th>num_degrees</th>\n",
       "    </tr>\n",
       "  </thead>\n",
       "  <tbody>\n",
       "    <tr>\n",
       "      <th>29</th>\n",
       "      <td>1932</td>\n",
       "      <td>1</td>\n",
       "    </tr>\n",
       "    <tr>\n",
       "      <th>91</th>\n",
       "      <td>1992,1994</td>\n",
       "      <td>1</td>\n",
       "    </tr>\n",
       "    <tr>\n",
       "      <th>27</th>\n",
       "      <td>1930</td>\n",
       "      <td>1</td>\n",
       "    </tr>\n",
       "    <tr>\n",
       "      <th>25</th>\n",
       "      <td>1928</td>\n",
       "      <td>1</td>\n",
       "    </tr>\n",
       "    <tr>\n",
       "      <th>24</th>\n",
       "      <td>1927</td>\n",
       "      <td>1</td>\n",
       "    </tr>\n",
       "    <tr>\n",
       "      <th>22</th>\n",
       "      <td>1925</td>\n",
       "      <td>1</td>\n",
       "    </tr>\n",
       "    <tr>\n",
       "      <th>21</th>\n",
       "      <td>1922</td>\n",
       "      <td>1</td>\n",
       "    </tr>\n",
       "    <tr>\n",
       "      <th>20</th>\n",
       "      <td>1921</td>\n",
       "      <td>1</td>\n",
       "    </tr>\n",
       "    <tr>\n",
       "      <th>19</th>\n",
       "      <td>1920</td>\n",
       "      <td>1</td>\n",
       "    </tr>\n",
       "    <tr>\n",
       "      <th>18</th>\n",
       "      <td>1919</td>\n",
       "      <td>1</td>\n",
       "    </tr>\n",
       "    <tr>\n",
       "      <th>16</th>\n",
       "      <td>1917</td>\n",
       "      <td>1</td>\n",
       "    </tr>\n",
       "    <tr>\n",
       "      <th>15</th>\n",
       "      <td>1915</td>\n",
       "      <td>1</td>\n",
       "    </tr>\n",
       "    <tr>\n",
       "      <th>14</th>\n",
       "      <td>1914</td>\n",
       "      <td>1</td>\n",
       "    </tr>\n",
       "    <tr>\n",
       "      <th>68</th>\n",
       "      <td>1970,1984</td>\n",
       "      <td>1</td>\n",
       "    </tr>\n",
       "    <tr>\n",
       "      <th>12</th>\n",
       "      <td>1908</td>\n",
       "      <td>1</td>\n",
       "    </tr>\n",
       "    <tr>\n",
       "      <th>1</th>\n",
       "      <td>1863</td>\n",
       "      <td>1</td>\n",
       "    </tr>\n",
       "    <tr>\n",
       "      <th>2</th>\n",
       "      <td>1867</td>\n",
       "      <td>1</td>\n",
       "    </tr>\n",
       "    <tr>\n",
       "      <th>4</th>\n",
       "      <td>1890</td>\n",
       "      <td>1</td>\n",
       "    </tr>\n",
       "    <tr>\n",
       "      <th>6</th>\n",
       "      <td>1898</td>\n",
       "      <td>1</td>\n",
       "    </tr>\n",
       "    <tr>\n",
       "      <th>7</th>\n",
       "      <td>1900</td>\n",
       "      <td>1</td>\n",
       "    </tr>\n",
       "  </tbody>\n",
       "</table>\n",
       "</div>"
      ],
      "text/plain": [
       "         year  num_degrees\n",
       "29       1932            1\n",
       "91  1992,1994            1\n",
       "27       1930            1\n",
       "25       1928            1\n",
       "24       1927            1\n",
       "22       1925            1\n",
       "21       1922            1\n",
       "20       1921            1\n",
       "19       1920            1\n",
       "18       1919            1\n",
       "16       1917            1\n",
       "15       1915            1\n",
       "14       1914            1\n",
       "68  1970,1984            1\n",
       "12       1908            1\n",
       "1        1863            1\n",
       "2        1867            1\n",
       "4        1890            1\n",
       "6        1898            1\n",
       "7        1900            1"
      ]
     },
     "execution_count": 14,
     "metadata": {},
     "output_type": "execute_result"
    }
   ],
   "source": [
    "year_counts.sort_values(\"num_degrees\", ascending = True).iloc[:20]"
   ]
  },
  {
   "cell_type": "code",
   "execution_count": 15,
   "metadata": {
    "collapsed": false
   },
   "outputs": [
    {
     "data": {
      "text/html": [
       "<div>\n",
       "<style scoped>\n",
       "    .dataframe tbody tr th:only-of-type {\n",
       "        vertical-align: middle;\n",
       "    }\n",
       "\n",
       "    .dataframe tbody tr th {\n",
       "        vertical-align: top;\n",
       "    }\n",
       "\n",
       "    .dataframe thead th {\n",
       "        text-align: right;\n",
       "    }\n",
       "</style>\n",
       "<table border=\"1\" class=\"dataframe\">\n",
       "  <thead>\n",
       "    <tr style=\"text-align: right;\">\n",
       "      <th></th>\n",
       "      <th>advisors</th>\n",
       "      <th>deg_uni_year</th>\n",
       "      <th>id</th>\n",
       "      <th>img_alt</th>\n",
       "      <th>name</th>\n",
       "      <th>students</th>\n",
       "      <th>num_students</th>\n",
       "      <th>year</th>\n",
       "    </tr>\n",
       "  </thead>\n",
       "  <tbody>\n",
       "    <tr>\n",
       "      <th>480</th>\n",
       "      <td>[{'link': 'id.php?id=53335', 'name': 'Štefan  ...</td>\n",
       "      <td>Ph.D. Comenius University and McMaster Univers...</td>\n",
       "      <td>37866</td>\n",
       "      <td>Tree|Slovakia|Canada</td>\n",
       "      <td>Dalibor  Froncek</td>\n",
       "      <td>[{'link': 'id.php?id=89821', 'name': 'Kovar, P...</td>\n",
       "      <td>4</td>\n",
       "      <td>1992,1994</td>\n",
       "    </tr>\n",
       "  </tbody>\n",
       "</table>\n",
       "</div>"
      ],
      "text/plain": [
       "                                              advisors  \\\n",
       "480  [{'link': 'id.php?id=53335', 'name': 'Štefan  ...   \n",
       "\n",
       "                                          deg_uni_year     id  \\\n",
       "480  Ph.D. Comenius University and McMaster Univers...  37866   \n",
       "\n",
       "                  img_alt              name  \\\n",
       "480  Tree|Slovakia|Canada  Dalibor  Froncek   \n",
       "\n",
       "                                              students  num_students  \\\n",
       "480  [{'link': 'id.php?id=89821', 'name': 'Kovar, P...             4   \n",
       "\n",
       "          year  \n",
       "480  1992,1994  "
      ]
     },
     "execution_count": 15,
     "metadata": {},
     "output_type": "execute_result"
    }
   ],
   "source": [
    "mg[mg.year == \"1992,1994\"]"
   ]
  },
  {
   "cell_type": "code",
   "execution_count": 16,
   "metadata": {
    "collapsed": false
   },
   "outputs": [
    {
     "data": {
      "text/html": [
       "<div>\n",
       "<style scoped>\n",
       "    .dataframe tbody tr th:only-of-type {\n",
       "        vertical-align: middle;\n",
       "    }\n",
       "\n",
       "    .dataframe tbody tr th {\n",
       "        vertical-align: top;\n",
       "    }\n",
       "\n",
       "    .dataframe thead th {\n",
       "        text-align: right;\n",
       "    }\n",
       "</style>\n",
       "<table border=\"1\" class=\"dataframe\">\n",
       "  <thead>\n",
       "    <tr style=\"text-align: right;\">\n",
       "      <th></th>\n",
       "      <th>year</th>\n",
       "      <th>num_degrees</th>\n",
       "    </tr>\n",
       "  </thead>\n",
       "  <tbody>\n",
       "    <tr>\n",
       "      <th>0</th>\n",
       "      <td></td>\n",
       "      <td>567</td>\n",
       "    </tr>\n",
       "    <tr>\n",
       "      <th>1</th>\n",
       "      <td>1863</td>\n",
       "      <td>1</td>\n",
       "    </tr>\n",
       "    <tr>\n",
       "      <th>2</th>\n",
       "      <td>1867</td>\n",
       "      <td>1</td>\n",
       "    </tr>\n",
       "    <tr>\n",
       "      <th>3</th>\n",
       "      <td>1883</td>\n",
       "      <td>2</td>\n",
       "    </tr>\n",
       "    <tr>\n",
       "      <th>4</th>\n",
       "      <td>1890</td>\n",
       "      <td>1</td>\n",
       "    </tr>\n",
       "  </tbody>\n",
       "</table>\n",
       "</div>"
      ],
      "text/plain": [
       "   year  num_degrees\n",
       "0                567\n",
       "1  1863            1\n",
       "2  1867            1\n",
       "3  1883            2\n",
       "4  1890            1"
      ]
     },
     "execution_count": 16,
     "metadata": {},
     "output_type": "execute_result"
    }
   ],
   "source": [
    "year_counts.sort_values(\"year\", ascending = True).head()"
   ]
  },
  {
   "cell_type": "code",
   "execution_count": 17,
   "metadata": {
    "collapsed": true
   },
   "outputs": [],
   "source": [
    "mg[\"degree\"] = mg.deg_uni_year.str.split(\" \").map(lambda x: x[0])"
   ]
  },
  {
   "cell_type": "code",
   "execution_count": 18,
   "metadata": {
    "collapsed": false
   },
   "outputs": [
    {
     "data": {
      "text/plain": [
       "Ph.D.       13647\n",
       "Dr.          1148\n",
       "              393\n",
       "Ph.           199\n",
       "Dr.-Ing.      164\n",
       "Name: degree, dtype: int64"
      ]
     },
     "execution_count": 18,
     "metadata": {},
     "output_type": "execute_result"
    }
   ],
   "source": [
    "mg.degree.value_counts().head()"
   ]
  },
  {
   "cell_type": "code",
   "execution_count": 19,
   "metadata": {
    "collapsed": true
   },
   "outputs": [],
   "source": [
    "mg[\"uni\"] = mg.deg_uni_year.str.split(\" \").map(lambda x: \" \".join(x[1:-1]))"
   ]
  },
  {
   "cell_type": "code",
   "execution_count": 20,
   "metadata": {
    "collapsed": false
   },
   "outputs": [
    {
     "data": {
      "text/plain": [
       "                                               648\n",
       "Massachusetts Institute of Technology          303\n",
       "University of California, Berkeley             261\n",
       "Stanford University                            182\n",
       "University of Washington                       168\n",
       "North Carolina State University                159\n",
       "Harvard University                             150\n",
       "Lomonosov Moscow State University              145\n",
       "Université Pierre-et-Marie-Curie - Paris VI    142\n",
       "University of California, Los Angeles          141\n",
       "The University of Chicago                      138\n",
       "University of Cambridge                        134\n",
       "University of Michigan                         134\n",
       "ETH Zürich                                     133\n",
       "University of Minnesota-Minneapolis            130\n",
       "Princeton University                           128\n",
       "University of Wisconsin-Madison                124\n",
       "Georgia Institute of Technology                122\n",
       "University of Illinois at Urbana-Champaign     119\n",
       "Columbia University                            115\n",
       "Name: uni, dtype: int64"
      ]
     },
     "execution_count": 20,
     "metadata": {},
     "output_type": "execute_result"
    }
   ],
   "source": [
    "mg.uni.value_counts().iloc[:20]"
   ]
  },
  {
   "cell_type": "code",
   "execution_count": 21,
   "metadata": {
    "collapsed": false
   },
   "outputs": [
    {
     "data": {
      "text/html": [
       "<div>\n",
       "<style scoped>\n",
       "    .dataframe tbody tr th:only-of-type {\n",
       "        vertical-align: middle;\n",
       "    }\n",
       "\n",
       "    .dataframe tbody tr th {\n",
       "        vertical-align: top;\n",
       "    }\n",
       "\n",
       "    .dataframe thead th {\n",
       "        text-align: right;\n",
       "    }\n",
       "</style>\n",
       "<table border=\"1\" class=\"dataframe\">\n",
       "  <thead>\n",
       "    <tr style=\"text-align: right;\">\n",
       "      <th></th>\n",
       "      <th>advisors</th>\n",
       "      <th>deg_uni_year</th>\n",
       "      <th>id</th>\n",
       "      <th>img_alt</th>\n",
       "      <th>name</th>\n",
       "      <th>students</th>\n",
       "      <th>num_students</th>\n",
       "      <th>year</th>\n",
       "      <th>degree</th>\n",
       "      <th>uni</th>\n",
       "    </tr>\n",
       "  </thead>\n",
       "  <tbody>\n",
       "    <tr>\n",
       "      <th>104</th>\n",
       "      <td>[]</td>\n",
       "      <td></td>\n",
       "      <td>168257</td>\n",
       "      <td>Tree</td>\n",
       "      <td>Weisheng  Qiu</td>\n",
       "      <td>[{'link': 'id.php?id=168258', 'name': 'Li, Jiy...</td>\n",
       "      <td>1</td>\n",
       "      <td></td>\n",
       "      <td></td>\n",
       "      <td></td>\n",
       "    </tr>\n",
       "    <tr>\n",
       "      <th>144</th>\n",
       "      <td>[]</td>\n",
       "      <td>Ph.D.</td>\n",
       "      <td>119815</td>\n",
       "      <td>Tree</td>\n",
       "      <td>Silvano  Dal Zilio</td>\n",
       "      <td>[{'link': 'id.php?id=119821', 'name': 'Acciai,...</td>\n",
       "      <td>1</td>\n",
       "      <td></td>\n",
       "      <td>Ph.D.</td>\n",
       "      <td></td>\n",
       "    </tr>\n",
       "    <tr>\n",
       "      <th>156</th>\n",
       "      <td>[{'link': 'id.php?id=61017', 'name': 'Edmund P...</td>\n",
       "      <td>Ph.D.</td>\n",
       "      <td>154603</td>\n",
       "      <td>Tree</td>\n",
       "      <td>Jules  Bean</td>\n",
       "      <td>[]</td>\n",
       "      <td>0</td>\n",
       "      <td></td>\n",
       "      <td>Ph.D.</td>\n",
       "      <td></td>\n",
       "    </tr>\n",
       "    <tr>\n",
       "      <th>157</th>\n",
       "      <td>[]</td>\n",
       "      <td></td>\n",
       "      <td>237819</td>\n",
       "      <td>Tree</td>\n",
       "      <td>David  Pym</td>\n",
       "      <td>[{'link': 'id.php?id=154603', 'name': 'Bean, J...</td>\n",
       "      <td>1</td>\n",
       "      <td></td>\n",
       "      <td></td>\n",
       "      <td></td>\n",
       "    </tr>\n",
       "    <tr>\n",
       "      <th>162</th>\n",
       "      <td>[]</td>\n",
       "      <td></td>\n",
       "      <td>155287</td>\n",
       "      <td>Tree</td>\n",
       "      <td>Stefano  Berardi</td>\n",
       "      <td>[{'link': 'id.php?id=155288', 'name': 'Aschier...</td>\n",
       "      <td>1</td>\n",
       "      <td></td>\n",
       "      <td></td>\n",
       "      <td></td>\n",
       "    </tr>\n",
       "  </tbody>\n",
       "</table>\n",
       "</div>"
      ],
      "text/plain": [
       "                                              advisors deg_uni_year      id  \\\n",
       "104                                                 []               168257   \n",
       "144                                                 []      Ph.D.    119815   \n",
       "156  [{'link': 'id.php?id=61017', 'name': 'Edmund P...      Ph.D.    154603   \n",
       "157                                                 []               237819   \n",
       "162                                                 []               155287   \n",
       "\n",
       "    img_alt                name  \\\n",
       "104    Tree       Weisheng  Qiu   \n",
       "144    Tree  Silvano  Dal Zilio   \n",
       "156    Tree         Jules  Bean   \n",
       "157    Tree          David  Pym   \n",
       "162    Tree    Stefano  Berardi   \n",
       "\n",
       "                                              students  num_students year  \\\n",
       "104  [{'link': 'id.php?id=168258', 'name': 'Li, Jiy...             1        \n",
       "144  [{'link': 'id.php?id=119821', 'name': 'Acciai,...             1        \n",
       "156                                                 []             0        \n",
       "157  [{'link': 'id.php?id=154603', 'name': 'Bean, J...             1        \n",
       "162  [{'link': 'id.php?id=155288', 'name': 'Aschier...             1        \n",
       "\n",
       "    degree uni  \n",
       "104             \n",
       "144  Ph.D.      \n",
       "156  Ph.D.      \n",
       "157             \n",
       "162             "
      ]
     },
     "execution_count": 21,
     "metadata": {},
     "output_type": "execute_result"
    }
   ],
   "source": [
    "mg[mg.uni == \"\"].head()"
   ]
  },
  {
   "cell_type": "code",
   "execution_count": null,
   "metadata": {
    "collapsed": true
   },
   "outputs": [],
   "source": []
  },
  {
   "cell_type": "code",
   "execution_count": null,
   "metadata": {
    "collapsed": true
   },
   "outputs": [],
   "source": []
  }
 ],
 "metadata": {
  "kernelspec": {
   "display_name": "Python 3",
   "language": "python",
   "name": "python3"
  },
  "language_info": {
   "codemirror_mode": {
    "name": "ipython",
    "version": 3
   },
   "file_extension": ".py",
   "mimetype": "text/x-python",
   "name": "python",
   "nbconvert_exporter": "python",
   "pygments_lexer": "ipython3",
   "version": "3.5.4"
  }
 },
 "nbformat": 4,
 "nbformat_minor": 2
}
