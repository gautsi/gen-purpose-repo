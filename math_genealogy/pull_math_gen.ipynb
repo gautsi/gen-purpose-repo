{
 "cells": [
  {
   "cell_type": "code",
   "execution_count": 98,
   "metadata": {
    "collapsed": true
   },
   "outputs": [],
   "source": [
    "import requests\n",
    "from bs4 import BeautifulSoup\n",
    "import json\n",
    "import sys\n",
    "import time\n",
    "from tqdm import tqdm"
   ]
  },
  {
   "cell_type": "markdown",
   "metadata": {},
   "source": [
    "multiple advisors example"
   ]
  },
  {
   "cell_type": "code",
   "execution_count": 2,
   "metadata": {
    "collapsed": true
   },
   "outputs": [],
   "source": [
    "mult_advisors = \"https://www.genealogy.math.ndsu.nodak.edu/id.php?id=102043\""
   ]
  },
  {
   "cell_type": "code",
   "execution_count": 3,
   "metadata": {
    "collapsed": true
   },
   "outputs": [],
   "source": [
    "first_pull_addr = \"https://www.genealogy.math.ndsu.nodak.edu/id.php?id=230516\""
   ]
  },
  {
   "cell_type": "code",
   "execution_count": 4,
   "metadata": {
    "collapsed": true
   },
   "outputs": [],
   "source": [
    "ex = \"https://www.genealogy.math.ndsu.nodak.edu/id.php?id=42016\""
   ]
  },
  {
   "cell_type": "code",
   "execution_count": 5,
   "metadata": {
    "collapsed": true
   },
   "outputs": [],
   "source": [
    "first_pull = requests.get(first_pull_addr)"
   ]
  },
  {
   "cell_type": "code",
   "execution_count": 6,
   "metadata": {
    "collapsed": true
   },
   "outputs": [],
   "source": [
    "mult_adv = requests.get(mult_advisors)"
   ]
  },
  {
   "cell_type": "code",
   "execution_count": 7,
   "metadata": {
    "collapsed": true
   },
   "outputs": [],
   "source": [
    "ex_pull = requests.get(ex)"
   ]
  },
  {
   "cell_type": "code",
   "execution_count": 8,
   "metadata": {
    "collapsed": false
   },
   "outputs": [],
   "source": [
    "bs = BeautifulSoup(first_pull.text)"
   ]
  },
  {
   "cell_type": "markdown",
   "metadata": {},
   "source": [
    "pull\n",
    "- id\n",
    "- name\n",
    "- degree\n",
    "- uni\n",
    "- country\n",
    "- year\n",
    "- link to advisors\n",
    "- links to advisees"
   ]
  },
  {
   "cell_type": "code",
   "execution_count": 9,
   "metadata": {
    "collapsed": false
   },
   "outputs": [
    {
     "data": {
      "text/plain": [
       "<bound method Tag.find of <!DOCTYPE html>\n",
       "<html><head><meta charset=\"utf-8\"/>\n",
       "<meta content=\"IE=EmulateIE7\" http-equiv=\"X-UA-Compatible\"/>\n",
       "<title>Gautam Sisodia - The Mathematics Genealogy Project</title>\n",
       "<style type=\"text/css\"> \n",
       "body  {\n",
       "\tmargin: 0; /* it's good practice to zero the margin and padding of the body element to account for differing browser defaults */\n",
       "\tpadding: 0;\n",
       "\ttext-align: center; /* this centers the container in IE 5* browsers. The text is then set to the left aligned default in the #container selector */\n",
       "\tcolor: #000000;\n",
       "\tfont-family: Arial, Helvetica, sans-serif;\n",
       "\tfont-size: 100%;\n",
       "\tbackground-color: #5E8059;\n",
       "}\n",
       ".twoColFixLtHdr #container {\n",
       "\twidth: 780px;  /* using 20px less than a full 800px width allows for browser chrome and avoids a horizontal scroll bar */\n",
       "\tbackground: #FFFFFF; /* the auto margins (in conjunction with a width) center the page */\n",
       "\tborder: 1px solid #000000;\n",
       "\ttext-align: left; /* this overrides the text-align: center on the body element. */\n",
       "\tmargin-top: 0;\n",
       "\tmargin-right: auto;\n",
       "\tmargin-bottom: 0;\n",
       "\tmargin-left: auto;\n",
       "} \n",
       ".twoColFixLtHdr #header {\n",
       "\tpadding: 0 10px 0 20px;  /* this padding matches the left alignment of the elements in the divs that appear beneath it. If an image is used in the #header instead of text, you may want to remove the padding. */\n",
       "\ttext-align: right;\n",
       "\tbackground-color: #CACC8F;\n",
       "\theight: 57px;\n",
       "} \n",
       ".twoColFixLtHdr #header h1 {\n",
       "\tmargin: 0; /* zeroing the margin of the last element in the #header div will avoid margin collapse - an unexplainable space between divs. If the div has a border around it, this is not necessary as that also avoids the margin collapse */\n",
       "\tpadding: 10px 0; /* using padding instead of margin will allow you to keep the element away from the edges of the div */\n",
       "}\n",
       "\n",
       ".twoColFixLtHdr #main-tile { background: #8BBC83; }\n",
       ".twoColFixLtHdr #column-tile { padding-right: 550px; background: white; width: 180px }\n",
       ".twoColFixLtHdr #sidebar1 {\n",
       "\tfloat: left; /* since this element is floated, a width must be given */\n",
       "\twidth: 160px; /* the background color will be displayed for the length of the content in the column, but no further */\n",
       "\tpadding: 15px 10px 15px 10px;\n",
       "\tbackground: #8BBC83;\n",
       "\tfont-size: small;\n",
       "\ttext-align: center;\n",
       "}\n",
       "   .twoColFixLtHdr #sidebar1 p a:link {\n",
       " color: navy;\n",
       "    }\n",
       ".twoColFixLtHdr #mainContent { \n",
       "  float: left;\n",
       " width: 600px;\n",
       "  margin-right: -600px;\n",
       " position: relative;\n",
       "\n",
       "\n",
       "} \n",
       "   .twoColFixLtHdr #paddingWrapper {\n",
       "      padding: 5px 20px;\n",
       "\t}\n",
       ".twoColFixLtHdr #footer {\n",
       "\tpadding: 10px 10px 0 10px;\n",
       "\ttext-align: center;\n",
       "\tfont-size: small;\n",
       "\tfont-weight: normal;\n",
       "\tbackground-color: #CACC8F;\n",
       "} \n",
       ".clearfix:after {\n",
       "    content: \".\"; \n",
       "    display: block; \n",
       "    height: 0; \n",
       "    clear: both; \n",
       "    visibility: hidden;\n",
       "}\n",
       "\n",
       ".clearfix {display: inline-table;}\n",
       "\n",
       "\n",
       ".twoColFixLtHdr #footer p {\n",
       "\tmargin: 0; /* zeroing the margins of the first element in the footer will avoid the possibility of margin collapse - a space between divs */\n",
       "\tpadding: 10px 0; /* padding on this element will create space, just as the the margin would have, without the margin collapse issue */\n",
       "}\n",
       ".fltrt { /* this class can be used to float an element right in your page. The floated element must precede the element it should be next to on the page. */\n",
       "\tfloat: right;\n",
       "\tmargin-left: 8px;\n",
       "}\n",
       ".fltlft { /* this class can be used to float an element left in your page */\n",
       "\tfloat: left;\n",
       "\tmargin-right: 8px;\n",
       "}\n",
       ".clearfloat { /* this class should be placed on a div or break element and should be the final element before the close of a container that should fully contain a float */\n",
       "\tclear:both;\n",
       "    height:0;\n",
       "    font-size: 1px;\n",
       "    line-height: 0px;\n",
       "}\n",
       "th {\n",
       "    text-align: center;\n",
       "}\n",
       "\n",
       "</style>\n",
       "<!--[if IE 5]>\n",
       "<style type=\"text/css\"> \n",
       "/* place css box model fixes for IE 5* in this conditional comment */\n",
       ".twoColFixLtHdr #sidebar1 { width: 190px; }\n",
       "</style>\n",
       "<![endif]--><!--[if IE]>\n",
       "<style type=\"text/css\"> \n",
       "/* place css fixes for all versions of IE in this conditional comment */\n",
       ".twoColFixLtHdr #sidebar1 { padding-top: 30px; }\n",
       ".twoColFixLtHdr #mainContent { zoom: 1; }\n",
       "/* the above proprietary zoom property gives IE the hasLayout it needs to avoid several bugs */\n",
       "</style>\n",
       "<![endif]-->\n",
       "<script src=\"SpryAssets/SpryMenuBar.js\" type=\"text/javascript\"></script>\n",
       "<link href=\"SpryAssets/SpryMenuBarVertical.css\" rel=\"stylesheet\" type=\"text/css\"/>\n",
       "<link href=\"SpryAssets/SpryMenuBarHorizontal.css\" rel=\"stylesheet\" type=\"text/css\"/>\n",
       "<script src=\"https://code.jquery.com/jquery-3.3.1.min.js\"></script>\n",
       "<link href=\"jquery-eu-cookie-law-popup.css\" rel=\"stylesheet\" type=\"text/css\"/>\n",
       "<script src=\"jquery-eu-cookie-law-popup.js\"></script>\n",
       "<script type=\"text/javascript\">\n",
       "</script>\n",
       "<script async=\"\" src=\"https://www.googletagmanager.com/gtag/js?id=UA-16329138-2\"></script>\n",
       "<script>\n",
       "\t window.dataLayer = window.dataLayer || [];\n",
       "function gtag(){dataLayer.push(arguments);}\n",
       "// Don’t call the init functions just yet:\n",
       "// gtag('js', new Date());\n",
       "// gtag('config', 'UA-XXXXXXXX-1');\n",
       "\n",
       "function initialiseGoogleAnalytics() {\n",
       "\tgtag('js', new Date());\n",
       "\tgtag('config', 'UA-16329138-2');\n",
       "}\n",
       "\n",
       "// Subscribe for the cookie consent events\n",
       "$(document).bind(\"user_cookie_already_accepted\", function(event, object) {\n",
       "\t\tinitialiseGoogleAnalytics();\n",
       "\t});\n",
       "\n",
       "$(document).bind(\"user_cookie_consent_changed\", function(event, object) {\n",
       "\t\tconst userConsentGiven = $(object).attr('consent');\n",
       "\t\tif (userConsentGiven) {\n",
       "\t\t\t// User clicked on enabling cookies. Now it's safe to call the\n",
       "\t\t\t// init functions.\n",
       "\t\t\tinitialiseGoogleAnalytics();\n",
       "\t\t}\n",
       "\t});\n",
       "</script>\n",
       "</head><body class=\"twoColFixLtHdr eupopup eupopup-top\">\n",
       "<div id=\"container\">\n",
       "<div id=\"header\">\n",
       "<a href=\"index.php\"><img alt=\"Tree\" class=\"fltlft\" height=\"57\" src=\"images/tree-small.gif\" style=\"border: 0\" title=\"tree\" width=\"46\"/></a>\n",
       "<h1>Mathematics Genealogy Project</h1>\n",
       "<!-- end #header --></div>\n",
       "<div id=\"column-tile\">\n",
       "<div class=\"clearfix\" id=\"main-tile\">\n",
       "<div id=\"sidebar1\">\n",
       "<ul class=\"MenuBarVertical\" id=\"MenuBar1\">\n",
       "<li><a href=\"index.php\">Home</a></li>\n",
       "<li><a href=\"search.php\">Search</a></li>\n",
       "<li><a href=\"extrema.php\">Extrema</a></li>\n",
       "<li><a class=\"MenuBarItemSubmenu\" href=\"about.php\">About MGP</a>\n",
       "<ul>\n",
       "<li><a href=\"mission.php\">Mission</a></li>\n",
       "<li><a href=\"http://www.ams.org/notices/200708/tx070801002p.pdf\">History (PDF)</a></li>\n",
       "<li><a href=\"https://epayment.ndus.nodak.edu/C22800_ustores/web/product_detail.jsp?PRODUCTID=2989&amp;SINGLESTORE=true\">Support Us</a></li>\n",
       "<li><a href=\"news.php\" title=\"Announcements\">News</a></li>\n",
       "<li><a href=\"staff.php\">Staff</a></li>\n",
       "<li><a href=\"recognition.php\">Recognition</a></li>\n",
       "<li><a href=\"acknowledgments.php\">Acknowledgments</a></li>\n",
       "</ul>\n",
       "</li>\n",
       "<li><a href=\"links.php\">Links</a></li>\n",
       "<li><a href=\"faq.php\" title=\"Frequently Asked Questions\">FAQs</a></li>\n",
       "<li><a href=\"posters.php\">Posters</a></li>\n",
       "<li><a href=\"submit.php\">Submit Data</a></li>\n",
       "<li><a href=\"contact.php\">Contact</a></li>\n",
       "<li><a href=\"https://epayment.ndus.nodak.edu/C22800_ustores/web/product_detail.jsp?PRODUCTID=2989&amp;SINGLESTORE=true\">Donate</a></li>\n",
       "</ul>\n",
       "<p>A \n",
       "service of the <a href=\"https://www.ndsu.edu/\">NDSU</a> <a href=\"https://www.ndsu.edu/math/\">Department of Mathematics</a>, in association with the <a href=\"http://www.ams.org/\">American Mathematical Society</a>.</p>\n",
       "<!-- end #sidebar1 --></div>\n",
       "<div id=\"mainContent\"><div id=\"paddingWrapper\">\n",
       "<script type=\"text/x-mathjax-config\">\n",
       "  MathJax.Hub.Config({\n",
       "    tex2jax: {\n",
       "      inlineMath: [ ['$','$'], [\"\\\\(\",\"\\\\)\"] ],\n",
       "\t  processEscapes: true\n",
       "\t  }\n",
       "    });\n",
       "</script>\n",
       "<script type=\"text/javascript\">// https://codepen.io/pkra/pen/GWePxW, by Peter Krautzberger, 2017-04-04\n",
       "  // helper: insert MathJax script tage using CDNJS and \n",
       "var insertMathJax = function(version) {\n",
       "\tscript = document.createElement('script');\n",
       "\tscript.type = 'text/javascript';\n",
       "\tscript.async = true;\n",
       "\tscript.src = 'https://cdnjs.cloudflare.com/ajax/libs/mathjax/' + version + '/MathJax.js?config=TeX-AMS_CHTML-full';\n",
       "\tdocument.getElementsByTagName('head')[0].appendChild(script);\n",
       "}\n",
       "\n",
       "// Look up latest version on CDNJS and insertMathJax\n",
       "var xmlHttp = new XMLHttpRequest();\n",
       "xmlHttp.onreadystatechange = function() {\n",
       "\tif (xmlHttp.readyState == 4 && xmlHttp.status == 200)\n",
       "\t\tinsertMathJax(JSON.parse(xmlHttp.responseText).version);\n",
       "}\n",
       "\txmlHttp.open('GET', 'https://api.cdnjs.com/libraries/mathjax?fields=version', true); \n",
       "xmlHttp.send(null);\n",
       "</script>\n",
       "<h2 style=\"text-align: center; margin-bottom: 0.5ex; margin-top: 1ex\">\n",
       "Gautam  Sisodia </h2>\n",
       "<p style=\"text-align: center; margin-top: 0; margin-bottom: 0px; font-size: small\">\n",
       "<a href=\"http://www.ams.org/mathscinet/MRAuthorID/839434\">MathSciNet</a>\n",
       "</p>\n",
       "<div style=\"margin-left: auto; margin-right: auto; width: 300px\"><hr style=\"width: 300px; height: 0; border-style: solid; border-width: 2px 0 0 0; color: gray; background-color: gray\"/></div>\n",
       "<div style=\"line-height: 30px; text-align: center; margin-bottom: 1ex\">\n",
       "<span style=\"margin-right: 0.5em\">Ph.D. <span style=\"color:\n",
       "  #006633; margin-left: 0.5em\">University of Washington</span> 2014</span>\n",
       "<img alt=\"UnitedStates\" height=\"30\" src=\"img/flags/UnitedStates.gif\" style=\"border: 0; vertical-align: middle\" title=\"UnitedStates\" width=\"57\"/>\n",
       "</div>\n",
       "<div style=\"text-align: center\"><span style=\"color: #000066\">Dissertation:</span> <span id=\"thesisTitle\" style=\"font-style:italic\">\n",
       "\n",
       "The Grothendieck Groups of Module Categories over Coherent Algebras</span></div>\n",
       "<p style=\"text-align: center; line-height: 2.75ex\">Advisor 1: <a href=\"id.php?id=28320\">Sholto Paul Smith</a><br/></p><p style=\"text-align: center\">No students known.</p>\n",
       "<p style=\"font-size: small; text-align: center\">If you have additional information or\n",
       " corrections regarding this mathematician, please use the <a href=\"submit-data.php?id=230516&amp;edit=0\">update form</a>. To submit students of this\n",
       " mathematician, please use the <a href=\"submit-data.php?id=NEW&amp;edit=0\">new\n",
       "\t    data form</a>, noting this mathematician's MGP ID of 230516 for the advisor ID.</p>\n",
       "</div><!-- end #paddingWrapper -->\n",
       "<!-- end #mainContent --></div>\n",
       "<!-- This clearing element should immediately follow the #mainContent div in order to force the #container div to contain all child floats -->\n",
       "</div></div>\n",
       "<div id=\"footer\">\n",
       "<ul class=\"MenuBarHorizontal\" id=\"MenuBar2\">\n",
       "<li><a href=\"search.php\">Search</a> </li>\n",
       "<li><a class=\"MenuBarItemSubmenu\" href=\"about.php\">About MGP</a>\n",
       "<ul>\n",
       "<li><a href=\"mission.php\">Mission</a></li>\n",
       "<li><a href=\"news.php\" title=\"Announcements\">News</a></li>\n",
       "<li><a href=\"staff.php\">Staff</a></li>\n",
       "<li><a href=\"recognition.php\">Recognition</a></li>\n",
       "<li><a href=\"acknowledgments.php\"><span style=\"font-size: x-small\">Acknowledgments</span></a></li>\n",
       "</ul>\n",
       "</li>\n",
       "<li><a href=\"links.php\">Links</a></li>\n",
       "<li><a href=\"faq.php\" title=\"Frequently Asked Questions\">FAQs</a></li>\n",
       "<li><a href=\"posters.php\">Posters</a></li>\n",
       "<li><a href=\"submit.php\">Submit Data</a></li>\n",
       "<li><a href=\"contact.php\">Contact</a></li>\n",
       "</ul>\n",
       "<br/>\n",
       "<p>The Mathematics Genealogy Project is in need of funds \n",
       "to help pay for student help and other associated costs. If you would like to \n",
       "contribute, please <a href=\"https://epayment.ndus.nodak.edu/C22800_ustores/web/product_detail.jsp?PRODUCTID=2989&amp;SINGLESTORE=true\">donate online</a> using credit card or bank transfer or mail  your tax-deductible contribution to:</p>\n",
       "<p>\n",
       "Mathematics Genealogy Project<br/> \n",
       "Department of Mathematics<br/>\n",
       "North Dakota State University<br/>\n",
       "P. O. Box 6050<br/>\n",
       "  Fargo, North Dakota 58108-6050</p>\n",
       "</div>\n",
       "<!-- end #container --></div>\n",
       "<script type=\"text/javascript\">\n",
       "var MenuBar1 = new Spry.Widget.MenuBar(\"MenuBar1\", {imgRight:\"SpryAssets/SpryMenuBarRightHover.gif\"});\n",
       "var MenuBar2 = new Spry.Widget.MenuBar(\"MenuBar2\", {imgDown:\"SpryAssets/SpryMenuBarDownHover.gif\", imgRight:\"SpryAssets/SpryMenuBarRightHover.gif\"});\n",
       "</script>\n",
       "<!-- InstanceEnd --></body></html>\n",
       ">"
      ]
     },
     "execution_count": 9,
     "metadata": {},
     "output_type": "execute_result"
    }
   ],
   "source": [
    "bs.find"
   ]
  },
  {
   "cell_type": "code",
   "execution_count": 16,
   "metadata": {
    "collapsed": false
   },
   "outputs": [
    {
     "data": {
      "text/plain": [
       "'230516'"
      ]
     },
     "execution_count": 16,
     "metadata": {},
     "output_type": "execute_result"
    }
   ],
   "source": [
    "person_id = bs.find(\"a\", text = \"update form\")[\"href\"].split(\"=\")[1].split(\"&\")[0]\n",
    "person_id"
   ]
  },
  {
   "cell_type": "code",
   "execution_count": 17,
   "metadata": {
    "collapsed": false
   },
   "outputs": [
    {
     "data": {
      "text/plain": [
       "'Gautam  Sisodia'"
      ]
     },
     "execution_count": 17,
     "metadata": {},
     "output_type": "execute_result"
    }
   ],
   "source": [
    "name = bs.find(\"h2\").text.strip()\n",
    "name"
   ]
  },
  {
   "cell_type": "code",
   "execution_count": 18,
   "metadata": {
    "collapsed": false
   },
   "outputs": [
    {
     "data": {
      "text/plain": [
       "'Ph.D. University of Washington 2014'"
      ]
     },
     "execution_count": 18,
     "metadata": {},
     "output_type": "execute_result"
    }
   ],
   "source": [
    "deg_uni_year = bs.find(\"span\").text\n",
    "deg_uni_year"
   ]
  },
  {
   "cell_type": "code",
   "execution_count": 19,
   "metadata": {
    "collapsed": false
   },
   "outputs": [
    {
     "data": {
      "text/plain": [
       "'Tree|UnitedStates'"
      ]
     },
     "execution_count": 19,
     "metadata": {},
     "output_type": "execute_result"
    }
   ],
   "source": [
    "img_alt = \"|\".join([i[\"alt\"] for i in bs.find_all(\"img\")])\n",
    "img_alt"
   ]
  },
  {
   "cell_type": "code",
   "execution_count": 20,
   "metadata": {
    "collapsed": false
   },
   "outputs": [
    {
     "data": {
      "text/plain": [
       "[{'link': 'id.php?id=28320', 'name': 'Sholto Paul Smith'}]"
      ]
     },
     "execution_count": 20,
     "metadata": {},
     "output_type": "execute_result"
    }
   ],
   "source": [
    "advs = [{\"name\": a.text, \"link\": a[\"href\"]} for p in bs.find_all(\"p\") for a in p.find_all(\"a\") if a[\"href\"][:2] == \"id\" and \"Advisor\" in p.text]\n",
    "advs"
   ]
  },
  {
   "cell_type": "code",
   "execution_count": 21,
   "metadata": {
    "collapsed": false
   },
   "outputs": [
    {
     "data": {
      "text/plain": [
       "[]"
      ]
     },
     "execution_count": 21,
     "metadata": {},
     "output_type": "execute_result"
    }
   ],
   "source": [
    "students = [{\"name\": a.text, \"link\": a[\"href\"]} for t in bs.find_all(\"table\") for a in t.find_all(\"a\")]\n",
    "students"
   ]
  },
  {
   "cell_type": "code",
   "execution_count": 60,
   "metadata": {
    "collapsed": false
   },
   "outputs": [],
   "source": [
    "all_info = {\n",
    "    \"id\": person_id,\n",
    "    \"name\": name,\n",
    "    \"deg_uni_year\": deg_uni_year,\n",
    "    \"img_alt\": img_alt,\n",
    "    \"advisors\": advs,\n",
    "    \"students\": students\n",
    "}"
   ]
  },
  {
   "cell_type": "code",
   "execution_count": 82,
   "metadata": {
    "collapsed": false
   },
   "outputs": [
    {
     "data": {
      "text/plain": [
       "{'advisors': [{'link': 'id.php?id=28320', 'name': 'Sholto Paul Smith'}],\n",
       " 'deg_uni_year': 'Ph.D. University of Washington 2014',\n",
       " 'id': '230516',\n",
       " 'img_alt': 'Tree|UnitedStates',\n",
       " 'name': 'Gautam  Sisodia',\n",
       " 'students': []}"
      ]
     },
     "execution_count": 82,
     "metadata": {},
     "output_type": "execute_result"
    }
   ],
   "source": [
    "all_info"
   ]
  },
  {
   "cell_type": "code",
   "execution_count": 83,
   "metadata": {
    "collapsed": false
   },
   "outputs": [],
   "source": [
    "json.dump([all_info], open(\"./math_gen.json\", \"w\"))"
   ]
  },
  {
   "cell_type": "code",
   "execution_count": 84,
   "metadata": {
    "collapsed": false
   },
   "outputs": [],
   "source": [
    "mg = json.load(open(\"./math_gen.json\", \"r\"))"
   ]
  },
  {
   "cell_type": "code",
   "execution_count": 85,
   "metadata": {
    "collapsed": false
   },
   "outputs": [
    {
     "data": {
      "text/plain": [
       "[{'advisors': [{'link': 'id.php?id=28320', 'name': 'Sholto Paul Smith'}],\n",
       "  'deg_uni_year': 'Ph.D. University of Washington 2014',\n",
       "  'id': '230516',\n",
       "  'img_alt': 'Tree|UnitedStates',\n",
       "  'name': 'Gautam  Sisodia',\n",
       "  'students': []}]"
      ]
     },
     "execution_count": 85,
     "metadata": {},
     "output_type": "execute_result"
    }
   ],
   "source": [
    "mg"
   ]
  },
  {
   "cell_type": "code",
   "execution_count": 86,
   "metadata": {
    "collapsed": true
   },
   "outputs": [],
   "source": [
    "def get_info(link):\n",
    "    addr = \"https://www.genealogy.math.ndsu.nodak.edu/\" + link\n",
    "    pull = requests.get(addr)\n",
    "    bs = BeautifulSoup(pull.text)\n",
    "    \n",
    "    person_id = bs.find(\"a\", text = \"update form\")[\"href\"].split(\"=\")[1].split(\"&\")[0]\n",
    "    \n",
    "    name = bs.find(\"h2\").text.strip()\n",
    "    \n",
    "    deg_uni_year = bs.find(\"span\").text\n",
    "    \n",
    "    img_alt = \"|\".join([i[\"alt\"] for i in bs.find_all(\"img\")])\n",
    "    \n",
    "    advs = [\n",
    "        {\n",
    "            \"name\": a.text,\n",
    "            \"link\": a[\"href\"]\n",
    "        } for p in bs.find_all(\"p\") for a in p.find_all(\"a\") if a[\"href\"][:2] == \"id\" and \"Advisor\" in p.text]\n",
    "    \n",
    "    students = [{\"name\": a.text, \"link\": a[\"href\"]} for t in bs.find_all(\"table\") for a in t.find_all(\"a\")]\n",
    "    \n",
    "    return {\n",
    "        \"id\": person_id,\n",
    "        \"name\": name,\n",
    "        \"deg_uni_year\": deg_uni_year,\n",
    "        \"img_alt\": img_alt,\n",
    "        \"advisors\": advs,\n",
    "        \"students\": students}"
   ]
  },
  {
   "cell_type": "code",
   "execution_count": 89,
   "metadata": {
    "collapsed": false
   },
   "outputs": [],
   "source": [
    "def find_next(mg, ind, checked_ind = [], nr = 1):\n",
    "    elt = mg[ind]\n",
    "    \n",
    "    # if nr > 4:\n",
    "    #     return None\n",
    "    \n",
    "    # search through students\n",
    "    for student in elt[\"students\"]:\n",
    "        # try to find the student in the list\n",
    "        search_mg = [i for i, e in enumerate(mg) if e[\"id\"] == student[\"link\"].split(\"=\")[1]]\n",
    "        if len(search_mg) == 0:\n",
    "            return student[\"link\"]\n",
    "        else:\n",
    "            if not search_mg[0] in checked_ind:\n",
    "                student_next = find_next(mg, search_mg[0], checked_ind + [ind], nr + 1)\n",
    "                if student_next:\n",
    "                    return student_next\n",
    "    \n",
    "    # search through advisors\n",
    "    for advisor in elt[\"advisors\"]:\n",
    "        # try to find the advisor in the list\n",
    "        search_mg = [i for i, e in enumerate(mg) if e[\"id\"] == advisor[\"link\"].split(\"=\")[1]]\n",
    "        if len(search_mg) == 0:\n",
    "            return advisor[\"link\"]\n",
    "        else:\n",
    "            if not search_mg[0] in checked_ind:\n",
    "                advisor_next = find_next(mg, search_mg[0], checked_ind + [ind], nr + 1)\n",
    "                if advisor_next:\n",
    "                    return advisor_next\n",
    "\n",
    "    return None"
   ]
  },
  {
   "cell_type": "code",
   "execution_count": 58,
   "metadata": {
    "collapsed": false
   },
   "outputs": [
    {
     "data": {
      "text/plain": [
       "'id.php?id=28320'"
      ]
     },
     "execution_count": 58,
     "metadata": {},
     "output_type": "execute_result"
    }
   ],
   "source": [
    "find_next(mg, 0)"
   ]
  },
  {
   "cell_type": "code",
   "execution_count": 45,
   "metadata": {
    "collapsed": false
   },
   "outputs": [],
   "source": [
    "a = get_info('id.php?id=42016')"
   ]
  },
  {
   "cell_type": "code",
   "execution_count": 46,
   "metadata": {
    "collapsed": false
   },
   "outputs": [
    {
     "data": {
      "text/plain": [
       "{'advisors': [{'link': 'id.php?id=102043', 'name': 'Adam  Sedgwick'}],\n",
       " 'deg_uni_year': 'M.A. University of Cambridge 1830',\n",
       " 'id': '42016',\n",
       " 'img_alt': 'Tree|UnitedKingdom',\n",
       " 'name': 'William  Hopkins',\n",
       " 'students': [{'link': 'id.php?id=7824', 'name': 'Cayley, Arthur'},\n",
       "  {'link': 'id.php?id=30175', 'name': 'Galton, Sir Francis'},\n",
       "  {'link': 'id.php?id=105806', 'name': 'Maxwell, James'},\n",
       "  {'link': 'id.php?id=101929', 'name': 'Routh, Edward'},\n",
       "  {'link': 'id.php?id=102483', 'name': 'Stokes, George'},\n",
       "  {'link': 'id.php?id=234972', 'name': 'Thomson, William'},\n",
       "  {'link': 'id.php?id=129420', 'name': 'Todhunter, Isaac'}]}"
      ]
     },
     "execution_count": 46,
     "metadata": {},
     "output_type": "execute_result"
    }
   ],
   "source": [
    "a"
   ]
  },
  {
   "cell_type": "code",
   "execution_count": 47,
   "metadata": {
    "collapsed": false
   },
   "outputs": [
    {
     "data": {
      "text/plain": [
       "[{'advisors': [{'link': 'id.php?id=28320', 'name': 'Sholto Paul Smith'}],\n",
       "  'deg_uni_year': 'Ph.D. University of Washington 2014',\n",
       "  'id': '230516',\n",
       "  'img_alt': 'Tree|UnitedStates',\n",
       "  'name': 'Gautam  Sisodia',\n",
       "  'students': []},\n",
       " {'advisors': [{'link': 'id.php?id=102043', 'name': 'Adam  Sedgwick'}],\n",
       "  'deg_uni_year': 'M.A. University of Cambridge 1830',\n",
       "  'id': '42016',\n",
       "  'img_alt': 'Tree|UnitedKingdom',\n",
       "  'name': 'William  Hopkins',\n",
       "  'students': [{'link': 'id.php?id=7824', 'name': 'Cayley, Arthur'},\n",
       "   {'link': 'id.php?id=30175', 'name': 'Galton, Sir Francis'},\n",
       "   {'link': 'id.php?id=105806', 'name': 'Maxwell, James'},\n",
       "   {'link': 'id.php?id=101929', 'name': 'Routh, Edward'},\n",
       "   {'link': 'id.php?id=102483', 'name': 'Stokes, George'},\n",
       "   {'link': 'id.php?id=234972', 'name': 'Thomson, William'},\n",
       "   {'link': 'id.php?id=129420', 'name': 'Todhunter, Isaac'}]}]"
      ]
     },
     "execution_count": 47,
     "metadata": {},
     "output_type": "execute_result"
    }
   ],
   "source": [
    "mg + [a]"
   ]
  },
  {
   "cell_type": "code",
   "execution_count": 49,
   "metadata": {
    "collapsed": false
   },
   "outputs": [
    {
     "data": {
      "text/plain": [
       "'id.php?id=28320'"
      ]
     },
     "execution_count": 49,
     "metadata": {},
     "output_type": "execute_result"
    }
   ],
   "source": [
    "find_next(mg + [a], 0)"
   ]
  },
  {
   "cell_type": "markdown",
   "metadata": {},
   "source": [
    "Define the full process"
   ]
  },
  {
   "cell_type": "code",
   "execution_count": 96,
   "metadata": {
    "collapsed": true
   },
   "outputs": [],
   "source": [
    "def add_to_math_gen(path):\n",
    "    # get current math gen data\n",
    "    mg = json.load(open(path, \"r\"))\n",
    "    \n",
    "    # find the next link to add\n",
    "    next_link = find_next(mg, 0)\n",
    "    \n",
    "    # print(\"grabbing from \" + next_link)\n",
    "    \n",
    "    # get info from that link\n",
    "    next_link_info = get_info(next_link)\n",
    "    \n",
    "    # print(\"got \" + next_link_info[\"name\"])\n",
    "    \n",
    "    # add info to math gen data\n",
    "    next_mg = mg + [next_link_info]\n",
    "    \n",
    "    # print(\"data size \" + str(len(next_mg)))\n",
    "    \n",
    "    # write to file\n",
    "    json.dump(next_mg, open(path, \"w\"))"
   ]
  },
  {
   "cell_type": "code",
   "execution_count": 99,
   "metadata": {
    "collapsed": false
   },
   "outputs": [
    {
     "name": "stderr",
     "output_type": "stream",
     "text": [
      "100%|██████████| 10/10 [00:53<00:00,  5.31s/it]\n"
     ]
    }
   ],
   "source": [
    "for i in tqdm(range(10)):\n",
    "    add_to_math_gen(\"./math_gen.json\")\n",
    "    time.sleep(5)"
   ]
  },
  {
   "cell_type": "code",
   "execution_count": 100,
   "metadata": {
    "collapsed": false
   },
   "outputs": [],
   "source": [
    "mg = json.load(open(\"./math_gen.json\", \"r\"))"
   ]
  },
  {
   "cell_type": "code",
   "execution_count": 101,
   "metadata": {
    "collapsed": false
   },
   "outputs": [
    {
     "data": {
      "text/plain": [
       "36"
      ]
     },
     "execution_count": 101,
     "metadata": {},
     "output_type": "execute_result"
    }
   ],
   "source": [
    "len(mg)"
   ]
  },
  {
   "cell_type": "code",
   "execution_count": 102,
   "metadata": {
    "collapsed": false
   },
   "outputs": [
    {
     "data": {
      "text/plain": [
       "['Gautam  Sisodia',\n",
       " 'Sholto Paul Smith',\n",
       " 'Izuru  Mori',\n",
       " 'Adam  Nyman',\n",
       " 'Patrick Thomas Perkins',\n",
       " 'Joanna  Staniszkis',\n",
       " 'Michaela  Vancliff',\n",
       " 'Richard  Chandler',\n",
       " 'Manizheh  Nafari',\n",
       " 'Padmini  Veerapan',\n",
       " 'John Coulter McConnell',\n",
       " 'Martin Philip Gilchrist',\n",
       " 'J. Tobias Stafford',\n",
       " 'Paul Leslie Check',\n",
       " 'Severino Collier Coutinho',\n",
       " 'Cecilia Fernanda  Saraiva de Oliveira',\n",
       " 'Andrew Phillip Davies',\n",
       " 'Siân  Fryer',\n",
       " 'Tim  Jarrold',\n",
       " 'David T. Kausch',\n",
       " 'Dennis Shawn Keeler',\n",
       " 'Kimberly A. Retert',\n",
       " 'Daniel  Rogalski',\n",
       " 'James  Berglund',\n",
       " 'Susan  Elle',\n",
       " 'Amy  Irwin Stout',\n",
       " 'Robert  Won',\n",
       " 'Susan J. Sierra',\n",
       " 'Christopher  Campbell',\n",
       " 'Simon  Crawford',\n",
       " 'Darin R. Stephenson',\n",
       " 'Kok-Ming  Teo',\n",
       " 'Chelsea  Walton',\n",
       " 'Karen Ellen Smith',\n",
       " 'Manuel  Blickle',\n",
       " 'Susanne Andrea Müller']"
      ]
     },
     "execution_count": 102,
     "metadata": {},
     "output_type": "execute_result"
    }
   ],
   "source": [
    "[i[\"name\"] for i in mg]"
   ]
  },
  {
   "cell_type": "code",
   "execution_count": 47,
   "metadata": {
    "collapsed": false
   },
   "outputs": [
    {
     "data": {
      "text/plain": [
       "{'advisors': [{'link': 'id.php?id=102043', 'name': 'Adam  Sedgwick'}],\n",
       " 'deg_uni_year': 'M.A. University of Cambridge 1830',\n",
       " 'id': '42016',\n",
       " 'img_alt': 'Tree|UnitedKingdom',\n",
       " 'name': 'William  Hopkins',\n",
       " 'students': [{'link': 'id.php?id=7824', 'name': 'Cayley, Arthur'},\n",
       "  {'link': 'id.php?id=30175', 'name': 'Galton, Sir Francis'},\n",
       "  {'link': 'id.php?id=105806', 'name': 'Maxwell, James'},\n",
       "  {'link': 'id.php?id=101929', 'name': 'Routh, Edward'},\n",
       "  {'link': 'id.php?id=102483', 'name': 'Stokes, George'},\n",
       "  {'link': 'id.php?id=234972', 'name': 'Thomson, William'},\n",
       "  {'link': 'id.php?id=129420', 'name': 'Todhunter, Isaac'}]}"
      ]
     },
     "execution_count": 47,
     "metadata": {},
     "output_type": "execute_result"
    }
   ],
   "source": [
    "mg[1]"
   ]
  },
  {
   "cell_type": "code",
   "execution_count": 48,
   "metadata": {
    "collapsed": false
   },
   "outputs": [
    {
     "data": {
      "text/plain": [
       "{'advisors': [{'link': 'id.php?id=42016', 'name': 'William  Hopkins'}],\n",
       " 'deg_uni_year': 'Ph.D. / Ph.D. / Dr Sc. Universiteit Leiden and University College Dublin and University of Oxford 1864/1865/1875',\n",
       " 'id': '7824',\n",
       " 'img_alt': 'Tree|Netherlands|Ireland|UnitedKingdom',\n",
       " 'name': 'Arthur  Cayley',\n",
       " 'students': [{'link': 'id.php?id=13135', 'name': 'Baker, Henry'},\n",
       "  {'link': 'id.php?id=17829', 'name': 'Forsyth, Andrew'},\n",
       "  {'link': 'id.php?id=6965', 'name': 'Scott, Charlotte'}]}"
      ]
     },
     "execution_count": 48,
     "metadata": {},
     "output_type": "execute_result"
    }
   ],
   "source": [
    "mg[2]"
   ]
  },
  {
   "cell_type": "code",
   "execution_count": 49,
   "metadata": {
    "collapsed": false
   },
   "outputs": [
    {
     "data": {
      "text/plain": [
       "{'advisors': [{'link': 'id.php?id=7824', 'name': 'Arthur  Cayley'}],\n",
       " 'deg_uni_year': 'Ph.D. University of Cambridge ',\n",
       " 'id': '13135',\n",
       " 'img_alt': 'Tree|UnitedKingdom',\n",
       " 'name': 'Henry Frederick Baker',\n",
       " 'students': [{'link': 'id.php?id=18500', 'name': 'Babbage, D.'},\n",
       "  {'link': 'id.php?id=18503', 'name': 'Bronowski, Jacob'},\n",
       "  {'link': 'id.php?id=18508', 'name': 'Cherry, Thomas'},\n",
       "  {'link': 'id.php?id=12555', 'name': 'Coxeter, H. S. M.'},\n",
       "  {'link': 'id.php?id=4933', 'name': 'Du Val, Patrick'},\n",
       "  {'link': 'id.php?id=98482', 'name': 'Edge, William'},\n",
       "  {'link': 'id.php?id=18504', 'name': 'Frith, R.'},\n",
       "  {'link': 'id.php?id=234770', 'name': 'Jeffreys, Harold'},\n",
       "  {'link': 'id.php?id=18584', 'name': 'Jeffreys, Sir Harold'},\n",
       "  {'link': 'id.php?id=18507', 'name': 'Maxwell, Edwin'},\n",
       "  {'link': 'id.php?id=44940', 'name': 'Mordell, Louis'},\n",
       "  {'link': 'id.php?id=18499', 'name': 'Pedoe, Daniel'},\n",
       "  {'link': 'id.php?id=18506', 'name': 'Room, Thomas'},\n",
       "  {'link': 'id.php?id=18501', 'name': 'Semple, John'},\n",
       "  {'link': 'id.php?id=18498', 'name': 'Tagg, E.'},\n",
       "  {'link': 'id.php?id=18502', 'name': 'Timms, Geoffrey'},\n",
       "  {'link': 'id.php?id=188068', 'name': 'Todd, John'},\n",
       "  {'link': 'id.php?id=132246', 'name': 'Vaidyanathaswamy, Ramaswamy'}]}"
      ]
     },
     "execution_count": 49,
     "metadata": {},
     "output_type": "execute_result"
    }
   ],
   "source": [
    "mg[3]"
   ]
  },
  {
   "cell_type": "code",
   "execution_count": 50,
   "metadata": {
    "collapsed": false
   },
   "outputs": [
    {
     "data": {
      "text/plain": [
       "{'advisors': [{'link': 'id.php?id=13135', 'name': 'Henry Frederick Baker'}],\n",
       " 'deg_uni_year': 'Ph.D. University of Cambridge 1933',\n",
       " 'id': '18500',\n",
       " 'img_alt': 'Tree|UnitedKingdom',\n",
       " 'name': 'D. W. Babbage',\n",
       " 'students': []}"
      ]
     },
     "execution_count": 50,
     "metadata": {},
     "output_type": "execute_result"
    }
   ],
   "source": [
    "mg[4]"
   ]
  },
  {
   "cell_type": "code",
   "execution_count": null,
   "metadata": {
    "collapsed": true
   },
   "outputs": [],
   "source": []
  }
 ],
 "metadata": {
  "kernelspec": {
   "display_name": "Python 3",
   "language": "python",
   "name": "python3"
  },
  "language_info": {
   "codemirror_mode": {
    "name": "ipython",
    "version": 3
   },
   "file_extension": ".py",
   "mimetype": "text/x-python",
   "name": "python",
   "nbconvert_exporter": "python",
   "pygments_lexer": "ipython3",
   "version": "3.5.4"
  }
 },
 "nbformat": 4,
 "nbformat_minor": 2
}
