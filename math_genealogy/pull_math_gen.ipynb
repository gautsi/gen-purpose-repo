{
 "cells": [
  {
   "cell_type": "code",
   "execution_count": 1,
   "metadata": {
    "collapsed": true
   },
   "outputs": [],
   "source": [
    "import requests\n",
    "from bs4 import BeautifulSoup\n",
    "import json\n",
    "import sys\n",
    "import time\n",
    "from tqdm import tqdm"
   ]
  },
  {
   "cell_type": "markdown",
   "metadata": {},
   "source": [
    "multiple advisors example"
   ]
  },
  {
   "cell_type": "code",
   "execution_count": null,
   "metadata": {
    "collapsed": true
   },
   "outputs": [],
   "source": [
    "mult_advisors = \"https://www.genealogy.math.ndsu.nodak.edu/id.php?id=102043\""
   ]
  },
  {
   "cell_type": "code",
   "execution_count": null,
   "metadata": {
    "collapsed": true
   },
   "outputs": [],
   "source": [
    "first_pull_addr = \"https://www.genealogy.math.ndsu.nodak.edu/id.php?id=230516\""
   ]
  },
  {
   "cell_type": "code",
   "execution_count": null,
   "metadata": {
    "collapsed": true
   },
   "outputs": [],
   "source": [
    "ex = \"https://www.genealogy.math.ndsu.nodak.edu/id.php?id=42016\""
   ]
  },
  {
   "cell_type": "code",
   "execution_count": null,
   "metadata": {
    "collapsed": true
   },
   "outputs": [],
   "source": [
    "first_pull = requests.get(first_pull_addr)"
   ]
  },
  {
   "cell_type": "code",
   "execution_count": null,
   "metadata": {
    "collapsed": false
   },
   "outputs": [],
   "source": [
    "mult_adv = requests.get(mult_advisors)"
   ]
  },
  {
   "cell_type": "code",
   "execution_count": null,
   "metadata": {
    "collapsed": true
   },
   "outputs": [],
   "source": [
    "ex_pull = requests.get(ex)"
   ]
  },
  {
   "cell_type": "code",
   "execution_count": null,
   "metadata": {
    "collapsed": false
   },
   "outputs": [],
   "source": [
    "bs = BeautifulSoup(first_pull.text)"
   ]
  },
  {
   "cell_type": "markdown",
   "metadata": {},
   "source": [
    "pull\n",
    "- id\n",
    "- name\n",
    "- degree\n",
    "- uni\n",
    "- country\n",
    "- year\n",
    "- link to advisors\n",
    "- links to advisees"
   ]
  },
  {
   "cell_type": "code",
   "execution_count": null,
   "metadata": {
    "collapsed": false
   },
   "outputs": [],
   "source": [
    "bs.find"
   ]
  },
  {
   "cell_type": "code",
   "execution_count": null,
   "metadata": {
    "collapsed": false
   },
   "outputs": [],
   "source": [
    "person_id = bs.find(\"a\", text = \"update form\")[\"href\"].split(\"=\")[1].split(\"&\")[0]\n",
    "person_id"
   ]
  },
  {
   "cell_type": "code",
   "execution_count": null,
   "metadata": {
    "collapsed": false
   },
   "outputs": [],
   "source": [
    "name = bs.find(\"h2\").text.strip()\n",
    "name"
   ]
  },
  {
   "cell_type": "code",
   "execution_count": null,
   "metadata": {
    "collapsed": false
   },
   "outputs": [],
   "source": [
    "deg_uni_year = bs.find(\"span\").text\n",
    "deg_uni_year"
   ]
  },
  {
   "cell_type": "code",
   "execution_count": null,
   "metadata": {
    "collapsed": false
   },
   "outputs": [],
   "source": [
    "img_alt = \"|\".join([i[\"alt\"] for i in bs.find_all(\"img\")])\n",
    "img_alt"
   ]
  },
  {
   "cell_type": "code",
   "execution_count": null,
   "metadata": {
    "collapsed": false
   },
   "outputs": [],
   "source": [
    "advs = [{\"name\": a.text, \"link\": a[\"href\"]} for p in bs.find_all(\"p\") for a in p.find_all(\"a\") if a[\"href\"][:2] == \"id\" and \"Advisor\" in p.text]\n",
    "advs"
   ]
  },
  {
   "cell_type": "code",
   "execution_count": null,
   "metadata": {
    "collapsed": false
   },
   "outputs": [],
   "source": [
    "students = [{\"name\": a.text, \"link\": a[\"href\"]} for t in bs.find_all(\"table\") for a in t.find_all(\"a\")]\n",
    "students"
   ]
  },
  {
   "cell_type": "code",
   "execution_count": null,
   "metadata": {
    "collapsed": false
   },
   "outputs": [],
   "source": [
    "all_info = {\n",
    "    \"id\": person_id,\n",
    "    \"name\": name,\n",
    "    \"deg_uni_year\": deg_uni_year,\n",
    "    \"img_alt\": img_alt,\n",
    "    \"advisors\": advs,\n",
    "    \"students\": students\n",
    "}"
   ]
  },
  {
   "cell_type": "code",
   "execution_count": null,
   "metadata": {
    "collapsed": false
   },
   "outputs": [],
   "source": [
    "all_info"
   ]
  },
  {
   "cell_type": "code",
   "execution_count": null,
   "metadata": {
    "collapsed": false
   },
   "outputs": [],
   "source": [
    "# json.dump([all_info], open(\"./math_gen.json\", \"w\"))"
   ]
  },
  {
   "cell_type": "code",
   "execution_count": null,
   "metadata": {
    "collapsed": false
   },
   "outputs": [],
   "source": [
    "# mg = json.load(open(\"./math_gen.json\", \"r\"))"
   ]
  },
  {
   "cell_type": "code",
   "execution_count": null,
   "metadata": {
    "collapsed": false
   },
   "outputs": [],
   "source": [
    "# mg"
   ]
  },
  {
   "cell_type": "code",
   "execution_count": 2,
   "metadata": {
    "collapsed": true
   },
   "outputs": [],
   "source": [
    "def get_info(link):\n",
    "    addr = \"https://www.genealogy.math.ndsu.nodak.edu/\" + link\n",
    "    pull = requests.get(addr)\n",
    "    bs = BeautifulSoup(pull.text)\n",
    "    \n",
    "    person_id = bs.find(\"a\", text = \"update form\")[\"href\"].split(\"=\")[1].split(\"&\")[0]\n",
    "    \n",
    "    name = bs.find(\"h2\").text.strip()\n",
    "    \n",
    "    deg_uni_year = bs.find(\"span\").text\n",
    "    \n",
    "    img_alt = \"|\".join([i[\"alt\"] for i in bs.find_all(\"img\")])\n",
    "    \n",
    "    advs = [\n",
    "        {\n",
    "            \"name\": a.text,\n",
    "            \"link\": a[\"href\"]\n",
    "        } for p in bs.find_all(\"p\") for a in p.find_all(\"a\")\\\n",
    "        if a[\"href\"][:2] == \"id\" and (\"Advisor\" in p.text or \"Promotor\" in p.text)]\n",
    "    \n",
    "    students = [{\"name\": a.text, \"link\": a[\"href\"]} for t in bs.find_all(\"table\") for a in t.find_all(\"a\")]\n",
    "    \n",
    "    return {\n",
    "        \"id\": person_id,\n",
    "        \"name\": name,\n",
    "        \"deg_uni_year\": deg_uni_year,\n",
    "        \"img_alt\": img_alt,\n",
    "        \"advisors\": advs,\n",
    "        \"students\": students}"
   ]
  },
  {
   "cell_type": "code",
   "execution_count": 3,
   "metadata": {
    "collapsed": false
   },
   "outputs": [],
   "source": [
    "def find_next(mg, ind, checked_ind = [], nr = 1):\n",
    "    elt = mg[ind]\n",
    "    \n",
    "    # if nr > 4:\n",
    "    #     return None\n",
    "    \n",
    "    # search through students\n",
    "    for student in elt[\"students\"]:\n",
    "        # try to find the student in the list\n",
    "        search_mg = [i for i, e in enumerate(mg) if e[\"id\"] == student[\"link\"].split(\"=\")[1]]\n",
    "        if len(search_mg) == 0:\n",
    "            return student[\"link\"]\n",
    "        else:\n",
    "            if not search_mg[0] in checked_ind:\n",
    "                student_next = find_next(mg, search_mg[0], checked_ind + [ind], nr + 1)\n",
    "                if student_next:\n",
    "                    return student_next\n",
    "    \n",
    "    # search through advisors\n",
    "    for advisor in elt[\"advisors\"]:\n",
    "        # try to find the advisor in the list\n",
    "        search_mg = [i for i, e in enumerate(mg) if e[\"id\"] == advisor[\"link\"].split(\"=\")[1]]\n",
    "        if len(search_mg) == 0:\n",
    "            return advisor[\"link\"]\n",
    "        else:\n",
    "            if not search_mg[0] in checked_ind:\n",
    "                advisor_next = find_next(mg, search_mg[0], checked_ind + [ind], nr + 1)\n",
    "                if advisor_next:\n",
    "                    return advisor_next\n",
    "\n",
    "    return None"
   ]
  },
  {
   "cell_type": "code",
   "execution_count": 4,
   "metadata": {
    "collapsed": false
   },
   "outputs": [],
   "source": [
    "# find_next(mg, 0)"
   ]
  },
  {
   "cell_type": "markdown",
   "metadata": {},
   "source": [
    "Define the full process"
   ]
  },
  {
   "cell_type": "code",
   "execution_count": 5,
   "metadata": {
    "collapsed": false
   },
   "outputs": [],
   "source": [
    "def add_to_math_gen(path):\n",
    "    # get current math gen data\n",
    "    mg = json.load(open(path, \"r\"))\n",
    "    \n",
    "    # find the next link to add\n",
    "    # search through a few previous elements to find a non-null next\n",
    "    next_link = None\n",
    "    search_ind = 1\n",
    "    while not next_link and search_ind < 5:\n",
    "        next_link = find_next(mg, len(mg) - search_ind)\n",
    "        search_ind += 1\n",
    "        \n",
    "    if next_link:\n",
    "    \n",
    "        # print(\"grabbing from \" + next_link)\n",
    "\n",
    "        # get info from that link\n",
    "        next_link_info = get_info(next_link)\n",
    "\n",
    "        # print(\"got \" + next_link_info[\"name\"])\n",
    "\n",
    "        # add info to math gen data\n",
    "        next_mg = mg + [next_link_info]\n",
    "\n",
    "        # print(\"data size \" + str(len(next_mg)))\n",
    "\n",
    "        # write to file\n",
    "        json.dump(next_mg, open(path, \"w\"))"
   ]
  },
  {
   "cell_type": "code",
   "execution_count": null,
   "metadata": {
    "collapsed": false
   },
   "outputs": [
    {
     "name": "stderr",
     "output_type": "stream",
     "text": [
      "  0%|          | 18/10000 [00:44<6:49:10,  2.46s/it]"
     ]
    }
   ],
   "source": [
    "for i in tqdm(range(10000)):\n",
    "    add_to_math_gen(\"./math_gen2.json\")\n",
    "    time.sleep(1)"
   ]
  }
 ],
 "metadata": {
  "kernelspec": {
   "display_name": "Python 3",
   "language": "python",
   "name": "python3"
  },
  "language_info": {
   "codemirror_mode": {
    "name": "ipython",
    "version": 3
   },
   "file_extension": ".py",
   "mimetype": "text/x-python",
   "name": "python",
   "nbconvert_exporter": "python",
   "pygments_lexer": "ipython3",
   "version": "3.5.4"
  }
 },
 "nbformat": 4,
 "nbformat_minor": 2
}
