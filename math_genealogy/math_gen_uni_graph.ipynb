{
 "cells": [
  {
   "cell_type": "code",
   "execution_count": 1,
   "metadata": {
    "collapsed": true
   },
   "outputs": [],
   "source": [
    "import json as js"
   ]
  },
  {
   "cell_type": "code",
   "execution_count": 8,
   "metadata": {
    "collapsed": true
   },
   "outputs": [],
   "source": [
    "from tqdm import tqdm"
   ]
  },
  {
   "cell_type": "code",
   "execution_count": 30,
   "metadata": {
    "collapsed": true
   },
   "outputs": [],
   "source": [
    "from graphviz import Digraph"
   ]
  },
  {
   "cell_type": "code",
   "execution_count": 95,
   "metadata": {
    "collapsed": true
   },
   "outputs": [],
   "source": [
    "from IPython.display import HTML, SVG, display"
   ]
  },
  {
   "cell_type": "code",
   "execution_count": 3,
   "metadata": {
    "collapsed": false
   },
   "outputs": [],
   "source": [
    "with open(\"./math_gen2.json\", \"r\") as file:\n",
    "    math_gen = js.load(file)"
   ]
  },
  {
   "cell_type": "code",
   "execution_count": 7,
   "metadata": {
    "collapsed": false
   },
   "outputs": [
    {
     "data": {
      "text/plain": [
       "16118"
      ]
     },
     "execution_count": 7,
     "metadata": {},
     "output_type": "execute_result"
    }
   ],
   "source": [
    "len(math_gen)"
   ]
  },
  {
   "cell_type": "code",
   "execution_count": 6,
   "metadata": {
    "collapsed": false
   },
   "outputs": [
    {
     "data": {
      "text/plain": [
       "{'advisors': [{'link': 'id.php?id=28320', 'name': 'Sholto Paul Smith'}],\n",
       " 'deg_uni_year': 'Ph.D. University of Washington 2014',\n",
       " 'id': '230516',\n",
       " 'img_alt': 'Tree|UnitedStates',\n",
       " 'name': 'Gautam  Sisodia',\n",
       " 'students': []}"
      ]
     },
     "execution_count": 6,
     "metadata": {},
     "output_type": "execute_result"
    }
   ],
   "source": [
    "math_gen[0]"
   ]
  },
  {
   "cell_type": "code",
   "execution_count": 11,
   "metadata": {
    "collapsed": false
   },
   "outputs": [
    {
     "data": {
      "text/plain": [
       "{'advisors': [{'link': 'id.php?id=47087', 'name': 'John Coulter McConnell'}],\n",
       " 'deg_uni_year': 'Ph.D. University of Leeds 1981',\n",
       " 'id': '28320',\n",
       " 'img_alt': 'Tree|UnitedKingdom',\n",
       " 'name': 'Sholto Paul Smith',\n",
       " 'students': [{'link': 'id.php?id=28246', 'name': 'Mori, Izuru'},\n",
       "  {'link': 'id.php?id=57845', 'name': 'Nyman, Adam'},\n",
       "  {'link': 'id.php?id=28247', 'name': 'Perkins, Patrick'},\n",
       "  {'link': 'id.php?id=230516', 'name': 'Sisodia, Gautam'},\n",
       "  {'link': 'id.php?id=28248', 'name': 'Staniszkis, Joanna'},\n",
       "  {'link': 'id.php?id=28249', 'name': 'Vancliff, Michaela'}],\n",
       " 'uni': 'University of Leeds'}"
      ]
     },
     "execution_count": 11,
     "metadata": {},
     "output_type": "execute_result"
    }
   ],
   "source": [
    "math_gen[1]"
   ]
  },
  {
   "cell_type": "markdown",
   "metadata": {},
   "source": [
    "Get unis"
   ]
  },
  {
   "cell_type": "code",
   "execution_count": 9,
   "metadata": {
    "collapsed": false
   },
   "outputs": [
    {
     "name": "stderr",
     "output_type": "stream",
     "text": [
      "100%|██████████| 16118/16118 [00:00<00:00, 337736.95it/s]\n"
     ]
    }
   ],
   "source": [
    "for person in tqdm(math_gen):\n",
    "    deg_uni_year_split = person[\"deg_uni_year\"].split(\" \")\n",
    "    person[\"uni\"] = \" \".join(deg_uni_year_split[1:-1])"
   ]
  },
  {
   "cell_type": "markdown",
   "metadata": {},
   "source": [
    "Get unis of students"
   ]
  },
  {
   "cell_type": "code",
   "execution_count": null,
   "metadata": {
    "collapsed": true
   },
   "outputs": [],
   "source": [
    "def find_in_math_gen(idnum):\n",
    "    return [math]"
   ]
  },
  {
   "cell_type": "code",
   "execution_count": 12,
   "metadata": {
    "collapsed": false
   },
   "outputs": [
    {
     "name": "stderr",
     "output_type": "stream",
     "text": [
      "100%|██████████| 16118/16118 [17:30<00:00, 15.34it/s]\n"
     ]
    }
   ],
   "source": [
    "not_found = []\n",
    "multiple_found = []\n",
    "for person in tqdm(math_gen):\n",
    "    for student in person[\"students\"]:\n",
    "        # try to find the student in math gen\n",
    "        student_math_gens = [p for p in math_gen if p[\"id\"] == student[\"link\"].split(\"=\")[-1]]\n",
    "        if len(student_math_gens) == 0:\n",
    "            not_found.append(student)\n",
    "        elif len(student_math_gens) > 1:\n",
    "            multiple_found.append(student)\n",
    "        else:\n",
    "            student[\"uni\"] = student_math_gens[0][\"uni\"]"
   ]
  },
  {
   "cell_type": "code",
   "execution_count": 15,
   "metadata": {
    "collapsed": false
   },
   "outputs": [
    {
     "data": {
      "text/plain": [
       "22147"
      ]
     },
     "execution_count": 15,
     "metadata": {},
     "output_type": "execute_result"
    }
   ],
   "source": [
    "len(not_found)"
   ]
  },
  {
   "cell_type": "code",
   "execution_count": 16,
   "metadata": {
    "collapsed": false
   },
   "outputs": [
    {
     "data": {
      "text/plain": [
       "0"
      ]
     },
     "execution_count": 16,
     "metadata": {},
     "output_type": "execute_result"
    }
   ],
   "source": [
    "len(multiple_found)"
   ]
  },
  {
   "cell_type": "code",
   "execution_count": 14,
   "metadata": {
    "collapsed": false
   },
   "outputs": [
    {
     "data": {
      "text/plain": [
       "{'advisors': [{'link': 'id.php?id=47087', 'name': 'John Coulter McConnell'}],\n",
       " 'deg_uni_year': 'Ph.D. University of Leeds 1981',\n",
       " 'id': '28320',\n",
       " 'img_alt': 'Tree|UnitedKingdom',\n",
       " 'name': 'Sholto Paul Smith',\n",
       " 'students': [{'link': 'id.php?id=28246',\n",
       "   'name': 'Mori, Izuru',\n",
       "   'uni': 'University of Washington'},\n",
       "  {'link': 'id.php?id=57845',\n",
       "   'name': 'Nyman, Adam',\n",
       "   'uni': 'University of Washington'},\n",
       "  {'link': 'id.php?id=28247',\n",
       "   'name': 'Perkins, Patrick',\n",
       "   'uni': 'University of Washington'},\n",
       "  {'link': 'id.php?id=230516',\n",
       "   'name': 'Sisodia, Gautam',\n",
       "   'uni': 'University of Washington'},\n",
       "  {'link': 'id.php?id=28248',\n",
       "   'name': 'Staniszkis, Joanna',\n",
       "   'uni': 'University of Washington'},\n",
       "  {'link': 'id.php?id=28249',\n",
       "   'name': 'Vancliff, Michaela',\n",
       "   'uni': 'University of Washington'}],\n",
       " 'uni': 'University of Leeds'}"
      ]
     },
     "execution_count": 14,
     "metadata": {},
     "output_type": "execute_result"
    }
   ],
   "source": [
    "math_gen[1]"
   ]
  },
  {
   "cell_type": "markdown",
   "metadata": {},
   "source": [
    "Get advisor uni to student uni numbers"
   ]
  },
  {
   "cell_type": "code",
   "execution_count": 19,
   "metadata": {
    "collapsed": false
   },
   "outputs": [
    {
     "name": "stderr",
     "output_type": "stream",
     "text": [
      "100%|██████████| 16118/16118 [00:02<00:00, 6420.32it/s]\n"
     ]
    }
   ],
   "source": [
    "uni_to_uni = []\n",
    "uni_to_uni_mult_found = []\n",
    "for person in tqdm(math_gen):\n",
    "    # get all unis of students\n",
    "    student_unis = set([s[\"uni\"] for s in person[\"students\"] if \"uni\" in s.keys()])\n",
    "    for student_uni in student_unis:\n",
    "        # try to find uni pairing\n",
    "        unis = [u for u in uni_to_uni if u[\"from\"] == person[\"uni\"] and u[\"to\"] == student_uni]\n",
    "        if len(unis) == 0:\n",
    "            uni_to_uni.append({\"from\": person[\"uni\"], \"to\": student_uni, \"num\": 1})\n",
    "        elif len(unis) == 1:\n",
    "            unis[0][\"num\"] += 1\n",
    "        else:\n",
    "            uni_to_uni_mult_found.append([person, student_uni])"
   ]
  },
  {
   "cell_type": "code",
   "execution_count": 24,
   "metadata": {
    "collapsed": false
   },
   "outputs": [
    {
     "data": {
      "text/plain": [
       "0"
      ]
     },
     "execution_count": 24,
     "metadata": {},
     "output_type": "execute_result"
    }
   ],
   "source": [
    "len(uni_to_uni_mult_found)"
   ]
  },
  {
   "cell_type": "code",
   "execution_count": 27,
   "metadata": {
    "collapsed": false
   },
   "outputs": [],
   "source": [
    "uni_to_uni.sort(key = lambda x: x[\"num\"], reverse = True)"
   ]
  },
  {
   "cell_type": "code",
   "execution_count": 28,
   "metadata": {
    "collapsed": false
   },
   "outputs": [
    {
     "data": {
      "text/plain": [
       "[{'from': 'Massachusetts Institute of Technology',\n",
       "  'num': 33,\n",
       "  'to': 'Massachusetts Institute of Technology'},\n",
       " {'from': 'Lomonosov Moscow State University',\n",
       "  'num': 32,\n",
       "  'to': 'Lomonosov Moscow State University'},\n",
       " {'from': '', 'num': 29, 'to': ''},\n",
       " {'from': 'ETH Zürich', 'num': 28, 'to': 'ETH Zürich'},\n",
       " {'from': 'Universiteit van Amsterdam',\n",
       "  'num': 25,\n",
       "  'to': 'Universiteit van Amsterdam'},\n",
       " {'from': 'Université Pierre-et-Marie-Curie - Paris VI',\n",
       "  'num': 21,\n",
       "  'to': 'Université Pierre-et-Marie-Curie - Paris VI'},\n",
       " {'from': 'University of Cambridge',\n",
       "  'num': 20,\n",
       "  'to': 'University of Cambridge'},\n",
       " {'from': 'Katholieke Universiteit Leuven',\n",
       "  'num': 20,\n",
       "  'to': 'Katholieke Universiteit Leuven'},\n",
       " {'from': 'Technische Universiteit Eindhoven',\n",
       "  'num': 19,\n",
       "  'to': 'Technische Universiteit Eindhoven'},\n",
       " {'from': 'Technische Universiteit Delft',\n",
       "  'num': 18,\n",
       "  'to': 'Technische Universiteit Delft'}]"
      ]
     },
     "execution_count": 28,
     "metadata": {},
     "output_type": "execute_result"
    }
   ],
   "source": [
    "uni_to_uni[:10]"
   ]
  },
  {
   "cell_type": "code",
   "execution_count": 29,
   "metadata": {
    "collapsed": false
   },
   "outputs": [
    {
     "data": {
      "text/plain": [
       "6055"
      ]
     },
     "execution_count": 29,
     "metadata": {},
     "output_type": "execute_result"
    }
   ],
   "source": [
    "len(uni_to_uni)"
   ]
  },
  {
   "cell_type": "markdown",
   "metadata": {},
   "source": [
    "get all unis"
   ]
  },
  {
   "cell_type": "code",
   "execution_count": 31,
   "metadata": {
    "collapsed": true
   },
   "outputs": [],
   "source": [
    "unis = set([p[\"uni\"] for p in math_gen])"
   ]
  },
  {
   "cell_type": "markdown",
   "metadata": {},
   "source": [
    "make graph viz"
   ]
  },
  {
   "cell_type": "code",
   "execution_count": 106,
   "metadata": {
    "collapsed": true
   },
   "outputs": [],
   "source": [
    "dot = Digraph(engine = \"neato\")\n",
    "dot.graph_attr[\"rankdir\"] = \"LR\""
   ]
  },
  {
   "cell_type": "code",
   "execution_count": 107,
   "metadata": {
    "collapsed": true
   },
   "outputs": [],
   "source": [
    "# for uni in unis:\n",
    "#    dot.node(uni)"
   ]
  },
  {
   "cell_type": "code",
   "execution_count": 108,
   "metadata": {
    "collapsed": false
   },
   "outputs": [],
   "source": [
    "for edge in uni_to_uni[:50]:\n",
    "    dot.edge(edge[\"from\"], edge[\"to\"])"
   ]
  },
  {
   "cell_type": "code",
   "execution_count": 109,
   "metadata": {
    "collapsed": false
   },
   "outputs": [],
   "source": [
    "dot.format = 'svg'"
   ]
  },
  {
   "cell_type": "code",
   "execution_count": 110,
   "metadata": {
    "collapsed": false
   },
   "outputs": [
    {
     "data": {
      "text/html": [
       "<style>svg{width:50% !important;height:50% !important;}</style>"
      ],
      "text/plain": [
       "<IPython.core.display.HTML object>"
      ]
     },
     "execution_count": 110,
     "metadata": {},
     "output_type": "execute_result"
    }
   ],
   "source": [
    "style = \"<style>svg{width:50% !important;height:50% !important;}</style>\"\n",
    "HTML(style)"
   ]
  },
  {
   "cell_type": "code",
   "execution_count": 111,
   "metadata": {
    "collapsed": false
   },
   "outputs": [
    {
     "data": {
      "image/svg+xml": [
       "<?xml version=\"1.0\" encoding=\"UTF-8\" standalone=\"no\"?>\n",
       "<!DOCTYPE svg PUBLIC \"-//W3C//DTD SVG 1.1//EN\"\n",
       " \"http://www.w3.org/Graphics/SVG/1.1/DTD/svg11.dtd\">\n",
       "<!-- Generated by graphviz version 2.38.0 (20140413.2041)\n",
       " -->\n",
       "<!-- Title: %3 Pages: 1 -->\n",
       "<svg width=\"1063pt\" height=\"854pt\"\n",
       " viewBox=\"0.00 0.00 1062.83 854.00\" xmlns=\"http://www.w3.org/2000/svg\" xmlns:xlink=\"http://www.w3.org/1999/xlink\">\n",
       "<g id=\"graph0\" class=\"graph\" transform=\"scale(1 1) rotate(0) translate(400.341 436)\">\n",
       "<title>%3</title>\n",
       "<polygon fill=\"white\" stroke=\"none\" points=\"-400.341,418 -400.341,-436 662.487,-436 662.487,418 -400.341,418\"/>\n",
       "<!-- Massachusetts Institute of Technology -->\n",
       "<g id=\"node1\" class=\"node\"><title>Massachusetts Institute of Technology</title>\n",
       "<ellipse fill=\"none\" stroke=\"black\" cx=\"368.787\" cy=\"-216.449\" rx=\"191.966\" ry=\"18\"/>\n",
       "<text text-anchor=\"middle\" x=\"368.787\" y=\"-212.749\" font-family=\"Times,serif\" font-size=\"14.00\">Massachusetts Institute of Technology</text>\n",
       "</g>\n",
       "<!-- Massachusetts Institute of Technology&#45;&gt;Massachusetts Institute of Technology -->\n",
       "<g id=\"edge1\" class=\"edge\"><title>Massachusetts Institute of Technology&#45;&gt;Massachusetts Institute of Technology</title>\n",
       "<path fill=\"none\" stroke=\"black\" d=\"M552.153,-221.764C568.362,-220.646 578.52,-218.874 578.52,-216.449 578.52,-214.572 572.443,-213.087 562.191,-211.993\"/>\n",
       "<polygon fill=\"black\" stroke=\"black\" points=\"562.416,-208.5 552.153,-211.133 561.818,-215.474 562.416,-208.5\"/>\n",
       "</g>\n",
       "<!-- University of California, Berkeley -->\n",
       "<g id=\"node16\" class=\"node\"><title>University of California, Berkeley</title>\n",
       "<ellipse fill=\"none\" stroke=\"black\" cx=\"323.313\" cy=\"-152.83\" rx=\"167.07\" ry=\"18\"/>\n",
       "<text text-anchor=\"middle\" x=\"323.313\" y=\"-149.13\" font-family=\"Times,serif\" font-size=\"14.00\">University of California, Berkeley</text>\n",
       "</g>\n",
       "<!-- Massachusetts Institute of Technology&#45;&gt;University of California, Berkeley -->\n",
       "<g id=\"edge17\" class=\"edge\"><title>Massachusetts Institute of Technology&#45;&gt;University of California, Berkeley</title>\n",
       "<path fill=\"none\" stroke=\"black\" d=\"M355.877,-198.388C351.689,-192.529 346.95,-185.899 342.41,-179.547\"/>\n",
       "<polygon fill=\"black\" stroke=\"black\" points=\"345.075,-177.256 336.412,-171.156 339.38,-181.327 345.075,-177.256\"/>\n",
       "</g>\n",
       "<!-- Georgia Institute of Technology -->\n",
       "<g id=\"node27\" class=\"node\"><title>Georgia Institute of Technology</title>\n",
       "<ellipse fill=\"none\" stroke=\"black\" cx=\"429.929\" cy=\"-264.305\" rx=\"157.872\" ry=\"18\"/>\n",
       "<text text-anchor=\"middle\" x=\"429.929\" y=\"-260.605\" font-family=\"Times,serif\" font-size=\"14.00\">Georgia Institute of Technology</text>\n",
       "</g>\n",
       "<!-- Massachusetts Institute of Technology&#45;&gt;Georgia Institute of Technology -->\n",
       "<g id=\"edge34\" class=\"edge\"><title>Massachusetts Institute of Technology&#45;&gt;Georgia Institute of Technology</title>\n",
       "<path fill=\"none\" stroke=\"black\" d=\"M391.902,-234.541C394.185,-236.328 396.526,-238.16 398.872,-239.996\"/>\n",
       "<polygon fill=\"black\" stroke=\"black\" points=\"396.749,-242.779 406.781,-246.187 401.064,-237.267 396.749,-242.779\"/>\n",
       "</g>\n",
       "<!-- Lomonosov Moscow State University -->\n",
       "<g id=\"node2\" class=\"node\"><title>Lomonosov Moscow State University</title>\n",
       "<ellipse fill=\"none\" stroke=\"black\" cx=\"-104.661\" cy=\"-23.9185\" rx=\"183.068\" ry=\"18\"/>\n",
       "<text text-anchor=\"middle\" x=\"-104.661\" y=\"-20.2185\" font-family=\"Times,serif\" font-size=\"14.00\">Lomonosov Moscow State University</text>\n",
       "</g>\n",
       "<!-- Lomonosov Moscow State University&#45;&gt;Lomonosov Moscow State University -->\n",
       "<g id=\"edge2\" class=\"edge\"><title>Lomonosov Moscow State University&#45;&gt;Lomonosov Moscow State University</title>\n",
       "<path fill=\"none\" stroke=\"black\" d=\"M70.296,-29.3064C86.4458,-28.193 96.6227,-26.3971 96.6227,-23.9185 96.6227,-22.0016 90.5349,-20.4929 80.3042,-19.3925\"/>\n",
       "<polygon fill=\"black\" stroke=\"black\" points=\"80.5594,-15.9017 70.296,-18.5307 79.9588,-22.8759 80.5594,-15.9017\"/>\n",
       "</g>\n",
       "<g id=\"node3\" class=\"node\"><title></title>\n",
       "<ellipse fill=\"none\" stroke=\"black\" cx=\"-22.5755\" cy=\"-28.0379\" rx=\"27\" ry=\"18\"/>\n",
       "</g>\n",
       "<!-- Lomonosov Moscow State University&#45;&gt; -->\n",
       "<g id=\"edge24\" class=\"edge\"><title>Lomonosov Moscow State University&#45;&gt;</title>\n",
       "<path fill=\"none\" stroke=\"black\" d=\"M-22.6558,-28.4497C-22.6442,-28.4162 -22.6339,-28.3825 -22.6247,-28.3486\"/>\n",
       "<polygon fill=\"black\" stroke=\"black\" points=\"-21.4627,-38.7817 -22.6009,-28.2462 -28.2812,-37.192 -21.4627,-38.7817\"/>\n",
       "</g>\n",
       "<!-- &#45;&gt;Lomonosov Moscow State University -->\n",
       "<g id=\"edge41\" class=\"edge\"><title>&#45;&gt;Lomonosov Moscow State University</title>\n",
       "<path fill=\"none\" stroke=\"black\" d=\"M-47.3354,-20.5137C-47.3824,-20.5084 -47.4295,-20.5031 -47.4765,-20.4978\"/>\n",
       "<polygon fill=\"black\" stroke=\"black\" points=\"-37.2879,-18.1242 -47.6178,-20.482 -38.0722,-25.0807 -37.2879,-18.1242\"/>\n",
       "</g>\n",
       "<!-- &#45;&gt; -->\n",
       "<g id=\"edge3\" class=\"edge\"><title>&#45;&gt;</title>\n",
       "<path fill=\"none\" stroke=\"black\" d=\"M2.86799,-34.7286C13.4523,-35.19 22.4245,-32.9598 22.4245,-28.0379 22.4245,-24.808 18.5605,-22.7372 12.9126,-21.8256\"/>\n",
       "<polygon fill=\"black\" stroke=\"black\" points=\"13.0232,-18.327 2.86799,-21.3473 12.6902,-25.3191 13.0232,-18.327\"/>\n",
       "</g>\n",
       "<!-- Université Pierre&#45;et&#45;Marie&#45;Curie &#45; Paris VI -->\n",
       "<g id=\"node6\" class=\"node\"><title>Université Pierre&#45;et&#45;Marie&#45;Curie &#45; Paris VI</title>\n",
       "<ellipse fill=\"none\" stroke=\"black\" cx=\"39.9006\" cy=\"-80.9081\" rx=\"207.963\" ry=\"18\"/>\n",
       "<text text-anchor=\"middle\" x=\"39.9006\" y=\"-77.2081\" font-family=\"Times,serif\" font-size=\"14.00\">Université Pierre&#45;et&#45;Marie&#45;Curie &#45; Paris VI</text>\n",
       "</g>\n",
       "<!-- &#45;&gt;Université Pierre&#45;et&#45;Marie&#45;Curie &#45; Paris VI -->\n",
       "<g id=\"edge38\" class=\"edge\"><title>&#45;&gt;Université Pierre&#45;et&#45;Marie&#45;Curie &#45; Paris VI</title>\n",
       "<path fill=\"none\" stroke=\"black\" d=\"M-5.83303,-42.2062C-0.664311,-46.5802 5.18473,-51.5299 10.9309,-56.3925\"/>\n",
       "<polygon fill=\"black\" stroke=\"black\" points=\"8.73469,-59.1191 18.6292,-62.9072 13.2566,-53.7756 8.73469,-59.1191\"/>\n",
       "</g>\n",
       "<!-- Technische Universiteit Eindhoven -->\n",
       "<g id=\"node9\" class=\"node\"><title>Technische Universiteit Eindhoven</title>\n",
       "<ellipse fill=\"none\" stroke=\"black\" cx=\"3.84198\" cy=\"51.0814\" rx=\"172.769\" ry=\"18\"/>\n",
       "<text text-anchor=\"middle\" x=\"3.84198\" y=\"54.7814\" font-family=\"Times,serif\" font-size=\"14.00\">Technische Universiteit Eindhoven</text>\n",
       "</g>\n",
       "<!-- &#45;&gt;Technische Universiteit Eindhoven -->\n",
       "<g id=\"edge15\" class=\"edge\"><title>&#45;&gt;Technische Universiteit Eindhoven</title>\n",
       "<path fill=\"none\" stroke=\"black\" d=\"M-16.581,-10.0845C-13.2942,-0.240753 -9.14773,12.1777 -5.4511,23.249\"/>\n",
       "<polygon fill=\"black\" stroke=\"black\" points=\"-2.06757,22.3315 -2.22027,32.9252 -8.70724,24.5484 -2.06757,22.3315\"/>\n",
       "</g>\n",
       "<!-- Université Paris&#45;Sud XI &#45; Orsay -->\n",
       "<g id=\"node15\" class=\"node\"><title>Université Paris&#45;Sud XI &#45; Orsay</title>\n",
       "<ellipse fill=\"none\" stroke=\"black\" cx=\"-51.6043\" cy=\"-102.037\" rx=\"155.173\" ry=\"18\"/>\n",
       "<text text-anchor=\"middle\" x=\"-51.6043\" y=\"-98.3367\" font-family=\"Times,serif\" font-size=\"14.00\">Université Paris&#45;Sud XI &#45; Orsay</text>\n",
       "</g>\n",
       "<!-- &#45;&gt;Université Paris&#45;Sud XI &#45; Orsay -->\n",
       "<g id=\"edge35\" class=\"edge\"><title>&#45;&gt;Université Paris&#45;Sud XI &#45; Orsay</title>\n",
       "<path fill=\"none\" stroke=\"black\" d=\"M-35.2583,-44.1694C-39.6626,-52.9608 -44.2112,-64.0681 -47.6143,-74.2028\"/>\n",
       "<polygon fill=\"black\" stroke=\"black\" points=\"-50.9997,-73.3047 -50.5876,-83.8915 -44.3077,-75.3585 -50.9997,-73.3047\"/>\n",
       "</g>\n",
       "<!-- ETH Zürich -->\n",
       "<g id=\"node4\" class=\"node\"><title>ETH Zürich</title>\n",
       "<ellipse fill=\"none\" stroke=\"black\" cx=\"-312\" cy=\"-306\" rx=\"65.7887\" ry=\"18\"/>\n",
       "<text text-anchor=\"middle\" x=\"-312\" y=\"-302.3\" font-family=\"Times,serif\" font-size=\"14.00\">ETH Zürich</text>\n",
       "</g>\n",
       "<!-- ETH Zürich&#45;&gt;ETH Zürich -->\n",
       "<g id=\"edge4\" class=\"edge\"><title>ETH Zürich&#45;&gt;ETH Zürich</title>\n",
       "<path fill=\"none\" stroke=\"black\" d=\"M-250.727,-312.532C-237.737,-311.869 -228.356,-309.691 -228.356,-306 -228.356,-303.347 -233.202,-301.476 -240.751,-300.387\"/>\n",
       "<polygon fill=\"black\" stroke=\"black\" points=\"-240.448,-296.9 -250.727,-299.468 -241.09,-303.871 -240.448,-296.9\"/>\n",
       "</g>\n",
       "<!-- Universiteit van Amsterdam -->\n",
       "<g id=\"node5\" class=\"node\"><title>Universiteit van Amsterdam</title>\n",
       "<ellipse fill=\"none\" stroke=\"black\" cx=\"74.622\" cy=\"87.1288\" rx=\"142.175\" ry=\"18\"/>\n",
       "<text text-anchor=\"middle\" x=\"74.622\" y=\"90.8288\" font-family=\"Times,serif\" font-size=\"14.00\">Universiteit van Amsterdam</text>\n",
       "</g>\n",
       "<!-- Universiteit van Amsterdam&#45;&gt;Universiteit van Amsterdam -->\n",
       "<g id=\"edge5\" class=\"edge\"><title>Universiteit van Amsterdam&#45;&gt;Universiteit van Amsterdam</title>\n",
       "<path fill=\"none\" stroke=\"black\" d=\"M209.725,81.4087C225.036,82.4799 234.959,84.3866 234.959,87.1288 234.959,89.2068 229.261,90.8051 219.837,91.9235\"/>\n",
       "<polygon fill=\"black\" stroke=\"black\" points=\"220.002,95.4229 209.725,92.8488 219.364,88.452 220.002,95.4229\"/>\n",
       "</g>\n",
       "<!-- Universiteit van Amsterdam&#45;&gt;Technische Universiteit Eindhoven -->\n",
       "<g id=\"edge33\" class=\"edge\"><title>Universiteit van Amsterdam&#45;&gt;Technische Universiteit Eindhoven</title>\n",
       "<path fill=\"none\" stroke=\"black\" d=\"M40.0614,69.5275C39.9561,69.4739 39.8508,69.4203 39.7455,69.3666\"/>\n",
       "<polygon fill=\"black\" stroke=\"black\" points=\"46.1203,76.5416 38.7978,68.884 49.2974,70.3039 46.1203,76.5416\"/>\n",
       "</g>\n",
       "<!-- Vrije Universiteit Amsterdam -->\n",
       "<g id=\"node28\" class=\"node\"><title>Vrije Universiteit Amsterdam</title>\n",
       "<ellipse fill=\"none\" stroke=\"black\" cx=\"138.562\" cy=\"125.552\" rx=\"148.374\" ry=\"18\"/>\n",
       "<text text-anchor=\"middle\" x=\"138.562\" y=\"129.252\" font-family=\"Times,serif\" font-size=\"14.00\">Vrije Universiteit Amsterdam</text>\n",
       "</g>\n",
       "<!-- Universiteit van Amsterdam&#45;&gt;Vrije Universiteit Amsterdam -->\n",
       "<g id=\"edge36\" class=\"edge\"><title>Universiteit van Amsterdam&#45;&gt;Vrije Universiteit Amsterdam</title>\n",
       "<path fill=\"none\" stroke=\"black\" d=\"M103.972,104.766C104.079,104.83 104.186,104.894 104.292,104.958\"/>\n",
       "<polygon fill=\"black\" stroke=\"black\" points=\"102.335,99.6988 109.104,107.85 98.7299,105.699 102.335,99.6988\"/>\n",
       "</g>\n",
       "<!-- Université Pierre&#45;et&#45;Marie&#45;Curie &#45; Paris VI&#45;&gt;Université Pierre&#45;et&#45;Marie&#45;Curie &#45; Paris VI -->\n",
       "<g id=\"edge6\" class=\"edge\"><title>Université Pierre&#45;et&#45;Marie&#45;Curie &#45; Paris VI&#45;&gt;Université Pierre&#45;et&#45;Marie&#45;Curie &#45; Paris VI</title>\n",
       "<path fill=\"none\" stroke=\"black\" d=\"M238.975,-86.1251C255.563,-85.0025 265.882,-83.2635 265.882,-80.9081 265.882,-79.0863 259.709,-77.6332 249.237,-76.549\"/>\n",
       "<polygon fill=\"black\" stroke=\"black\" points=\"249.232,-73.0364 238.975,-75.6911 248.649,-80.0121 249.232,-73.0364\"/>\n",
       "</g>\n",
       "<!-- University of Cambridge -->\n",
       "<g id=\"node7\" class=\"node\"><title>University of Cambridge</title>\n",
       "<ellipse fill=\"none\" stroke=\"black\" cx=\"-181\" cy=\"252\" rx=\"125.378\" ry=\"18\"/>\n",
       "<text text-anchor=\"middle\" x=\"-181\" y=\"255.7\" font-family=\"Times,serif\" font-size=\"14.00\">University of Cambridge</text>\n",
       "</g>\n",
       "<!-- University of Cambridge&#45;&gt;University of Cambridge -->\n",
       "<g id=\"edge7\" class=\"edge\"><title>University of Cambridge&#45;&gt;University of Cambridge</title>\n",
       "<path fill=\"none\" stroke=\"black\" d=\"M-62.2808,246.122C-47.3724,247.158 -37.5611,249.117 -37.5611,252 -37.5611,254.162 -43.0799,255.805 -52.1289,256.928\"/>\n",
       "<polygon fill=\"black\" stroke=\"black\" points=\"-51.9982,260.431 -62.2808,257.878 -52.6505,253.462 -51.9982,260.431\"/>\n",
       "</g>\n",
       "<!-- Katholieke Universiteit Leuven -->\n",
       "<g id=\"node8\" class=\"node\"><title>Katholieke Universiteit Leuven</title>\n",
       "<ellipse fill=\"none\" stroke=\"black\" cx=\"155\" cy=\"288\" rx=\"155.173\" ry=\"18\"/>\n",
       "<text text-anchor=\"middle\" x=\"155\" y=\"291.7\" font-family=\"Times,serif\" font-size=\"14.00\">Katholieke Universiteit Leuven</text>\n",
       "</g>\n",
       "<!-- Katholieke Universiteit Leuven&#45;&gt;Katholieke Universiteit Leuven -->\n",
       "<g id=\"edge8\" class=\"edge\"><title>Katholieke Universiteit Leuven&#45;&gt;Katholieke Universiteit Leuven</title>\n",
       "<path fill=\"none\" stroke=\"black\" d=\"M302.629,282.386C318.285,283.474 328.336,285.346 328.336,288 328.336,290.032 322.444,291.606 312.657,292.72\"/>\n",
       "<polygon fill=\"black\" stroke=\"black\" points=\"312.901,296.212 302.629,293.614 312.279,289.24 312.901,296.212\"/>\n",
       "</g>\n",
       "<!-- Technische Universiteit Eindhoven&#45;&gt;Technische Universiteit Eindhoven -->\n",
       "<g id=\"edge9\" class=\"edge\"><title>Technische Universiteit Eindhoven&#45;&gt;Technische Universiteit Eindhoven</title>\n",
       "<path fill=\"none\" stroke=\"black\" d=\"M168.775,45.6234C184.66,46.7308 194.727,48.5502 194.727,51.0814 194.727,53.0194 188.826,54.5401 178.931,55.6435\"/>\n",
       "<polygon fill=\"black\" stroke=\"black\" points=\"179.044,59.147 168.775,56.5394 178.428,52.1741 179.044,59.147\"/>\n",
       "</g>\n",
       "<!-- Technische Universiteit Delft -->\n",
       "<g id=\"node10\" class=\"node\"><title>Technische Universiteit Delft</title>\n",
       "<ellipse fill=\"none\" stroke=\"black\" cx=\"471\" cy=\"-342\" rx=\"146.774\" ry=\"18\"/>\n",
       "<text text-anchor=\"middle\" x=\"471\" y=\"-338.3\" font-family=\"Times,serif\" font-size=\"14.00\">Technische Universiteit Delft</text>\n",
       "</g>\n",
       "<!-- Technische Universiteit Delft&#45;&gt;Technische Universiteit Delft -->\n",
       "<g id=\"edge10\" class=\"edge\"><title>Technische Universiteit Delft&#45;&gt;Technische Universiteit Delft</title>\n",
       "<path fill=\"none\" stroke=\"black\" d=\"M610.539,-347.678C625.942,-346.6 635.887,-344.707 635.887,-342 635.887,-339.949 630.176,-338.365 620.706,-337.249\"/>\n",
       "<polygon fill=\"black\" stroke=\"black\" points=\"620.816,-333.744 610.539,-336.322 620.18,-340.715 620.816,-333.744\"/>\n",
       "</g>\n",
       "<!-- Harvard University -->\n",
       "<g id=\"node11\" class=\"node\"><title>Harvard University</title>\n",
       "<ellipse fill=\"none\" stroke=\"black\" cx=\"391.745\" cy=\"-143.627\" rx=\"100.983\" ry=\"18\"/>\n",
       "<text text-anchor=\"middle\" x=\"391.745\" y=\"-139.927\" font-family=\"Times,serif\" font-size=\"14.00\">Harvard University</text>\n",
       "</g>\n",
       "<!-- Harvard University&#45;&gt;Massachusetts Institute of Technology -->\n",
       "<g id=\"edge11\" class=\"edge\"><title>Harvard University&#45;&gt;Massachusetts Institute of Technology</title>\n",
       "<path fill=\"none\" stroke=\"black\" d=\"M386.07,-161.628C383.504,-169.768 380.412,-179.574 377.558,-188.628\"/>\n",
       "<polygon fill=\"black\" stroke=\"black\" points=\"374.145,-187.813 374.476,-198.402 380.821,-189.917 374.145,-187.813\"/>\n",
       "</g>\n",
       "<!-- Harvard University&#45;&gt;Harvard University -->\n",
       "<g id=\"edge25\" class=\"edge\"><title>Harvard University&#45;&gt;Harvard University</title>\n",
       "<path fill=\"none\" stroke=\"black\" d=\"M486.772,-149.75C500.918,-148.797 510.486,-146.756 510.486,-143.627 510.486,-141.329 505.326,-139.618 496.982,-138.493\"/>\n",
       "<polygon fill=\"black\" stroke=\"black\" points=\"497.063,-134.985 486.772,-137.503 496.388,-141.952 497.063,-134.985\"/>\n",
       "</g>\n",
       "<!-- Harvard University&#45;&gt;University of California, Berkeley -->\n",
       "<g id=\"edge28\" class=\"edge\"><title>Harvard University&#45;&gt;University of California, Berkeley</title>\n",
       "<path fill=\"none\" stroke=\"black\" d=\"M323.362,-152.823C323.354,-152.824 323.347,-152.825 323.34,-152.826\"/>\n",
       "<polygon fill=\"black\" stroke=\"black\" points=\"332.751,-147.971 323.325,-152.828 333.722,-154.909 332.751,-147.971\"/>\n",
       "</g>\n",
       "<!-- University of Ljubljana -->\n",
       "<g id=\"node12\" class=\"node\"><title>University of Ljubljana</title>\n",
       "<ellipse fill=\"none\" stroke=\"black\" cx=\"-225\" cy=\"-378\" rx=\"116.979\" ry=\"18\"/>\n",
       "<text text-anchor=\"middle\" x=\"-225\" y=\"-374.3\" font-family=\"Times,serif\" font-size=\"14.00\">University of Ljubljana</text>\n",
       "</g>\n",
       "<!-- University of Ljubljana&#45;&gt;University of Ljubljana -->\n",
       "<g id=\"edge12\" class=\"edge\"><title>University of Ljubljana&#45;&gt;University of Ljubljana</title>\n",
       "<path fill=\"none\" stroke=\"black\" d=\"M-114.57,-383.97C-99.8153,-382.961 -90.0104,-380.971 -90.0104,-378 -90.0104,-375.772 -95.5256,-374.096 -104.508,-372.971\"/>\n",
       "<polygon fill=\"black\" stroke=\"black\" points=\"-104.288,-369.476 -114.57,-372.03 -104.94,-376.446 -104.288,-369.476\"/>\n",
       "</g>\n",
       "<!-- rer. nat. Technische Universität Dresden -->\n",
       "<g id=\"node13\" class=\"node\"><title>rer. nat. Technische Universität Dresden</title>\n",
       "<ellipse fill=\"none\" stroke=\"black\" cx=\"326\" cy=\"-18\" rx=\"200.365\" ry=\"18\"/>\n",
       "<text text-anchor=\"middle\" x=\"326\" y=\"-14.3\" font-family=\"Times,serif\" font-size=\"14.00\">rer. nat. Technische Universität Dresden</text>\n",
       "</g>\n",
       "<!-- rer. nat. Technische Universität Dresden&#45;&gt;rer. nat. Technische Universität Dresden -->\n",
       "<g id=\"edge13\" class=\"edge\"><title>rer. nat. Technische Universität Dresden&#45;&gt;rer. nat. Technische Universität Dresden</title>\n",
       "<path fill=\"none\" stroke=\"black\" d=\"M517.483,-23.2668C533.919,-22.1462 544.182,-20.3906 544.182,-18 544.182,-16.151 538.043,-14.6819 527.656,-13.5926\"/>\n",
       "<polygon fill=\"black\" stroke=\"black\" points=\"527.742,-10.0875 517.483,-12.7332 527.153,-17.0626 527.742,-10.0875\"/>\n",
       "</g>\n",
       "<!-- Universidad de Buenos Aires -->\n",
       "<g id=\"node14\" class=\"node\"><title>Universidad de Buenos Aires</title>\n",
       "<ellipse fill=\"none\" stroke=\"black\" cx=\"-178\" cy=\"180\" rx=\"145.674\" ry=\"18\"/>\n",
       "<text text-anchor=\"middle\" x=\"-178\" y=\"183.7\" font-family=\"Times,serif\" font-size=\"14.00\">Universidad de Buenos Aires</text>\n",
       "</g>\n",
       "<!-- Universidad de Buenos Aires&#45;&gt;Universidad de Buenos Aires -->\n",
       "<g id=\"edge14\" class=\"edge\"><title>Universidad de Buenos Aires&#45;&gt;Universidad de Buenos Aires</title>\n",
       "<path fill=\"none\" stroke=\"black\" d=\"M-39.8591,174.301C-24.4079,175.376 -14.4129,177.275 -14.4129,180 -14.4129,182.065 -20.1528,183.656 -29.6574,184.773\"/>\n",
       "<polygon fill=\"black\" stroke=\"black\" points=\"-29.5836,188.281 -39.8591,185.699 -30.2165,181.309 -29.5836,188.281\"/>\n",
       "</g>\n",
       "<!-- Université Paris&#45;Sud XI &#45; Orsay&#45;&gt; -->\n",
       "<g id=\"edge46\" class=\"edge\"><title>Université Paris&#45;Sud XI &#45; Orsay&#45;&gt;</title>\n",
       "<path fill=\"none\" stroke=\"black\" d=\"M-38.0019,-84.0406C-33.9192,-75.6339 -29.7897,-65.4447 -26.6315,-56.068\"/>\n",
       "<polygon fill=\"black\" stroke=\"black\" points=\"-23.2323,-56.922 -23.6337,-46.3348 -29.9222,-54.8616 -23.2323,-56.922\"/>\n",
       "</g>\n",
       "<!-- Université Paris&#45;Sud XI &#45; Orsay&#45;&gt;Université Paris&#45;Sud XI &#45; Orsay -->\n",
       "<g id=\"edge16\" class=\"edge\"><title>Université Paris&#45;Sud XI &#45; Orsay&#45;&gt;Université Paris&#45;Sud XI &#45; Orsay</title>\n",
       "<path fill=\"none\" stroke=\"black\" d=\"M96.0251,-107.651C111.681,-106.563 121.732,-104.691 121.732,-102.037 121.732,-100.005 115.84,-98.4312 106.052,-97.3168\"/>\n",
       "<polygon fill=\"black\" stroke=\"black\" points=\"106.297,-93.8247 96.0251,-96.4223 105.675,-100.797 106.297,-93.8247\"/>\n",
       "</g>\n",
       "<!-- University of California, Berkeley&#45;&gt;University of California, Berkeley -->\n",
       "<g id=\"edge22\" class=\"edge\"><title>University of California, Berkeley&#45;&gt;University of California, Berkeley</title>\n",
       "<path fill=\"none\" stroke=\"black\" d=\"M482.546,-158.334C498.317,-157.231 508.348,-155.396 508.348,-152.83 508.348,-150.865 502.468,-149.329 492.634,-148.222\"/>\n",
       "<polygon fill=\"black\" stroke=\"black\" points=\"492.817,-144.725 482.546,-147.326 492.197,-151.697 492.817,-144.725\"/>\n",
       "</g>\n",
       "<!-- University of Washington -->\n",
       "<g id=\"node35\" class=\"node\"><title>University of Washington</title>\n",
       "<ellipse fill=\"none\" stroke=\"black\" cx=\"253.877\" cy=\"-187.603\" rx=\"128.077\" ry=\"18\"/>\n",
       "<text text-anchor=\"middle\" x=\"253.877\" y=\"-183.903\" font-family=\"Times,serif\" font-size=\"14.00\">University of Washington</text>\n",
       "</g>\n",
       "<!-- University of California, Berkeley&#45;&gt;University of Washington -->\n",
       "<g id=\"edge49\" class=\"edge\"><title>University of California, Berkeley&#45;&gt;University of Washington</title>\n",
       "<path fill=\"none\" stroke=\"black\" d=\"M287.781,-170.624C287.715,-170.657 287.648,-170.691 287.581,-170.724\"/>\n",
       "<polygon fill=\"black\" stroke=\"black\" points=\"294.755,-163.214 287.381,-170.824 297.891,-169.474 294.755,-163.214\"/>\n",
       "</g>\n",
       "<!-- Université Paris Diderot &#45; Paris 7 -->\n",
       "<g id=\"node17\" class=\"node\"><title>Université Paris Diderot &#45; Paris 7</title>\n",
       "<ellipse fill=\"none\" stroke=\"black\" cx=\"-88\" cy=\"-180\" rx=\"164.371\" ry=\"18\"/>\n",
       "<text text-anchor=\"middle\" x=\"-88\" y=\"-176.3\" font-family=\"Times,serif\" font-size=\"14.00\">Université Paris Diderot &#45; Paris 7</text>\n",
       "</g>\n",
       "<!-- Université Paris Diderot &#45; Paris 7&#45;&gt;Université Paris Diderot &#45; Paris 7 -->\n",
       "<g id=\"edge18\" class=\"edge\"><title>Université Paris Diderot &#45; Paris 7&#45;&gt;Université Paris Diderot &#45; Paris 7</title>\n",
       "<path fill=\"none\" stroke=\"black\" d=\"M68.6761,-185.526C84.4098,-184.426 94.4354,-182.584 94.4354,-180 94.4354,-178.022 88.5586,-176.478 78.7426,-175.37\"/>\n",
       "<polygon fill=\"black\" stroke=\"black\" points=\"78.9471,-171.874 68.6761,-174.474 78.3265,-178.846 78.9471,-171.874\"/>\n",
       "</g>\n",
       "<!-- Universiteit Utrecht -->\n",
       "<g id=\"node18\" class=\"node\"><title>Universiteit Utrecht</title>\n",
       "<ellipse fill=\"none\" stroke=\"black\" cx=\"-46.0863\" cy=\"115.139\" rx=\"104.782\" ry=\"18\"/>\n",
       "<text text-anchor=\"middle\" x=\"-46.0863\" y=\"118.839\" font-family=\"Times,serif\" font-size=\"14.00\">Universiteit Utrecht</text>\n",
       "</g>\n",
       "<!-- Universiteit Utrecht&#45;&gt;Technische Universiteit Eindhoven -->\n",
       "<g id=\"edge19\" class=\"edge\"><title>Universiteit Utrecht&#45;&gt;Technische Universiteit Eindhoven</title>\n",
       "<path fill=\"none\" stroke=\"black\" d=\"M-32.1785,97.2957C-27.3905,91.1527 -21.9225,84.1373 -16.7182,77.4602\"/>\n",
       "<polygon fill=\"black\" stroke=\"black\" points=\"-19.2462,75.0102 -10.3382,69.2746 -13.7251,79.3134 -19.2462,75.0102\"/>\n",
       "</g>\n",
       "<!-- Universiteit Utrecht&#45;&gt;Universiteit Utrecht -->\n",
       "<g id=\"edge29\" class=\"edge\"><title>Universiteit Utrecht&#45;&gt;Universiteit Utrecht</title>\n",
       "<path fill=\"none\" stroke=\"black\" d=\"M52.5525,109.049C66.8933,110.015 76.5544,112.046 76.5544,115.139 76.5544,117.436 71.2327,119.146 62.6257,120.27\"/>\n",
       "<polygon fill=\"black\" stroke=\"black\" points=\"62.8394,123.766 52.5525,121.23 62.1754,116.797 62.8394,123.766\"/>\n",
       "</g>\n",
       "<!-- Universidad Complutense de Madrid -->\n",
       "<g id=\"node19\" class=\"node\"><title>Universidad Complutense de Madrid</title>\n",
       "<ellipse fill=\"none\" stroke=\"black\" cx=\"-33\" cy=\"-252\" rx=\"182.768\" ry=\"18\"/>\n",
       "<text text-anchor=\"middle\" x=\"-33\" y=\"-248.3\" font-family=\"Times,serif\" font-size=\"14.00\">Universidad Complutense de Madrid</text>\n",
       "</g>\n",
       "<!-- Universidad Complutense de Madrid&#45;&gt;Universidad Complutense de Madrid -->\n",
       "<g id=\"edge20\" class=\"edge\"><title>Universidad Complutense de Madrid&#45;&gt;Universidad Complutense de Madrid</title>\n",
       "<path fill=\"none\" stroke=\"black\" d=\"M141.392,-257.388C157.49,-256.274 167.634,-254.479 167.634,-252 167.634,-250.083 161.566,-248.574 151.368,-247.474\"/>\n",
       "<polygon fill=\"black\" stroke=\"black\" points=\"151.656,-243.986 141.392,-246.612 151.054,-250.96 151.656,-243.986\"/>\n",
       "</g>\n",
       "<!-- Stanford University -->\n",
       "<g id=\"node20\" class=\"node\"><title>Stanford University</title>\n",
       "<ellipse fill=\"none\" stroke=\"black\" cx=\"296.349\" cy=\"-253.187\" rx=\"102.082\" ry=\"18\"/>\n",
       "<text text-anchor=\"middle\" x=\"296.349\" y=\"-249.487\" font-family=\"Times,serif\" font-size=\"14.00\">Stanford University</text>\n",
       "</g>\n",
       "<!-- Stanford University&#45;&gt;Massachusetts Institute of Technology -->\n",
       "<g id=\"edge42\" class=\"edge\"><title>Stanford University&#45;&gt;Massachusetts Institute of Technology</title>\n",
       "<path fill=\"none\" stroke=\"black\" d=\"M330.023,-236.109C330.171,-236.034 330.319,-235.959 330.467,-235.884\"/>\n",
       "<polygon fill=\"black\" stroke=\"black\" points=\"326.24,-241.952 333.576,-234.307 323.074,-235.709 326.24,-241.952\"/>\n",
       "</g>\n",
       "<!-- Stanford University&#45;&gt;Stanford University -->\n",
       "<g id=\"edge21\" class=\"edge\"><title>Stanford University&#45;&gt;Stanford University</title>\n",
       "<path fill=\"none\" stroke=\"black\" d=\"M392.417,-259.311C406.717,-258.357 416.39,-256.316 416.39,-253.187 416.39,-250.865 411.062,-249.142 402.468,-248.018\"/>\n",
       "<polygon fill=\"black\" stroke=\"black\" points=\"402.703,-244.525 392.417,-247.064 402.041,-251.494 402.703,-244.525\"/>\n",
       "</g>\n",
       "<!-- Stanford University&#45;&gt;University of Washington -->\n",
       "<g id=\"edge47\" class=\"edge\"><title>Stanford University&#45;&gt;University of Washington</title>\n",
       "<path fill=\"none\" stroke=\"black\" d=\"M284.743,-235.266C280.599,-228.866 275.833,-221.507 271.306,-214.517\"/>\n",
       "<polygon fill=\"black\" stroke=\"black\" points=\"274.138,-212.45 265.765,-205.959 268.262,-216.255 274.138,-212.45\"/>\n",
       "</g>\n",
       "<!-- Universiteit Leiden -->\n",
       "<g id=\"node21\" class=\"node\"><title>Universiteit Leiden</title>\n",
       "<ellipse fill=\"none\" stroke=\"black\" cx=\"245\" cy=\"-414\" rx=\"100.983\" ry=\"18\"/>\n",
       "<text text-anchor=\"middle\" x=\"245\" y=\"-410.3\" font-family=\"Times,serif\" font-size=\"14.00\">Universiteit Leiden</text>\n",
       "</g>\n",
       "<!-- Universiteit Leiden&#45;&gt;Universiteit Leiden -->\n",
       "<g id=\"edge23\" class=\"edge\"><title>Universiteit Leiden&#45;&gt;Universiteit Leiden</title>\n",
       "<path fill=\"none\" stroke=\"black\" d=\"M340.027,-420.123C354.173,-419.17 363.741,-417.129 363.741,-414 363.741,-411.702 358.581,-409.991 350.237,-408.867\"/>\n",
       "<polygon fill=\"black\" stroke=\"black\" points=\"350.318,-405.358 340.027,-407.877 349.643,-412.325 350.318,-405.358\"/>\n",
       "</g>\n",
       "<!-- Kungliga Tekniska Högskolan -->\n",
       "<g id=\"node22\" class=\"node\"><title>Kungliga Tekniska Högskolan</title>\n",
       "<ellipse fill=\"none\" stroke=\"black\" cx=\"491\" cy=\"324\" rx=\"149.473\" ry=\"18\"/>\n",
       "<text text-anchor=\"middle\" x=\"491\" y=\"327.7\" font-family=\"Times,serif\" font-size=\"14.00\">Kungliga Tekniska Högskolan</text>\n",
       "</g>\n",
       "<!-- Kungliga Tekniska Högskolan&#45;&gt;Kungliga Tekniska Högskolan -->\n",
       "<g id=\"edge26\" class=\"edge\"><title>Kungliga Tekniska Högskolan&#45;&gt;Kungliga Tekniska Högskolan</title>\n",
       "<path fill=\"none\" stroke=\"black\" d=\"M633.044,318.343C648.516,319.425 658.487,321.311 658.487,324 658.487,326.038 652.761,327.615 643.254,328.73\"/>\n",
       "<polygon fill=\"black\" stroke=\"black\" points=\"643.319,332.238 633.044,329.657 642.686,325.267 643.319,332.238\"/>\n",
       "</g>\n",
       "<!-- Université de Montréal -->\n",
       "<g id=\"node23\" class=\"node\"><title>Université de Montréal</title>\n",
       "<ellipse fill=\"none\" stroke=\"black\" cx=\"-223\" cy=\"324\" rx=\"118.879\" ry=\"18\"/>\n",
       "<text text-anchor=\"middle\" x=\"-223\" y=\"327.7\" font-family=\"Times,serif\" font-size=\"14.00\">Université de Montréal</text>\n",
       "</g>\n",
       "<!-- Université de Montréal&#45;&gt;Université de Montréal -->\n",
       "<g id=\"edge27\" class=\"edge\"><title>Université de Montréal&#45;&gt;Université de Montréal</title>\n",
       "<path fill=\"none\" stroke=\"black\" d=\"M-110.71,318.048C-95.8897,319.063 -86.0606,321.047 -86.0606,324 -86.0606,326.215 -91.5895,327.885 -100.606,329.009\"/>\n",
       "<polygon fill=\"black\" stroke=\"black\" points=\"-100.428,332.508 -110.71,329.952 -101.079,325.538 -100.428,332.508\"/>\n",
       "</g>\n",
       "<!-- University of Oxford -->\n",
       "<g id=\"node24\" class=\"node\"><title>University of Oxford</title>\n",
       "<ellipse fill=\"none\" stroke=\"black\" cx=\"357\" cy=\"396\" rx=\"105.082\" ry=\"18\"/>\n",
       "<text text-anchor=\"middle\" x=\"357\" y=\"399.7\" font-family=\"Times,serif\" font-size=\"14.00\">University of Oxford</text>\n",
       "</g>\n",
       "<!-- University of Oxford&#45;&gt;University of Oxford -->\n",
       "<g id=\"edge30\" class=\"edge\"><title>University of Oxford&#45;&gt;University of Oxford</title>\n",
       "<path fill=\"none\" stroke=\"black\" d=\"M456.162,389.909C470.578,390.876 480.291,392.906 480.291,396 480.291,398.296 474.941,400.006 466.288,401.131\"/>\n",
       "<polygon fill=\"black\" stroke=\"black\" points=\"466.447,404.632 456.162,402.091 465.787,397.663 466.447,404.632\"/>\n",
       "</g>\n",
       "<!-- Princeton University -->\n",
       "<g id=\"node25\" class=\"node\"><title>Princeton University</title>\n",
       "<ellipse fill=\"none\" stroke=\"black\" cx=\"35.3952\" cy=\"-334.32\" rx=\"107.482\" ry=\"18\"/>\n",
       "<text text-anchor=\"middle\" x=\"35.3952\" y=\"-330.62\" font-family=\"Times,serif\" font-size=\"14.00\">Princeton University</text>\n",
       "</g>\n",
       "<!-- Princeton University&#45;&gt;Princeton University -->\n",
       "<g id=\"edge31\" class=\"edge\"><title>Princeton University&#45;&gt;Princeton University</title>\n",
       "<path fill=\"none\" stroke=\"black\" d=\"M136.622,-340.377C150.993,-339.397 160.636,-337.378 160.636,-334.32 160.636,-332.05 155.324,-330.352 146.71,-329.227\"/>\n",
       "<polygon fill=\"black\" stroke=\"black\" points=\"146.91,-325.73 136.622,-328.262 146.244,-332.699 146.91,-325.73\"/>\n",
       "</g>\n",
       "<!-- The University of Chicago -->\n",
       "<g id=\"node34\" class=\"node\"><title>The University of Chicago</title>\n",
       "<ellipse fill=\"none\" stroke=\"black\" cx=\"106.605\" cy=\"-323.68\" rx=\"131.877\" ry=\"18\"/>\n",
       "<text text-anchor=\"middle\" x=\"106.605\" y=\"-319.98\" font-family=\"Times,serif\" font-size=\"14.00\">The University of Chicago</text>\n",
       "</g>\n",
       "<!-- Princeton University&#45;&gt;The University of Chicago -->\n",
       "<g id=\"edge45\" class=\"edge\"><title>Princeton University&#45;&gt;The University of Chicago</title>\n",
       "<path fill=\"none\" stroke=\"black\" d=\"M106.553,-323.688C106.562,-323.687 106.569,-323.686 106.576,-323.685\"/>\n",
       "<polygon fill=\"black\" stroke=\"black\" points=\"97.2363,-328.674 106.592,-323.682 96.1656,-321.75 97.2363,-328.674\"/>\n",
       "</g>\n",
       "<!-- Hebrew University -->\n",
       "<g id=\"node26\" class=\"node\"><title>Hebrew University</title>\n",
       "<ellipse fill=\"none\" stroke=\"black\" cx=\"121.395\" cy=\"205.68\" rx=\"98.5829\" ry=\"18\"/>\n",
       "<text text-anchor=\"middle\" x=\"121.395\" y=\"209.38\" font-family=\"Times,serif\" font-size=\"14.00\">Hebrew University</text>\n",
       "</g>\n",
       "<!-- Hebrew University&#45;&gt;Hebrew University -->\n",
       "<g id=\"edge32\" class=\"edge\"><title>Hebrew University&#45;&gt;Hebrew University</title>\n",
       "<path fill=\"none\" stroke=\"black\" d=\"M214.391,199.525C228.563,200.465 238.186,202.516 238.186,205.68 238.186,208.029 232.886,209.764 224.358,210.887\"/>\n",
       "<polygon fill=\"black\" stroke=\"black\" points=\"224.678,214.373 214.391,211.836 224.015,207.404 224.678,214.373\"/>\n",
       "</g>\n",
       "<!-- Technion&#45;Israel Institute of Technology -->\n",
       "<g id=\"node29\" class=\"node\"><title>Technion&#45;Israel Institute of Technology</title>\n",
       "<ellipse fill=\"none\" stroke=\"black\" cx=\"192.605\" cy=\"216.32\" rx=\"193.066\" ry=\"18\"/>\n",
       "<text text-anchor=\"middle\" x=\"192.605\" y=\"220.02\" font-family=\"Times,serif\" font-size=\"14.00\">Technion&#45;Israel Institute of Technology</text>\n",
       "</g>\n",
       "<!-- Hebrew University&#45;&gt;Technion&#45;Israel Institute of Technology -->\n",
       "<g id=\"edge37\" class=\"edge\"><title>Hebrew University&#45;&gt;Technion&#45;Israel Institute of Technology</title>\n",
       "<path fill=\"none\" stroke=\"black\" d=\"M192.553,216.312C192.562,216.313 192.569,216.314 192.576,216.315\"/>\n",
       "<polygon fill=\"black\" stroke=\"black\" points=\"183.236,211.326 192.592,216.318 182.166,218.25 183.236,211.326\"/>\n",
       "</g>\n",
       "<!-- Universität Hamburg -->\n",
       "<g id=\"node30\" class=\"node\"><title>Universität Hamburg</title>\n",
       "<ellipse fill=\"none\" stroke=\"black\" cx=\"110\" cy=\"360\" rx=\"110.48\" ry=\"18\"/>\n",
       "<text text-anchor=\"middle\" x=\"110\" y=\"363.7\" font-family=\"Times,serif\" font-size=\"14.00\">Universität Hamburg</text>\n",
       "</g>\n",
       "<!-- Universität Hamburg&#45;&gt;Universität Hamburg -->\n",
       "<g id=\"edge39\" class=\"edge\"><title>Universität Hamburg&#45;&gt;Universität Hamburg</title>\n",
       "<path fill=\"none\" stroke=\"black\" d=\"M214.107,353.96C228.71,354.945 238.49,356.959 238.49,360 238.49,362.281 232.989,363.984 224.078,365.108\"/>\n",
       "<polygon fill=\"black\" stroke=\"black\" points=\"224.39,368.594 214.107,366.04 223.738,361.625 224.39,368.594\"/>\n",
       "</g>\n",
       "<!-- Humboldt&#45;Universität zu Berlin -->\n",
       "<g id=\"node31\" class=\"node\"><title>Humboldt&#45;Universität zu Berlin</title>\n",
       "<ellipse fill=\"none\" stroke=\"black\" cx=\"481\" cy=\"144\" rx=\"157.072\" ry=\"18\"/>\n",
       "<text text-anchor=\"middle\" x=\"481\" y=\"147.7\" font-family=\"Times,serif\" font-size=\"14.00\">Humboldt&#45;Universität zu Berlin</text>\n",
       "</g>\n",
       "<!-- Humboldt&#45;Universität zu Berlin&#45;&gt;Humboldt&#45;Universität zu Berlin -->\n",
       "<g id=\"edge40\" class=\"edge\"><title>Humboldt&#45;Universität zu Berlin&#45;&gt;Humboldt&#45;Universität zu Berlin</title>\n",
       "<path fill=\"none\" stroke=\"black\" d=\"M630.604,138.407C646.256,139.499 656.286,141.363 656.286,144 656.286,146.019 650.407,147.585 640.626,148.698\"/>\n",
       "<polygon fill=\"black\" stroke=\"black\" points=\"640.876,152.189 630.604,149.593 640.253,145.217 640.876,152.189\"/>\n",
       "</g>\n",
       "<!-- University of Zagreb -->\n",
       "<g id=\"node32\" class=\"node\"><title>University of Zagreb</title>\n",
       "<ellipse fill=\"none\" stroke=\"black\" cx=\"521\" cy=\"252\" rx=\"106.681\" ry=\"18\"/>\n",
       "<text text-anchor=\"middle\" x=\"521\" y=\"255.7\" font-family=\"Times,serif\" font-size=\"14.00\">University of Zagreb</text>\n",
       "</g>\n",
       "<!-- University of Zagreb&#45;&gt;University of Zagreb -->\n",
       "<g id=\"edge43\" class=\"edge\"><title>University of Zagreb&#45;&gt;University of Zagreb</title>\n",
       "<path fill=\"none\" stroke=\"black\" d=\"M621.702,245.943C635.998,246.922 645.591,248.941 645.591,252 645.591,254.27 640.306,255.968 631.737,257.092\"/>\n",
       "<polygon fill=\"black\" stroke=\"black\" points=\"631.991,260.584 621.702,258.057 631.321,253.616 631.991,260.584\"/>\n",
       "</g>\n",
       "<!-- Shahid Chamran University of Ahvaz -->\n",
       "<g id=\"node33\" class=\"node\"><title>Shahid Chamran University of Ahvaz</title>\n",
       "<ellipse fill=\"none\" stroke=\"black\" cx=\"453\" cy=\"54\" rx=\"182.768\" ry=\"18\"/>\n",
       "<text text-anchor=\"middle\" x=\"453\" y=\"57.7\" font-family=\"Times,serif\" font-size=\"14.00\">Shahid Chamran University of Ahvaz</text>\n",
       "</g>\n",
       "<!-- Shahid Chamran University of Ahvaz&#45;&gt;Shahid Chamran University of Ahvaz -->\n",
       "<g id=\"edge44\" class=\"edge\"><title>Shahid Chamran University of Ahvaz&#45;&gt;Shahid Chamran University of Ahvaz</title>\n",
       "<path fill=\"none\" stroke=\"black\" d=\"M627.392,48.6121C643.49,49.7255 653.634,51.5215 653.634,54 653.634,55.917 647.566,57.4256 637.368,58.526\"/>\n",
       "<polygon fill=\"black\" stroke=\"black\" points=\"637.656,62.014 627.392,59.3879 637.054,55.04 637.656,62.014\"/>\n",
       "</g>\n",
       "<!-- University of Waterloo -->\n",
       "<g id=\"node36\" class=\"node\"><title>University of Waterloo</title>\n",
       "<ellipse fill=\"none\" stroke=\"black\" cx=\"511\" cy=\"-414\" rx=\"115.08\" ry=\"18\"/>\n",
       "<text text-anchor=\"middle\" x=\"511\" y=\"-410.3\" font-family=\"Times,serif\" font-size=\"14.00\">University of Waterloo</text>\n",
       "</g>\n",
       "<!-- University of Waterloo&#45;&gt;University of Waterloo -->\n",
       "<g id=\"edge48\" class=\"edge\"><title>University of Waterloo&#45;&gt;University of Waterloo</title>\n",
       "<path fill=\"none\" stroke=\"black\" d=\"M619.576,-419.988C634.262,-418.984 644.04,-416.988 644.04,-414 644.04,-411.759 638.54,-410.076 629.594,-408.951\"/>\n",
       "<polygon fill=\"black\" stroke=\"black\" points=\"629.859,-405.46 619.576,-408.012 629.206,-412.43 629.859,-405.46\"/>\n",
       "</g>\n",
       "<!-- Uppsala Universitet -->\n",
       "<g id=\"node37\" class=\"node\"><title>Uppsala Universitet</title>\n",
       "<ellipse fill=\"none\" stroke=\"black\" cx=\"-293\" cy=\"108\" rx=\"103.182\" ry=\"18\"/>\n",
       "<text text-anchor=\"middle\" x=\"-293\" y=\"111.7\" font-family=\"Times,serif\" font-size=\"14.00\">Uppsala Universitet</text>\n",
       "</g>\n",
       "<!-- Uppsala Universitet&#45;&gt;Uppsala Universitet -->\n",
       "<g id=\"edge50\" class=\"edge\"><title>Uppsala Universitet&#45;&gt;Uppsala Universitet</title>\n",
       "<path fill=\"none\" stroke=\"black\" d=\"M-195.407,101.909C-181.218,102.876 -171.659,104.906 -171.659,108 -171.659,110.296 -176.925,112.006 -185.44,113.131\"/>\n",
       "<polygon fill=\"black\" stroke=\"black\" points=\"-185.117,116.616 -195.407,114.091 -185.788,109.648 -185.117,116.616\"/>\n",
       "</g>\n",
       "</g>\n",
       "</svg>\n"
      ],
      "text/plain": [
       "<graphviz.dot.Digraph at 0x7f7c7d737588>"
      ]
     },
     "execution_count": 111,
     "metadata": {},
     "output_type": "execute_result"
    }
   ],
   "source": [
    "dot"
   ]
  },
  {
   "cell_type": "code",
   "execution_count": null,
   "metadata": {
    "collapsed": true
   },
   "outputs": [],
   "source": []
  }
 ],
 "metadata": {
  "kernelspec": {
   "display_name": "Python 3",
   "language": "python",
   "name": "python3"
  },
  "language_info": {
   "codemirror_mode": {
    "name": "ipython",
    "version": 3
   },
   "file_extension": ".py",
   "mimetype": "text/x-python",
   "name": "python",
   "nbconvert_exporter": "python",
   "pygments_lexer": "ipython3",
   "version": "3.5.4"
  }
 },
 "nbformat": 4,
 "nbformat_minor": 2
}
