{
 "cells": [
  {
   "cell_type": "code",
   "execution_count": 1,
   "metadata": {
    "collapsed": false
   },
   "outputs": [],
   "source": [
    "from plotly import __version__\n",
    "from plotly.offline import download_plotlyjs, init_notebook_mode, plot, iplot"
   ]
  },
  {
   "cell_type": "code",
   "execution_count": 2,
   "metadata": {
    "collapsed": true
   },
   "outputs": [],
   "source": [
    "import plotly.graph_objs as go"
   ]
  },
  {
   "cell_type": "code",
   "execution_count": 3,
   "metadata": {
    "collapsed": false
   },
   "outputs": [
    {
     "name": "stdout",
     "output_type": "stream",
     "text": [
      "3.5.0\n"
     ]
    }
   ],
   "source": [
    "print(__version__)"
   ]
  },
  {
   "cell_type": "code",
   "execution_count": 4,
   "metadata": {
    "collapsed": true
   },
   "outputs": [],
   "source": [
    "import pandas as pd"
   ]
  },
  {
   "cell_type": "code",
   "execution_count": 5,
   "metadata": {
    "collapsed": true
   },
   "outputs": [],
   "source": [
    "zetus = pd.read_csv(\"https://raw.githubusercontent.com/gautsi/gen-purpose-repo/master/zetus.csv\")"
   ]
  },
  {
   "cell_type": "code",
   "execution_count": 6,
   "metadata": {
    "collapsed": false
   },
   "outputs": [],
   "source": [
    "zetus[\"time_\"] = pd.to_datetime(zetus.time)"
   ]
  },
  {
   "cell_type": "code",
   "execution_count": 7,
   "metadata": {
    "collapsed": false
   },
   "outputs": [
    {
     "data": {
      "text/html": [
       "<div>\n",
       "<style scoped>\n",
       "    .dataframe tbody tr th:only-of-type {\n",
       "        vertical-align: middle;\n",
       "    }\n",
       "\n",
       "    .dataframe tbody tr th {\n",
       "        vertical-align: top;\n",
       "    }\n",
       "\n",
       "    .dataframe thead th {\n",
       "        text-align: right;\n",
       "    }\n",
       "</style>\n",
       "<table border=\"1\" class=\"dataframe\">\n",
       "  <thead>\n",
       "    <tr style=\"text-align: right;\">\n",
       "      <th></th>\n",
       "      <th>time</th>\n",
       "      <th>dur</th>\n",
       "      <th>type</th>\n",
       "      <th>time_</th>\n",
       "    </tr>\n",
       "  </thead>\n",
       "  <tbody>\n",
       "    <tr>\n",
       "      <th>0</th>\n",
       "      <td>01/18/19 10:00</td>\n",
       "      <td>15</td>\n",
       "      <td>R</td>\n",
       "      <td>2019-01-18 10:00:00</td>\n",
       "    </tr>\n",
       "    <tr>\n",
       "      <th>1</th>\n",
       "      <td>01/18/19 10:00</td>\n",
       "      <td>10</td>\n",
       "      <td>L</td>\n",
       "      <td>2019-01-18 10:00:00</td>\n",
       "    </tr>\n",
       "    <tr>\n",
       "      <th>2</th>\n",
       "      <td>01/18/19 12:15</td>\n",
       "      <td>15</td>\n",
       "      <td>R</td>\n",
       "      <td>2019-01-18 12:15:00</td>\n",
       "    </tr>\n",
       "    <tr>\n",
       "      <th>3</th>\n",
       "      <td>01/18/19 13:00</td>\n",
       "      <td>0</td>\n",
       "      <td>S</td>\n",
       "      <td>2019-01-18 13:00:00</td>\n",
       "    </tr>\n",
       "    <tr>\n",
       "      <th>4</th>\n",
       "      <td>01/18/19 14:35</td>\n",
       "      <td>10</td>\n",
       "      <td>L</td>\n",
       "      <td>2019-01-18 14:35:00</td>\n",
       "    </tr>\n",
       "  </tbody>\n",
       "</table>\n",
       "</div>"
      ],
      "text/plain": [
       "             time  dur type               time_\n",
       "0  01/18/19 10:00   15    R 2019-01-18 10:00:00\n",
       "1  01/18/19 10:00   10    L 2019-01-18 10:00:00\n",
       "2  01/18/19 12:15   15    R 2019-01-18 12:15:00\n",
       "3  01/18/19 13:00    0    S 2019-01-18 13:00:00\n",
       "4  01/18/19 14:35   10    L 2019-01-18 14:35:00"
      ]
     },
     "execution_count": 7,
     "metadata": {},
     "output_type": "execute_result"
    }
   ],
   "source": [
    "zetus.head()"
   ]
  },
  {
   "cell_type": "code",
   "execution_count": 8,
   "metadata": {
    "collapsed": false
   },
   "outputs": [
    {
     "data": {
      "text/html": [
       "<script type=\"text/javascript\">window.PlotlyConfig = {MathJaxConfig: 'local'};</script><script type=\"text/javascript\">if (window.MathJax) {MathJax.Hub.Config({SVG: {font: \"STIX-Web\"}});}</script><script>requirejs.config({paths: { 'plotly': ['https://cdn.plot.ly/plotly-latest.min']},});if(!window._Plotly) {require(['plotly'],function(plotly) {window._Plotly=plotly;});}</script>"
      ],
      "text/vnd.plotly.v1+html": [
       "<script type=\"text/javascript\">window.PlotlyConfig = {MathJaxConfig: 'local'};</script><script type=\"text/javascript\">if (window.MathJax) {MathJax.Hub.Config({SVG: {font: \"STIX-Web\"}});}</script><script>requirejs.config({paths: { 'plotly': ['https://cdn.plot.ly/plotly-latest.min']},});if(!window._Plotly) {require(['plotly'],function(plotly) {window._Plotly=plotly;});}</script>"
      ]
     },
     "metadata": {},
     "output_type": "display_data"
    }
   ],
   "source": [
    "init_notebook_mode(connected=True)"
   ]
  },
  {
   "cell_type": "code",
   "execution_count": 9,
   "metadata": {
    "collapsed": false
   },
   "outputs": [
    {
     "data": {
      "text/plain": [
       "time             object\n",
       "dur               int64\n",
       "type             object\n",
       "time_    datetime64[ns]\n",
       "dtype: object"
      ]
     },
     "execution_count": 9,
     "metadata": {},
     "output_type": "execute_result"
    }
   ],
   "source": [
    "zetus.dtypes"
   ]
  },
  {
   "cell_type": "code",
   "execution_count": 10,
   "metadata": {
    "collapsed": true
   },
   "outputs": [],
   "source": [
    "import colorlover as cl"
   ]
  },
  {
   "cell_type": "code",
   "execution_count": 11,
   "metadata": {
    "collapsed": false
   },
   "outputs": [],
   "source": [
    "colorscale = cl.scales['5']['qual']['Dark2']"
   ]
  },
  {
   "cell_type": "code",
   "execution_count": 12,
   "metadata": {
    "collapsed": false
   },
   "outputs": [
    {
     "data": {
      "application/vnd.plotly.v1+json": {
       "config": {
        "linkText": "Export to plot.ly",
        "plotlyServerURL": "https://plot.ly",
        "showLink": false
       },
       "data": [
        {
         "marker": {
          "color": "rgb(27,158,119)"
         },
         "name": "L",
         "type": "bar",
         "uid": "0a60ff26-ad00-40ed-9bb8-3969f94ff582",
         "width": 240000,
         "x": [
          "2019-01-18 10:00:00",
          "2019-01-18 14:35:00",
          "2019-01-18 18:50:00",
          "2019-01-18 23:10:00",
          "2019-01-19 01:10:00",
          "2019-01-19 03:40:00",
          "2019-01-19 06:40:00",
          "2019-01-19 07:30:00",
          "2019-01-19 11:45:00",
          "2019-01-19 15:08:00",
          "2019-01-19 19:10:00",
          "2019-01-19 22:35:00",
          "2019-01-19 23:30:00",
          "2019-01-20 00:35:00",
          "2019-01-20 03:42:00",
          "2019-01-20 04:40:00",
          "2019-01-20 06:40:00",
          "2019-01-20 15:30:00",
          "2019-01-20 18:45:00",
          "2019-01-20 20:00:00",
          "2019-01-20 22:15:00",
          "2019-01-21 02:36:00",
          "2019-01-21 03:35:00",
          "2019-01-21 04:35:00",
          "2019-01-21 05:45:00",
          "2019-01-21 10:00:00"
         ],
         "y": [
          -10,
          -10,
          -15,
          -20,
          -10,
          -30,
          -5,
          -15,
          -15,
          -12,
          -30,
          -15,
          -15,
          -15,
          -20,
          -20,
          -20,
          -15,
          -10,
          -15,
          -30,
          -10,
          -5,
          -5,
          -10,
          -10
         ]
        },
        {
         "marker": {
          "color": "rgb(217,95,2)"
         },
         "name": "R",
         "type": "bar",
         "uid": "2bce03da-6534-4aae-b926-3926e888efa4",
         "width": 240000,
         "x": [
          "2019-01-18 10:00:00",
          "2019-01-18 12:15:00",
          "2019-01-18 18:05:00",
          "2019-01-18 21:00:00",
          "2019-01-19 01:10:00",
          "2019-01-19 01:40:00",
          "2019-01-19 05:15:00",
          "2019-01-19 06:00:00",
          "2019-01-19 06:40:00",
          "2019-01-19 10:10:00",
          "2019-01-19 14:00:00",
          "2019-01-19 17:45:00",
          "2019-01-19 21:13:00",
          "2019-01-19 21:35:00",
          "2019-01-19 23:00:00",
          "2019-01-20 00:20:00",
          "2019-01-20 03:42:00",
          "2019-01-20 04:40:00",
          "2019-01-20 06:05:00",
          "2019-01-20 06:40:00",
          "2019-01-20 12:09:00",
          "2019-01-20 18:45:00",
          "2019-01-20 19:25:00",
          "2019-01-20 21:10:00",
          "2019-01-21 02:36:00",
          "2019-01-21 03:35:00",
          "2019-01-21 03:35:00",
          "2019-01-21 04:35:00",
          "2019-01-21 05:45:00",
          "2019-01-21 06:15:00",
          "2019-01-21 11:30:00"
         ],
         "y": [
          15,
          15,
          25,
          20,
          20,
          20,
          5,
          10,
          15,
          30,
          15,
          15,
          5,
          10,
          15,
          5,
          10,
          10,
          20,
          10,
          30,
          10,
          10,
          15,
          15,
          15,
          15,
          10,
          10,
          15,
          10
         ]
        },
        {
         "base": -30,
         "marker": {
          "color": "rgb(117,112,179)"
         },
         "name": "S",
         "type": "bar",
         "uid": "a8180417-6eed-4168-a820-0fd7a2f0709f",
         "width": 240000,
         "x": [
          "2019-01-18 13:00:00",
          "2019-01-19 04:30:00",
          "2019-01-20 04:20:00",
          "2019-01-20 11:30:00",
          "2019-01-20 18:30:00",
          "2019-01-20 21:45:00",
          "2019-01-21 02:25:00",
          "2019-01-21 03:10:00"
         ],
         "y": [
          60,
          60,
          60,
          60,
          60,
          60,
          60,
          60
         ]
        },
        {
         "base": -30,
         "marker": {
          "color": "rgb(231,41,138)"
         },
         "name": "W",
         "type": "bar",
         "uid": "a3c6dcb5-b080-4aa0-b4ef-cc1aa1506360",
         "width": 240000,
         "x": [
          "2019-01-18 17:50:00",
          "2019-01-19 03:15:00",
          "2019-01-19 05:30:00",
          "2019-01-19 07:15:00",
          "2019-01-19 13:45:00",
          "2019-01-19 17:40:00",
          "2019-01-20 21:45:00",
          "2019-01-21 02:25:00",
          "2019-01-21 05:40:00",
          "2019-01-21 09:45:00",
          "2019-01-21 11:20:00"
         ],
         "y": [
          60,
          60,
          60,
          60,
          60,
          60,
          60,
          60,
          60,
          60,
          60
         ]
        }
       ],
       "layout": {}
      },
      "text/html": [
       "<div id=\"0ca7b5ef-a298-463e-abfe-4b51a91cc3da\" style=\"height: 525px; width: 100%;\" class=\"plotly-graph-div\"></div><script type=\"text/javascript\">require([\"plotly\"], function(Plotly) { window.PLOTLYENV=window.PLOTLYENV || {};window.PLOTLYENV.BASE_URL=\"https://plot.ly\";Plotly.newPlot(\"0ca7b5ef-a298-463e-abfe-4b51a91cc3da\", [{\"type\": \"bar\", \"name\": \"L\", \"uid\": \"0a60ff26-ad00-40ed-9bb8-3969f94ff582\", \"x\": [\"2019-01-18 10:00:00\", \"2019-01-18 14:35:00\", \"2019-01-18 18:50:00\", \"2019-01-18 23:10:00\", \"2019-01-19 01:10:00\", \"2019-01-19 03:40:00\", \"2019-01-19 06:40:00\", \"2019-01-19 07:30:00\", \"2019-01-19 11:45:00\", \"2019-01-19 15:08:00\", \"2019-01-19 19:10:00\", \"2019-01-19 22:35:00\", \"2019-01-19 23:30:00\", \"2019-01-20 00:35:00\", \"2019-01-20 03:42:00\", \"2019-01-20 04:40:00\", \"2019-01-20 06:40:00\", \"2019-01-20 15:30:00\", \"2019-01-20 18:45:00\", \"2019-01-20 20:00:00\", \"2019-01-20 22:15:00\", \"2019-01-21 02:36:00\", \"2019-01-21 03:35:00\", \"2019-01-21 04:35:00\", \"2019-01-21 05:45:00\", \"2019-01-21 10:00:00\"], \"marker\": {\"color\": \"rgb(27,158,119)\"}, \"y\": [-10.0, -10.0, -15.0, -20.0, -10.0, -30.0, -5.0, -15.0, -15.0, -12.0, -30.0, -15.0, -15.0, -15.0, -20.0, -20.0, -20.0, -15.0, -10.0, -15.0, -30.0, -10.0, -5.0, -5.0, -10.0, -10.0], \"width\": 240000}, {\"type\": \"bar\", \"name\": \"R\", \"uid\": \"2bce03da-6534-4aae-b926-3926e888efa4\", \"x\": [\"2019-01-18 10:00:00\", \"2019-01-18 12:15:00\", \"2019-01-18 18:05:00\", \"2019-01-18 21:00:00\", \"2019-01-19 01:10:00\", \"2019-01-19 01:40:00\", \"2019-01-19 05:15:00\", \"2019-01-19 06:00:00\", \"2019-01-19 06:40:00\", \"2019-01-19 10:10:00\", \"2019-01-19 14:00:00\", \"2019-01-19 17:45:00\", \"2019-01-19 21:13:00\", \"2019-01-19 21:35:00\", \"2019-01-19 23:00:00\", \"2019-01-20 00:20:00\", \"2019-01-20 03:42:00\", \"2019-01-20 04:40:00\", \"2019-01-20 06:05:00\", \"2019-01-20 06:40:00\", \"2019-01-20 12:09:00\", \"2019-01-20 18:45:00\", \"2019-01-20 19:25:00\", \"2019-01-20 21:10:00\", \"2019-01-21 02:36:00\", \"2019-01-21 03:35:00\", \"2019-01-21 03:35:00\", \"2019-01-21 04:35:00\", \"2019-01-21 05:45:00\", \"2019-01-21 06:15:00\", \"2019-01-21 11:30:00\"], \"marker\": {\"color\": \"rgb(217,95,2)\"}, \"y\": [15.0, 15.0, 25.0, 20.0, 20.0, 20.0, 5.0, 10.0, 15.0, 30.0, 15.0, 15.0, 5.0, 10.0, 15.0, 5.0, 10.0, 10.0, 20.0, 10.0, 30.0, 10.0, 10.0, 15.0, 15.0, 15.0, 15.0, 10.0, 10.0, 15.0, 10.0], \"width\": 240000}, {\"base\": -30, \"type\": \"bar\", \"name\": \"S\", \"uid\": \"a8180417-6eed-4168-a820-0fd7a2f0709f\", \"x\": [\"2019-01-18 13:00:00\", \"2019-01-19 04:30:00\", \"2019-01-20 04:20:00\", \"2019-01-20 11:30:00\", \"2019-01-20 18:30:00\", \"2019-01-20 21:45:00\", \"2019-01-21 02:25:00\", \"2019-01-21 03:10:00\"], \"marker\": {\"color\": \"rgb(117,112,179)\"}, \"y\": [60, 60, 60, 60, 60, 60, 60, 60], \"width\": 240000}, {\"base\": -30, \"type\": \"bar\", \"name\": \"W\", \"uid\": \"a3c6dcb5-b080-4aa0-b4ef-cc1aa1506360\", \"x\": [\"2019-01-18 17:50:00\", \"2019-01-19 03:15:00\", \"2019-01-19 05:30:00\", \"2019-01-19 07:15:00\", \"2019-01-19 13:45:00\", \"2019-01-19 17:40:00\", \"2019-01-20 21:45:00\", \"2019-01-21 02:25:00\", \"2019-01-21 05:40:00\", \"2019-01-21 09:45:00\", \"2019-01-21 11:20:00\"], \"marker\": {\"color\": \"rgb(231,41,138)\"}, \"y\": [60, 60, 60, 60, 60, 60, 60, 60, 60, 60, 60], \"width\": 240000}], {}, {\"showLink\": false, \"plotlyServerURL\": \"https://plot.ly\", \"linkText\": \"Export to plot.ly\"})});</script><script type=\"text/javascript\">window.addEventListener(\"resize\", function(){window._Plotly.Plots.resize(document.getElementById(\"0ca7b5ef-a298-463e-abfe-4b51a91cc3da\"));});</script>"
      ],
      "text/vnd.plotly.v1+html": [
       "<div id=\"0ca7b5ef-a298-463e-abfe-4b51a91cc3da\" style=\"height: 525px; width: 100%;\" class=\"plotly-graph-div\"></div><script type=\"text/javascript\">require([\"plotly\"], function(Plotly) { window.PLOTLYENV=window.PLOTLYENV || {};window.PLOTLYENV.BASE_URL=\"https://plot.ly\";Plotly.newPlot(\"0ca7b5ef-a298-463e-abfe-4b51a91cc3da\", [{\"type\": \"bar\", \"name\": \"L\", \"uid\": \"0a60ff26-ad00-40ed-9bb8-3969f94ff582\", \"x\": [\"2019-01-18 10:00:00\", \"2019-01-18 14:35:00\", \"2019-01-18 18:50:00\", \"2019-01-18 23:10:00\", \"2019-01-19 01:10:00\", \"2019-01-19 03:40:00\", \"2019-01-19 06:40:00\", \"2019-01-19 07:30:00\", \"2019-01-19 11:45:00\", \"2019-01-19 15:08:00\", \"2019-01-19 19:10:00\", \"2019-01-19 22:35:00\", \"2019-01-19 23:30:00\", \"2019-01-20 00:35:00\", \"2019-01-20 03:42:00\", \"2019-01-20 04:40:00\", \"2019-01-20 06:40:00\", \"2019-01-20 15:30:00\", \"2019-01-20 18:45:00\", \"2019-01-20 20:00:00\", \"2019-01-20 22:15:00\", \"2019-01-21 02:36:00\", \"2019-01-21 03:35:00\", \"2019-01-21 04:35:00\", \"2019-01-21 05:45:00\", \"2019-01-21 10:00:00\"], \"marker\": {\"color\": \"rgb(27,158,119)\"}, \"y\": [-10.0, -10.0, -15.0, -20.0, -10.0, -30.0, -5.0, -15.0, -15.0, -12.0, -30.0, -15.0, -15.0, -15.0, -20.0, -20.0, -20.0, -15.0, -10.0, -15.0, -30.0, -10.0, -5.0, -5.0, -10.0, -10.0], \"width\": 240000}, {\"type\": \"bar\", \"name\": \"R\", \"uid\": \"2bce03da-6534-4aae-b926-3926e888efa4\", \"x\": [\"2019-01-18 10:00:00\", \"2019-01-18 12:15:00\", \"2019-01-18 18:05:00\", \"2019-01-18 21:00:00\", \"2019-01-19 01:10:00\", \"2019-01-19 01:40:00\", \"2019-01-19 05:15:00\", \"2019-01-19 06:00:00\", \"2019-01-19 06:40:00\", \"2019-01-19 10:10:00\", \"2019-01-19 14:00:00\", \"2019-01-19 17:45:00\", \"2019-01-19 21:13:00\", \"2019-01-19 21:35:00\", \"2019-01-19 23:00:00\", \"2019-01-20 00:20:00\", \"2019-01-20 03:42:00\", \"2019-01-20 04:40:00\", \"2019-01-20 06:05:00\", \"2019-01-20 06:40:00\", \"2019-01-20 12:09:00\", \"2019-01-20 18:45:00\", \"2019-01-20 19:25:00\", \"2019-01-20 21:10:00\", \"2019-01-21 02:36:00\", \"2019-01-21 03:35:00\", \"2019-01-21 03:35:00\", \"2019-01-21 04:35:00\", \"2019-01-21 05:45:00\", \"2019-01-21 06:15:00\", \"2019-01-21 11:30:00\"], \"marker\": {\"color\": \"rgb(217,95,2)\"}, \"y\": [15.0, 15.0, 25.0, 20.0, 20.0, 20.0, 5.0, 10.0, 15.0, 30.0, 15.0, 15.0, 5.0, 10.0, 15.0, 5.0, 10.0, 10.0, 20.0, 10.0, 30.0, 10.0, 10.0, 15.0, 15.0, 15.0, 15.0, 10.0, 10.0, 15.0, 10.0], \"width\": 240000}, {\"base\": -30, \"type\": \"bar\", \"name\": \"S\", \"uid\": \"a8180417-6eed-4168-a820-0fd7a2f0709f\", \"x\": [\"2019-01-18 13:00:00\", \"2019-01-19 04:30:00\", \"2019-01-20 04:20:00\", \"2019-01-20 11:30:00\", \"2019-01-20 18:30:00\", \"2019-01-20 21:45:00\", \"2019-01-21 02:25:00\", \"2019-01-21 03:10:00\"], \"marker\": {\"color\": \"rgb(117,112,179)\"}, \"y\": [60, 60, 60, 60, 60, 60, 60, 60], \"width\": 240000}, {\"base\": -30, \"type\": \"bar\", \"name\": \"W\", \"uid\": \"a3c6dcb5-b080-4aa0-b4ef-cc1aa1506360\", \"x\": [\"2019-01-18 17:50:00\", \"2019-01-19 03:15:00\", \"2019-01-19 05:30:00\", \"2019-01-19 07:15:00\", \"2019-01-19 13:45:00\", \"2019-01-19 17:40:00\", \"2019-01-20 21:45:00\", \"2019-01-21 02:25:00\", \"2019-01-21 05:40:00\", \"2019-01-21 09:45:00\", \"2019-01-21 11:20:00\"], \"marker\": {\"color\": \"rgb(231,41,138)\"}, \"y\": [60, 60, 60, 60, 60, 60, 60, 60, 60, 60, 60], \"width\": 240000}], {}, {\"showLink\": false, \"plotlyServerURL\": \"https://plot.ly\", \"linkText\": \"Export to plot.ly\"})});</script><script type=\"text/javascript\">window.addEventListener(\"resize\", function(){window._Plotly.Plots.resize(document.getElementById(\"0ca7b5ef-a298-463e-abfe-4b51a91cc3da\"));});</script>"
      ]
     },
     "metadata": {},
     "output_type": "display_data"
    }
   ],
   "source": [
    "feed_data = [\n",
    "    go.Bar(\n",
    "        x = zetus[zetus[\"type\"] == side].sort_values(\"time_\").time_,\n",
    "        y = 2 * (i - 0.5) * zetus[zetus[\"type\"] == side].sort_values(\"time_\").dur,\n",
    "        name = side,\n",
    "        width = 4 * 1000 * 60,\n",
    "        marker = {\"color\": colorscale[i]}) for i, side in enumerate([\"L\", \"R\"])\n",
    "]\n",
    "\n",
    "output_data = [\n",
    "    go.Bar(\n",
    "        x = zetus[zetus[\"type\"] == output].sort_values(\"time_\").time_,\n",
    "        y = len(zetus[zetus[\"type\"] == output]) * [60],\n",
    "        name = output,\n",
    "        base = -30,\n",
    "        width = 4 * 1000 * 60,\n",
    "        marker = {\"color\": colorscale[i + 2]}) for i, output in enumerate([\"S\", \"W\"])\n",
    "]\n",
    "\n",
    "layout = go.Layout()\n",
    "\n",
    "fig = go.Figure(data = feed_data + output_data, layout = layout)\n",
    "\n",
    "iplot(fig)"
   ]
  },
  {
   "cell_type": "code",
   "execution_count": null,
   "metadata": {
    "collapsed": true
   },
   "outputs": [],
   "source": [
    "plot(fig)"
   ]
  }
 ],
 "metadata": {
  "kernelspec": {
   "display_name": "Python 3",
   "language": "python",
   "name": "python3"
  },
  "language_info": {
   "codemirror_mode": {
    "name": "ipython",
    "version": 3
   },
   "file_extension": ".py",
   "mimetype": "text/x-python",
   "name": "python",
   "nbconvert_exporter": "python",
   "pygments_lexer": "ipython3",
   "version": "3.5.4"
  }
 },
 "nbformat": 4,
 "nbformat_minor": 2
}
