{
 "cells": [
  {
   "cell_type": "markdown",
   "metadata": {},
   "source": [
    "# Formatting Gemini Data\n",
    "## Ver 2\n",
    "Formatting Gemini data for input into d3 dashboard"
   ]
  },
  {
   "cell_type": "code",
   "execution_count": 1,
   "metadata": {
    "collapsed": true
   },
   "outputs": [],
   "source": [
    "import pandas as pd\n",
    "from tqdm import tqdm"
   ]
  },
  {
   "cell_type": "markdown",
   "metadata": {},
   "source": [
    "Read in gemini data"
   ]
  },
  {
   "cell_type": "code",
   "execution_count": 2,
   "metadata": {
    "collapsed": false
   },
   "outputs": [
    {
     "name": "stdout",
     "output_type": "stream",
     "text": [
      "CPU times: user 0 ns, sys: 7.55 ms, total: 7.55 ms\n",
      "Wall time: 85.6 ms\n"
     ]
    }
   ],
   "source": [
    "%%time\n",
    "with open(\"./gemini_pull_2019_01_16_18_07_06.txt\", \"r\") as file:\n",
    "    gemini = file.read()"
   ]
  },
  {
   "cell_type": "markdown",
   "metadata": {},
   "source": [
    "Separate messages"
   ]
  },
  {
   "cell_type": "code",
   "execution_count": 3,
   "metadata": {
    "collapsed": false
   },
   "outputs": [
    {
     "name": "stdout",
     "output_type": "stream",
     "text": [
      "CPU times: user 14.6 ms, sys: 0 ns, total: 14.6 ms\n",
      "Wall time: 14.9 ms\n"
     ]
    }
   ],
   "source": [
    "%%time\n",
    "gemini_list = gemini.replace(\"}{\", \"}\\n{\").split(\"\\n\")"
   ]
  },
  {
   "cell_type": "code",
   "execution_count": 4,
   "metadata": {
    "collapsed": false
   },
   "outputs": [
    {
     "data": {
      "text/plain": [
       "10844"
      ]
     },
     "execution_count": 4,
     "metadata": {},
     "output_type": "execute_result"
    }
   ],
   "source": [
    "len(gemini_list)"
   ]
  },
  {
   "cell_type": "markdown",
   "metadata": {},
   "source": [
    "The first message is larger, gives remaining interest for all price points at the time of socket open"
   ]
  },
  {
   "cell_type": "code",
   "execution_count": 5,
   "metadata": {
    "collapsed": false
   },
   "outputs": [
    {
     "data": {
      "text/plain": [
       "[386154, 219, 222, 220, 226, 224, 222, 220, 222, 219]"
      ]
     },
     "execution_count": 5,
     "metadata": {},
     "output_type": "execute_result"
    }
   ],
   "source": [
    "[len(i) for i in gemini_list[:10]]"
   ]
  },
  {
   "cell_type": "code",
   "execution_count": 6,
   "metadata": {
    "collapsed": true
   },
   "outputs": [],
   "source": [
    "first_msg = gemini_list[0]"
   ]
  },
  {
   "cell_type": "code",
   "execution_count": 7,
   "metadata": {
    "collapsed": false
   },
   "outputs": [
    {
     "data": {
      "text/plain": [
       "'{\"type\":\"update\",\"eventId\":5368619062,\"socket_sequence\":0,\"events\":[{\"type\":\"change\",\"reason\":\"initial\",\"price\":\"0.01\",\"delta\":\"191642.102\",\"remaining\":\"191642.102\",\"side\":\"bid\"},{\"type\":\"change\",\"reason\":\"initial\",\"price\":\"0.02\",\"delta\":\"22959.5\",\"remaining\":\"22959.5\",\"side\":\"bid\"},{\"type\":\"change\",\"reason\":\"initial\",\"price\":\"0.03\",\"delta\":\"33\",\"remaining\":\"33\",\"side\":\"bid\"},{\"type\":\"change\",\"rea'"
      ]
     },
     "execution_count": 7,
     "metadata": {},
     "output_type": "execute_result"
    }
   ],
   "source": [
    "first_msg[:400]"
   ]
  },
  {
   "cell_type": "code",
   "execution_count": 8,
   "metadata": {
    "collapsed": true
   },
   "outputs": [],
   "source": [
    "first_message_df = pd.read_json(gemini_list[0])"
   ]
  },
  {
   "cell_type": "code",
   "execution_count": 9,
   "metadata": {
    "collapsed": false
   },
   "outputs": [
    {
     "data": {
      "text/html": [
       "<div>\n",
       "<style scoped>\n",
       "    .dataframe tbody tr th:only-of-type {\n",
       "        vertical-align: middle;\n",
       "    }\n",
       "\n",
       "    .dataframe tbody tr th {\n",
       "        vertical-align: top;\n",
       "    }\n",
       "\n",
       "    .dataframe thead th {\n",
       "        text-align: right;\n",
       "    }\n",
       "</style>\n",
       "<table border=\"1\" class=\"dataframe\">\n",
       "  <thead>\n",
       "    <tr style=\"text-align: right;\">\n",
       "      <th></th>\n",
       "      <th>eventId</th>\n",
       "      <th>events</th>\n",
       "      <th>socket_sequence</th>\n",
       "      <th>type</th>\n",
       "    </tr>\n",
       "  </thead>\n",
       "  <tbody>\n",
       "    <tr>\n",
       "      <th>0</th>\n",
       "      <td>5368619062</td>\n",
       "      <td>{'delta': '191642.102', 'price': '0.01', 'reas...</td>\n",
       "      <td>0</td>\n",
       "      <td>update</td>\n",
       "    </tr>\n",
       "    <tr>\n",
       "      <th>1</th>\n",
       "      <td>5368619062</td>\n",
       "      <td>{'delta': '22959.5', 'price': '0.02', 'reason'...</td>\n",
       "      <td>0</td>\n",
       "      <td>update</td>\n",
       "    </tr>\n",
       "    <tr>\n",
       "      <th>2</th>\n",
       "      <td>5368619062</td>\n",
       "      <td>{'delta': '33', 'price': '0.03', 'reason': 'in...</td>\n",
       "      <td>0</td>\n",
       "      <td>update</td>\n",
       "    </tr>\n",
       "    <tr>\n",
       "      <th>3</th>\n",
       "      <td>5368619062</td>\n",
       "      <td>{'delta': '0.00055', 'price': '0.04', 'reason'...</td>\n",
       "      <td>0</td>\n",
       "      <td>update</td>\n",
       "    </tr>\n",
       "    <tr>\n",
       "      <th>4</th>\n",
       "      <td>5368619062</td>\n",
       "      <td>{'delta': '3693', 'price': '0.05', 'reason': '...</td>\n",
       "      <td>0</td>\n",
       "      <td>update</td>\n",
       "    </tr>\n",
       "  </tbody>\n",
       "</table>\n",
       "</div>"
      ],
      "text/plain": [
       "      eventId                                             events  \\\n",
       "0  5368619062  {'delta': '191642.102', 'price': '0.01', 'reas...   \n",
       "1  5368619062  {'delta': '22959.5', 'price': '0.02', 'reason'...   \n",
       "2  5368619062  {'delta': '33', 'price': '0.03', 'reason': 'in...   \n",
       "3  5368619062  {'delta': '0.00055', 'price': '0.04', 'reason'...   \n",
       "4  5368619062  {'delta': '3693', 'price': '0.05', 'reason': '...   \n",
       "\n",
       "   socket_sequence    type  \n",
       "0                0  update  \n",
       "1                0  update  \n",
       "2                0  update  \n",
       "3                0  update  \n",
       "4                0  update  "
      ]
     },
     "execution_count": 9,
     "metadata": {},
     "output_type": "execute_result"
    }
   ],
   "source": [
    "first_message_df.head()"
   ]
  },
  {
   "cell_type": "code",
   "execution_count": 10,
   "metadata": {
    "collapsed": true
   },
   "outputs": [],
   "source": [
    "event_keys = first_message_df[\"events\"].iloc[0].keys()"
   ]
  },
  {
   "cell_type": "code",
   "execution_count": 11,
   "metadata": {
    "collapsed": true
   },
   "outputs": [],
   "source": [
    "for i in event_keys:\n",
    "    first_message_df[i] = first_message_df[\"events\"].map(lambda x: x[i])"
   ]
  },
  {
   "cell_type": "code",
   "execution_count": 12,
   "metadata": {
    "collapsed": false
   },
   "outputs": [
    {
     "data": {
      "text/html": [
       "<div>\n",
       "<style scoped>\n",
       "    .dataframe tbody tr th:only-of-type {\n",
       "        vertical-align: middle;\n",
       "    }\n",
       "\n",
       "    .dataframe tbody tr th {\n",
       "        vertical-align: top;\n",
       "    }\n",
       "\n",
       "    .dataframe thead th {\n",
       "        text-align: right;\n",
       "    }\n",
       "</style>\n",
       "<table border=\"1\" class=\"dataframe\">\n",
       "  <thead>\n",
       "    <tr style=\"text-align: right;\">\n",
       "      <th></th>\n",
       "      <th>eventId</th>\n",
       "      <th>events</th>\n",
       "      <th>socket_sequence</th>\n",
       "      <th>type</th>\n",
       "      <th>delta</th>\n",
       "      <th>price</th>\n",
       "      <th>reason</th>\n",
       "      <th>remaining</th>\n",
       "      <th>side</th>\n",
       "    </tr>\n",
       "  </thead>\n",
       "  <tbody>\n",
       "    <tr>\n",
       "      <th>0</th>\n",
       "      <td>5368619062</td>\n",
       "      <td>{'delta': '191642.102', 'price': '0.01', 'reas...</td>\n",
       "      <td>0</td>\n",
       "      <td>change</td>\n",
       "      <td>191642.102</td>\n",
       "      <td>0.01</td>\n",
       "      <td>initial</td>\n",
       "      <td>191642.102</td>\n",
       "      <td>bid</td>\n",
       "    </tr>\n",
       "    <tr>\n",
       "      <th>1</th>\n",
       "      <td>5368619062</td>\n",
       "      <td>{'delta': '22959.5', 'price': '0.02', 'reason'...</td>\n",
       "      <td>0</td>\n",
       "      <td>change</td>\n",
       "      <td>22959.5</td>\n",
       "      <td>0.02</td>\n",
       "      <td>initial</td>\n",
       "      <td>22959.5</td>\n",
       "      <td>bid</td>\n",
       "    </tr>\n",
       "    <tr>\n",
       "      <th>2</th>\n",
       "      <td>5368619062</td>\n",
       "      <td>{'delta': '33', 'price': '0.03', 'reason': 'in...</td>\n",
       "      <td>0</td>\n",
       "      <td>change</td>\n",
       "      <td>33</td>\n",
       "      <td>0.03</td>\n",
       "      <td>initial</td>\n",
       "      <td>33</td>\n",
       "      <td>bid</td>\n",
       "    </tr>\n",
       "    <tr>\n",
       "      <th>3</th>\n",
       "      <td>5368619062</td>\n",
       "      <td>{'delta': '0.00055', 'price': '0.04', 'reason'...</td>\n",
       "      <td>0</td>\n",
       "      <td>change</td>\n",
       "      <td>0.00055</td>\n",
       "      <td>0.04</td>\n",
       "      <td>initial</td>\n",
       "      <td>0.00055</td>\n",
       "      <td>bid</td>\n",
       "    </tr>\n",
       "    <tr>\n",
       "      <th>4</th>\n",
       "      <td>5368619062</td>\n",
       "      <td>{'delta': '3693', 'price': '0.05', 'reason': '...</td>\n",
       "      <td>0</td>\n",
       "      <td>change</td>\n",
       "      <td>3693</td>\n",
       "      <td>0.05</td>\n",
       "      <td>initial</td>\n",
       "      <td>3693</td>\n",
       "      <td>bid</td>\n",
       "    </tr>\n",
       "  </tbody>\n",
       "</table>\n",
       "</div>"
      ],
      "text/plain": [
       "      eventId                                             events  \\\n",
       "0  5368619062  {'delta': '191642.102', 'price': '0.01', 'reas...   \n",
       "1  5368619062  {'delta': '22959.5', 'price': '0.02', 'reason'...   \n",
       "2  5368619062  {'delta': '33', 'price': '0.03', 'reason': 'in...   \n",
       "3  5368619062  {'delta': '0.00055', 'price': '0.04', 'reason'...   \n",
       "4  5368619062  {'delta': '3693', 'price': '0.05', 'reason': '...   \n",
       "\n",
       "   socket_sequence    type       delta price   reason   remaining side  \n",
       "0                0  change  191642.102  0.01  initial  191642.102  bid  \n",
       "1                0  change     22959.5  0.02  initial     22959.5  bid  \n",
       "2                0  change          33  0.03  initial          33  bid  \n",
       "3                0  change     0.00055  0.04  initial     0.00055  bid  \n",
       "4                0  change        3693  0.05  initial        3693  bid  "
      ]
     },
     "execution_count": 12,
     "metadata": {},
     "output_type": "execute_result"
    }
   ],
   "source": [
    "first_message_df.head()"
   ]
  },
  {
   "cell_type": "markdown",
   "metadata": {},
   "source": [
    "each price shows up once:"
   ]
  },
  {
   "cell_type": "code",
   "execution_count": 13,
   "metadata": {
    "collapsed": false
   },
   "outputs": [
    {
     "data": {
      "text/plain": [
       "7393.00     1\n",
       "849.97      1\n",
       "0.64        1\n",
       "10872.36    1\n",
       "4467.73     1\n",
       "Name: price, dtype: int64"
      ]
     },
     "execution_count": 13,
     "metadata": {},
     "output_type": "execute_result"
    }
   ],
   "source": [
    "first_message_df.price.value_counts().head()"
   ]
  },
  {
   "cell_type": "markdown",
   "metadata": {},
   "source": [
    "delta always equals remaining:"
   ]
  },
  {
   "cell_type": "code",
   "execution_count": 14,
   "metadata": {
    "collapsed": false
   },
   "outputs": [
    {
     "data": {
      "text/plain": [
       "0"
      ]
     },
     "execution_count": 14,
     "metadata": {},
     "output_type": "execute_result"
    }
   ],
   "source": [
    "len(first_message_df[first_message_df.remaining != first_message_df.delta])"
   ]
  },
  {
   "cell_type": "code",
   "execution_count": 15,
   "metadata": {
    "collapsed": true
   },
   "outputs": [],
   "source": [
    "initial_interest = first_message_df[[\"side\", \"price\", \"remaining\"]].drop_duplicates()"
   ]
  },
  {
   "cell_type": "code",
   "execution_count": 16,
   "metadata": {
    "collapsed": false
   },
   "outputs": [
    {
     "data": {
      "text/plain": [
       "3585"
      ]
     },
     "execution_count": 16,
     "metadata": {},
     "output_type": "execute_result"
    }
   ],
   "source": [
    "len(initial_interest)"
   ]
  },
  {
   "cell_type": "code",
   "execution_count": 17,
   "metadata": {
    "collapsed": false
   },
   "outputs": [
    {
     "data": {
      "text/plain": [
       "'{\"type\":\"update\",\"eventId\":5368619071,\"timestamp\":1547662175,\"timestampms\":1547662175932,\"socket_sequence\":1,\"events\":[{\"type\":\"change\",\"side\":\"bid\",\"price\":\"3614.45\",\"remaining\":\"0\",\"delta\":\"-0.04\",\"reason\":\"cancel\"}]}'"
      ]
     },
     "execution_count": 17,
     "metadata": {},
     "output_type": "execute_result"
    }
   ],
   "source": [
    "gemini_list[1]"
   ]
  },
  {
   "cell_type": "code",
   "execution_count": 18,
   "metadata": {
    "collapsed": false
   },
   "outputs": [
    {
     "name": "stdout",
     "output_type": "stream",
     "text": [
      "CPU times: user 0 ns, sys: 2.66 ms, total: 2.66 ms\n",
      "Wall time: 2.67 ms\n"
     ]
    }
   ],
   "source": [
    "%%time\n",
    "update_str = \", \".join(gemini_list[1:])"
   ]
  },
  {
   "cell_type": "code",
   "execution_count": 19,
   "metadata": {
    "collapsed": false
   },
   "outputs": [
    {
     "name": "stdout",
     "output_type": "stream",
     "text": [
      "CPU times: user 246 ms, sys: 38.9 ms, total: 285 ms\n",
      "Wall time: 286 ms\n"
     ]
    }
   ],
   "source": [
    "%%time\n",
    "all_updates_df = pd.read_json(\"[{}]\".format(update_str))"
   ]
  },
  {
   "cell_type": "code",
   "execution_count": 20,
   "metadata": {
    "collapsed": false
   },
   "outputs": [
    {
     "name": "stdout",
     "output_type": "stream",
     "text": [
      "CPU times: user 6.5 ms, sys: 43 µs, total: 6.55 ms\n",
      "Wall time: 6.73 ms\n"
     ]
    }
   ],
   "source": [
    "%%time\n",
    "all_updates_df[\"num_events\"] = all_updates_df.events.map(len)"
   ]
  },
  {
   "cell_type": "code",
   "execution_count": 21,
   "metadata": {
    "collapsed": false
   },
   "outputs": [
    {
     "name": "stderr",
     "output_type": "stream",
     "text": [
      "100%|██████████| 6/6 [00:00<00:00, 50.13it/s]\n"
     ]
    }
   ],
   "source": [
    "for i in tqdm(event_keys):\n",
    "    all_updates_df[i] = all_updates_df[\"events\"].map(lambda x: x[-1][i] if i in x[-1].keys() else \"missing\")"
   ]
  },
  {
   "cell_type": "code",
   "execution_count": 22,
   "metadata": {
    "collapsed": true
   },
   "outputs": [],
   "source": [
    "all_updates_df[\"price_double\"] = all_updates_df.price.astype(\"double\").round(2)"
   ]
  },
  {
   "cell_type": "code",
   "execution_count": 23,
   "metadata": {
    "collapsed": false
   },
   "outputs": [
    {
     "data": {
      "text/plain": [
       "1    10645\n",
       "2      198\n",
       "Name: num_events, dtype: int64"
      ]
     },
     "execution_count": 23,
     "metadata": {},
     "output_type": "execute_result"
    }
   ],
   "source": [
    "all_updates_df.num_events.value_counts()"
   ]
  },
  {
   "cell_type": "code",
   "execution_count": 24,
   "metadata": {
    "collapsed": true
   },
   "outputs": [],
   "source": [
    "trades = all_updates_df[all_updates_df.num_events == 2]"
   ]
  },
  {
   "cell_type": "code",
   "execution_count": 25,
   "metadata": {
    "collapsed": false
   },
   "outputs": [
    {
     "data": {
      "text/html": [
       "<div>\n",
       "<style scoped>\n",
       "    .dataframe tbody tr th:only-of-type {\n",
       "        vertical-align: middle;\n",
       "    }\n",
       "\n",
       "    .dataframe tbody tr th {\n",
       "        vertical-align: top;\n",
       "    }\n",
       "\n",
       "    .dataframe thead th {\n",
       "        text-align: right;\n",
       "    }\n",
       "</style>\n",
       "<table border=\"1\" class=\"dataframe\">\n",
       "  <thead>\n",
       "    <tr style=\"text-align: right;\">\n",
       "      <th></th>\n",
       "      <th>eventId</th>\n",
       "      <th>events</th>\n",
       "      <th>socket_sequence</th>\n",
       "      <th>timestamp</th>\n",
       "      <th>timestampms</th>\n",
       "      <th>type</th>\n",
       "      <th>num_events</th>\n",
       "      <th>delta</th>\n",
       "      <th>price</th>\n",
       "      <th>reason</th>\n",
       "      <th>remaining</th>\n",
       "      <th>side</th>\n",
       "      <th>price_double</th>\n",
       "    </tr>\n",
       "  </thead>\n",
       "  <tbody>\n",
       "    <tr>\n",
       "      <th>37</th>\n",
       "      <td>5368619504</td>\n",
       "      <td>[{'makerSide': 'bid', 'type': 'trade', 'tid': ...</td>\n",
       "      <td>38</td>\n",
       "      <td>2019-01-16 18:09:37</td>\n",
       "      <td>2019-01-16 18:09:37.570</td>\n",
       "      <td>change</td>\n",
       "      <td>2</td>\n",
       "      <td>-0.45</td>\n",
       "      <td>3620.42</td>\n",
       "      <td>trade</td>\n",
       "      <td>0.518</td>\n",
       "      <td>bid</td>\n",
       "      <td>3620.42</td>\n",
       "    </tr>\n",
       "    <tr>\n",
       "      <th>107</th>\n",
       "      <td>5368620111</td>\n",
       "      <td>[{'makerSide': 'bid', 'type': 'trade', 'tid': ...</td>\n",
       "      <td>108</td>\n",
       "      <td>2019-01-16 18:09:40</td>\n",
       "      <td>2019-01-16 18:09:40.469</td>\n",
       "      <td>change</td>\n",
       "      <td>2</td>\n",
       "      <td>-0.1</td>\n",
       "      <td>3620.50</td>\n",
       "      <td>trade</td>\n",
       "      <td>0.611</td>\n",
       "      <td>bid</td>\n",
       "      <td>3620.50</td>\n",
       "    </tr>\n",
       "  </tbody>\n",
       "</table>\n",
       "</div>"
      ],
      "text/plain": [
       "        eventId                                             events  \\\n",
       "37   5368619504  [{'makerSide': 'bid', 'type': 'trade', 'tid': ...   \n",
       "107  5368620111  [{'makerSide': 'bid', 'type': 'trade', 'tid': ...   \n",
       "\n",
       "     socket_sequence           timestamp             timestampms    type  \\\n",
       "37                38 2019-01-16 18:09:37 2019-01-16 18:09:37.570  change   \n",
       "107              108 2019-01-16 18:09:40 2019-01-16 18:09:40.469  change   \n",
       "\n",
       "     num_events  delta    price reason remaining side  price_double  \n",
       "37            2  -0.45  3620.42  trade     0.518  bid       3620.42  \n",
       "107           2   -0.1  3620.50  trade     0.611  bid       3620.50  "
      ]
     },
     "execution_count": 25,
     "metadata": {},
     "output_type": "execute_result"
    }
   ],
   "source": [
    "trades.iloc[:2]"
   ]
  },
  {
   "cell_type": "code",
   "execution_count": 27,
   "metadata": {
    "collapsed": false
   },
   "outputs": [
    {
     "data": {
      "text/plain": [
       "3612.6399999999999"
      ]
     },
     "execution_count": 27,
     "metadata": {},
     "output_type": "execute_result"
    }
   ],
   "source": [
    "trades.sort_values(\"price_double\").price_double.round(3).iloc[0]"
   ]
  },
  {
   "cell_type": "code",
   "execution_count": 28,
   "metadata": {
    "collapsed": false
   },
   "outputs": [
    {
     "data": {
      "text/plain": [
       "7    10843\n",
       "Name: price, dtype: int64"
      ]
     },
     "execution_count": 28,
     "metadata": {},
     "output_type": "execute_result"
    }
   ],
   "source": [
    "all_updates_df.price.map(len).value_counts()"
   ]
  },
  {
   "cell_type": "code",
   "execution_count": 29,
   "metadata": {
    "collapsed": false
   },
   "outputs": [
    {
     "data": {
      "text/plain": [
       "1775"
      ]
     },
     "execution_count": 29,
     "metadata": {},
     "output_type": "execute_result"
    }
   ],
   "source": [
    "all_updates_df.price.nunique()"
   ]
  },
  {
   "cell_type": "code",
   "execution_count": 30,
   "metadata": {
    "collapsed": false
   },
   "outputs": [],
   "source": [
    "all_updates_df[\"price_padded\"] = all_updates_df.price.str.pad(7, \"left\", \"0\")"
   ]
  },
  {
   "cell_type": "code",
   "execution_count": 31,
   "metadata": {
    "collapsed": true
   },
   "outputs": [],
   "source": [
    "trades_range = [\n",
    "    all_updates_df[all_updates_df.num_events == 2].price_padded.min(),\n",
    "    all_updates_df[all_updates_df.num_events == 2].price_padded.max()]"
   ]
  },
  {
   "cell_type": "code",
   "execution_count": null,
   "metadata": {
    "collapsed": true
   },
   "outputs": [],
   "source": []
  },
  {
   "cell_type": "code",
   "execution_count": 37,
   "metadata": {
    "collapsed": false
   },
   "outputs": [
    {
     "data": {
      "text/plain": [
       "change         10842\n",
       "block_trade        1\n",
       "Name: type, dtype: int64"
      ]
     },
     "execution_count": 37,
     "metadata": {},
     "output_type": "execute_result"
    }
   ],
   "source": [
    "all_updates_df[\"type\"].value_counts()"
   ]
  },
  {
   "cell_type": "code",
   "execution_count": 39,
   "metadata": {
    "collapsed": false
   },
   "outputs": [
    {
     "data": {
      "text/plain": [
       "place      5338\n",
       "cancel     5306\n",
       "trade       198\n",
       "missing       1\n",
       "Name: reason, dtype: int64"
      ]
     },
     "execution_count": 39,
     "metadata": {},
     "output_type": "execute_result"
    }
   ],
   "source": [
    "all_updates_df.reason.value_counts()"
   ]
  },
  {
   "cell_type": "markdown",
   "metadata": {},
   "source": [
    "Exclude block trades"
   ]
  },
  {
   "cell_type": "code",
   "execution_count": 45,
   "metadata": {
    "collapsed": false
   },
   "outputs": [],
   "source": [
    "interest_changes = all_updates_df[all_updates_df[\"type\"] == \"change\"][[\"timestampms\", \"price_padded\", \"remaining\", \"side\"]]"
   ]
  },
  {
   "cell_type": "code",
   "execution_count": 46,
   "metadata": {
    "collapsed": false
   },
   "outputs": [],
   "source": [
    "interest_changes_in_trades_range = interest_changes[interest_changes.price_padded.between(*trades_range)]"
   ]
  },
  {
   "cell_type": "code",
   "execution_count": 47,
   "metadata": {
    "collapsed": false
   },
   "outputs": [
    {
     "data": {
      "text/plain": [
       "(6715, 4)"
      ]
     },
     "execution_count": 47,
     "metadata": {},
     "output_type": "execute_result"
    }
   ],
   "source": [
    "interest_changes_in_trades_range.shape"
   ]
  },
  {
   "cell_type": "code",
   "execution_count": 48,
   "metadata": {
    "collapsed": false
   },
   "outputs": [
    {
     "name": "stderr",
     "output_type": "stream",
     "text": [
      "/home/gautam_sisodia/anaconda3/lib/python3.5/site-packages/ipykernel_launcher.py:3: SettingWithCopyWarning: \n",
      "A value is trying to be set on a copy of a slice from a DataFrame.\n",
      "Try using .loc[row_indexer,col_indexer] = value instead\n",
      "\n",
      "See the caveats in the documentation: http://pandas.pydata.org/pandas-docs/stable/indexing.html#indexing-view-versus-copy\n",
      "  This is separate from the ipykernel package so we can avoid doing imports until\n"
     ]
    }
   ],
   "source": [
    "interest_changes_in_trades_range[\"next_tim\"] = interest_changes_in_trades_range.sort_values(\n",
    "    \"timestampms\").groupby(\n",
    "    [\"price_padded\", \"side\"])[\"timestampms\"].shift(-1)"
   ]
  },
  {
   "cell_type": "code",
   "execution_count": 49,
   "metadata": {
    "collapsed": false
   },
   "outputs": [
    {
     "data": {
      "text/html": [
       "<div>\n",
       "<style scoped>\n",
       "    .dataframe tbody tr th:only-of-type {\n",
       "        vertical-align: middle;\n",
       "    }\n",
       "\n",
       "    .dataframe tbody tr th {\n",
       "        vertical-align: top;\n",
       "    }\n",
       "\n",
       "    .dataframe thead th {\n",
       "        text-align: right;\n",
       "    }\n",
       "</style>\n",
       "<table border=\"1\" class=\"dataframe\">\n",
       "  <thead>\n",
       "    <tr style=\"text-align: right;\">\n",
       "      <th></th>\n",
       "      <th>timestampms</th>\n",
       "      <th>price_padded</th>\n",
       "      <th>remaining</th>\n",
       "      <th>side</th>\n",
       "      <th>next_tim</th>\n",
       "    </tr>\n",
       "  </thead>\n",
       "  <tbody>\n",
       "    <tr>\n",
       "      <th>0</th>\n",
       "      <td>2019-01-16 18:09:35.932</td>\n",
       "      <td>3614.45</td>\n",
       "      <td>0</td>\n",
       "      <td>bid</td>\n",
       "      <td>2019-01-16 18:19:33.636</td>\n",
       "    </tr>\n",
       "    <tr>\n",
       "      <th>10</th>\n",
       "      <td>2019-01-16 18:09:36.331</td>\n",
       "      <td>3615.56</td>\n",
       "      <td>0.08</td>\n",
       "      <td>bid</td>\n",
       "      <td>2019-01-16 18:09:40.055</td>\n",
       "    </tr>\n",
       "    <tr>\n",
       "      <th>13</th>\n",
       "      <td>2019-01-16 18:09:36.470</td>\n",
       "      <td>3613.42</td>\n",
       "      <td>0.54</td>\n",
       "      <td>bid</td>\n",
       "      <td>2019-01-16 18:09:36.569</td>\n",
       "    </tr>\n",
       "    <tr>\n",
       "      <th>15</th>\n",
       "      <td>2019-01-16 18:09:36.546</td>\n",
       "      <td>3619.86</td>\n",
       "      <td>0</td>\n",
       "      <td>bid</td>\n",
       "      <td>NaT</td>\n",
       "    </tr>\n",
       "    <tr>\n",
       "      <th>16</th>\n",
       "      <td>2019-01-16 18:09:36.563</td>\n",
       "      <td>3619.54</td>\n",
       "      <td>6.8651</td>\n",
       "      <td>bid</td>\n",
       "      <td>2019-01-16 18:09:37.612</td>\n",
       "    </tr>\n",
       "    <tr>\n",
       "      <th>17</th>\n",
       "      <td>2019-01-16 18:09:36.569</td>\n",
       "      <td>3613.42</td>\n",
       "      <td>0.62</td>\n",
       "      <td>bid</td>\n",
       "      <td>2019-01-16 18:09:37.871</td>\n",
       "    </tr>\n",
       "    <tr>\n",
       "      <th>31</th>\n",
       "      <td>2019-01-16 18:09:37.209</td>\n",
       "      <td>3615.99</td>\n",
       "      <td>0.18</td>\n",
       "      <td>bid</td>\n",
       "      <td>2019-01-16 18:09:37.308</td>\n",
       "    </tr>\n",
       "    <tr>\n",
       "      <th>33</th>\n",
       "      <td>2019-01-16 18:09:37.308</td>\n",
       "      <td>3615.99</td>\n",
       "      <td>0.36</td>\n",
       "      <td>bid</td>\n",
       "      <td>2019-01-16 18:09:37.609</td>\n",
       "    </tr>\n",
       "    <tr>\n",
       "      <th>37</th>\n",
       "      <td>2019-01-16 18:09:37.570</td>\n",
       "      <td>3620.42</td>\n",
       "      <td>0.518</td>\n",
       "      <td>bid</td>\n",
       "      <td>2019-01-16 18:09:39.077</td>\n",
       "    </tr>\n",
       "    <tr>\n",
       "      <th>38</th>\n",
       "      <td>2019-01-16 18:09:37.609</td>\n",
       "      <td>3615.99</td>\n",
       "      <td>0.44</td>\n",
       "      <td>bid</td>\n",
       "      <td>2019-01-16 18:09:37.709</td>\n",
       "    </tr>\n",
       "  </tbody>\n",
       "</table>\n",
       "</div>"
      ],
      "text/plain": [
       "               timestampms price_padded remaining side                next_tim\n",
       "0  2019-01-16 18:09:35.932      3614.45         0  bid 2019-01-16 18:19:33.636\n",
       "10 2019-01-16 18:09:36.331      3615.56      0.08  bid 2019-01-16 18:09:40.055\n",
       "13 2019-01-16 18:09:36.470      3613.42      0.54  bid 2019-01-16 18:09:36.569\n",
       "15 2019-01-16 18:09:36.546      3619.86         0  bid                     NaT\n",
       "16 2019-01-16 18:09:36.563      3619.54    6.8651  bid 2019-01-16 18:09:37.612\n",
       "17 2019-01-16 18:09:36.569      3613.42      0.62  bid 2019-01-16 18:09:37.871\n",
       "31 2019-01-16 18:09:37.209      3615.99      0.18  bid 2019-01-16 18:09:37.308\n",
       "33 2019-01-16 18:09:37.308      3615.99      0.36  bid 2019-01-16 18:09:37.609\n",
       "37 2019-01-16 18:09:37.570      3620.42     0.518  bid 2019-01-16 18:09:39.077\n",
       "38 2019-01-16 18:09:37.609      3615.99      0.44  bid 2019-01-16 18:09:37.709"
      ]
     },
     "execution_count": 49,
     "metadata": {},
     "output_type": "execute_result"
    }
   ],
   "source": [
    "interest_changes_in_trades_range.iloc[:10]"
   ]
  },
  {
   "cell_type": "code",
   "execution_count": 50,
   "metadata": {
    "collapsed": false
   },
   "outputs": [
    {
     "data": {
      "text/plain": [
       "<matplotlib.axes._subplots.AxesSubplot at 0x7ff422356400>"
      ]
     },
     "execution_count": 50,
     "metadata": {},
     "output_type": "execute_result"
    },
    {
     "data": {
      "image/png": "[encoded data removed]",
      "text/plain": [
       "<matplotlib.figure.Figure at 0x7ff4226d9eb8>"
      ]
     },
     "metadata": {
      "needs_background": "light"
     },
     "output_type": "display_data"
    }
   ],
   "source": [
    "interest_changes_in_trades_range.remaining.astype(\"float\").hist()"
   ]
  },
  {
   "cell_type": "code",
   "execution_count": 52,
   "metadata": {
    "collapsed": false
   },
   "outputs": [
    {
     "data": {
      "text/plain": [
       "<matplotlib.axes._subplots.AxesSubplot at 0x7ff422396da0>"
      ]
     },
     "execution_count": 52,
     "metadata": {},
     "output_type": "execute_result"
    },
    {
     "data": {
      "image/png": "[encoded data removed]",
      "text/plain": [
       "<matplotlib.figure.Figure at 0x7ff4223051d0>"
      ]
     },
     "metadata": {
      "needs_background": "light"
     },
     "output_type": "display_data"
    }
   ],
   "source": [
    "interest_changes_in_trades_range[interest_changes_in_trades_range.remaining.astype(\"float\") > 0].remaining.astype(\"float\").hist()"
   ]
  },
  {
   "cell_type": "code",
   "execution_count": 54,
   "metadata": {
    "collapsed": false
   },
   "outputs": [
    {
     "data": {
      "text/plain": [
       "<matplotlib.axes._subplots.AxesSubplot at 0x7ff4221f47b8>"
      ]
     },
     "execution_count": 54,
     "metadata": {},
     "output_type": "execute_result"
    },
    {
     "data": {
      "image/png": "[encoded data removed]",
      "text/plain": [
       "<matplotlib.figure.Figure at 0x7ff422200278>"
      ]
     },
     "metadata": {
      "needs_background": "light"
     },
     "output_type": "display_data"
    }
   ],
   "source": [
    "import numpy as np\n",
    "interest_changes_in_trades_range[interest_changes_in_trades_range.remaining.astype(\"float\") > 0].remaining.astype(\n",
    "    \"float\").map(\n",
    "    np.log10).hist(\n",
    "    bins = 20)"
   ]
  },
  {
   "cell_type": "markdown",
   "metadata": {},
   "source": [
    "Save interest change events"
   ]
  },
  {
   "cell_type": "code",
   "execution_count": 107,
   "metadata": {
    "collapsed": true
   },
   "outputs": [],
   "source": [
    "interest_changes_in_trades_range.to_json(\"gemini_interest.json\", orient = \"records\")"
   ]
  },
  {
   "cell_type": "markdown",
   "metadata": {},
   "source": [
    "Save trade events"
   ]
  },
  {
   "cell_type": "code",
   "execution_count": 41,
   "metadata": {
    "collapsed": false
   },
   "outputs": [],
   "source": [
    "all_updates_df[all_updates_df.reason == \"trade\"][[\"timestampms\", \"delta\", \"price\"]].to_json(\"gemini_trades.json\", orient = \"records\")"
   ]
  },
  {
   "cell_type": "code",
   "execution_count": null,
   "metadata": {
    "collapsed": true
   },
   "outputs": [],
   "source": []
  }
 ],
 "metadata": {
  "kernelspec": {
   "display_name": "Python 3",
   "language": "python",
   "name": "python3"
  },
  "language_info": {
   "codemirror_mode": {
    "name": "ipython",
    "version": 3
   },
   "file_extension": ".py",
   "mimetype": "text/x-python",
   "name": "python",
   "nbconvert_exporter": "python",
   "pygments_lexer": "ipython3",
   "version": "3.5.4"
  }
 },
 "nbformat": 4,
 "nbformat_minor": 2
}
