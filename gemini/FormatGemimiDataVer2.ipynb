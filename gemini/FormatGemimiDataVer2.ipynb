{
 "cells": [
  {
   "cell_type": "markdown",
   "metadata": {},
   "source": [
    "# Formatting Gemini Data\n",
    "## Ver 2\n",
    "Formatting Gemini data for input into d3 dashboard"
   ]
  },
  {
   "cell_type": "code",
   "execution_count": 1,
   "metadata": {
    "collapsed": true
   },
   "outputs": [],
   "source": [
    "import pandas as pd\n",
    "from tqdm import tqdm"
   ]
  },
  {
   "cell_type": "markdown",
   "metadata": {},
   "source": [
    "Read in gemini data"
   ]
  },
  {
   "cell_type": "code",
   "execution_count": 2,
   "metadata": {
    "collapsed": false
   },
   "outputs": [
    {
     "name": "stdout",
     "output_type": "stream",
     "text": [
      "CPU times: user 4 ms, sys: 4.02 ms, total: 8.03 ms\n",
      "Wall time: 114 ms\n"
     ]
    }
   ],
   "source": [
    "%%time\n",
    "with open(\"./gemini_pull_2019_01_16_18_07_06.txt\", \"r\") as file:\n",
    "    gemini = file.read()"
   ]
  },
  {
   "cell_type": "markdown",
   "metadata": {},
   "source": [
    "Separate messages"
   ]
  },
  {
   "cell_type": "code",
   "execution_count": 3,
   "metadata": {
    "collapsed": false
   },
   "outputs": [
    {
     "name": "stdout",
     "output_type": "stream",
     "text": [
      "CPU times: user 11.1 ms, sys: 3.87 ms, total: 15 ms\n",
      "Wall time: 15.1 ms\n"
     ]
    }
   ],
   "source": [
    "%%time\n",
    "gemini_list = gemini.replace(\"}{\", \"}\\n{\").split(\"\\n\")"
   ]
  },
  {
   "cell_type": "code",
   "execution_count": 4,
   "metadata": {
    "collapsed": false
   },
   "outputs": [
    {
     "data": {
      "text/plain": [
       "10844"
      ]
     },
     "execution_count": 4,
     "metadata": {},
     "output_type": "execute_result"
    }
   ],
   "source": [
    "len(gemini_list)"
   ]
  },
  {
   "cell_type": "markdown",
   "metadata": {},
   "source": [
    "The first message is larger, gives remaining interest for all price points at the time of socket open"
   ]
  },
  {
   "cell_type": "code",
   "execution_count": 5,
   "metadata": {
    "collapsed": false
   },
   "outputs": [
    {
     "data": {
      "text/plain": [
       "[386154, 219, 222, 220, 226, 224, 222, 220, 222, 219]"
      ]
     },
     "execution_count": 5,
     "metadata": {},
     "output_type": "execute_result"
    }
   ],
   "source": [
    "[len(i) for i in gemini_list[:10]]"
   ]
  },
  {
   "cell_type": "code",
   "execution_count": 6,
   "metadata": {
    "collapsed": true
   },
   "outputs": [],
   "source": [
    "first_msg = gemini_list[0]"
   ]
  },
  {
   "cell_type": "code",
   "execution_count": 7,
   "metadata": {
    "collapsed": false
   },
   "outputs": [
    {
     "data": {
      "text/plain": [
       "'{\"type\":\"update\",\"eventId\":5368619062,\"socket_sequence\":0,\"events\":[{\"type\":\"change\",\"reason\":\"initial\",\"price\":\"0.01\",\"delta\":\"191642.102\",\"remaining\":\"191642.102\",\"side\":\"bid\"},{\"type\":\"change\",\"reason\":\"initial\",\"price\":\"0.02\",\"delta\":\"22959.5\",\"remaining\":\"22959.5\",\"side\":\"bid\"},{\"type\":\"change\",\"reason\":\"initial\",\"price\":\"0.03\",\"delta\":\"33\",\"remaining\":\"33\",\"side\":\"bid\"},{\"type\":\"change\",\"rea'"
      ]
     },
     "execution_count": 7,
     "metadata": {},
     "output_type": "execute_result"
    }
   ],
   "source": [
    "first_msg[:400]"
   ]
  },
  {
   "cell_type": "code",
   "execution_count": 8,
   "metadata": {
    "collapsed": true
   },
   "outputs": [],
   "source": [
    "first_message_df = pd.read_json(gemini_list[0])"
   ]
  },
  {
   "cell_type": "code",
   "execution_count": 34,
   "metadata": {
    "collapsed": false
   },
   "outputs": [
    {
     "data": {
      "text/html": [
       "<div>\n",
       "<style scoped>\n",
       "    .dataframe tbody tr th:only-of-type {\n",
       "        vertical-align: middle;\n",
       "    }\n",
       "\n",
       "    .dataframe tbody tr th {\n",
       "        vertical-align: top;\n",
       "    }\n",
       "\n",
       "    .dataframe thead th {\n",
       "        text-align: right;\n",
       "    }\n",
       "</style>\n",
       "<table border=\"1\" class=\"dataframe\">\n",
       "  <thead>\n",
       "    <tr style=\"text-align: right;\">\n",
       "      <th></th>\n",
       "      <th>eventId</th>\n",
       "      <th>events</th>\n",
       "      <th>socket_sequence</th>\n",
       "      <th>type</th>\n",
       "      <th>remaining</th>\n",
       "      <th>delta</th>\n",
       "      <th>reason</th>\n",
       "      <th>price</th>\n",
       "      <th>side</th>\n",
       "    </tr>\n",
       "  </thead>\n",
       "  <tbody>\n",
       "    <tr>\n",
       "      <th>0</th>\n",
       "      <td>5368619062</td>\n",
       "      <td>{'remaining': '191642.102', 'delta': '191642.1...</td>\n",
       "      <td>0</td>\n",
       "      <td>change</td>\n",
       "      <td>191642.102</td>\n",
       "      <td>191642.102</td>\n",
       "      <td>initial</td>\n",
       "      <td>0.01</td>\n",
       "      <td>bid</td>\n",
       "    </tr>\n",
       "    <tr>\n",
       "      <th>1</th>\n",
       "      <td>5368619062</td>\n",
       "      <td>{'remaining': '22959.5', 'delta': '22959.5', '...</td>\n",
       "      <td>0</td>\n",
       "      <td>change</td>\n",
       "      <td>22959.5</td>\n",
       "      <td>22959.5</td>\n",
       "      <td>initial</td>\n",
       "      <td>0.02</td>\n",
       "      <td>bid</td>\n",
       "    </tr>\n",
       "    <tr>\n",
       "      <th>2</th>\n",
       "      <td>5368619062</td>\n",
       "      <td>{'remaining': '33', 'delta': '33', 'type': 'ch...</td>\n",
       "      <td>0</td>\n",
       "      <td>change</td>\n",
       "      <td>33</td>\n",
       "      <td>33</td>\n",
       "      <td>initial</td>\n",
       "      <td>0.03</td>\n",
       "      <td>bid</td>\n",
       "    </tr>\n",
       "    <tr>\n",
       "      <th>3</th>\n",
       "      <td>5368619062</td>\n",
       "      <td>{'remaining': '0.00055', 'delta': '0.00055', '...</td>\n",
       "      <td>0</td>\n",
       "      <td>change</td>\n",
       "      <td>0.00055</td>\n",
       "      <td>0.00055</td>\n",
       "      <td>initial</td>\n",
       "      <td>0.04</td>\n",
       "      <td>bid</td>\n",
       "    </tr>\n",
       "    <tr>\n",
       "      <th>4</th>\n",
       "      <td>5368619062</td>\n",
       "      <td>{'remaining': '3693', 'delta': '3693', 'type':...</td>\n",
       "      <td>0</td>\n",
       "      <td>change</td>\n",
       "      <td>3693</td>\n",
       "      <td>3693</td>\n",
       "      <td>initial</td>\n",
       "      <td>0.05</td>\n",
       "      <td>bid</td>\n",
       "    </tr>\n",
       "  </tbody>\n",
       "</table>\n",
       "</div>"
      ],
      "text/plain": [
       "      eventId                                             events  \\\n",
       "0  5368619062  {'remaining': '191642.102', 'delta': '191642.1...   \n",
       "1  5368619062  {'remaining': '22959.5', 'delta': '22959.5', '...   \n",
       "2  5368619062  {'remaining': '33', 'delta': '33', 'type': 'ch...   \n",
       "3  5368619062  {'remaining': '0.00055', 'delta': '0.00055', '...   \n",
       "4  5368619062  {'remaining': '3693', 'delta': '3693', 'type':...   \n",
       "\n",
       "   socket_sequence    type   remaining       delta   reason price side  \n",
       "0                0  change  191642.102  191642.102  initial  0.01  bid  \n",
       "1                0  change     22959.5     22959.5  initial  0.02  bid  \n",
       "2                0  change          33          33  initial  0.03  bid  \n",
       "3                0  change     0.00055     0.00055  initial  0.04  bid  \n",
       "4                0  change        3693        3693  initial  0.05  bid  "
      ]
     },
     "execution_count": 34,
     "metadata": {},
     "output_type": "execute_result"
    }
   ],
   "source": [
    "first_message_df.head()"
   ]
  },
  {
   "cell_type": "code",
   "execution_count": 35,
   "metadata": {
    "collapsed": true
   },
   "outputs": [],
   "source": [
    "event_keys = first_message_df[\"events\"].iloc[0].keys()"
   ]
  },
  {
   "cell_type": "code",
   "execution_count": 36,
   "metadata": {
    "collapsed": true
   },
   "outputs": [],
   "source": [
    "for i in event_keys:\n",
    "    first_message_df[i] = first_message_df[\"events\"].map(lambda x: x[i])"
   ]
  },
  {
   "cell_type": "code",
   "execution_count": 37,
   "metadata": {
    "collapsed": false
   },
   "outputs": [
    {
     "data": {
      "text/html": [
       "<div>\n",
       "<style scoped>\n",
       "    .dataframe tbody tr th:only-of-type {\n",
       "        vertical-align: middle;\n",
       "    }\n",
       "\n",
       "    .dataframe tbody tr th {\n",
       "        vertical-align: top;\n",
       "    }\n",
       "\n",
       "    .dataframe thead th {\n",
       "        text-align: right;\n",
       "    }\n",
       "</style>\n",
       "<table border=\"1\" class=\"dataframe\">\n",
       "  <thead>\n",
       "    <tr style=\"text-align: right;\">\n",
       "      <th></th>\n",
       "      <th>eventId</th>\n",
       "      <th>events</th>\n",
       "      <th>socket_sequence</th>\n",
       "      <th>type</th>\n",
       "      <th>remaining</th>\n",
       "      <th>delta</th>\n",
       "      <th>reason</th>\n",
       "      <th>price</th>\n",
       "      <th>side</th>\n",
       "    </tr>\n",
       "  </thead>\n",
       "  <tbody>\n",
       "    <tr>\n",
       "      <th>0</th>\n",
       "      <td>5368619062</td>\n",
       "      <td>{'remaining': '191642.102', 'delta': '191642.1...</td>\n",
       "      <td>0</td>\n",
       "      <td>change</td>\n",
       "      <td>191642.102</td>\n",
       "      <td>191642.102</td>\n",
       "      <td>initial</td>\n",
       "      <td>0.01</td>\n",
       "      <td>bid</td>\n",
       "    </tr>\n",
       "    <tr>\n",
       "      <th>1</th>\n",
       "      <td>5368619062</td>\n",
       "      <td>{'remaining': '22959.5', 'delta': '22959.5', '...</td>\n",
       "      <td>0</td>\n",
       "      <td>change</td>\n",
       "      <td>22959.5</td>\n",
       "      <td>22959.5</td>\n",
       "      <td>initial</td>\n",
       "      <td>0.02</td>\n",
       "      <td>bid</td>\n",
       "    </tr>\n",
       "    <tr>\n",
       "      <th>2</th>\n",
       "      <td>5368619062</td>\n",
       "      <td>{'remaining': '33', 'delta': '33', 'type': 'ch...</td>\n",
       "      <td>0</td>\n",
       "      <td>change</td>\n",
       "      <td>33</td>\n",
       "      <td>33</td>\n",
       "      <td>initial</td>\n",
       "      <td>0.03</td>\n",
       "      <td>bid</td>\n",
       "    </tr>\n",
       "    <tr>\n",
       "      <th>3</th>\n",
       "      <td>5368619062</td>\n",
       "      <td>{'remaining': '0.00055', 'delta': '0.00055', '...</td>\n",
       "      <td>0</td>\n",
       "      <td>change</td>\n",
       "      <td>0.00055</td>\n",
       "      <td>0.00055</td>\n",
       "      <td>initial</td>\n",
       "      <td>0.04</td>\n",
       "      <td>bid</td>\n",
       "    </tr>\n",
       "    <tr>\n",
       "      <th>4</th>\n",
       "      <td>5368619062</td>\n",
       "      <td>{'remaining': '3693', 'delta': '3693', 'type':...</td>\n",
       "      <td>0</td>\n",
       "      <td>change</td>\n",
       "      <td>3693</td>\n",
       "      <td>3693</td>\n",
       "      <td>initial</td>\n",
       "      <td>0.05</td>\n",
       "      <td>bid</td>\n",
       "    </tr>\n",
       "  </tbody>\n",
       "</table>\n",
       "</div>"
      ],
      "text/plain": [
       "      eventId                                             events  \\\n",
       "0  5368619062  {'remaining': '191642.102', 'delta': '191642.1...   \n",
       "1  5368619062  {'remaining': '22959.5', 'delta': '22959.5', '...   \n",
       "2  5368619062  {'remaining': '33', 'delta': '33', 'type': 'ch...   \n",
       "3  5368619062  {'remaining': '0.00055', 'delta': '0.00055', '...   \n",
       "4  5368619062  {'remaining': '3693', 'delta': '3693', 'type':...   \n",
       "\n",
       "   socket_sequence    type   remaining       delta   reason price side  \n",
       "0                0  change  191642.102  191642.102  initial  0.01  bid  \n",
       "1                0  change     22959.5     22959.5  initial  0.02  bid  \n",
       "2                0  change          33          33  initial  0.03  bid  \n",
       "3                0  change     0.00055     0.00055  initial  0.04  bid  \n",
       "4                0  change        3693        3693  initial  0.05  bid  "
      ]
     },
     "execution_count": 37,
     "metadata": {},
     "output_type": "execute_result"
    }
   ],
   "source": [
    "first_message_df.head()"
   ]
  },
  {
   "cell_type": "markdown",
   "metadata": {},
   "source": [
    "each price shows up once:"
   ]
  },
  {
   "cell_type": "code",
   "execution_count": 38,
   "metadata": {
    "collapsed": false
   },
   "outputs": [
    {
     "data": {
      "text/plain": [
       "1362.00     1\n",
       "12600.00    1\n",
       "9788.00     1\n",
       "5280.00     1\n",
       "3120.00     1\n",
       "Name: price, dtype: int64"
      ]
     },
     "execution_count": 38,
     "metadata": {},
     "output_type": "execute_result"
    }
   ],
   "source": [
    "first_message_df.price.value_counts().head()"
   ]
  },
  {
   "cell_type": "markdown",
   "metadata": {},
   "source": [
    "delta always equals remaining:"
   ]
  },
  {
   "cell_type": "code",
   "execution_count": 39,
   "metadata": {
    "collapsed": false
   },
   "outputs": [
    {
     "data": {
      "text/plain": [
       "0"
      ]
     },
     "execution_count": 39,
     "metadata": {},
     "output_type": "execute_result"
    }
   ],
   "source": [
    "len(first_message_df[first_message_df.remaining != first_message_df.delta])"
   ]
  },
  {
   "cell_type": "code",
   "execution_count": 40,
   "metadata": {
    "collapsed": true
   },
   "outputs": [],
   "source": [
    "initial_interest = first_message_df[[\"side\", \"price\", \"remaining\"]].drop_duplicates()"
   ]
  },
  {
   "cell_type": "code",
   "execution_count": 41,
   "metadata": {
    "collapsed": false
   },
   "outputs": [
    {
     "data": {
      "text/plain": [
       "3585"
      ]
     },
     "execution_count": 41,
     "metadata": {},
     "output_type": "execute_result"
    }
   ],
   "source": [
    "len(initial_interest)"
   ]
  },
  {
   "cell_type": "code",
   "execution_count": 42,
   "metadata": {
    "collapsed": false
   },
   "outputs": [
    {
     "data": {
      "text/plain": [
       "'{\"type\":\"update\",\"eventId\":5368619071,\"timestamp\":1547662175,\"timestampms\":1547662175932,\"socket_sequence\":1,\"events\":[{\"type\":\"change\",\"side\":\"bid\",\"price\":\"3614.45\",\"remaining\":\"0\",\"delta\":\"-0.04\",\"reason\":\"cancel\"}]}'"
      ]
     },
     "execution_count": 42,
     "metadata": {},
     "output_type": "execute_result"
    }
   ],
   "source": [
    "gemini_list[1]"
   ]
  },
  {
   "cell_type": "code",
   "execution_count": 43,
   "metadata": {
    "collapsed": false
   },
   "outputs": [
    {
     "name": "stdout",
     "output_type": "stream",
     "text": [
      "CPU times: user 2.72 ms, sys: 425 µs, total: 3.15 ms\n",
      "Wall time: 3.17 ms\n"
     ]
    }
   ],
   "source": [
    "%%time\n",
    "update_str = \", \".join(gemini_list[1:])"
   ]
  },
  {
   "cell_type": "code",
   "execution_count": 44,
   "metadata": {
    "collapsed": false
   },
   "outputs": [
    {
     "name": "stdout",
     "output_type": "stream",
     "text": [
      "CPU times: user 165 ms, sys: 28.1 ms, total: 193 ms\n",
      "Wall time: 195 ms\n"
     ]
    }
   ],
   "source": [
    "%%time\n",
    "all_updates_df = pd.read_json(\"[{}]\".format(update_str))"
   ]
  },
  {
   "cell_type": "code",
   "execution_count": 45,
   "metadata": {
    "collapsed": false
   },
   "outputs": [
    {
     "name": "stdout",
     "output_type": "stream",
     "text": [
      "CPU times: user 5.48 ms, sys: 0 ns, total: 5.48 ms\n",
      "Wall time: 5.63 ms\n"
     ]
    }
   ],
   "source": [
    "%%time\n",
    "all_updates_df[\"num_events\"] = all_updates_df.events.map(len)"
   ]
  },
  {
   "cell_type": "code",
   "execution_count": 46,
   "metadata": {
    "collapsed": false
   },
   "outputs": [
    {
     "name": "stderr",
     "output_type": "stream",
     "text": [
      "100%|██████████| 6/6 [00:00<00:00, 84.96it/s]\n"
     ]
    }
   ],
   "source": [
    "for i in tqdm(event_keys):\n",
    "    all_updates_df[i] = all_updates_df[\"events\"].map(lambda x: x[-1][i] if i in x[-1].keys() else \"missing\")"
   ]
  },
  {
   "cell_type": "code",
   "execution_count": 47,
   "metadata": {
    "collapsed": true
   },
   "outputs": [],
   "source": [
    "all_updates_df[\"price_double\"] = all_updates_df.price.astype(\"double\").round(2)"
   ]
  },
  {
   "cell_type": "code",
   "execution_count": 48,
   "metadata": {
    "collapsed": false
   },
   "outputs": [
    {
     "data": {
      "text/plain": [
       "1    10645\n",
       "2      198\n",
       "Name: num_events, dtype: int64"
      ]
     },
     "execution_count": 48,
     "metadata": {},
     "output_type": "execute_result"
    }
   ],
   "source": [
    "all_updates_df.num_events.value_counts()"
   ]
  },
  {
   "cell_type": "code",
   "execution_count": 49,
   "metadata": {
    "collapsed": true
   },
   "outputs": [],
   "source": [
    "trades = all_updates_df[all_updates_df.num_events == 2]"
   ]
  },
  {
   "cell_type": "code",
   "execution_count": 50,
   "metadata": {
    "collapsed": false
   },
   "outputs": [
    {
     "data": {
      "text/html": [
       "<div>\n",
       "<style scoped>\n",
       "    .dataframe tbody tr th:only-of-type {\n",
       "        vertical-align: middle;\n",
       "    }\n",
       "\n",
       "    .dataframe tbody tr th {\n",
       "        vertical-align: top;\n",
       "    }\n",
       "\n",
       "    .dataframe thead th {\n",
       "        text-align: right;\n",
       "    }\n",
       "</style>\n",
       "<table border=\"1\" class=\"dataframe\">\n",
       "  <thead>\n",
       "    <tr style=\"text-align: right;\">\n",
       "      <th></th>\n",
       "      <th>eventId</th>\n",
       "      <th>events</th>\n",
       "      <th>socket_sequence</th>\n",
       "      <th>timestamp</th>\n",
       "      <th>timestampms</th>\n",
       "      <th>type</th>\n",
       "      <th>num_events</th>\n",
       "      <th>remaining</th>\n",
       "      <th>delta</th>\n",
       "      <th>reason</th>\n",
       "      <th>price</th>\n",
       "      <th>side</th>\n",
       "      <th>price_double</th>\n",
       "    </tr>\n",
       "  </thead>\n",
       "  <tbody>\n",
       "    <tr>\n",
       "      <th>37</th>\n",
       "      <td>5368619504</td>\n",
       "      <td>[{'amount': '0.45', 'price': '3620.42', 'maker...</td>\n",
       "      <td>38</td>\n",
       "      <td>2019-01-16 18:09:37</td>\n",
       "      <td>2019-01-16 18:09:37.570</td>\n",
       "      <td>change</td>\n",
       "      <td>2</td>\n",
       "      <td>0.518</td>\n",
       "      <td>-0.45</td>\n",
       "      <td>trade</td>\n",
       "      <td>3620.42</td>\n",
       "      <td>bid</td>\n",
       "      <td>3620.42</td>\n",
       "    </tr>\n",
       "    <tr>\n",
       "      <th>107</th>\n",
       "      <td>5368620111</td>\n",
       "      <td>[{'amount': '0.1', 'price': '3620.50', 'makerS...</td>\n",
       "      <td>108</td>\n",
       "      <td>2019-01-16 18:09:40</td>\n",
       "      <td>2019-01-16 18:09:40.469</td>\n",
       "      <td>change</td>\n",
       "      <td>2</td>\n",
       "      <td>0.611</td>\n",
       "      <td>-0.1</td>\n",
       "      <td>trade</td>\n",
       "      <td>3620.50</td>\n",
       "      <td>bid</td>\n",
       "      <td>3620.50</td>\n",
       "    </tr>\n",
       "  </tbody>\n",
       "</table>\n",
       "</div>"
      ],
      "text/plain": [
       "        eventId                                             events  \\\n",
       "37   5368619504  [{'amount': '0.45', 'price': '3620.42', 'maker...   \n",
       "107  5368620111  [{'amount': '0.1', 'price': '3620.50', 'makerS...   \n",
       "\n",
       "     socket_sequence           timestamp             timestampms    type  \\\n",
       "37                38 2019-01-16 18:09:37 2019-01-16 18:09:37.570  change   \n",
       "107              108 2019-01-16 18:09:40 2019-01-16 18:09:40.469  change   \n",
       "\n",
       "     num_events remaining  delta reason    price side  price_double  \n",
       "37            2     0.518  -0.45  trade  3620.42  bid       3620.42  \n",
       "107           2     0.611   -0.1  trade  3620.50  bid       3620.50  "
      ]
     },
     "execution_count": 50,
     "metadata": {},
     "output_type": "execute_result"
    }
   ],
   "source": [
    "trades.iloc[:2]"
   ]
  },
  {
   "cell_type": "code",
   "execution_count": 51,
   "metadata": {
    "collapsed": false
   },
   "outputs": [
    {
     "data": {
      "text/plain": [
       "3612.6399999999999"
      ]
     },
     "execution_count": 51,
     "metadata": {},
     "output_type": "execute_result"
    }
   ],
   "source": [
    "trades.sort_values(\"price_double\").price_double.round(3).iloc[0]"
   ]
  },
  {
   "cell_type": "code",
   "execution_count": 52,
   "metadata": {
    "collapsed": false
   },
   "outputs": [
    {
     "data": {
      "text/plain": [
       "7    10843\n",
       "Name: price, dtype: int64"
      ]
     },
     "execution_count": 52,
     "metadata": {},
     "output_type": "execute_result"
    }
   ],
   "source": [
    "all_updates_df.price.map(len).value_counts()"
   ]
  },
  {
   "cell_type": "code",
   "execution_count": 53,
   "metadata": {
    "collapsed": false
   },
   "outputs": [
    {
     "data": {
      "text/plain": [
       "1775"
      ]
     },
     "execution_count": 53,
     "metadata": {},
     "output_type": "execute_result"
    }
   ],
   "source": [
    "all_updates_df.price.nunique()"
   ]
  },
  {
   "cell_type": "code",
   "execution_count": 133,
   "metadata": {
    "collapsed": false
   },
   "outputs": [],
   "source": [
    "all_updates_rest_df = pd.concat([\n",
    "        all_updates_df[[\"price\", \"side\", \"timestampms\", \"remaining\", \"type\"]],\n",
    "        initial_interest]).reset_index().drop(columns = [\"index\"])"
   ]
  },
  {
   "cell_type": "code",
   "execution_count": 134,
   "metadata": {
    "collapsed": false
   },
   "outputs": [
    {
     "data": {
      "text/plain": [
       "(10843, 14)"
      ]
     },
     "execution_count": 134,
     "metadata": {},
     "output_type": "execute_result"
    }
   ],
   "source": [
    "all_updates_df.shape"
   ]
  },
  {
   "cell_type": "code",
   "execution_count": 135,
   "metadata": {
    "collapsed": false
   },
   "outputs": [
    {
     "data": {
      "text/plain": [
       "(3585, 3)"
      ]
     },
     "execution_count": 135,
     "metadata": {},
     "output_type": "execute_result"
    }
   ],
   "source": [
    "initial_interest.shape"
   ]
  },
  {
   "cell_type": "code",
   "execution_count": 136,
   "metadata": {
    "collapsed": false
   },
   "outputs": [
    {
     "data": {
      "text/plain": [
       "(14428, 5)"
      ]
     },
     "execution_count": 136,
     "metadata": {},
     "output_type": "execute_result"
    }
   ],
   "source": [
    "all_updates_rest_df.shape"
   ]
  },
  {
   "cell_type": "code",
   "execution_count": 137,
   "metadata": {
    "collapsed": false
   },
   "outputs": [],
   "source": [
    "all_updates_rest_df[\"fixed_timestampms\"] = all_updates_rest_df.timestampms.map(lambda x: x if pd.notnull(x) else all_updates_rest_df.timestampms.min())"
   ]
  },
  {
   "cell_type": "code",
   "execution_count": 138,
   "metadata": {
    "collapsed": true
   },
   "outputs": [],
   "source": [
    "all_updates_rest_df[\"fixed_type\"] = all_updates_rest_df[\"type\"].map(lambda x: x if pd.notnull(x) else \"change\")"
   ]
  },
  {
   "cell_type": "code",
   "execution_count": 139,
   "metadata": {
    "collapsed": false
   },
   "outputs": [],
   "source": [
    "all_updates_rest_df[\"price_padded\"] = all_updates_rest_df.price.str.pad(7, \"left\", \"0\")"
   ]
  },
  {
   "cell_type": "code",
   "execution_count": 140,
   "metadata": {
    "collapsed": true
   },
   "outputs": [],
   "source": [
    "trades_range = [\n",
    "    trades.price.str.pad(7, \"left\", \"0\").min(),\n",
    "    trades.price.str.pad(7, \"left\", \"0\").max()]"
   ]
  },
  {
   "cell_type": "code",
   "execution_count": 141,
   "metadata": {
    "collapsed": false
   },
   "outputs": [
    {
     "data": {
      "text/plain": [
       "change         14427\n",
       "block_trade        1\n",
       "Name: fixed_type, dtype: int64"
      ]
     },
     "execution_count": 141,
     "metadata": {},
     "output_type": "execute_result"
    }
   ],
   "source": [
    "all_updates_rest_df[\"fixed_type\"].value_counts()"
   ]
  },
  {
   "cell_type": "markdown",
   "metadata": {},
   "source": [
    "Exclude block trades"
   ]
  },
  {
   "cell_type": "code",
   "execution_count": 142,
   "metadata": {
    "collapsed": false
   },
   "outputs": [],
   "source": [
    "interest_changes = all_updates_rest_df[all_updates_rest_df[\"fixed_type\"] == \"change\"][[\"fixed_timestampms\", \"price_padded\", \"remaining\", \"side\"]]"
   ]
  },
  {
   "cell_type": "code",
   "execution_count": 143,
   "metadata": {
    "collapsed": false
   },
   "outputs": [
    {
     "data": {
      "text/plain": [
       "(14427, 4)"
      ]
     },
     "execution_count": 143,
     "metadata": {},
     "output_type": "execute_result"
    }
   ],
   "source": [
    "interest_changes.shape"
   ]
  },
  {
   "cell_type": "code",
   "execution_count": 144,
   "metadata": {
    "collapsed": false
   },
   "outputs": [],
   "source": [
    "interest_changes_in_trades_range = interest_changes[interest_changes.price_padded.between(*trades_range)]"
   ]
  },
  {
   "cell_type": "code",
   "execution_count": 145,
   "metadata": {
    "collapsed": false
   },
   "outputs": [
    {
     "data": {
      "text/plain": [
       "(6736, 4)"
      ]
     },
     "execution_count": 145,
     "metadata": {},
     "output_type": "execute_result"
    }
   ],
   "source": [
    "interest_changes_in_trades_range.shape"
   ]
  },
  {
   "cell_type": "code",
   "execution_count": 146,
   "metadata": {
    "collapsed": false
   },
   "outputs": [
    {
     "data": {
      "text/plain": [
       "fixed_timestampms    datetime64[ns]\n",
       "price_padded                 object\n",
       "remaining                    object\n",
       "side                         object\n",
       "dtype: object"
      ]
     },
     "execution_count": 146,
     "metadata": {},
     "output_type": "execute_result"
    }
   ],
   "source": [
    "interest_changes_in_trades_range.dtypes"
   ]
  },
  {
   "cell_type": "code",
   "execution_count": 149,
   "metadata": {
    "collapsed": false
   },
   "outputs": [
    {
     "name": "stderr",
     "output_type": "stream",
     "text": [
      "/home/gautam_sisodia/anaconda3/lib/python3.5/site-packages/ipykernel_launcher.py:3: SettingWithCopyWarning: \n",
      "A value is trying to be set on a copy of a slice from a DataFrame.\n",
      "Try using .loc[row_indexer,col_indexer] = value instead\n",
      "\n",
      "See the caveats in the documentation: http://pandas.pydata.org/pandas-docs/stable/indexing.html#indexing-view-versus-copy\n",
      "  This is separate from the ipykernel package so we can avoid doing imports until\n"
     ]
    }
   ],
   "source": [
    "interest_changes_in_trades_range[\"next_tim\"] = interest_changes_in_trades_range.sort_values(\n",
    "    \"fixed_timestampms\").groupby(\n",
    "    [\"price_padded\", \"side\"])[\"fixed_timestampms\"].shift(-1)"
   ]
  },
  {
   "cell_type": "code",
   "execution_count": 150,
   "metadata": {
    "collapsed": false
   },
   "outputs": [
    {
     "data": {
      "text/html": [
       "<div>\n",
       "<style scoped>\n",
       "    .dataframe tbody tr th:only-of-type {\n",
       "        vertical-align: middle;\n",
       "    }\n",
       "\n",
       "    .dataframe tbody tr th {\n",
       "        vertical-align: top;\n",
       "    }\n",
       "\n",
       "    .dataframe thead th {\n",
       "        text-align: right;\n",
       "    }\n",
       "</style>\n",
       "<table border=\"1\" class=\"dataframe\">\n",
       "  <thead>\n",
       "    <tr style=\"text-align: right;\">\n",
       "      <th></th>\n",
       "      <th>fixed_timestampms</th>\n",
       "      <th>price_padded</th>\n",
       "      <th>remaining</th>\n",
       "      <th>side</th>\n",
       "      <th>next_tim</th>\n",
       "    </tr>\n",
       "  </thead>\n",
       "  <tbody>\n",
       "    <tr>\n",
       "      <th>0</th>\n",
       "      <td>2019-01-16 18:09:35.932</td>\n",
       "      <td>3614.45</td>\n",
       "      <td>0</td>\n",
       "      <td>bid</td>\n",
       "      <td>2019-01-16 18:09:35.932</td>\n",
       "    </tr>\n",
       "    <tr>\n",
       "      <th>10</th>\n",
       "      <td>2019-01-16 18:09:36.331</td>\n",
       "      <td>3615.56</td>\n",
       "      <td>0.08</td>\n",
       "      <td>bid</td>\n",
       "      <td>2019-01-16 18:09:40.055</td>\n",
       "    </tr>\n",
       "    <tr>\n",
       "      <th>13</th>\n",
       "      <td>2019-01-16 18:09:36.470</td>\n",
       "      <td>3613.42</td>\n",
       "      <td>0.54</td>\n",
       "      <td>bid</td>\n",
       "      <td>2019-01-16 18:09:36.569</td>\n",
       "    </tr>\n",
       "    <tr>\n",
       "      <th>15</th>\n",
       "      <td>2019-01-16 18:09:36.546</td>\n",
       "      <td>3619.86</td>\n",
       "      <td>0</td>\n",
       "      <td>bid</td>\n",
       "      <td>NaT</td>\n",
       "    </tr>\n",
       "    <tr>\n",
       "      <th>16</th>\n",
       "      <td>2019-01-16 18:09:36.563</td>\n",
       "      <td>3619.54</td>\n",
       "      <td>6.8651</td>\n",
       "      <td>bid</td>\n",
       "      <td>2019-01-16 18:09:37.612</td>\n",
       "    </tr>\n",
       "    <tr>\n",
       "      <th>17</th>\n",
       "      <td>2019-01-16 18:09:36.569</td>\n",
       "      <td>3613.42</td>\n",
       "      <td>0.62</td>\n",
       "      <td>bid</td>\n",
       "      <td>2019-01-16 18:09:37.871</td>\n",
       "    </tr>\n",
       "    <tr>\n",
       "      <th>31</th>\n",
       "      <td>2019-01-16 18:09:37.209</td>\n",
       "      <td>3615.99</td>\n",
       "      <td>0.18</td>\n",
       "      <td>bid</td>\n",
       "      <td>2019-01-16 18:09:37.308</td>\n",
       "    </tr>\n",
       "    <tr>\n",
       "      <th>33</th>\n",
       "      <td>2019-01-16 18:09:37.308</td>\n",
       "      <td>3615.99</td>\n",
       "      <td>0.36</td>\n",
       "      <td>bid</td>\n",
       "      <td>2019-01-16 18:09:37.609</td>\n",
       "    </tr>\n",
       "    <tr>\n",
       "      <th>37</th>\n",
       "      <td>2019-01-16 18:09:37.570</td>\n",
       "      <td>3620.42</td>\n",
       "      <td>0.518</td>\n",
       "      <td>bid</td>\n",
       "      <td>2019-01-16 18:09:39.077</td>\n",
       "    </tr>\n",
       "    <tr>\n",
       "      <th>38</th>\n",
       "      <td>2019-01-16 18:09:37.609</td>\n",
       "      <td>3615.99</td>\n",
       "      <td>0.44</td>\n",
       "      <td>bid</td>\n",
       "      <td>2019-01-16 18:09:37.709</td>\n",
       "    </tr>\n",
       "  </tbody>\n",
       "</table>\n",
       "</div>"
      ],
      "text/plain": [
       "         fixed_timestampms price_padded remaining side                next_tim\n",
       "0  2019-01-16 18:09:35.932      3614.45         0  bid 2019-01-16 18:09:35.932\n",
       "10 2019-01-16 18:09:36.331      3615.56      0.08  bid 2019-01-16 18:09:40.055\n",
       "13 2019-01-16 18:09:36.470      3613.42      0.54  bid 2019-01-16 18:09:36.569\n",
       "15 2019-01-16 18:09:36.546      3619.86         0  bid                     NaT\n",
       "16 2019-01-16 18:09:36.563      3619.54    6.8651  bid 2019-01-16 18:09:37.612\n",
       "17 2019-01-16 18:09:36.569      3613.42      0.62  bid 2019-01-16 18:09:37.871\n",
       "31 2019-01-16 18:09:37.209      3615.99      0.18  bid 2019-01-16 18:09:37.308\n",
       "33 2019-01-16 18:09:37.308      3615.99      0.36  bid 2019-01-16 18:09:37.609\n",
       "37 2019-01-16 18:09:37.570      3620.42     0.518  bid 2019-01-16 18:09:39.077\n",
       "38 2019-01-16 18:09:37.609      3615.99      0.44  bid 2019-01-16 18:09:37.709"
      ]
     },
     "execution_count": 150,
     "metadata": {},
     "output_type": "execute_result"
    }
   ],
   "source": [
    "interest_changes_in_trades_range.iloc[:10]"
   ]
  },
  {
   "cell_type": "code",
   "execution_count": 151,
   "metadata": {
    "collapsed": false
   },
   "outputs": [
    {
     "data": {
      "text/html": [
       "<div>\n",
       "<style scoped>\n",
       "    .dataframe tbody tr th:only-of-type {\n",
       "        vertical-align: middle;\n",
       "    }\n",
       "\n",
       "    .dataframe tbody tr th {\n",
       "        vertical-align: top;\n",
       "    }\n",
       "\n",
       "    .dataframe thead th {\n",
       "        text-align: right;\n",
       "    }\n",
       "</style>\n",
       "<table border=\"1\" class=\"dataframe\">\n",
       "  <thead>\n",
       "    <tr style=\"text-align: right;\">\n",
       "      <th></th>\n",
       "      <th>fixed_timestampms</th>\n",
       "      <th>price_padded</th>\n",
       "      <th>remaining</th>\n",
       "      <th>side</th>\n",
       "      <th>next_tim</th>\n",
       "    </tr>\n",
       "  </thead>\n",
       "  <tbody>\n",
       "    <tr>\n",
       "      <th>0</th>\n",
       "      <td>2019-01-16 18:09:35.932</td>\n",
       "      <td>3614.45</td>\n",
       "      <td>0</td>\n",
       "      <td>bid</td>\n",
       "      <td>2019-01-16 18:09:35.932</td>\n",
       "    </tr>\n",
       "    <tr>\n",
       "      <th>7173</th>\n",
       "      <td>2019-01-16 18:19:33.636</td>\n",
       "      <td>3614.45</td>\n",
       "      <td>2</td>\n",
       "      <td>bid</td>\n",
       "      <td>2019-01-16 18:19:52.752</td>\n",
       "    </tr>\n",
       "    <tr>\n",
       "      <th>7331</th>\n",
       "      <td>2019-01-16 18:19:52.752</td>\n",
       "      <td>3614.45</td>\n",
       "      <td>0</td>\n",
       "      <td>bid</td>\n",
       "      <td>2019-01-16 18:24:50.302</td>\n",
       "    </tr>\n",
       "    <tr>\n",
       "      <th>9046</th>\n",
       "      <td>2019-01-16 18:24:50.302</td>\n",
       "      <td>3614.45</td>\n",
       "      <td>1.41370744</td>\n",
       "      <td>bid</td>\n",
       "      <td>2019-01-16 18:24:50.325</td>\n",
       "    </tr>\n",
       "    <tr>\n",
       "      <th>9052</th>\n",
       "      <td>2019-01-16 18:24:50.325</td>\n",
       "      <td>3614.45</td>\n",
       "      <td>0</td>\n",
       "      <td>bid</td>\n",
       "      <td>NaT</td>\n",
       "    </tr>\n",
       "    <tr>\n",
       "      <th>12694</th>\n",
       "      <td>2019-01-16 18:09:35.932</td>\n",
       "      <td>3614.45</td>\n",
       "      <td>0.04</td>\n",
       "      <td>bid</td>\n",
       "      <td>2019-01-16 18:19:33.636</td>\n",
       "    </tr>\n",
       "  </tbody>\n",
       "</table>\n",
       "</div>"
      ],
      "text/plain": [
       "            fixed_timestampms price_padded   remaining side  \\\n",
       "0     2019-01-16 18:09:35.932      3614.45           0  bid   \n",
       "7173  2019-01-16 18:19:33.636      3614.45           2  bid   \n",
       "7331  2019-01-16 18:19:52.752      3614.45           0  bid   \n",
       "9046  2019-01-16 18:24:50.302      3614.45  1.41370744  bid   \n",
       "9052  2019-01-16 18:24:50.325      3614.45           0  bid   \n",
       "12694 2019-01-16 18:09:35.932      3614.45        0.04  bid   \n",
       "\n",
       "                     next_tim  \n",
       "0     2019-01-16 18:09:35.932  \n",
       "7173  2019-01-16 18:19:52.752  \n",
       "7331  2019-01-16 18:24:50.302  \n",
       "9046  2019-01-16 18:24:50.325  \n",
       "9052                      NaT  \n",
       "12694 2019-01-16 18:19:33.636  "
      ]
     },
     "execution_count": 151,
     "metadata": {},
     "output_type": "execute_result"
    }
   ],
   "source": [
    "interest_changes_in_trades_range[interest_changes_in_trades_range.price_padded == \"3614.45\"]"
   ]
  },
  {
   "cell_type": "code",
   "execution_count": 152,
   "metadata": {
    "collapsed": false
   },
   "outputs": [
    {
     "data": {
      "text/plain": [
       "<matplotlib.axes._subplots.AxesSubplot at 0x7f66eaa9ec18>"
      ]
     },
     "execution_count": 152,
     "metadata": {},
     "output_type": "execute_result"
    },
    {
     "data": {
      "image/png": "[encoded data removed]",
      "text/plain": [
       "<matplotlib.figure.Figure at 0x7f66eaa9f6a0>"
      ]
     },
     "metadata": {
      "needs_background": "light"
     },
     "output_type": "display_data"
    }
   ],
   "source": [
    "interest_changes_in_trades_range.remaining.astype(\"float\").hist()"
   ]
  },
  {
   "cell_type": "code",
   "execution_count": 153,
   "metadata": {
    "collapsed": false
   },
   "outputs": [
    {
     "data": {
      "text/plain": [
       "<matplotlib.axes._subplots.AxesSubplot at 0x7f66eaa4f390>"
      ]
     },
     "execution_count": 153,
     "metadata": {},
     "output_type": "execute_result"
    },
    {
     "data": {
      "image/png": "[encoded data removed]",
      "text/plain": [
       "<matplotlib.figure.Figure at 0x7f66eaa46128>"
      ]
     },
     "metadata": {
      "needs_background": "light"
     },
     "output_type": "display_data"
    }
   ],
   "source": [
    "interest_changes_in_trades_range[interest_changes_in_trades_range.remaining.astype(\"float\") > 0].remaining.astype(\"float\").hist()"
   ]
  },
  {
   "cell_type": "code",
   "execution_count": 154,
   "metadata": {
    "collapsed": false
   },
   "outputs": [
    {
     "data": {
      "text/plain": [
       "<matplotlib.axes._subplots.AxesSubplot at 0x7f66eaa00c18>"
      ]
     },
     "execution_count": 154,
     "metadata": {},
     "output_type": "execute_result"
    },
    {
     "data": {
      "image/png": "[encoded data removed]",
      "text/plain": [
       "<matplotlib.figure.Figure at 0x7f66eaa0eef0>"
      ]
     },
     "metadata": {
      "needs_background": "light"
     },
     "output_type": "display_data"
    }
   ],
   "source": [
    "import numpy as np\n",
    "interest_changes_in_trades_range[interest_changes_in_trades_range.remaining.astype(\"float\") > 0].remaining.astype(\n",
    "    \"float\").map(\n",
    "    np.log10).hist(\n",
    "    bins = 20)"
   ]
  },
  {
   "cell_type": "markdown",
   "metadata": {},
   "source": [
    "Save interest change events"
   ]
  },
  {
   "cell_type": "code",
   "execution_count": 155,
   "metadata": {
    "collapsed": true
   },
   "outputs": [],
   "source": [
    "interest_changes_in_trades_range.to_json(\"gemini_interest.json\", orient = \"records\")"
   ]
  },
  {
   "cell_type": "markdown",
   "metadata": {},
   "source": [
    "Save trade events"
   ]
  },
  {
   "cell_type": "code",
   "execution_count": 156,
   "metadata": {
    "collapsed": false
   },
   "outputs": [],
   "source": [
    "all_updates_df[all_updates_df.reason == \"trade\"][[\"timestampms\", \"delta\", \"price\"]].to_json(\"gemini_trades.json\", orient = \"records\")"
   ]
  }
 ],
 "metadata": {
  "kernelspec": {
   "display_name": "Python 3",
   "language": "python",
   "name": "python3"
  },
  "language_info": {
   "codemirror_mode": {
    "name": "ipython",
    "version": 3
   },
   "file_extension": ".py",
   "mimetype": "text/x-python",
   "name": "python",
   "nbconvert_exporter": "python",
   "pygments_lexer": "ipython3",
   "version": "3.5.4"
  }
 },
 "nbformat": 4,
 "nbformat_minor": 2
}
