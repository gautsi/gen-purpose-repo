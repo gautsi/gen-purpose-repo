{
 "cells": [
  {
   "cell_type": "markdown",
   "metadata": {},
   "source": [
    "# Formatting Gemini Data\n",
    "## Ver 2\n",
    "Formatting Gemini data for input into d3 dashboard"
   ]
  },
  {
   "cell_type": "code",
   "execution_count": 1,
   "metadata": {
    "collapsed": true
   },
   "outputs": [],
   "source": [
    "import pandas as pd\n",
    "from tqdm import tqdm"
   ]
  },
  {
   "cell_type": "markdown",
   "metadata": {},
   "source": [
    "Read in gemini data"
   ]
  },
  {
   "cell_type": "code",
   "execution_count": 2,
   "metadata": {
    "collapsed": false
   },
   "outputs": [
    {
     "name": "stdout",
     "output_type": "stream",
     "text": [
      "CPU times: user 3.66 ms, sys: 5.25 ms, total: 8.91 ms\n",
      "Wall time: 155 ms\n"
     ]
    }
   ],
   "source": [
    "%%time\n",
    "with open(\"./gemini_pull_2019_01_16_18_07_06.txt\", \"r\") as file:\n",
    "    gemini = file.read()"
   ]
  },
  {
   "cell_type": "markdown",
   "metadata": {},
   "source": [
    "Separate messages"
   ]
  },
  {
   "cell_type": "code",
   "execution_count": 3,
   "metadata": {
    "collapsed": false
   },
   "outputs": [
    {
     "name": "stdout",
     "output_type": "stream",
     "text": [
      "CPU times: user 10.2 ms, sys: 4.22 ms, total: 14.4 ms\n",
      "Wall time: 14.6 ms\n"
     ]
    }
   ],
   "source": [
    "%%time\n",
    "gemini_list = gemini.replace(\"}{\", \"}\\n{\").split(\"\\n\")"
   ]
  },
  {
   "cell_type": "code",
   "execution_count": 4,
   "metadata": {
    "collapsed": false
   },
   "outputs": [
    {
     "data": {
      "text/plain": [
       "10844"
      ]
     },
     "execution_count": 4,
     "metadata": {},
     "output_type": "execute_result"
    }
   ],
   "source": [
    "len(gemini_list)"
   ]
  },
  {
   "cell_type": "markdown",
   "metadata": {},
   "source": [
    "The first message is larger, gives remaining interest for all price points at the time of socket open"
   ]
  },
  {
   "cell_type": "code",
   "execution_count": 5,
   "metadata": {
    "collapsed": false
   },
   "outputs": [
    {
     "data": {
      "text/plain": [
       "[386154, 219, 222, 220, 226, 224, 222, 220, 222, 219]"
      ]
     },
     "execution_count": 5,
     "metadata": {},
     "output_type": "execute_result"
    }
   ],
   "source": [
    "[len(i) for i in gemini_list[:10]]"
   ]
  },
  {
   "cell_type": "code",
   "execution_count": 6,
   "metadata": {
    "collapsed": true
   },
   "outputs": [],
   "source": [
    "first_msg = gemini_list[0]"
   ]
  },
  {
   "cell_type": "code",
   "execution_count": 7,
   "metadata": {
    "collapsed": false
   },
   "outputs": [
    {
     "data": {
      "text/plain": [
       "'{\"type\":\"update\",\"eventId\":5368619062,\"socket_sequence\":0,\"events\":[{\"type\":\"change\",\"reason\":\"initial\",\"price\":\"0.01\",\"delta\":\"191642.102\",\"remaining\":\"191642.102\",\"side\":\"bid\"},{\"type\":\"change\",\"reason\":\"initial\",\"price\":\"0.02\",\"delta\":\"22959.5\",\"remaining\":\"22959.5\",\"side\":\"bid\"},{\"type\":\"change\",\"reason\":\"initial\",\"price\":\"0.03\",\"delta\":\"33\",\"remaining\":\"33\",\"side\":\"bid\"},{\"type\":\"change\",\"rea'"
      ]
     },
     "execution_count": 7,
     "metadata": {},
     "output_type": "execute_result"
    }
   ],
   "source": [
    "first_msg[:400]"
   ]
  },
  {
   "cell_type": "code",
   "execution_count": 8,
   "metadata": {
    "collapsed": true
   },
   "outputs": [],
   "source": [
    "first_message_df = pd.read_json(gemini_list[0])"
   ]
  },
  {
   "cell_type": "code",
   "execution_count": 9,
   "metadata": {
    "collapsed": false
   },
   "outputs": [
    {
     "data": {
      "text/html": [
       "<div>\n",
       "<style scoped>\n",
       "    .dataframe tbody tr th:only-of-type {\n",
       "        vertical-align: middle;\n",
       "    }\n",
       "\n",
       "    .dataframe tbody tr th {\n",
       "        vertical-align: top;\n",
       "    }\n",
       "\n",
       "    .dataframe thead th {\n",
       "        text-align: right;\n",
       "    }\n",
       "</style>\n",
       "<table border=\"1\" class=\"dataframe\">\n",
       "  <thead>\n",
       "    <tr style=\"text-align: right;\">\n",
       "      <th></th>\n",
       "      <th>eventId</th>\n",
       "      <th>events</th>\n",
       "      <th>socket_sequence</th>\n",
       "      <th>type</th>\n",
       "    </tr>\n",
       "  </thead>\n",
       "  <tbody>\n",
       "    <tr>\n",
       "      <th>0</th>\n",
       "      <td>5368619062</td>\n",
       "      <td>{'remaining': '191642.102', 'price': '0.01', '...</td>\n",
       "      <td>0</td>\n",
       "      <td>update</td>\n",
       "    </tr>\n",
       "    <tr>\n",
       "      <th>1</th>\n",
       "      <td>5368619062</td>\n",
       "      <td>{'remaining': '22959.5', 'price': '0.02', 'del...</td>\n",
       "      <td>0</td>\n",
       "      <td>update</td>\n",
       "    </tr>\n",
       "    <tr>\n",
       "      <th>2</th>\n",
       "      <td>5368619062</td>\n",
       "      <td>{'remaining': '33', 'price': '0.03', 'delta': ...</td>\n",
       "      <td>0</td>\n",
       "      <td>update</td>\n",
       "    </tr>\n",
       "    <tr>\n",
       "      <th>3</th>\n",
       "      <td>5368619062</td>\n",
       "      <td>{'remaining': '0.00055', 'price': '0.04', 'del...</td>\n",
       "      <td>0</td>\n",
       "      <td>update</td>\n",
       "    </tr>\n",
       "    <tr>\n",
       "      <th>4</th>\n",
       "      <td>5368619062</td>\n",
       "      <td>{'remaining': '3693', 'price': '0.05', 'delta'...</td>\n",
       "      <td>0</td>\n",
       "      <td>update</td>\n",
       "    </tr>\n",
       "  </tbody>\n",
       "</table>\n",
       "</div>"
      ],
      "text/plain": [
       "      eventId                                             events  \\\n",
       "0  5368619062  {'remaining': '191642.102', 'price': '0.01', '...   \n",
       "1  5368619062  {'remaining': '22959.5', 'price': '0.02', 'del...   \n",
       "2  5368619062  {'remaining': '33', 'price': '0.03', 'delta': ...   \n",
       "3  5368619062  {'remaining': '0.00055', 'price': '0.04', 'del...   \n",
       "4  5368619062  {'remaining': '3693', 'price': '0.05', 'delta'...   \n",
       "\n",
       "   socket_sequence    type  \n",
       "0                0  update  \n",
       "1                0  update  \n",
       "2                0  update  \n",
       "3                0  update  \n",
       "4                0  update  "
      ]
     },
     "execution_count": 9,
     "metadata": {},
     "output_type": "execute_result"
    }
   ],
   "source": [
    "first_message_df.head()"
   ]
  },
  {
   "cell_type": "code",
   "execution_count": 10,
   "metadata": {
    "collapsed": true
   },
   "outputs": [],
   "source": [
    "event_keys = first_message_df[\"events\"].iloc[0].keys()"
   ]
  },
  {
   "cell_type": "code",
   "execution_count": 11,
   "metadata": {
    "collapsed": true
   },
   "outputs": [],
   "source": [
    "for i in event_keys:\n",
    "    first_message_df[i] = first_message_df[\"events\"].map(lambda x: x[i])"
   ]
  },
  {
   "cell_type": "code",
   "execution_count": 12,
   "metadata": {
    "collapsed": false
   },
   "outputs": [
    {
     "data": {
      "text/html": [
       "<div>\n",
       "<style scoped>\n",
       "    .dataframe tbody tr th:only-of-type {\n",
       "        vertical-align: middle;\n",
       "    }\n",
       "\n",
       "    .dataframe tbody tr th {\n",
       "        vertical-align: top;\n",
       "    }\n",
       "\n",
       "    .dataframe thead th {\n",
       "        text-align: right;\n",
       "    }\n",
       "</style>\n",
       "<table border=\"1\" class=\"dataframe\">\n",
       "  <thead>\n",
       "    <tr style=\"text-align: right;\">\n",
       "      <th></th>\n",
       "      <th>eventId</th>\n",
       "      <th>events</th>\n",
       "      <th>socket_sequence</th>\n",
       "      <th>type</th>\n",
       "      <th>remaining</th>\n",
       "      <th>price</th>\n",
       "      <th>delta</th>\n",
       "      <th>reason</th>\n",
       "      <th>side</th>\n",
       "    </tr>\n",
       "  </thead>\n",
       "  <tbody>\n",
       "    <tr>\n",
       "      <th>0</th>\n",
       "      <td>5368619062</td>\n",
       "      <td>{'remaining': '191642.102', 'price': '0.01', '...</td>\n",
       "      <td>0</td>\n",
       "      <td>change</td>\n",
       "      <td>191642.102</td>\n",
       "      <td>0.01</td>\n",
       "      <td>191642.102</td>\n",
       "      <td>initial</td>\n",
       "      <td>bid</td>\n",
       "    </tr>\n",
       "    <tr>\n",
       "      <th>1</th>\n",
       "      <td>5368619062</td>\n",
       "      <td>{'remaining': '22959.5', 'price': '0.02', 'del...</td>\n",
       "      <td>0</td>\n",
       "      <td>change</td>\n",
       "      <td>22959.5</td>\n",
       "      <td>0.02</td>\n",
       "      <td>22959.5</td>\n",
       "      <td>initial</td>\n",
       "      <td>bid</td>\n",
       "    </tr>\n",
       "    <tr>\n",
       "      <th>2</th>\n",
       "      <td>5368619062</td>\n",
       "      <td>{'remaining': '33', 'price': '0.03', 'delta': ...</td>\n",
       "      <td>0</td>\n",
       "      <td>change</td>\n",
       "      <td>33</td>\n",
       "      <td>0.03</td>\n",
       "      <td>33</td>\n",
       "      <td>initial</td>\n",
       "      <td>bid</td>\n",
       "    </tr>\n",
       "    <tr>\n",
       "      <th>3</th>\n",
       "      <td>5368619062</td>\n",
       "      <td>{'remaining': '0.00055', 'price': '0.04', 'del...</td>\n",
       "      <td>0</td>\n",
       "      <td>change</td>\n",
       "      <td>0.00055</td>\n",
       "      <td>0.04</td>\n",
       "      <td>0.00055</td>\n",
       "      <td>initial</td>\n",
       "      <td>bid</td>\n",
       "    </tr>\n",
       "    <tr>\n",
       "      <th>4</th>\n",
       "      <td>5368619062</td>\n",
       "      <td>{'remaining': '3693', 'price': '0.05', 'delta'...</td>\n",
       "      <td>0</td>\n",
       "      <td>change</td>\n",
       "      <td>3693</td>\n",
       "      <td>0.05</td>\n",
       "      <td>3693</td>\n",
       "      <td>initial</td>\n",
       "      <td>bid</td>\n",
       "    </tr>\n",
       "  </tbody>\n",
       "</table>\n",
       "</div>"
      ],
      "text/plain": [
       "      eventId                                             events  \\\n",
       "0  5368619062  {'remaining': '191642.102', 'price': '0.01', '...   \n",
       "1  5368619062  {'remaining': '22959.5', 'price': '0.02', 'del...   \n",
       "2  5368619062  {'remaining': '33', 'price': '0.03', 'delta': ...   \n",
       "3  5368619062  {'remaining': '0.00055', 'price': '0.04', 'del...   \n",
       "4  5368619062  {'remaining': '3693', 'price': '0.05', 'delta'...   \n",
       "\n",
       "   socket_sequence    type   remaining price       delta   reason side  \n",
       "0                0  change  191642.102  0.01  191642.102  initial  bid  \n",
       "1                0  change     22959.5  0.02     22959.5  initial  bid  \n",
       "2                0  change          33  0.03          33  initial  bid  \n",
       "3                0  change     0.00055  0.04     0.00055  initial  bid  \n",
       "4                0  change        3693  0.05        3693  initial  bid  "
      ]
     },
     "execution_count": 12,
     "metadata": {},
     "output_type": "execute_result"
    }
   ],
   "source": [
    "first_message_df.head()"
   ]
  },
  {
   "cell_type": "markdown",
   "metadata": {},
   "source": [
    "each price shows up once:"
   ]
  },
  {
   "cell_type": "code",
   "execution_count": 13,
   "metadata": {
    "collapsed": false
   },
   "outputs": [
    {
     "data": {
      "text/plain": [
       "3452.70     1\n",
       "7817.39     1\n",
       "3800.00     1\n",
       "13824.00    1\n",
       "3329.29     1\n",
       "Name: price, dtype: int64"
      ]
     },
     "execution_count": 13,
     "metadata": {},
     "output_type": "execute_result"
    }
   ],
   "source": [
    "first_message_df.price.value_counts().head()"
   ]
  },
  {
   "cell_type": "markdown",
   "metadata": {},
   "source": [
    "delta always equals remaining:"
   ]
  },
  {
   "cell_type": "code",
   "execution_count": 14,
   "metadata": {
    "collapsed": false
   },
   "outputs": [
    {
     "data": {
      "text/plain": [
       "0"
      ]
     },
     "execution_count": 14,
     "metadata": {},
     "output_type": "execute_result"
    }
   ],
   "source": [
    "len(first_message_df[first_message_df.remaining != first_message_df.delta])"
   ]
  },
  {
   "cell_type": "code",
   "execution_count": 15,
   "metadata": {
    "collapsed": true
   },
   "outputs": [],
   "source": [
    "initial_interest = first_message_df[[\"side\", \"price\", \"remaining\"]].drop_duplicates()"
   ]
  },
  {
   "cell_type": "code",
   "execution_count": 16,
   "metadata": {
    "collapsed": false
   },
   "outputs": [
    {
     "data": {
      "text/plain": [
       "3585"
      ]
     },
     "execution_count": 16,
     "metadata": {},
     "output_type": "execute_result"
    }
   ],
   "source": [
    "len(initial_interest)"
   ]
  },
  {
   "cell_type": "code",
   "execution_count": 17,
   "metadata": {
    "collapsed": false
   },
   "outputs": [
    {
     "data": {
      "text/plain": [
       "'{\"type\":\"update\",\"eventId\":5368619071,\"timestamp\":1547662175,\"timestampms\":1547662175932,\"socket_sequence\":1,\"events\":[{\"type\":\"change\",\"side\":\"bid\",\"price\":\"3614.45\",\"remaining\":\"0\",\"delta\":\"-0.04\",\"reason\":\"cancel\"}]}'"
      ]
     },
     "execution_count": 17,
     "metadata": {},
     "output_type": "execute_result"
    }
   ],
   "source": [
    "gemini_list[1]"
   ]
  },
  {
   "cell_type": "code",
   "execution_count": 18,
   "metadata": {
    "collapsed": false
   },
   "outputs": [
    {
     "name": "stdout",
     "output_type": "stream",
     "text": [
      "CPU times: user 0 ns, sys: 2.71 ms, total: 2.71 ms\n",
      "Wall time: 2.73 ms\n"
     ]
    }
   ],
   "source": [
    "%%time\n",
    "update_str = \", \".join(gemini_list[1:])"
   ]
  },
  {
   "cell_type": "code",
   "execution_count": 19,
   "metadata": {
    "collapsed": false
   },
   "outputs": [
    {
     "name": "stdout",
     "output_type": "stream",
     "text": [
      "CPU times: user 125 ms, sys: 20.8 ms, total: 146 ms\n",
      "Wall time: 148 ms\n"
     ]
    }
   ],
   "source": [
    "%%time\n",
    "all_updates_df = pd.read_json(\"[{}]\".format(update_str))"
   ]
  },
  {
   "cell_type": "code",
   "execution_count": 20,
   "metadata": {
    "collapsed": false
   },
   "outputs": [
    {
     "name": "stdout",
     "output_type": "stream",
     "text": [
      "CPU times: user 1.84 ms, sys: 4.21 ms, total: 6.06 ms\n",
      "Wall time: 6.25 ms\n"
     ]
    }
   ],
   "source": [
    "%%time\n",
    "all_updates_df[\"num_events\"] = all_updates_df.events.map(len)"
   ]
  },
  {
   "cell_type": "code",
   "execution_count": 22,
   "metadata": {
    "collapsed": false
   },
   "outputs": [
    {
     "name": "stderr",
     "output_type": "stream",
     "text": [
      "100%|██████████| 6/6 [00:00<00:00, 62.23it/s]\n"
     ]
    }
   ],
   "source": [
    "for i in tqdm(event_keys):\n",
    "    all_updates_df[i] = all_updates_df[\"events\"].map(lambda x: x[-1][i] if i in x[-1].keys() else \"missing\")"
   ]
  },
  {
   "cell_type": "code",
   "execution_count": 23,
   "metadata": {
    "collapsed": true
   },
   "outputs": [],
   "source": [
    "all_updates_df[\"price_double\"] = all_updates_df.price.astype(\"double\").round(2)"
   ]
  },
  {
   "cell_type": "code",
   "execution_count": 24,
   "metadata": {
    "collapsed": false
   },
   "outputs": [
    {
     "data": {
      "text/plain": [
       "1    10645\n",
       "2      198\n",
       "Name: num_events, dtype: int64"
      ]
     },
     "execution_count": 24,
     "metadata": {},
     "output_type": "execute_result"
    }
   ],
   "source": [
    "all_updates_df.num_events.value_counts()"
   ]
  },
  {
   "cell_type": "code",
   "execution_count": 25,
   "metadata": {
    "collapsed": true
   },
   "outputs": [],
   "source": [
    "trades = all_updates_df[all_updates_df.num_events == 2]"
   ]
  },
  {
   "cell_type": "code",
   "execution_count": 26,
   "metadata": {
    "collapsed": false
   },
   "outputs": [
    {
     "data": {
      "text/html": [
       "<div>\n",
       "<style scoped>\n",
       "    .dataframe tbody tr th:only-of-type {\n",
       "        vertical-align: middle;\n",
       "    }\n",
       "\n",
       "    .dataframe tbody tr th {\n",
       "        vertical-align: top;\n",
       "    }\n",
       "\n",
       "    .dataframe thead th {\n",
       "        text-align: right;\n",
       "    }\n",
       "</style>\n",
       "<table border=\"1\" class=\"dataframe\">\n",
       "  <thead>\n",
       "    <tr style=\"text-align: right;\">\n",
       "      <th></th>\n",
       "      <th>eventId</th>\n",
       "      <th>events</th>\n",
       "      <th>socket_sequence</th>\n",
       "      <th>timestamp</th>\n",
       "      <th>timestampms</th>\n",
       "      <th>type</th>\n",
       "      <th>num_events</th>\n",
       "      <th>remaining</th>\n",
       "      <th>price</th>\n",
       "      <th>delta</th>\n",
       "      <th>reason</th>\n",
       "      <th>side</th>\n",
       "      <th>price_double</th>\n",
       "    </tr>\n",
       "  </thead>\n",
       "  <tbody>\n",
       "    <tr>\n",
       "      <th>37</th>\n",
       "      <td>5368619504</td>\n",
       "      <td>[{'price': '3620.42', 'amount': '0.45', 'tid':...</td>\n",
       "      <td>38</td>\n",
       "      <td>2019-01-16 18:09:37</td>\n",
       "      <td>2019-01-16 18:09:37.570</td>\n",
       "      <td>change</td>\n",
       "      <td>2</td>\n",
       "      <td>0.518</td>\n",
       "      <td>3620.42</td>\n",
       "      <td>-0.45</td>\n",
       "      <td>trade</td>\n",
       "      <td>bid</td>\n",
       "      <td>3620.42</td>\n",
       "    </tr>\n",
       "    <tr>\n",
       "      <th>107</th>\n",
       "      <td>5368620111</td>\n",
       "      <td>[{'price': '3620.50', 'amount': '0.1', 'tid': ...</td>\n",
       "      <td>108</td>\n",
       "      <td>2019-01-16 18:09:40</td>\n",
       "      <td>2019-01-16 18:09:40.469</td>\n",
       "      <td>change</td>\n",
       "      <td>2</td>\n",
       "      <td>0.611</td>\n",
       "      <td>3620.50</td>\n",
       "      <td>-0.1</td>\n",
       "      <td>trade</td>\n",
       "      <td>bid</td>\n",
       "      <td>3620.50</td>\n",
       "    </tr>\n",
       "  </tbody>\n",
       "</table>\n",
       "</div>"
      ],
      "text/plain": [
       "        eventId                                             events  \\\n",
       "37   5368619504  [{'price': '3620.42', 'amount': '0.45', 'tid':...   \n",
       "107  5368620111  [{'price': '3620.50', 'amount': '0.1', 'tid': ...   \n",
       "\n",
       "     socket_sequence           timestamp             timestampms    type  \\\n",
       "37                38 2019-01-16 18:09:37 2019-01-16 18:09:37.570  change   \n",
       "107              108 2019-01-16 18:09:40 2019-01-16 18:09:40.469  change   \n",
       "\n",
       "     num_events remaining    price  delta reason side  price_double  \n",
       "37            2     0.518  3620.42  -0.45  trade  bid       3620.42  \n",
       "107           2     0.611  3620.50   -0.1  trade  bid       3620.50  "
      ]
     },
     "execution_count": 26,
     "metadata": {},
     "output_type": "execute_result"
    }
   ],
   "source": [
    "trades.iloc[:2]"
   ]
  },
  {
   "cell_type": "code",
   "execution_count": 27,
   "metadata": {
    "collapsed": false
   },
   "outputs": [
    {
     "data": {
      "text/plain": [
       "3612.6399999999999"
      ]
     },
     "execution_count": 27,
     "metadata": {},
     "output_type": "execute_result"
    }
   ],
   "source": [
    "trades.sort_values(\"price_double\").price_double.round(3).iloc[0]"
   ]
  },
  {
   "cell_type": "code",
   "execution_count": 28,
   "metadata": {
    "collapsed": false
   },
   "outputs": [
    {
     "data": {
      "text/plain": [
       "7    10843\n",
       "Name: price, dtype: int64"
      ]
     },
     "execution_count": 28,
     "metadata": {},
     "output_type": "execute_result"
    }
   ],
   "source": [
    "all_updates_df.price.map(len).value_counts()"
   ]
  },
  {
   "cell_type": "code",
   "execution_count": 29,
   "metadata": {
    "collapsed": false
   },
   "outputs": [
    {
     "data": {
      "text/plain": [
       "1775"
      ]
     },
     "execution_count": 29,
     "metadata": {},
     "output_type": "execute_result"
    }
   ],
   "source": [
    "all_updates_df.price.nunique()"
   ]
  },
  {
   "cell_type": "code",
   "execution_count": 30,
   "metadata": {
    "collapsed": false
   },
   "outputs": [],
   "source": [
    "all_updates_rest_df = pd.concat([\n",
    "        all_updates_df[[\"price\", \"side\", \"timestampms\", \"remaining\", \"type\", \"socket_sequence\"]],\n",
    "        initial_interest]).reset_index().drop(columns = [\"index\"])"
   ]
  },
  {
   "cell_type": "code",
   "execution_count": 33,
   "metadata": {
    "collapsed": false
   },
   "outputs": [
    {
     "data": {
      "text/plain": [
       "(10843, 13)"
      ]
     },
     "execution_count": 33,
     "metadata": {},
     "output_type": "execute_result"
    }
   ],
   "source": [
    "all_updates_df.shape"
   ]
  },
  {
   "cell_type": "code",
   "execution_count": 34,
   "metadata": {
    "collapsed": false
   },
   "outputs": [
    {
     "data": {
      "text/plain": [
       "(3585, 3)"
      ]
     },
     "execution_count": 34,
     "metadata": {},
     "output_type": "execute_result"
    }
   ],
   "source": [
    "initial_interest.shape"
   ]
  },
  {
   "cell_type": "code",
   "execution_count": 35,
   "metadata": {
    "collapsed": false
   },
   "outputs": [
    {
     "data": {
      "text/plain": [
       "(14428, 6)"
      ]
     },
     "execution_count": 35,
     "metadata": {},
     "output_type": "execute_result"
    }
   ],
   "source": [
    "all_updates_rest_df.shape"
   ]
  },
  {
   "cell_type": "code",
   "execution_count": 36,
   "metadata": {
    "collapsed": false
   },
   "outputs": [],
   "source": [
    "all_updates_rest_df[\"fixed_timestampms\"] = all_updates_rest_df.timestampms.map(lambda x: x if pd.notnull(x) else all_updates_rest_df.timestampms.min())"
   ]
  },
  {
   "cell_type": "code",
   "execution_count": 37,
   "metadata": {
    "collapsed": true
   },
   "outputs": [],
   "source": [
    "all_updates_rest_df[\"fixed_type\"] = all_updates_rest_df[\"type\"].map(lambda x: x if pd.notnull(x) else \"change\")"
   ]
  },
  {
   "cell_type": "code",
   "execution_count": 40,
   "metadata": {
    "collapsed": false
   },
   "outputs": [],
   "source": [
    "all_updates_rest_df[\"fixed_socket_sequence\"] = all_updates_rest_df[\"socket_sequence\"].map(lambda x: x if pd.notnull(x) else 0)"
   ]
  },
  {
   "cell_type": "markdown",
   "metadata": {},
   "source": [
    "In case of multiple events at the same price/side/type and time, take the latest event"
   ]
  },
  {
   "cell_type": "code",
   "execution_count": 63,
   "metadata": {
    "collapsed": true
   },
   "outputs": [],
   "source": [
    "num_events = all_updates_rest_df.groupby([\"price\", \"side\", \"fixed_type\", \"fixed_timestampms\"], as_index = False)[\"fixed_socket_sequence\"].count()"
   ]
  },
  {
   "cell_type": "code",
   "execution_count": 64,
   "metadata": {
    "collapsed": false
   },
   "outputs": [
    {
     "data": {
      "text/html": [
       "<div>\n",
       "<style scoped>\n",
       "    .dataframe tbody tr th:only-of-type {\n",
       "        vertical-align: middle;\n",
       "    }\n",
       "\n",
       "    .dataframe tbody tr th {\n",
       "        vertical-align: top;\n",
       "    }\n",
       "\n",
       "    .dataframe thead th {\n",
       "        text-align: right;\n",
       "    }\n",
       "</style>\n",
       "<table border=\"1\" class=\"dataframe\">\n",
       "  <thead>\n",
       "    <tr style=\"text-align: right;\">\n",
       "      <th></th>\n",
       "      <th>price</th>\n",
       "      <th>side</th>\n",
       "      <th>fixed_type</th>\n",
       "      <th>fixed_timestampms</th>\n",
       "      <th>fixed_socket_sequence</th>\n",
       "    </tr>\n",
       "  </thead>\n",
       "  <tbody>\n",
       "    <tr>\n",
       "      <th>10128</th>\n",
       "      <td>3621.01</td>\n",
       "      <td>bid</td>\n",
       "      <td>change</td>\n",
       "      <td>2019-01-16 18:12:24.796</td>\n",
       "      <td>2</td>\n",
       "    </tr>\n",
       "    <tr>\n",
       "      <th>5581</th>\n",
       "      <td>3614.71</td>\n",
       "      <td>bid</td>\n",
       "      <td>change</td>\n",
       "      <td>2019-01-16 18:31:12.523</td>\n",
       "      <td>2</td>\n",
       "    </tr>\n",
       "    <tr>\n",
       "      <th>3168</th>\n",
       "      <td>3608.51</td>\n",
       "      <td>bid</td>\n",
       "      <td>change</td>\n",
       "      <td>2019-01-16 18:13:19.965</td>\n",
       "      <td>2</td>\n",
       "    </tr>\n",
       "    <tr>\n",
       "      <th>3172</th>\n",
       "      <td>3608.51</td>\n",
       "      <td>bid</td>\n",
       "      <td>change</td>\n",
       "      <td>2019-01-16 18:13:20.366</td>\n",
       "      <td>2</td>\n",
       "    </tr>\n",
       "    <tr>\n",
       "      <th>3173</th>\n",
       "      <td>3608.51</td>\n",
       "      <td>bid</td>\n",
       "      <td>change</td>\n",
       "      <td>2019-01-16 18:13:20.466</td>\n",
       "      <td>2</td>\n",
       "    </tr>\n",
       "  </tbody>\n",
       "</table>\n",
       "</div>"
      ],
      "text/plain": [
       "         price side fixed_type       fixed_timestampms  fixed_socket_sequence\n",
       "10128  3621.01  bid     change 2019-01-16 18:12:24.796                      2\n",
       "5581   3614.71  bid     change 2019-01-16 18:31:12.523                      2\n",
       "3168   3608.51  bid     change 2019-01-16 18:13:19.965                      2\n",
       "3172   3608.51  bid     change 2019-01-16 18:13:20.366                      2\n",
       "3173   3608.51  bid     change 2019-01-16 18:13:20.466                      2"
      ]
     },
     "execution_count": 64,
     "metadata": {},
     "output_type": "execute_result"
    }
   ],
   "source": [
    "num_events.sort_values(\"fixed_socket_sequence\", ascending = False).head()"
   ]
  },
  {
   "cell_type": "code",
   "execution_count": 65,
   "metadata": {
    "collapsed": true
   },
   "outputs": [],
   "source": [
    "max_socket_sequence = all_updates_rest_df.groupby(\n",
    "    [\"price\", \"side\", \"fixed_type\", \"fixed_timestampms\"], as_index = False)[\"fixed_socket_sequence\"].max()"
   ]
  },
  {
   "cell_type": "code",
   "execution_count": 67,
   "metadata": {
    "collapsed": false
   },
   "outputs": [],
   "source": [
    "all_updates_rest_sing_df = all_updates_rest_df.merge(\n",
    "    right = max_socket_sequence,\n",
    "    on = [\"price\", \"side\", \"fixed_type\", \"fixed_timestampms\", \"fixed_socket_sequence\"],\n",
    "    how = \"inner\")"
   ]
  },
  {
   "cell_type": "code",
   "execution_count": 68,
   "metadata": {
    "collapsed": false
   },
   "outputs": [
    {
     "data": {
      "text/plain": [
       "(14428, 10)"
      ]
     },
     "execution_count": 68,
     "metadata": {},
     "output_type": "execute_result"
    }
   ],
   "source": [
    "all_updates_rest_df.shape"
   ]
  },
  {
   "cell_type": "code",
   "execution_count": 69,
   "metadata": {
    "collapsed": false
   },
   "outputs": [
    {
     "data": {
      "text/plain": [
       "(14399, 10)"
      ]
     },
     "execution_count": 69,
     "metadata": {},
     "output_type": "execute_result"
    }
   ],
   "source": [
    "all_updates_rest_sing_df.shape"
   ]
  },
  {
   "cell_type": "code",
   "execution_count": 70,
   "metadata": {
    "collapsed": false
   },
   "outputs": [],
   "source": [
    "all_updates_rest_sing_df[\"price_padded\"] = all_updates_rest_sing_df.price.str.pad(7, \"left\", \"0\")"
   ]
  },
  {
   "cell_type": "code",
   "execution_count": 71,
   "metadata": {
    "collapsed": true
   },
   "outputs": [],
   "source": [
    "trades_range = [\n",
    "    trades.price.str.pad(7, \"left\", \"0\").min(),\n",
    "    trades.price.str.pad(7, \"left\", \"0\").max()]"
   ]
  },
  {
   "cell_type": "code",
   "execution_count": 72,
   "metadata": {
    "collapsed": false
   },
   "outputs": [
    {
     "data": {
      "text/plain": [
       "change         14398\n",
       "block_trade        1\n",
       "Name: fixed_type, dtype: int64"
      ]
     },
     "execution_count": 72,
     "metadata": {},
     "output_type": "execute_result"
    }
   ],
   "source": [
    "all_updates_rest_sing_df[\"fixed_type\"].value_counts()"
   ]
  },
  {
   "cell_type": "markdown",
   "metadata": {},
   "source": [
    "Exclude block trades"
   ]
  },
  {
   "cell_type": "code",
   "execution_count": 73,
   "metadata": {
    "collapsed": false
   },
   "outputs": [],
   "source": [
    "interest_changes = all_updates_rest_sing_df[\n",
    "    all_updates_rest_sing_df[\"fixed_type\"] == \"change\"][[\n",
    "        \"fixed_timestampms\", \"price_padded\", \"remaining\", \"side\"]]"
   ]
  },
  {
   "cell_type": "code",
   "execution_count": 74,
   "metadata": {
    "collapsed": false
   },
   "outputs": [
    {
     "data": {
      "text/plain": [
       "(14398, 4)"
      ]
     },
     "execution_count": 74,
     "metadata": {},
     "output_type": "execute_result"
    }
   ],
   "source": [
    "interest_changes.shape"
   ]
  },
  {
   "cell_type": "code",
   "execution_count": 75,
   "metadata": {
    "collapsed": false
   },
   "outputs": [],
   "source": [
    "interest_changes_in_trades_range = interest_changes[interest_changes.price_padded.between(*trades_range)]"
   ]
  },
  {
   "cell_type": "code",
   "execution_count": 76,
   "metadata": {
    "collapsed": false
   },
   "outputs": [
    {
     "data": {
      "text/plain": [
       "(6715, 4)"
      ]
     },
     "execution_count": 76,
     "metadata": {},
     "output_type": "execute_result"
    }
   ],
   "source": [
    "interest_changes_in_trades_range.shape"
   ]
  },
  {
   "cell_type": "code",
   "execution_count": 77,
   "metadata": {
    "collapsed": false
   },
   "outputs": [
    {
     "data": {
      "text/plain": [
       "fixed_timestampms    datetime64[ns]\n",
       "price_padded                 object\n",
       "remaining                    object\n",
       "side                         object\n",
       "dtype: object"
      ]
     },
     "execution_count": 77,
     "metadata": {},
     "output_type": "execute_result"
    }
   ],
   "source": [
    "interest_changes_in_trades_range.dtypes"
   ]
  },
  {
   "cell_type": "code",
   "execution_count": 78,
   "metadata": {
    "collapsed": false
   },
   "outputs": [
    {
     "name": "stderr",
     "output_type": "stream",
     "text": [
      "/home/gautam_sisodia/anaconda3/lib/python3.5/site-packages/ipykernel_launcher.py:3: SettingWithCopyWarning: \n",
      "A value is trying to be set on a copy of a slice from a DataFrame.\n",
      "Try using .loc[row_indexer,col_indexer] = value instead\n",
      "\n",
      "See the caveats in the documentation: http://pandas.pydata.org/pandas-docs/stable/indexing.html#indexing-view-versus-copy\n",
      "  This is separate from the ipykernel package so we can avoid doing imports until\n"
     ]
    }
   ],
   "source": [
    "interest_changes_in_trades_range[\"next_tim\"] = interest_changes_in_trades_range.sort_values(\n",
    "    \"fixed_timestampms\").groupby(\n",
    "    [\"price_padded\", \"side\"])[\"fixed_timestampms\"].shift(-1)"
   ]
  },
  {
   "cell_type": "code",
   "execution_count": 79,
   "metadata": {
    "collapsed": false
   },
   "outputs": [
    {
     "data": {
      "text/html": [
       "<div>\n",
       "<style scoped>\n",
       "    .dataframe tbody tr th:only-of-type {\n",
       "        vertical-align: middle;\n",
       "    }\n",
       "\n",
       "    .dataframe tbody tr th {\n",
       "        vertical-align: top;\n",
       "    }\n",
       "\n",
       "    .dataframe thead th {\n",
       "        text-align: right;\n",
       "    }\n",
       "</style>\n",
       "<table border=\"1\" class=\"dataframe\">\n",
       "  <thead>\n",
       "    <tr style=\"text-align: right;\">\n",
       "      <th></th>\n",
       "      <th>fixed_timestampms</th>\n",
       "      <th>price_padded</th>\n",
       "      <th>remaining</th>\n",
       "      <th>side</th>\n",
       "      <th>next_tim</th>\n",
       "    </tr>\n",
       "  </thead>\n",
       "  <tbody>\n",
       "    <tr>\n",
       "      <th>0</th>\n",
       "      <td>2019-01-16 18:09:35.932</td>\n",
       "      <td>3614.45</td>\n",
       "      <td>0</td>\n",
       "      <td>bid</td>\n",
       "      <td>2019-01-16 18:19:33.636</td>\n",
       "    </tr>\n",
       "    <tr>\n",
       "      <th>10</th>\n",
       "      <td>2019-01-16 18:09:36.331</td>\n",
       "      <td>3615.56</td>\n",
       "      <td>0.08</td>\n",
       "      <td>bid</td>\n",
       "      <td>2019-01-16 18:09:40.055</td>\n",
       "    </tr>\n",
       "    <tr>\n",
       "      <th>13</th>\n",
       "      <td>2019-01-16 18:09:36.470</td>\n",
       "      <td>3613.42</td>\n",
       "      <td>0.54</td>\n",
       "      <td>bid</td>\n",
       "      <td>2019-01-16 18:09:36.569</td>\n",
       "    </tr>\n",
       "    <tr>\n",
       "      <th>15</th>\n",
       "      <td>2019-01-16 18:09:36.546</td>\n",
       "      <td>3619.86</td>\n",
       "      <td>0</td>\n",
       "      <td>bid</td>\n",
       "      <td>NaT</td>\n",
       "    </tr>\n",
       "    <tr>\n",
       "      <th>16</th>\n",
       "      <td>2019-01-16 18:09:36.563</td>\n",
       "      <td>3619.54</td>\n",
       "      <td>6.8651</td>\n",
       "      <td>bid</td>\n",
       "      <td>2019-01-16 18:09:37.612</td>\n",
       "    </tr>\n",
       "    <tr>\n",
       "      <th>17</th>\n",
       "      <td>2019-01-16 18:09:36.569</td>\n",
       "      <td>3613.42</td>\n",
       "      <td>0.62</td>\n",
       "      <td>bid</td>\n",
       "      <td>2019-01-16 18:09:37.871</td>\n",
       "    </tr>\n",
       "    <tr>\n",
       "      <th>31</th>\n",
       "      <td>2019-01-16 18:09:37.209</td>\n",
       "      <td>3615.99</td>\n",
       "      <td>0.18</td>\n",
       "      <td>bid</td>\n",
       "      <td>2019-01-16 18:09:37.308</td>\n",
       "    </tr>\n",
       "    <tr>\n",
       "      <th>33</th>\n",
       "      <td>2019-01-16 18:09:37.308</td>\n",
       "      <td>3615.99</td>\n",
       "      <td>0.36</td>\n",
       "      <td>bid</td>\n",
       "      <td>2019-01-16 18:09:37.609</td>\n",
       "    </tr>\n",
       "    <tr>\n",
       "      <th>37</th>\n",
       "      <td>2019-01-16 18:09:37.570</td>\n",
       "      <td>3620.42</td>\n",
       "      <td>0.518</td>\n",
       "      <td>bid</td>\n",
       "      <td>2019-01-16 18:09:39.077</td>\n",
       "    </tr>\n",
       "    <tr>\n",
       "      <th>38</th>\n",
       "      <td>2019-01-16 18:09:37.609</td>\n",
       "      <td>3615.99</td>\n",
       "      <td>0.44</td>\n",
       "      <td>bid</td>\n",
       "      <td>2019-01-16 18:09:37.709</td>\n",
       "    </tr>\n",
       "  </tbody>\n",
       "</table>\n",
       "</div>"
      ],
      "text/plain": [
       "         fixed_timestampms price_padded remaining side                next_tim\n",
       "0  2019-01-16 18:09:35.932      3614.45         0  bid 2019-01-16 18:19:33.636\n",
       "10 2019-01-16 18:09:36.331      3615.56      0.08  bid 2019-01-16 18:09:40.055\n",
       "13 2019-01-16 18:09:36.470      3613.42      0.54  bid 2019-01-16 18:09:36.569\n",
       "15 2019-01-16 18:09:36.546      3619.86         0  bid                     NaT\n",
       "16 2019-01-16 18:09:36.563      3619.54    6.8651  bid 2019-01-16 18:09:37.612\n",
       "17 2019-01-16 18:09:36.569      3613.42      0.62  bid 2019-01-16 18:09:37.871\n",
       "31 2019-01-16 18:09:37.209      3615.99      0.18  bid 2019-01-16 18:09:37.308\n",
       "33 2019-01-16 18:09:37.308      3615.99      0.36  bid 2019-01-16 18:09:37.609\n",
       "37 2019-01-16 18:09:37.570      3620.42     0.518  bid 2019-01-16 18:09:39.077\n",
       "38 2019-01-16 18:09:37.609      3615.99      0.44  bid 2019-01-16 18:09:37.709"
      ]
     },
     "execution_count": 79,
     "metadata": {},
     "output_type": "execute_result"
    }
   ],
   "source": [
    "interest_changes_in_trades_range.iloc[:10]"
   ]
  },
  {
   "cell_type": "code",
   "execution_count": 80,
   "metadata": {
    "collapsed": false
   },
   "outputs": [
    {
     "data": {
      "text/html": [
       "<div>\n",
       "<style scoped>\n",
       "    .dataframe tbody tr th:only-of-type {\n",
       "        vertical-align: middle;\n",
       "    }\n",
       "\n",
       "    .dataframe tbody tr th {\n",
       "        vertical-align: top;\n",
       "    }\n",
       "\n",
       "    .dataframe thead th {\n",
       "        text-align: right;\n",
       "    }\n",
       "</style>\n",
       "<table border=\"1\" class=\"dataframe\">\n",
       "  <thead>\n",
       "    <tr style=\"text-align: right;\">\n",
       "      <th></th>\n",
       "      <th>fixed_timestampms</th>\n",
       "      <th>price_padded</th>\n",
       "      <th>remaining</th>\n",
       "      <th>side</th>\n",
       "      <th>next_tim</th>\n",
       "    </tr>\n",
       "  </thead>\n",
       "  <tbody>\n",
       "    <tr>\n",
       "      <th>0</th>\n",
       "      <td>2019-01-16 18:09:35.932</td>\n",
       "      <td>3614.45</td>\n",
       "      <td>0</td>\n",
       "      <td>bid</td>\n",
       "      <td>2019-01-16 18:19:33.636</td>\n",
       "    </tr>\n",
       "    <tr>\n",
       "      <th>7149</th>\n",
       "      <td>2019-01-16 18:19:33.636</td>\n",
       "      <td>3614.45</td>\n",
       "      <td>2</td>\n",
       "      <td>bid</td>\n",
       "      <td>2019-01-16 18:19:52.752</td>\n",
       "    </tr>\n",
       "    <tr>\n",
       "      <th>7307</th>\n",
       "      <td>2019-01-16 18:19:52.752</td>\n",
       "      <td>3614.45</td>\n",
       "      <td>0</td>\n",
       "      <td>bid</td>\n",
       "      <td>2019-01-16 18:24:50.302</td>\n",
       "    </tr>\n",
       "    <tr>\n",
       "      <th>9020</th>\n",
       "      <td>2019-01-16 18:24:50.302</td>\n",
       "      <td>3614.45</td>\n",
       "      <td>1.41370744</td>\n",
       "      <td>bid</td>\n",
       "      <td>2019-01-16 18:24:50.325</td>\n",
       "    </tr>\n",
       "    <tr>\n",
       "      <th>9026</th>\n",
       "      <td>2019-01-16 18:24:50.325</td>\n",
       "      <td>3614.45</td>\n",
       "      <td>0</td>\n",
       "      <td>bid</td>\n",
       "      <td>NaT</td>\n",
       "    </tr>\n",
       "  </tbody>\n",
       "</table>\n",
       "</div>"
      ],
      "text/plain": [
       "           fixed_timestampms price_padded   remaining side  \\\n",
       "0    2019-01-16 18:09:35.932      3614.45           0  bid   \n",
       "7149 2019-01-16 18:19:33.636      3614.45           2  bid   \n",
       "7307 2019-01-16 18:19:52.752      3614.45           0  bid   \n",
       "9020 2019-01-16 18:24:50.302      3614.45  1.41370744  bid   \n",
       "9026 2019-01-16 18:24:50.325      3614.45           0  bid   \n",
       "\n",
       "                    next_tim  \n",
       "0    2019-01-16 18:19:33.636  \n",
       "7149 2019-01-16 18:19:52.752  \n",
       "7307 2019-01-16 18:24:50.302  \n",
       "9020 2019-01-16 18:24:50.325  \n",
       "9026                     NaT  "
      ]
     },
     "execution_count": 80,
     "metadata": {},
     "output_type": "execute_result"
    }
   ],
   "source": [
    "interest_changes_in_trades_range[interest_changes_in_trades_range.price_padded == \"3614.45\"]"
   ]
  },
  {
   "cell_type": "code",
   "execution_count": 82,
   "metadata": {
    "collapsed": false
   },
   "outputs": [
    {
     "data": {
      "text/html": [
       "<div>\n",
       "<style scoped>\n",
       "    .dataframe tbody tr th:only-of-type {\n",
       "        vertical-align: middle;\n",
       "    }\n",
       "\n",
       "    .dataframe tbody tr th {\n",
       "        vertical-align: top;\n",
       "    }\n",
       "\n",
       "    .dataframe thead th {\n",
       "        text-align: right;\n",
       "    }\n",
       "</style>\n",
       "<table border=\"1\" class=\"dataframe\">\n",
       "  <thead>\n",
       "    <tr style=\"text-align: right;\">\n",
       "      <th></th>\n",
       "      <th>fixed_timestampms</th>\n",
       "      <th>price_padded</th>\n",
       "      <th>remaining</th>\n",
       "      <th>side</th>\n",
       "      <th>next_tim</th>\n",
       "    </tr>\n",
       "  </thead>\n",
       "  <tbody>\n",
       "    <tr>\n",
       "      <th>0</th>\n",
       "      <td>2019-01-16 18:09:35.932</td>\n",
       "      <td>3614.45</td>\n",
       "      <td>0</td>\n",
       "      <td>bid</td>\n",
       "      <td>2019-01-16 18:19:33.636</td>\n",
       "    </tr>\n",
       "    <tr>\n",
       "      <th>12662</th>\n",
       "      <td>2019-01-16 18:09:35.932</td>\n",
       "      <td>3613.78</td>\n",
       "      <td>2.535</td>\n",
       "      <td>bid</td>\n",
       "      <td>2019-01-16 18:11:52.462</td>\n",
       "    </tr>\n",
       "    <tr>\n",
       "      <th>12663</th>\n",
       "      <td>2019-01-16 18:09:35.932</td>\n",
       "      <td>3613.81</td>\n",
       "      <td>7.4804</td>\n",
       "      <td>bid</td>\n",
       "      <td>2019-01-16 18:10:12.421</td>\n",
       "    </tr>\n",
       "    <tr>\n",
       "      <th>12664</th>\n",
       "      <td>2019-01-16 18:09:35.932</td>\n",
       "      <td>3613.82</td>\n",
       "      <td>11.0186</td>\n",
       "      <td>bid</td>\n",
       "      <td>2019-01-16 18:09:39.206</td>\n",
       "    </tr>\n",
       "    <tr>\n",
       "      <th>12665</th>\n",
       "      <td>2019-01-16 18:09:35.932</td>\n",
       "      <td>3614.31</td>\n",
       "      <td>4.705</td>\n",
       "      <td>bid</td>\n",
       "      <td>2019-01-16 18:09:41.256</td>\n",
       "    </tr>\n",
       "    <tr>\n",
       "      <th>12666</th>\n",
       "      <td>2019-01-16 18:09:35.932</td>\n",
       "      <td>3614.88</td>\n",
       "      <td>2.505</td>\n",
       "      <td>bid</td>\n",
       "      <td>2019-01-16 18:09:49.911</td>\n",
       "    </tr>\n",
       "    <tr>\n",
       "      <th>12667</th>\n",
       "      <td>2019-01-16 18:09:35.932</td>\n",
       "      <td>3615.26</td>\n",
       "      <td>0.5</td>\n",
       "      <td>bid</td>\n",
       "      <td>2019-01-16 18:09:47.452</td>\n",
       "    </tr>\n",
       "    <tr>\n",
       "      <th>12668</th>\n",
       "      <td>2019-01-16 18:09:35.932</td>\n",
       "      <td>3615.33</td>\n",
       "      <td>0.5</td>\n",
       "      <td>bid</td>\n",
       "      <td>2019-01-16 18:09:47.452</td>\n",
       "    </tr>\n",
       "    <tr>\n",
       "      <th>12669</th>\n",
       "      <td>2019-01-16 18:09:35.932</td>\n",
       "      <td>3615.40</td>\n",
       "      <td>3.563</td>\n",
       "      <td>bid</td>\n",
       "      <td>2019-01-16 18:09:47.385</td>\n",
       "    </tr>\n",
       "    <tr>\n",
       "      <th>12670</th>\n",
       "      <td>2019-01-16 18:09:35.932</td>\n",
       "      <td>3615.56</td>\n",
       "      <td>0.04</td>\n",
       "      <td>bid</td>\n",
       "      <td>2019-01-16 18:09:36.331</td>\n",
       "    </tr>\n",
       "    <tr>\n",
       "      <th>12671</th>\n",
       "      <td>2019-01-16 18:09:35.932</td>\n",
       "      <td>3616.86</td>\n",
       "      <td>4</td>\n",
       "      <td>bid</td>\n",
       "      <td>2019-01-16 18:09:41.541</td>\n",
       "    </tr>\n",
       "    <tr>\n",
       "      <th>12672</th>\n",
       "      <td>2019-01-16 18:09:35.932</td>\n",
       "      <td>3618.87</td>\n",
       "      <td>2.28</td>\n",
       "      <td>bid</td>\n",
       "      <td>2019-01-16 18:09:41.369</td>\n",
       "    </tr>\n",
       "    <tr>\n",
       "      <th>12673</th>\n",
       "      <td>2019-01-16 18:09:35.932</td>\n",
       "      <td>3619.21</td>\n",
       "      <td>2</td>\n",
       "      <td>bid</td>\n",
       "      <td>2019-01-16 18:09:41.538</td>\n",
       "    </tr>\n",
       "    <tr>\n",
       "      <th>12674</th>\n",
       "      <td>2019-01-16 18:09:35.932</td>\n",
       "      <td>3619.55</td>\n",
       "      <td>2.1</td>\n",
       "      <td>bid</td>\n",
       "      <td>2019-01-16 18:09:40.990</td>\n",
       "    </tr>\n",
       "    <tr>\n",
       "      <th>12675</th>\n",
       "      <td>2019-01-16 18:09:35.932</td>\n",
       "      <td>3619.60</td>\n",
       "      <td>0.08288208</td>\n",
       "      <td>bid</td>\n",
       "      <td>2019-01-16 18:09:50.611</td>\n",
       "    </tr>\n",
       "    <tr>\n",
       "      <th>12676</th>\n",
       "      <td>2019-01-16 18:09:35.932</td>\n",
       "      <td>3619.86</td>\n",
       "      <td>6.8761</td>\n",
       "      <td>bid</td>\n",
       "      <td>2019-01-16 18:09:36.546</td>\n",
       "    </tr>\n",
       "    <tr>\n",
       "      <th>12677</th>\n",
       "      <td>2019-01-16 18:09:35.932</td>\n",
       "      <td>3620.36</td>\n",
       "      <td>1</td>\n",
       "      <td>bid</td>\n",
       "      <td>2019-01-16 18:09:40.315</td>\n",
       "    </tr>\n",
       "    <tr>\n",
       "      <th>12678</th>\n",
       "      <td>2019-01-16 18:09:35.932</td>\n",
       "      <td>3620.42</td>\n",
       "      <td>0.968</td>\n",
       "      <td>bid</td>\n",
       "      <td>2019-01-16 18:09:37.570</td>\n",
       "    </tr>\n",
       "    <tr>\n",
       "      <th>12661</th>\n",
       "      <td>2019-01-16 18:09:35.932</td>\n",
       "      <td>3613.42</td>\n",
       "      <td>0.36</td>\n",
       "      <td>bid</td>\n",
       "      <td>2019-01-16 18:09:36.470</td>\n",
       "    </tr>\n",
       "    <tr>\n",
       "      <th>12679</th>\n",
       "      <td>2019-01-16 18:09:35.932</td>\n",
       "      <td>3621.92</td>\n",
       "      <td>1</td>\n",
       "      <td>ask</td>\n",
       "      <td>2019-01-16 18:10:52.059</td>\n",
       "    </tr>\n",
       "    <tr>\n",
       "      <th>12680</th>\n",
       "      <td>2019-01-16 18:09:35.932</td>\n",
       "      <td>3622.95</td>\n",
       "      <td>3</td>\n",
       "      <td>ask</td>\n",
       "      <td>2019-01-16 18:10:09.777</td>\n",
       "    </tr>\n",
       "    <tr>\n",
       "      <th>10</th>\n",
       "      <td>2019-01-16 18:09:36.331</td>\n",
       "      <td>3615.56</td>\n",
       "      <td>0.08</td>\n",
       "      <td>bid</td>\n",
       "      <td>2019-01-16 18:09:40.055</td>\n",
       "    </tr>\n",
       "    <tr>\n",
       "      <th>13</th>\n",
       "      <td>2019-01-16 18:09:36.470</td>\n",
       "      <td>3613.42</td>\n",
       "      <td>0.54</td>\n",
       "      <td>bid</td>\n",
       "      <td>2019-01-16 18:09:36.569</td>\n",
       "    </tr>\n",
       "    <tr>\n",
       "      <th>15</th>\n",
       "      <td>2019-01-16 18:09:36.546</td>\n",
       "      <td>3619.86</td>\n",
       "      <td>0</td>\n",
       "      <td>bid</td>\n",
       "      <td>NaT</td>\n",
       "    </tr>\n",
       "    <tr>\n",
       "      <th>16</th>\n",
       "      <td>2019-01-16 18:09:36.563</td>\n",
       "      <td>3619.54</td>\n",
       "      <td>6.8651</td>\n",
       "      <td>bid</td>\n",
       "      <td>2019-01-16 18:09:37.612</td>\n",
       "    </tr>\n",
       "    <tr>\n",
       "      <th>17</th>\n",
       "      <td>2019-01-16 18:09:36.569</td>\n",
       "      <td>3613.42</td>\n",
       "      <td>0.62</td>\n",
       "      <td>bid</td>\n",
       "      <td>2019-01-16 18:09:37.871</td>\n",
       "    </tr>\n",
       "    <tr>\n",
       "      <th>31</th>\n",
       "      <td>2019-01-16 18:09:37.209</td>\n",
       "      <td>3615.99</td>\n",
       "      <td>0.18</td>\n",
       "      <td>bid</td>\n",
       "      <td>2019-01-16 18:09:37.308</td>\n",
       "    </tr>\n",
       "    <tr>\n",
       "      <th>33</th>\n",
       "      <td>2019-01-16 18:09:37.308</td>\n",
       "      <td>3615.99</td>\n",
       "      <td>0.36</td>\n",
       "      <td>bid</td>\n",
       "      <td>2019-01-16 18:09:37.609</td>\n",
       "    </tr>\n",
       "    <tr>\n",
       "      <th>37</th>\n",
       "      <td>2019-01-16 18:09:37.570</td>\n",
       "      <td>3620.42</td>\n",
       "      <td>0.518</td>\n",
       "      <td>bid</td>\n",
       "      <td>2019-01-16 18:09:39.077</td>\n",
       "    </tr>\n",
       "    <tr>\n",
       "      <th>38</th>\n",
       "      <td>2019-01-16 18:09:37.609</td>\n",
       "      <td>3615.99</td>\n",
       "      <td>0.44</td>\n",
       "      <td>bid</td>\n",
       "      <td>2019-01-16 18:09:37.709</td>\n",
       "    </tr>\n",
       "    <tr>\n",
       "      <th>...</th>\n",
       "      <td>...</td>\n",
       "      <td>...</td>\n",
       "      <td>...</td>\n",
       "      <td>...</td>\n",
       "      <td>...</td>\n",
       "    </tr>\n",
       "    <tr>\n",
       "      <th>10745</th>\n",
       "      <td>2019-01-16 18:31:12.225</td>\n",
       "      <td>3620.62</td>\n",
       "      <td>6.8983</td>\n",
       "      <td>ask</td>\n",
       "      <td>2019-01-16 18:31:13.380</td>\n",
       "    </tr>\n",
       "    <tr>\n",
       "      <th>10746</th>\n",
       "      <td>2019-01-16 18:31:12.236</td>\n",
       "      <td>3620.68</td>\n",
       "      <td>0.3335</td>\n",
       "      <td>ask</td>\n",
       "      <td>2019-01-16 18:31:13.130</td>\n",
       "    </tr>\n",
       "    <tr>\n",
       "      <th>10747</th>\n",
       "      <td>2019-01-16 18:31:12.324</td>\n",
       "      <td>3614.71</td>\n",
       "      <td>3</td>\n",
       "      <td>bid</td>\n",
       "      <td>2019-01-16 18:31:12.336</td>\n",
       "    </tr>\n",
       "    <tr>\n",
       "      <th>10748</th>\n",
       "      <td>2019-01-16 18:31:12.325</td>\n",
       "      <td>3613.48</td>\n",
       "      <td>0</td>\n",
       "      <td>bid</td>\n",
       "      <td>NaT</td>\n",
       "    </tr>\n",
       "    <tr>\n",
       "      <th>10749</th>\n",
       "      <td>2019-01-16 18:31:12.336</td>\n",
       "      <td>3614.71</td>\n",
       "      <td>2</td>\n",
       "      <td>bid</td>\n",
       "      <td>2019-01-16 18:31:12.523</td>\n",
       "    </tr>\n",
       "    <tr>\n",
       "      <th>10750</th>\n",
       "      <td>2019-01-16 18:31:12.523</td>\n",
       "      <td>3614.71</td>\n",
       "      <td>2</td>\n",
       "      <td>bid</td>\n",
       "      <td>2019-01-16 18:31:13.002</td>\n",
       "    </tr>\n",
       "    <tr>\n",
       "      <th>10751</th>\n",
       "      <td>2019-01-16 18:31:12.585</td>\n",
       "      <td>3613.99</td>\n",
       "      <td>0</td>\n",
       "      <td>bid</td>\n",
       "      <td>NaT</td>\n",
       "    </tr>\n",
       "    <tr>\n",
       "      <th>10756</th>\n",
       "      <td>2019-01-16 18:31:12.752</td>\n",
       "      <td>3613.98</td>\n",
       "      <td>1</td>\n",
       "      <td>bid</td>\n",
       "      <td>NaT</td>\n",
       "    </tr>\n",
       "    <tr>\n",
       "      <th>10758</th>\n",
       "      <td>2019-01-16 18:31:12.782</td>\n",
       "      <td>3613.58</td>\n",
       "      <td>6.8785</td>\n",
       "      <td>bid</td>\n",
       "      <td>2019-01-16 18:31:13.713</td>\n",
       "    </tr>\n",
       "    <tr>\n",
       "      <th>10760</th>\n",
       "      <td>2019-01-16 18:31:12.798</td>\n",
       "      <td>3620.49</td>\n",
       "      <td>0</td>\n",
       "      <td>ask</td>\n",
       "      <td>2019-01-16 18:31:12.933</td>\n",
       "    </tr>\n",
       "    <tr>\n",
       "      <th>10773</th>\n",
       "      <td>2019-01-16 18:31:12.933</td>\n",
       "      <td>3620.49</td>\n",
       "      <td>5</td>\n",
       "      <td>ask</td>\n",
       "      <td>NaT</td>\n",
       "    </tr>\n",
       "    <tr>\n",
       "      <th>10775</th>\n",
       "      <td>2019-01-16 18:31:13.002</td>\n",
       "      <td>3614.71</td>\n",
       "      <td>3</td>\n",
       "      <td>bid</td>\n",
       "      <td>2019-01-16 18:31:13.049</td>\n",
       "    </tr>\n",
       "    <tr>\n",
       "      <th>10777</th>\n",
       "      <td>2019-01-16 18:31:13.049</td>\n",
       "      <td>3614.71</td>\n",
       "      <td>2</td>\n",
       "      <td>bid</td>\n",
       "      <td>NaT</td>\n",
       "    </tr>\n",
       "    <tr>\n",
       "      <th>10780</th>\n",
       "      <td>2019-01-16 18:31:13.130</td>\n",
       "      <td>3620.68</td>\n",
       "      <td>0</td>\n",
       "      <td>ask</td>\n",
       "      <td>NaT</td>\n",
       "    </tr>\n",
       "    <tr>\n",
       "      <th>10783</th>\n",
       "      <td>2019-01-16 18:31:13.380</td>\n",
       "      <td>3620.62</td>\n",
       "      <td>0</td>\n",
       "      <td>ask</td>\n",
       "      <td>NaT</td>\n",
       "    </tr>\n",
       "    <tr>\n",
       "      <th>10786</th>\n",
       "      <td>2019-01-16 18:31:13.713</td>\n",
       "      <td>3613.58</td>\n",
       "      <td>0</td>\n",
       "      <td>bid</td>\n",
       "      <td>2019-01-16 18:31:20.413</td>\n",
       "    </tr>\n",
       "    <tr>\n",
       "      <th>10787</th>\n",
       "      <td>2019-01-16 18:31:13.737</td>\n",
       "      <td>3614.08</td>\n",
       "      <td>6.8786</td>\n",
       "      <td>bid</td>\n",
       "      <td>2019-01-16 18:31:14.313</td>\n",
       "    </tr>\n",
       "    <tr>\n",
       "      <th>10789</th>\n",
       "      <td>2019-01-16 18:31:14.313</td>\n",
       "      <td>3614.08</td>\n",
       "      <td>0</td>\n",
       "      <td>bid</td>\n",
       "      <td>NaT</td>\n",
       "    </tr>\n",
       "    <tr>\n",
       "      <th>10792</th>\n",
       "      <td>2019-01-16 18:31:14.590</td>\n",
       "      <td>3615.00</td>\n",
       "      <td>0.03</td>\n",
       "      <td>ask</td>\n",
       "      <td>NaT</td>\n",
       "    </tr>\n",
       "    <tr>\n",
       "      <th>10793</th>\n",
       "      <td>2019-01-16 18:31:16.232</td>\n",
       "      <td>3618.55</td>\n",
       "      <td>0</td>\n",
       "      <td>ask</td>\n",
       "      <td>NaT</td>\n",
       "    </tr>\n",
       "    <tr>\n",
       "      <th>10794</th>\n",
       "      <td>2019-01-16 18:31:16.241</td>\n",
       "      <td>3618.05</td>\n",
       "      <td>2</td>\n",
       "      <td>ask</td>\n",
       "      <td>NaT</td>\n",
       "    </tr>\n",
       "    <tr>\n",
       "      <th>10796</th>\n",
       "      <td>2019-01-16 18:31:16.363</td>\n",
       "      <td>3613.36</td>\n",
       "      <td>6.8949</td>\n",
       "      <td>bid</td>\n",
       "      <td>2019-01-16 18:31:17.885</td>\n",
       "    </tr>\n",
       "    <tr>\n",
       "      <th>10802</th>\n",
       "      <td>2019-01-16 18:31:17.885</td>\n",
       "      <td>3613.36</td>\n",
       "      <td>0</td>\n",
       "      <td>bid</td>\n",
       "      <td>NaT</td>\n",
       "    </tr>\n",
       "    <tr>\n",
       "      <th>10803</th>\n",
       "      <td>2019-01-16 18:31:17.907</td>\n",
       "      <td>3612.93</td>\n",
       "      <td>6.8833</td>\n",
       "      <td>bid</td>\n",
       "      <td>2019-01-16 18:31:20.392</td>\n",
       "    </tr>\n",
       "    <tr>\n",
       "      <th>10804</th>\n",
       "      <td>2019-01-16 18:31:19.040</td>\n",
       "      <td>3614.21</td>\n",
       "      <td>0</td>\n",
       "      <td>bid</td>\n",
       "      <td>NaT</td>\n",
       "    </tr>\n",
       "    <tr>\n",
       "      <th>10805</th>\n",
       "      <td>2019-01-16 18:31:19.041</td>\n",
       "      <td>3613.83</td>\n",
       "      <td>0</td>\n",
       "      <td>bid</td>\n",
       "      <td>NaT</td>\n",
       "    </tr>\n",
       "    <tr>\n",
       "      <th>10806</th>\n",
       "      <td>2019-01-16 18:31:19.042</td>\n",
       "      <td>3613.64</td>\n",
       "      <td>0</td>\n",
       "      <td>bid</td>\n",
       "      <td>2019-01-16 18:31:19.897</td>\n",
       "    </tr>\n",
       "    <tr>\n",
       "      <th>10811</th>\n",
       "      <td>2019-01-16 18:31:19.897</td>\n",
       "      <td>3613.64</td>\n",
       "      <td>1.5345</td>\n",
       "      <td>bid</td>\n",
       "      <td>NaT</td>\n",
       "    </tr>\n",
       "    <tr>\n",
       "      <th>10813</th>\n",
       "      <td>2019-01-16 18:31:20.392</td>\n",
       "      <td>3612.93</td>\n",
       "      <td>0</td>\n",
       "      <td>bid</td>\n",
       "      <td>NaT</td>\n",
       "    </tr>\n",
       "    <tr>\n",
       "      <th>10814</th>\n",
       "      <td>2019-01-16 18:31:20.413</td>\n",
       "      <td>3613.58</td>\n",
       "      <td>6.8973</td>\n",
       "      <td>bid</td>\n",
       "      <td>NaT</td>\n",
       "    </tr>\n",
       "  </tbody>\n",
       "</table>\n",
       "<p>6715 rows × 5 columns</p>\n",
       "</div>"
      ],
      "text/plain": [
       "            fixed_timestampms price_padded   remaining side  \\\n",
       "0     2019-01-16 18:09:35.932      3614.45           0  bid   \n",
       "12662 2019-01-16 18:09:35.932      3613.78       2.535  bid   \n",
       "12663 2019-01-16 18:09:35.932      3613.81      7.4804  bid   \n",
       "12664 2019-01-16 18:09:35.932      3613.82     11.0186  bid   \n",
       "12665 2019-01-16 18:09:35.932      3614.31       4.705  bid   \n",
       "12666 2019-01-16 18:09:35.932      3614.88       2.505  bid   \n",
       "12667 2019-01-16 18:09:35.932      3615.26         0.5  bid   \n",
       "12668 2019-01-16 18:09:35.932      3615.33         0.5  bid   \n",
       "12669 2019-01-16 18:09:35.932      3615.40       3.563  bid   \n",
       "12670 2019-01-16 18:09:35.932      3615.56        0.04  bid   \n",
       "12671 2019-01-16 18:09:35.932      3616.86           4  bid   \n",
       "12672 2019-01-16 18:09:35.932      3618.87        2.28  bid   \n",
       "12673 2019-01-16 18:09:35.932      3619.21           2  bid   \n",
       "12674 2019-01-16 18:09:35.932      3619.55         2.1  bid   \n",
       "12675 2019-01-16 18:09:35.932      3619.60  0.08288208  bid   \n",
       "12676 2019-01-16 18:09:35.932      3619.86      6.8761  bid   \n",
       "12677 2019-01-16 18:09:35.932      3620.36           1  bid   \n",
       "12678 2019-01-16 18:09:35.932      3620.42       0.968  bid   \n",
       "12661 2019-01-16 18:09:35.932      3613.42        0.36  bid   \n",
       "12679 2019-01-16 18:09:35.932      3621.92           1  ask   \n",
       "12680 2019-01-16 18:09:35.932      3622.95           3  ask   \n",
       "10    2019-01-16 18:09:36.331      3615.56        0.08  bid   \n",
       "13    2019-01-16 18:09:36.470      3613.42        0.54  bid   \n",
       "15    2019-01-16 18:09:36.546      3619.86           0  bid   \n",
       "16    2019-01-16 18:09:36.563      3619.54      6.8651  bid   \n",
       "17    2019-01-16 18:09:36.569      3613.42        0.62  bid   \n",
       "31    2019-01-16 18:09:37.209      3615.99        0.18  bid   \n",
       "33    2019-01-16 18:09:37.308      3615.99        0.36  bid   \n",
       "37    2019-01-16 18:09:37.570      3620.42       0.518  bid   \n",
       "38    2019-01-16 18:09:37.609      3615.99        0.44  bid   \n",
       "...                       ...          ...         ...  ...   \n",
       "10745 2019-01-16 18:31:12.225      3620.62      6.8983  ask   \n",
       "10746 2019-01-16 18:31:12.236      3620.68      0.3335  ask   \n",
       "10747 2019-01-16 18:31:12.324      3614.71           3  bid   \n",
       "10748 2019-01-16 18:31:12.325      3613.48           0  bid   \n",
       "10749 2019-01-16 18:31:12.336      3614.71           2  bid   \n",
       "10750 2019-01-16 18:31:12.523      3614.71           2  bid   \n",
       "10751 2019-01-16 18:31:12.585      3613.99           0  bid   \n",
       "10756 2019-01-16 18:31:12.752      3613.98           1  bid   \n",
       "10758 2019-01-16 18:31:12.782      3613.58      6.8785  bid   \n",
       "10760 2019-01-16 18:31:12.798      3620.49           0  ask   \n",
       "10773 2019-01-16 18:31:12.933      3620.49           5  ask   \n",
       "10775 2019-01-16 18:31:13.002      3614.71           3  bid   \n",
       "10777 2019-01-16 18:31:13.049      3614.71           2  bid   \n",
       "10780 2019-01-16 18:31:13.130      3620.68           0  ask   \n",
       "10783 2019-01-16 18:31:13.380      3620.62           0  ask   \n",
       "10786 2019-01-16 18:31:13.713      3613.58           0  bid   \n",
       "10787 2019-01-16 18:31:13.737      3614.08      6.8786  bid   \n",
       "10789 2019-01-16 18:31:14.313      3614.08           0  bid   \n",
       "10792 2019-01-16 18:31:14.590      3615.00        0.03  ask   \n",
       "10793 2019-01-16 18:31:16.232      3618.55           0  ask   \n",
       "10794 2019-01-16 18:31:16.241      3618.05           2  ask   \n",
       "10796 2019-01-16 18:31:16.363      3613.36      6.8949  bid   \n",
       "10802 2019-01-16 18:31:17.885      3613.36           0  bid   \n",
       "10803 2019-01-16 18:31:17.907      3612.93      6.8833  bid   \n",
       "10804 2019-01-16 18:31:19.040      3614.21           0  bid   \n",
       "10805 2019-01-16 18:31:19.041      3613.83           0  bid   \n",
       "10806 2019-01-16 18:31:19.042      3613.64           0  bid   \n",
       "10811 2019-01-16 18:31:19.897      3613.64      1.5345  bid   \n",
       "10813 2019-01-16 18:31:20.392      3612.93           0  bid   \n",
       "10814 2019-01-16 18:31:20.413      3613.58      6.8973  bid   \n",
       "\n",
       "                     next_tim  \n",
       "0     2019-01-16 18:19:33.636  \n",
       "12662 2019-01-16 18:11:52.462  \n",
       "12663 2019-01-16 18:10:12.421  \n",
       "12664 2019-01-16 18:09:39.206  \n",
       "12665 2019-01-16 18:09:41.256  \n",
       "12666 2019-01-16 18:09:49.911  \n",
       "12667 2019-01-16 18:09:47.452  \n",
       "12668 2019-01-16 18:09:47.452  \n",
       "12669 2019-01-16 18:09:47.385  \n",
       "12670 2019-01-16 18:09:36.331  \n",
       "12671 2019-01-16 18:09:41.541  \n",
       "12672 2019-01-16 18:09:41.369  \n",
       "12673 2019-01-16 18:09:41.538  \n",
       "12674 2019-01-16 18:09:40.990  \n",
       "12675 2019-01-16 18:09:50.611  \n",
       "12676 2019-01-16 18:09:36.546  \n",
       "12677 2019-01-16 18:09:40.315  \n",
       "12678 2019-01-16 18:09:37.570  \n",
       "12661 2019-01-16 18:09:36.470  \n",
       "12679 2019-01-16 18:10:52.059  \n",
       "12680 2019-01-16 18:10:09.777  \n",
       "10    2019-01-16 18:09:40.055  \n",
       "13    2019-01-16 18:09:36.569  \n",
       "15                        NaT  \n",
       "16    2019-01-16 18:09:37.612  \n",
       "17    2019-01-16 18:09:37.871  \n",
       "31    2019-01-16 18:09:37.308  \n",
       "33    2019-01-16 18:09:37.609  \n",
       "37    2019-01-16 18:09:39.077  \n",
       "38    2019-01-16 18:09:37.709  \n",
       "...                       ...  \n",
       "10745 2019-01-16 18:31:13.380  \n",
       "10746 2019-01-16 18:31:13.130  \n",
       "10747 2019-01-16 18:31:12.336  \n",
       "10748                     NaT  \n",
       "10749 2019-01-16 18:31:12.523  \n",
       "10750 2019-01-16 18:31:13.002  \n",
       "10751                     NaT  \n",
       "10756                     NaT  \n",
       "10758 2019-01-16 18:31:13.713  \n",
       "10760 2019-01-16 18:31:12.933  \n",
       "10773                     NaT  \n",
       "10775 2019-01-16 18:31:13.049  \n",
       "10777                     NaT  \n",
       "10780                     NaT  \n",
       "10783                     NaT  \n",
       "10786 2019-01-16 18:31:20.413  \n",
       "10787 2019-01-16 18:31:14.313  \n",
       "10789                     NaT  \n",
       "10792                     NaT  \n",
       "10793                     NaT  \n",
       "10794                     NaT  \n",
       "10796 2019-01-16 18:31:17.885  \n",
       "10802                     NaT  \n",
       "10803 2019-01-16 18:31:20.392  \n",
       "10804                     NaT  \n",
       "10805                     NaT  \n",
       "10806 2019-01-16 18:31:19.897  \n",
       "10811                     NaT  \n",
       "10813                     NaT  \n",
       "10814                     NaT  \n",
       "\n",
       "[6715 rows x 5 columns]"
      ]
     },
     "execution_count": 82,
     "metadata": {},
     "output_type": "execute_result"
    }
   ],
   "source": [
    "interest_changes_in_trades_range.sort_values(\"fixed_timestampms\")"
   ]
  },
  {
   "cell_type": "code",
   "execution_count": 83,
   "metadata": {
    "collapsed": false
   },
   "outputs": [
    {
     "data": {
      "text/plain": [
       "<matplotlib.axes._subplots.AxesSubplot at 0x7f2e46b4fc50>"
      ]
     },
     "execution_count": 83,
     "metadata": {},
     "output_type": "execute_result"
    }
   ],
   "source": [
    "interest_changes_in_trades_range.remaining.astype(\"float\").hist()"
   ]
  },
  {
   "cell_type": "code",
   "execution_count": 84,
   "metadata": {
    "collapsed": false
   },
   "outputs": [
    {
     "data": {
      "text/plain": [
       "<matplotlib.axes._subplots.AxesSubplot at 0x7f2e46a66c50>"
      ]
     },
     "execution_count": 84,
     "metadata": {},
     "output_type": "execute_result"
    },
    {
     "data": {
      "image/png": "[encoded data removed]",
      "text/plain": [
       "<matplotlib.figure.Figure at 0x7f2e46acda58>"
      ]
     },
     "metadata": {
      "needs_background": "light"
     },
     "output_type": "display_data"
    }
   ],
   "source": [
    "interest_changes_in_trades_range[interest_changes_in_trades_range.remaining.astype(\"float\") > 0].remaining.astype(\"float\").hist()"
   ]
  },
  {
   "cell_type": "code",
   "execution_count": 85,
   "metadata": {
    "collapsed": false
   },
   "outputs": [
    {
     "data": {
      "text/plain": [
       "<matplotlib.axes._subplots.AxesSubplot at 0x7f2e469f6198>"
      ]
     },
     "execution_count": 85,
     "metadata": {},
     "output_type": "execute_result"
    },
    {
     "data": {
      "image/png": "[encoded data removed]",
      "text/plain": [
       "<matplotlib.figure.Figure at 0x7f2e46acda90>"
      ]
     },
     "metadata": {
      "needs_background": "light"
     },
     "output_type": "display_data"
    }
   ],
   "source": [
    "import numpy as np\n",
    "interest_changes_in_trades_range[interest_changes_in_trades_range.remaining.astype(\"float\") > 0].remaining.astype(\n",
    "    \"float\").map(\n",
    "    np.log10).hist(\n",
    "    bins = 20)"
   ]
  },
  {
   "cell_type": "markdown",
   "metadata": {},
   "source": [
    "Save interest change events"
   ]
  },
  {
   "cell_type": "code",
   "execution_count": 86,
   "metadata": {
    "collapsed": true
   },
   "outputs": [],
   "source": [
    "interest_changes_in_trades_range.to_json(\"gemini_interest.json\", orient = \"records\")"
   ]
  },
  {
   "cell_type": "markdown",
   "metadata": {},
   "source": [
    "Save trade events"
   ]
  },
  {
   "cell_type": "code",
   "execution_count": 156,
   "metadata": {
    "collapsed": false
   },
   "outputs": [],
   "source": [
    "all_updates_df[all_updates_df.reason == \"trade\"][[\"timestampms\", \"delta\", \"price\"]].to_json(\"gemini_trades.json\", orient = \"records\")"
   ]
  }
 ],
 "metadata": {
  "kernelspec": {
   "display_name": "Python 3",
   "language": "python",
   "name": "python3"
  },
  "language_info": {
   "codemirror_mode": {
    "name": "ipython",
    "version": 3
   },
   "file_extension": ".py",
   "mimetype": "text/x-python",
   "name": "python",
   "nbconvert_exporter": "python",
   "pygments_lexer": "ipython3",
   "version": "3.5.4"
  }
 },
 "nbformat": 4,
 "nbformat_minor": 2
}
