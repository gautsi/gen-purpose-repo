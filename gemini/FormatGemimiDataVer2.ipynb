{
 "cells": [
  {
   "cell_type": "markdown",
   "metadata": {},
   "source": [
    "# Formatting Gemini Data\n",
    "## Ver 2\n",
    "Formatting Gemini data for input into d3 dashboard"
   ]
  },
  {
   "cell_type": "code",
   "execution_count": 29,
   "metadata": {
    "collapsed": true
   },
   "outputs": [],
   "source": [
    "import pandas as pd\n",
    "from tqdm import tqdm"
   ]
  },
  {
   "cell_type": "markdown",
   "metadata": {},
   "source": [
    "Read in gemini data"
   ]
  },
  {
   "cell_type": "code",
   "execution_count": 3,
   "metadata": {
    "collapsed": false
   },
   "outputs": [
    {
     "name": "stdout",
     "output_type": "stream",
     "text": [
      "CPU times: user 2.17 ms, sys: 4.69 ms, total: 6.86 ms\n",
      "Wall time: 80.7 ms\n"
     ]
    }
   ],
   "source": [
    "%%time\n",
    "with open(\"./gemini_pull_2019_01_16_18_07_06.txt\", \"r\") as file:\n",
    "    gemini = file.read()"
   ]
  },
  {
   "cell_type": "markdown",
   "metadata": {},
   "source": [
    "Separate messages"
   ]
  },
  {
   "cell_type": "code",
   "execution_count": 4,
   "metadata": {
    "collapsed": false
   },
   "outputs": [
    {
     "name": "stdout",
     "output_type": "stream",
     "text": [
      "CPU times: user 7.25 ms, sys: 7.61 ms, total: 14.9 ms\n",
      "Wall time: 16.8 ms\n"
     ]
    }
   ],
   "source": [
    "%%time\n",
    "gemini_list = gemini.replace(\"}{\", \"}\\n{\").split(\"\\n\")"
   ]
  },
  {
   "cell_type": "code",
   "execution_count": 5,
   "metadata": {
    "collapsed": false
   },
   "outputs": [
    {
     "data": {
      "text/plain": [
       "10844"
      ]
     },
     "execution_count": 5,
     "metadata": {},
     "output_type": "execute_result"
    }
   ],
   "source": [
    "len(gemini_list)"
   ]
  },
  {
   "cell_type": "markdown",
   "metadata": {},
   "source": [
    "The first message is larger, gives remaining interest for all price points at the time of socket open"
   ]
  },
  {
   "cell_type": "code",
   "execution_count": 7,
   "metadata": {
    "collapsed": false
   },
   "outputs": [
    {
     "data": {
      "text/plain": [
       "[386154, 219, 222, 220, 226, 224, 222, 220, 222, 219]"
      ]
     },
     "execution_count": 7,
     "metadata": {},
     "output_type": "execute_result"
    }
   ],
   "source": [
    "[len(i) for i in gemini_list[:10]]"
   ]
  },
  {
   "cell_type": "code",
   "execution_count": 8,
   "metadata": {
    "collapsed": true
   },
   "outputs": [],
   "source": [
    "first_msg = gemini_list[0]"
   ]
  },
  {
   "cell_type": "code",
   "execution_count": 10,
   "metadata": {
    "collapsed": false
   },
   "outputs": [
    {
     "data": {
      "text/plain": [
       "'{\"type\":\"update\",\"eventId\":5368619062,\"socket_sequence\":0,\"events\":[{\"type\":\"change\",\"reason\":\"initial\",\"price\":\"0.01\",\"delta\":\"191642.102\",\"remaining\":\"191642.102\",\"side\":\"bid\"},{\"type\":\"change\",\"reason\":\"initial\",\"price\":\"0.02\",\"delta\":\"22959.5\",\"remaining\":\"22959.5\",\"side\":\"bid\"},{\"type\":\"change\",\"reason\":\"initial\",\"price\":\"0.03\",\"delta\":\"33\",\"remaining\":\"33\",\"side\":\"bid\"},{\"type\":\"change\",\"rea'"
      ]
     },
     "execution_count": 10,
     "metadata": {},
     "output_type": "execute_result"
    }
   ],
   "source": [
    "first_msg[:400]"
   ]
  },
  {
   "cell_type": "code",
   "execution_count": 11,
   "metadata": {
    "collapsed": true
   },
   "outputs": [],
   "source": [
    "first_message_df = pd.read_json(gemini_list[0])"
   ]
  },
  {
   "cell_type": "code",
   "execution_count": 12,
   "metadata": {
    "collapsed": false
   },
   "outputs": [
    {
     "data": {
      "text/html": [
       "<div>\n",
       "<style scoped>\n",
       "    .dataframe tbody tr th:only-of-type {\n",
       "        vertical-align: middle;\n",
       "    }\n",
       "\n",
       "    .dataframe tbody tr th {\n",
       "        vertical-align: top;\n",
       "    }\n",
       "\n",
       "    .dataframe thead th {\n",
       "        text-align: right;\n",
       "    }\n",
       "</style>\n",
       "<table border=\"1\" class=\"dataframe\">\n",
       "  <thead>\n",
       "    <tr style=\"text-align: right;\">\n",
       "      <th></th>\n",
       "      <th>eventId</th>\n",
       "      <th>events</th>\n",
       "      <th>socket_sequence</th>\n",
       "      <th>type</th>\n",
       "    </tr>\n",
       "  </thead>\n",
       "  <tbody>\n",
       "    <tr>\n",
       "      <th>0</th>\n",
       "      <td>5368619062</td>\n",
       "      <td>{'type': 'change', 'price': '0.01', 'reason': ...</td>\n",
       "      <td>0</td>\n",
       "      <td>update</td>\n",
       "    </tr>\n",
       "    <tr>\n",
       "      <th>1</th>\n",
       "      <td>5368619062</td>\n",
       "      <td>{'type': 'change', 'price': '0.02', 'reason': ...</td>\n",
       "      <td>0</td>\n",
       "      <td>update</td>\n",
       "    </tr>\n",
       "    <tr>\n",
       "      <th>2</th>\n",
       "      <td>5368619062</td>\n",
       "      <td>{'type': 'change', 'price': '0.03', 'reason': ...</td>\n",
       "      <td>0</td>\n",
       "      <td>update</td>\n",
       "    </tr>\n",
       "    <tr>\n",
       "      <th>3</th>\n",
       "      <td>5368619062</td>\n",
       "      <td>{'type': 'change', 'price': '0.04', 'reason': ...</td>\n",
       "      <td>0</td>\n",
       "      <td>update</td>\n",
       "    </tr>\n",
       "    <tr>\n",
       "      <th>4</th>\n",
       "      <td>5368619062</td>\n",
       "      <td>{'type': 'change', 'price': '0.05', 'reason': ...</td>\n",
       "      <td>0</td>\n",
       "      <td>update</td>\n",
       "    </tr>\n",
       "  </tbody>\n",
       "</table>\n",
       "</div>"
      ],
      "text/plain": [
       "      eventId                                             events  \\\n",
       "0  5368619062  {'type': 'change', 'price': '0.01', 'reason': ...   \n",
       "1  5368619062  {'type': 'change', 'price': '0.02', 'reason': ...   \n",
       "2  5368619062  {'type': 'change', 'price': '0.03', 'reason': ...   \n",
       "3  5368619062  {'type': 'change', 'price': '0.04', 'reason': ...   \n",
       "4  5368619062  {'type': 'change', 'price': '0.05', 'reason': ...   \n",
       "\n",
       "   socket_sequence    type  \n",
       "0                0  update  \n",
       "1                0  update  \n",
       "2                0  update  \n",
       "3                0  update  \n",
       "4                0  update  "
      ]
     },
     "execution_count": 12,
     "metadata": {},
     "output_type": "execute_result"
    }
   ],
   "source": [
    "first_message_df.head()"
   ]
  },
  {
   "cell_type": "code",
   "execution_count": 13,
   "metadata": {
    "collapsed": true
   },
   "outputs": [],
   "source": [
    "event_keys = first_message_df[\"events\"].iloc[0].keys()"
   ]
  },
  {
   "cell_type": "code",
   "execution_count": 14,
   "metadata": {
    "collapsed": true
   },
   "outputs": [],
   "source": [
    "for i in event_keys:\n",
    "    first_message_df[i] = first_message_df[\"events\"].map(lambda x: x[i])"
   ]
  },
  {
   "cell_type": "code",
   "execution_count": 15,
   "metadata": {
    "collapsed": false
   },
   "outputs": [
    {
     "data": {
      "text/html": [
       "<div>\n",
       "<style scoped>\n",
       "    .dataframe tbody tr th:only-of-type {\n",
       "        vertical-align: middle;\n",
       "    }\n",
       "\n",
       "    .dataframe tbody tr th {\n",
       "        vertical-align: top;\n",
       "    }\n",
       "\n",
       "    .dataframe thead th {\n",
       "        text-align: right;\n",
       "    }\n",
       "</style>\n",
       "<table border=\"1\" class=\"dataframe\">\n",
       "  <thead>\n",
       "    <tr style=\"text-align: right;\">\n",
       "      <th></th>\n",
       "      <th>eventId</th>\n",
       "      <th>events</th>\n",
       "      <th>socket_sequence</th>\n",
       "      <th>type</th>\n",
       "      <th>price</th>\n",
       "      <th>reason</th>\n",
       "      <th>delta</th>\n",
       "      <th>side</th>\n",
       "      <th>remaining</th>\n",
       "    </tr>\n",
       "  </thead>\n",
       "  <tbody>\n",
       "    <tr>\n",
       "      <th>0</th>\n",
       "      <td>5368619062</td>\n",
       "      <td>{'type': 'change', 'price': '0.01', 'reason': ...</td>\n",
       "      <td>0</td>\n",
       "      <td>change</td>\n",
       "      <td>0.01</td>\n",
       "      <td>initial</td>\n",
       "      <td>191642.102</td>\n",
       "      <td>bid</td>\n",
       "      <td>191642.102</td>\n",
       "    </tr>\n",
       "    <tr>\n",
       "      <th>1</th>\n",
       "      <td>5368619062</td>\n",
       "      <td>{'type': 'change', 'price': '0.02', 'reason': ...</td>\n",
       "      <td>0</td>\n",
       "      <td>change</td>\n",
       "      <td>0.02</td>\n",
       "      <td>initial</td>\n",
       "      <td>22959.5</td>\n",
       "      <td>bid</td>\n",
       "      <td>22959.5</td>\n",
       "    </tr>\n",
       "    <tr>\n",
       "      <th>2</th>\n",
       "      <td>5368619062</td>\n",
       "      <td>{'type': 'change', 'price': '0.03', 'reason': ...</td>\n",
       "      <td>0</td>\n",
       "      <td>change</td>\n",
       "      <td>0.03</td>\n",
       "      <td>initial</td>\n",
       "      <td>33</td>\n",
       "      <td>bid</td>\n",
       "      <td>33</td>\n",
       "    </tr>\n",
       "    <tr>\n",
       "      <th>3</th>\n",
       "      <td>5368619062</td>\n",
       "      <td>{'type': 'change', 'price': '0.04', 'reason': ...</td>\n",
       "      <td>0</td>\n",
       "      <td>change</td>\n",
       "      <td>0.04</td>\n",
       "      <td>initial</td>\n",
       "      <td>0.00055</td>\n",
       "      <td>bid</td>\n",
       "      <td>0.00055</td>\n",
       "    </tr>\n",
       "    <tr>\n",
       "      <th>4</th>\n",
       "      <td>5368619062</td>\n",
       "      <td>{'type': 'change', 'price': '0.05', 'reason': ...</td>\n",
       "      <td>0</td>\n",
       "      <td>change</td>\n",
       "      <td>0.05</td>\n",
       "      <td>initial</td>\n",
       "      <td>3693</td>\n",
       "      <td>bid</td>\n",
       "      <td>3693</td>\n",
       "    </tr>\n",
       "  </tbody>\n",
       "</table>\n",
       "</div>"
      ],
      "text/plain": [
       "      eventId                                             events  \\\n",
       "0  5368619062  {'type': 'change', 'price': '0.01', 'reason': ...   \n",
       "1  5368619062  {'type': 'change', 'price': '0.02', 'reason': ...   \n",
       "2  5368619062  {'type': 'change', 'price': '0.03', 'reason': ...   \n",
       "3  5368619062  {'type': 'change', 'price': '0.04', 'reason': ...   \n",
       "4  5368619062  {'type': 'change', 'price': '0.05', 'reason': ...   \n",
       "\n",
       "   socket_sequence    type price   reason       delta side   remaining  \n",
       "0                0  change  0.01  initial  191642.102  bid  191642.102  \n",
       "1                0  change  0.02  initial     22959.5  bid     22959.5  \n",
       "2                0  change  0.03  initial          33  bid          33  \n",
       "3                0  change  0.04  initial     0.00055  bid     0.00055  \n",
       "4                0  change  0.05  initial        3693  bid        3693  "
      ]
     },
     "execution_count": 15,
     "metadata": {},
     "output_type": "execute_result"
    }
   ],
   "source": [
    "first_message_df.head()"
   ]
  },
  {
   "cell_type": "markdown",
   "metadata": {},
   "source": [
    "each price shows up once:"
   ]
  },
  {
   "cell_type": "code",
   "execution_count": 17,
   "metadata": {
    "collapsed": false
   },
   "outputs": [
    {
     "data": {
      "text/plain": [
       "16490.00    1\n",
       "8880.00     1\n",
       "16790.00    1\n",
       "10600.00    1\n",
       "4097.00     1\n",
       "Name: price, dtype: int64"
      ]
     },
     "execution_count": 17,
     "metadata": {},
     "output_type": "execute_result"
    }
   ],
   "source": [
    "first_message_df.price.value_counts().head()"
   ]
  },
  {
   "cell_type": "markdown",
   "metadata": {},
   "source": [
    "delta always equals remaining:"
   ]
  },
  {
   "cell_type": "code",
   "execution_count": 18,
   "metadata": {
    "collapsed": false
   },
   "outputs": [
    {
     "data": {
      "text/plain": [
       "0"
      ]
     },
     "execution_count": 18,
     "metadata": {},
     "output_type": "execute_result"
    }
   ],
   "source": [
    "len(first_message_df[first_message_df.remaining != first_message_df.delta])"
   ]
  },
  {
   "cell_type": "code",
   "execution_count": 19,
   "metadata": {
    "collapsed": true
   },
   "outputs": [],
   "source": [
    "initial_interest = first_message_df[[\"side\", \"price\", \"remaining\"]].drop_duplicates()"
   ]
  },
  {
   "cell_type": "code",
   "execution_count": 21,
   "metadata": {
    "collapsed": false
   },
   "outputs": [
    {
     "data": {
      "text/plain": [
       "3585"
      ]
     },
     "execution_count": 21,
     "metadata": {},
     "output_type": "execute_result"
    }
   ],
   "source": [
    "len(initial_interest)"
   ]
  },
  {
   "cell_type": "code",
   "execution_count": 20,
   "metadata": {
    "collapsed": false
   },
   "outputs": [
    {
     "data": {
      "text/plain": [
       "'{\"type\":\"update\",\"eventId\":5368619071,\"timestamp\":1547662175,\"timestampms\":1547662175932,\"socket_sequence\":1,\"events\":[{\"type\":\"change\",\"side\":\"bid\",\"price\":\"3614.45\",\"remaining\":\"0\",\"delta\":\"-0.04\",\"reason\":\"cancel\"}]}'"
      ]
     },
     "execution_count": 20,
     "metadata": {},
     "output_type": "execute_result"
    }
   ],
   "source": [
    "gemini_list[1]"
   ]
  },
  {
   "cell_type": "code",
   "execution_count": 22,
   "metadata": {
    "collapsed": false
   },
   "outputs": [
    {
     "name": "stdout",
     "output_type": "stream",
     "text": [
      "CPU times: user 1.81 ms, sys: 281 µs, total: 2.09 ms\n",
      "Wall time: 2.1 ms\n"
     ]
    }
   ],
   "source": [
    "%%time\n",
    "update_str = \", \".join(gemini_list[1:])"
   ]
  },
  {
   "cell_type": "code",
   "execution_count": 23,
   "metadata": {
    "collapsed": false
   },
   "outputs": [
    {
     "name": "stdout",
     "output_type": "stream",
     "text": [
      "CPU times: user 153 ms, sys: 38 ms, total: 191 ms\n",
      "Wall time: 193 ms\n"
     ]
    }
   ],
   "source": [
    "%%time\n",
    "all_updates_df = pd.read_json(\"[{}]\".format(update_str))"
   ]
  },
  {
   "cell_type": "code",
   "execution_count": 24,
   "metadata": {
    "collapsed": false
   },
   "outputs": [
    {
     "name": "stdout",
     "output_type": "stream",
     "text": [
      "CPU times: user 5.2 ms, sys: 127 µs, total: 5.32 ms\n",
      "Wall time: 7.23 ms\n"
     ]
    }
   ],
   "source": [
    "%%time\n",
    "all_updates_df[\"num_events\"] = all_updates_df.events.map(len)"
   ]
  },
  {
   "cell_type": "code",
   "execution_count": 30,
   "metadata": {
    "collapsed": false
   },
   "outputs": [
    {
     "name": "stderr",
     "output_type": "stream",
     "text": [
      "100%|██████████| 6/6 [00:00<00:00, 91.83it/s]\n"
     ]
    }
   ],
   "source": [
    "for i in tqdm(event_keys):\n",
    "    all_updates_df[i] = all_updates_df[\"events\"].map(lambda x: x[-1][i] if i in x[-1].keys() else \"missing\")"
   ]
  },
  {
   "cell_type": "code",
   "execution_count": 59,
   "metadata": {
    "collapsed": true
   },
   "outputs": [],
   "source": [
    "all_updates_df[\"price_double\"] = all_updates_df.price.astype(\"double\").round(2)"
   ]
  },
  {
   "cell_type": "code",
   "execution_count": 60,
   "metadata": {
    "collapsed": false
   },
   "outputs": [
    {
     "data": {
      "text/plain": [
       "1    10645\n",
       "2      198\n",
       "Name: num_events, dtype: int64"
      ]
     },
     "execution_count": 60,
     "metadata": {},
     "output_type": "execute_result"
    }
   ],
   "source": [
    "all_updates_df.num_events.value_counts()"
   ]
  },
  {
   "cell_type": "code",
   "execution_count": 61,
   "metadata": {
    "collapsed": true
   },
   "outputs": [],
   "source": [
    "trades = all_updates_df[all_updates_df.num_events == 2]"
   ]
  },
  {
   "cell_type": "code",
   "execution_count": 62,
   "metadata": {
    "collapsed": false
   },
   "outputs": [
    {
     "data": {
      "text/html": [
       "<div>\n",
       "<style scoped>\n",
       "    .dataframe tbody tr th:only-of-type {\n",
       "        vertical-align: middle;\n",
       "    }\n",
       "\n",
       "    .dataframe tbody tr th {\n",
       "        vertical-align: top;\n",
       "    }\n",
       "\n",
       "    .dataframe thead th {\n",
       "        text-align: right;\n",
       "    }\n",
       "</style>\n",
       "<table border=\"1\" class=\"dataframe\">\n",
       "  <thead>\n",
       "    <tr style=\"text-align: right;\">\n",
       "      <th></th>\n",
       "      <th>eventId</th>\n",
       "      <th>events</th>\n",
       "      <th>socket_sequence</th>\n",
       "      <th>timestamp</th>\n",
       "      <th>timestampms</th>\n",
       "      <th>type</th>\n",
       "      <th>num_events</th>\n",
       "      <th>price</th>\n",
       "      <th>reason</th>\n",
       "      <th>delta</th>\n",
       "      <th>side</th>\n",
       "      <th>remaining</th>\n",
       "      <th>price_double</th>\n",
       "    </tr>\n",
       "  </thead>\n",
       "  <tbody>\n",
       "    <tr>\n",
       "      <th>37</th>\n",
       "      <td>5368619504</td>\n",
       "      <td>[{'type': 'trade', 'amount': '0.45', 'tid': 53...</td>\n",
       "      <td>38</td>\n",
       "      <td>2019-01-16 18:09:37</td>\n",
       "      <td>2019-01-16 18:09:37.570</td>\n",
       "      <td>change</td>\n",
       "      <td>2</td>\n",
       "      <td>3620.42</td>\n",
       "      <td>trade</td>\n",
       "      <td>-0.45</td>\n",
       "      <td>bid</td>\n",
       "      <td>0.518</td>\n",
       "      <td>3620.42</td>\n",
       "    </tr>\n",
       "    <tr>\n",
       "      <th>107</th>\n",
       "      <td>5368620111</td>\n",
       "      <td>[{'type': 'trade', 'amount': '0.1', 'tid': 536...</td>\n",
       "      <td>108</td>\n",
       "      <td>2019-01-16 18:09:40</td>\n",
       "      <td>2019-01-16 18:09:40.469</td>\n",
       "      <td>change</td>\n",
       "      <td>2</td>\n",
       "      <td>3620.50</td>\n",
       "      <td>trade</td>\n",
       "      <td>-0.1</td>\n",
       "      <td>bid</td>\n",
       "      <td>0.611</td>\n",
       "      <td>3620.50</td>\n",
       "    </tr>\n",
       "  </tbody>\n",
       "</table>\n",
       "</div>"
      ],
      "text/plain": [
       "        eventId                                             events  \\\n",
       "37   5368619504  [{'type': 'trade', 'amount': '0.45', 'tid': 53...   \n",
       "107  5368620111  [{'type': 'trade', 'amount': '0.1', 'tid': 536...   \n",
       "\n",
       "     socket_sequence           timestamp             timestampms    type  \\\n",
       "37                38 2019-01-16 18:09:37 2019-01-16 18:09:37.570  change   \n",
       "107              108 2019-01-16 18:09:40 2019-01-16 18:09:40.469  change   \n",
       "\n",
       "     num_events    price reason  delta side remaining  price_double  \n",
       "37            2  3620.42  trade  -0.45  bid     0.518       3620.42  \n",
       "107           2  3620.50  trade   -0.1  bid     0.611       3620.50  "
      ]
     },
     "execution_count": 62,
     "metadata": {},
     "output_type": "execute_result"
    }
   ],
   "source": [
    "trades.iloc[:2]"
   ]
  },
  {
   "cell_type": "code",
   "execution_count": 63,
   "metadata": {
    "collapsed": true
   },
   "outputs": [],
   "source": []
  },
  {
   "cell_type": "code",
   "execution_count": 64,
   "metadata": {
    "collapsed": false
   },
   "outputs": [
    {
     "data": {
      "text/plain": [
       "[3612.6399999999999, 3622.96]"
      ]
     },
     "execution_count": 64,
     "metadata": {},
     "output_type": "execute_result"
    }
   ],
   "source": [
    "trades_range"
   ]
  },
  {
   "cell_type": "code",
   "execution_count": 73,
   "metadata": {
    "collapsed": false
   },
   "outputs": [
    {
     "data": {
      "text/plain": [
       "3612.6399999999999"
      ]
     },
     "execution_count": 73,
     "metadata": {},
     "output_type": "execute_result"
    }
   ],
   "source": [
    "trades.sort_values(\"price_double\").price_double.round(3).iloc[0]"
   ]
  },
  {
   "cell_type": "code",
   "execution_count": 77,
   "metadata": {
    "collapsed": false
   },
   "outputs": [
    {
     "data": {
      "text/plain": [
       "7    10843\n",
       "Name: price, dtype: int64"
      ]
     },
     "execution_count": 77,
     "metadata": {},
     "output_type": "execute_result"
    }
   ],
   "source": [
    "all_updates_df.price.map(len).value_counts()"
   ]
  },
  {
   "cell_type": "code",
   "execution_count": 79,
   "metadata": {
    "collapsed": false
   },
   "outputs": [
    {
     "data": {
      "text/plain": [
       "1775"
      ]
     },
     "execution_count": 79,
     "metadata": {},
     "output_type": "execute_result"
    }
   ],
   "source": [
    "all_updates_df.price.nunique()"
   ]
  },
  {
   "cell_type": "code",
   "execution_count": 83,
   "metadata": {
    "collapsed": false
   },
   "outputs": [],
   "source": [
    "all_updates_df[\"price_padded\"] = all_updates_df.price.str.pad(7, \"left\", \"0\")"
   ]
  },
  {
   "cell_type": "code",
   "execution_count": 92,
   "metadata": {
    "collapsed": true
   },
   "outputs": [],
   "source": [
    "trades_range = [\n",
    "    all_updates_df[all_updates_df.num_events == 2].price_padded.min(),\n",
    "    all_updates_df[all_updates_df.num_events == 2].price_padded.max()]"
   ]
  },
  {
   "cell_type": "code",
   "execution_count": 86,
   "metadata": {
    "collapsed": false
   },
   "outputs": [],
   "source": [
    "interest_changes = all_updates_df[[\"timestampms\", \"price_padded\", \"remaining\", \"side\"]]"
   ]
  },
  {
   "cell_type": "code",
   "execution_count": 96,
   "metadata": {
    "collapsed": false
   },
   "outputs": [],
   "source": [
    "interest_changes_in_trades_range = interest_changes[interest_changes.price_padded.between(*trades_range)]"
   ]
  },
  {
   "cell_type": "code",
   "execution_count": 99,
   "metadata": {
    "collapsed": false
   },
   "outputs": [
    {
     "data": {
      "text/plain": [
       "(6716, 5)"
      ]
     },
     "execution_count": 99,
     "metadata": {},
     "output_type": "execute_result"
    }
   ],
   "source": [
    "interest_changes_in_trades_range.shape"
   ]
  },
  {
   "cell_type": "code",
   "execution_count": 104,
   "metadata": {
    "collapsed": false
   },
   "outputs": [
    {
     "name": "stderr",
     "output_type": "stream",
     "text": [
      "/home/gautam_sisodia/anaconda3/lib/python3.5/site-packages/ipykernel_launcher.py:3: SettingWithCopyWarning: \n",
      "A value is trying to be set on a copy of a slice from a DataFrame.\n",
      "Try using .loc[row_indexer,col_indexer] = value instead\n",
      "\n",
      "See the caveats in the documentation: http://pandas.pydata.org/pandas-docs/stable/indexing.html#indexing-view-versus-copy\n",
      "  This is separate from the ipykernel package so we can avoid doing imports until\n"
     ]
    }
   ],
   "source": [
    "interest_changes_in_trades_range[\"next_tim\"] = interest_changes_in_trades_range.sort_values(\n",
    "    \"timestampms\").groupby(\n",
    "    [\"price_padded\", \"side\"])[\"timestampms\"].shift(-1)"
   ]
  },
  {
   "cell_type": "code",
   "execution_count": 105,
   "metadata": {
    "collapsed": false
   },
   "outputs": [
    {
     "data": {
      "text/html": [
       "<div>\n",
       "<style scoped>\n",
       "    .dataframe tbody tr th:only-of-type {\n",
       "        vertical-align: middle;\n",
       "    }\n",
       "\n",
       "    .dataframe tbody tr th {\n",
       "        vertical-align: top;\n",
       "    }\n",
       "\n",
       "    .dataframe thead th {\n",
       "        text-align: right;\n",
       "    }\n",
       "</style>\n",
       "<table border=\"1\" class=\"dataframe\">\n",
       "  <thead>\n",
       "    <tr style=\"text-align: right;\">\n",
       "      <th></th>\n",
       "      <th>timestampms</th>\n",
       "      <th>price_padded</th>\n",
       "      <th>remaining</th>\n",
       "      <th>side</th>\n",
       "      <th>next_tim</th>\n",
       "    </tr>\n",
       "  </thead>\n",
       "  <tbody>\n",
       "    <tr>\n",
       "      <th>0</th>\n",
       "      <td>2019-01-16 18:09:35.932</td>\n",
       "      <td>3614.45</td>\n",
       "      <td>0</td>\n",
       "      <td>bid</td>\n",
       "      <td>2019-01-16 18:19:33.636</td>\n",
       "    </tr>\n",
       "    <tr>\n",
       "      <th>10</th>\n",
       "      <td>2019-01-16 18:09:36.331</td>\n",
       "      <td>3615.56</td>\n",
       "      <td>0.08</td>\n",
       "      <td>bid</td>\n",
       "      <td>2019-01-16 18:09:40.055</td>\n",
       "    </tr>\n",
       "    <tr>\n",
       "      <th>13</th>\n",
       "      <td>2019-01-16 18:09:36.470</td>\n",
       "      <td>3613.42</td>\n",
       "      <td>0.54</td>\n",
       "      <td>bid</td>\n",
       "      <td>2019-01-16 18:09:36.569</td>\n",
       "    </tr>\n",
       "    <tr>\n",
       "      <th>15</th>\n",
       "      <td>2019-01-16 18:09:36.546</td>\n",
       "      <td>3619.86</td>\n",
       "      <td>0</td>\n",
       "      <td>bid</td>\n",
       "      <td>NaT</td>\n",
       "    </tr>\n",
       "    <tr>\n",
       "      <th>16</th>\n",
       "      <td>2019-01-16 18:09:36.563</td>\n",
       "      <td>3619.54</td>\n",
       "      <td>6.8651</td>\n",
       "      <td>bid</td>\n",
       "      <td>2019-01-16 18:09:37.612</td>\n",
       "    </tr>\n",
       "    <tr>\n",
       "      <th>17</th>\n",
       "      <td>2019-01-16 18:09:36.569</td>\n",
       "      <td>3613.42</td>\n",
       "      <td>0.62</td>\n",
       "      <td>bid</td>\n",
       "      <td>2019-01-16 18:09:37.871</td>\n",
       "    </tr>\n",
       "    <tr>\n",
       "      <th>31</th>\n",
       "      <td>2019-01-16 18:09:37.209</td>\n",
       "      <td>3615.99</td>\n",
       "      <td>0.18</td>\n",
       "      <td>bid</td>\n",
       "      <td>2019-01-16 18:09:37.308</td>\n",
       "    </tr>\n",
       "    <tr>\n",
       "      <th>33</th>\n",
       "      <td>2019-01-16 18:09:37.308</td>\n",
       "      <td>3615.99</td>\n",
       "      <td>0.36</td>\n",
       "      <td>bid</td>\n",
       "      <td>2019-01-16 18:09:37.609</td>\n",
       "    </tr>\n",
       "    <tr>\n",
       "      <th>37</th>\n",
       "      <td>2019-01-16 18:09:37.570</td>\n",
       "      <td>3620.42</td>\n",
       "      <td>0.518</td>\n",
       "      <td>bid</td>\n",
       "      <td>2019-01-16 18:09:39.077</td>\n",
       "    </tr>\n",
       "    <tr>\n",
       "      <th>38</th>\n",
       "      <td>2019-01-16 18:09:37.609</td>\n",
       "      <td>3615.99</td>\n",
       "      <td>0.44</td>\n",
       "      <td>bid</td>\n",
       "      <td>2019-01-16 18:09:37.709</td>\n",
       "    </tr>\n",
       "  </tbody>\n",
       "</table>\n",
       "</div>"
      ],
      "text/plain": [
       "               timestampms price_padded remaining side                next_tim\n",
       "0  2019-01-16 18:09:35.932      3614.45         0  bid 2019-01-16 18:19:33.636\n",
       "10 2019-01-16 18:09:36.331      3615.56      0.08  bid 2019-01-16 18:09:40.055\n",
       "13 2019-01-16 18:09:36.470      3613.42      0.54  bid 2019-01-16 18:09:36.569\n",
       "15 2019-01-16 18:09:36.546      3619.86         0  bid                     NaT\n",
       "16 2019-01-16 18:09:36.563      3619.54    6.8651  bid 2019-01-16 18:09:37.612\n",
       "17 2019-01-16 18:09:36.569      3613.42      0.62  bid 2019-01-16 18:09:37.871\n",
       "31 2019-01-16 18:09:37.209      3615.99      0.18  bid 2019-01-16 18:09:37.308\n",
       "33 2019-01-16 18:09:37.308      3615.99      0.36  bid 2019-01-16 18:09:37.609\n",
       "37 2019-01-16 18:09:37.570      3620.42     0.518  bid 2019-01-16 18:09:39.077\n",
       "38 2019-01-16 18:09:37.609      3615.99      0.44  bid 2019-01-16 18:09:37.709"
      ]
     },
     "execution_count": 105,
     "metadata": {},
     "output_type": "execute_result"
    }
   ],
   "source": [
    "interest_changes_in_trades_range.iloc[:10]"
   ]
  },
  {
   "cell_type": "code",
   "execution_count": 106,
   "metadata": {
    "collapsed": true
   },
   "outputs": [],
   "source": [
    "interest_changes_in_trades_range.to_json(\"gemini_interest.j\")"
   ]
  },
  {
   "cell_type": "code",
   "execution_count": null,
   "metadata": {
    "collapsed": true
   },
   "outputs": [],
   "source": []
  }
 ],
 "metadata": {
  "kernelspec": {
   "display_name": "Python 3",
   "language": "python",
   "name": "python3"
  },
  "language_info": {
   "codemirror_mode": {
    "name": "ipython",
    "version": 3
   },
   "file_extension": ".py",
   "mimetype": "text/x-python",
   "name": "python",
   "nbconvert_exporter": "python",
   "pygments_lexer": "ipython3",
   "version": "3.5.4"
  }
 },
 "nbformat": 4,
 "nbformat_minor": 2
}
