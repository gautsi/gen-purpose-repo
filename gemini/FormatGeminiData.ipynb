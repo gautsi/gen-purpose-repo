{
 "cells": [
  {
   "cell_type": "code",
   "execution_count": 1,
   "metadata": {
    "collapsed": true
   },
   "outputs": [],
   "source": [
    "import pandas as pd"
   ]
  },
  {
   "cell_type": "markdown",
   "metadata": {},
   "source": [
    "Read in gemini data"
   ]
  },
  {
   "cell_type": "code",
   "execution_count": 2,
   "metadata": {
    "collapsed": true
   },
   "outputs": [],
   "source": [
    "with open(\"./gemini_pull_2019_01_16_18_07_06.txt\", \"r\") as file:\n",
    "    gemini = file.read()"
   ]
  },
  {
   "cell_type": "code",
   "execution_count": 3,
   "metadata": {
    "collapsed": false
   },
   "outputs": [
    {
     "data": {
      "text/plain": [
       "str"
      ]
     },
     "execution_count": 3,
     "metadata": {},
     "output_type": "execute_result"
    }
   ],
   "source": [
    "type(gemini)"
   ]
  },
  {
   "cell_type": "code",
   "execution_count": 5,
   "metadata": {
    "collapsed": false
   },
   "outputs": [
    {
     "name": "stdout",
     "output_type": "stream",
     "text": [
      "CPU times: user 13.9 ms, sys: 0 ns, total: 13.9 ms\n",
      "Wall time: 15.8 ms\n"
     ]
    }
   ],
   "source": [
    "%%time\n",
    "gemini_list = gemini.replace(\"}{\", \"}\\n{\").split(\"\\n\")"
   ]
  },
  {
   "cell_type": "code",
   "execution_count": 7,
   "metadata": {
    "collapsed": false
   },
   "outputs": [
    {
     "data": {
      "text/plain": [
       "10844"
      ]
     },
     "execution_count": 7,
     "metadata": {},
     "output_type": "execute_result"
    }
   ],
   "source": [
    "len(gemini_list)"
   ]
  },
  {
   "cell_type": "code",
   "execution_count": 8,
   "metadata": {
    "collapsed": false
   },
   "outputs": [
    {
     "data": {
      "text/plain": [
       "[386154, 219, 222, 220, 226, 224, 222, 220, 222, 219]"
      ]
     },
     "execution_count": 8,
     "metadata": {},
     "output_type": "execute_result"
    }
   ],
   "source": [
    "[len(i) for i in gemini_list[:10]]"
   ]
  },
  {
   "cell_type": "code",
   "execution_count": 11,
   "metadata": {
    "collapsed": false
   },
   "outputs": [],
   "source": [
    "first_message_df = pd.read_json(gemini_list[0])"
   ]
  },
  {
   "cell_type": "code",
   "execution_count": 12,
   "metadata": {
    "collapsed": false
   },
   "outputs": [
    {
     "data": {
      "text/html": [
       "<div>\n",
       "<style scoped>\n",
       "    .dataframe tbody tr th:only-of-type {\n",
       "        vertical-align: middle;\n",
       "    }\n",
       "\n",
       "    .dataframe tbody tr th {\n",
       "        vertical-align: top;\n",
       "    }\n",
       "\n",
       "    .dataframe thead th {\n",
       "        text-align: right;\n",
       "    }\n",
       "</style>\n",
       "<table border=\"1\" class=\"dataframe\">\n",
       "  <thead>\n",
       "    <tr style=\"text-align: right;\">\n",
       "      <th></th>\n",
       "      <th>eventId</th>\n",
       "      <th>events</th>\n",
       "      <th>socket_sequence</th>\n",
       "      <th>type</th>\n",
       "    </tr>\n",
       "  </thead>\n",
       "  <tbody>\n",
       "    <tr>\n",
       "      <th>0</th>\n",
       "      <td>5368619062</td>\n",
       "      <td>{'remaining': '191642.102', 'side': 'bid', 'de...</td>\n",
       "      <td>0</td>\n",
       "      <td>update</td>\n",
       "    </tr>\n",
       "    <tr>\n",
       "      <th>1</th>\n",
       "      <td>5368619062</td>\n",
       "      <td>{'remaining': '22959.5', 'side': 'bid', 'delta...</td>\n",
       "      <td>0</td>\n",
       "      <td>update</td>\n",
       "    </tr>\n",
       "    <tr>\n",
       "      <th>2</th>\n",
       "      <td>5368619062</td>\n",
       "      <td>{'remaining': '33', 'side': 'bid', 'delta': '3...</td>\n",
       "      <td>0</td>\n",
       "      <td>update</td>\n",
       "    </tr>\n",
       "    <tr>\n",
       "      <th>3</th>\n",
       "      <td>5368619062</td>\n",
       "      <td>{'remaining': '0.00055', 'side': 'bid', 'delta...</td>\n",
       "      <td>0</td>\n",
       "      <td>update</td>\n",
       "    </tr>\n",
       "    <tr>\n",
       "      <th>4</th>\n",
       "      <td>5368619062</td>\n",
       "      <td>{'remaining': '3693', 'side': 'bid', 'delta': ...</td>\n",
       "      <td>0</td>\n",
       "      <td>update</td>\n",
       "    </tr>\n",
       "  </tbody>\n",
       "</table>\n",
       "</div>"
      ],
      "text/plain": [
       "      eventId                                             events  \\\n",
       "0  5368619062  {'remaining': '191642.102', 'side': 'bid', 'de...   \n",
       "1  5368619062  {'remaining': '22959.5', 'side': 'bid', 'delta...   \n",
       "2  5368619062  {'remaining': '33', 'side': 'bid', 'delta': '3...   \n",
       "3  5368619062  {'remaining': '0.00055', 'side': 'bid', 'delta...   \n",
       "4  5368619062  {'remaining': '3693', 'side': 'bid', 'delta': ...   \n",
       "\n",
       "   socket_sequence    type  \n",
       "0                0  update  \n",
       "1                0  update  \n",
       "2                0  update  \n",
       "3                0  update  \n",
       "4                0  update  "
      ]
     },
     "execution_count": 12,
     "metadata": {},
     "output_type": "execute_result"
    }
   ],
   "source": [
    "first_message_df.head()"
   ]
  },
  {
   "cell_type": "code",
   "execution_count": 13,
   "metadata": {
    "collapsed": false
   },
   "outputs": [
    {
     "data": {
      "text/plain": [
       "eventId             int64\n",
       "events             object\n",
       "socket_sequence     int64\n",
       "type               object\n",
       "dtype: object"
      ]
     },
     "execution_count": 13,
     "metadata": {},
     "output_type": "execute_result"
    }
   ],
   "source": [
    "first_message_df.dtypes"
   ]
  },
  {
   "cell_type": "code",
   "execution_count": 19,
   "metadata": {
    "collapsed": false
   },
   "outputs": [
    {
     "data": {
      "text/plain": [
       "{'delta': '191642.102',\n",
       " 'price': '0.01',\n",
       " 'reason': 'initial',\n",
       " 'remaining': '191642.102',\n",
       " 'side': 'bid',\n",
       " 'type': 'change'}"
      ]
     },
     "execution_count": 19,
     "metadata": {},
     "output_type": "execute_result"
    }
   ],
   "source": [
    "first_message_df[\"events\"].iloc[0]"
   ]
  },
  {
   "cell_type": "code",
   "execution_count": 22,
   "metadata": {
    "collapsed": true
   },
   "outputs": [],
   "source": [
    "event_keys = first_message_df[\"events\"].iloc[0].keys()"
   ]
  },
  {
   "cell_type": "code",
   "execution_count": 25,
   "metadata": {
    "collapsed": false
   },
   "outputs": [],
   "source": [
    "for i in event_keys:\n",
    "    first_message_df[i] = first_message_df[\"events\"].map(lambda x: x[i])"
   ]
  },
  {
   "cell_type": "code",
   "execution_count": 26,
   "metadata": {
    "collapsed": false
   },
   "outputs": [
    {
     "data": {
      "text/html": [
       "<div>\n",
       "<style scoped>\n",
       "    .dataframe tbody tr th:only-of-type {\n",
       "        vertical-align: middle;\n",
       "    }\n",
       "\n",
       "    .dataframe tbody tr th {\n",
       "        vertical-align: top;\n",
       "    }\n",
       "\n",
       "    .dataframe thead th {\n",
       "        text-align: right;\n",
       "    }\n",
       "</style>\n",
       "<table border=\"1\" class=\"dataframe\">\n",
       "  <thead>\n",
       "    <tr style=\"text-align: right;\">\n",
       "      <th></th>\n",
       "      <th>eventId</th>\n",
       "      <th>events</th>\n",
       "      <th>socket_sequence</th>\n",
       "      <th>type</th>\n",
       "      <th>remaining</th>\n",
       "      <th>side</th>\n",
       "      <th>delta</th>\n",
       "      <th>price</th>\n",
       "      <th>reason</th>\n",
       "    </tr>\n",
       "  </thead>\n",
       "  <tbody>\n",
       "    <tr>\n",
       "      <th>0</th>\n",
       "      <td>5368619062</td>\n",
       "      <td>{'remaining': '191642.102', 'side': 'bid', 'de...</td>\n",
       "      <td>0</td>\n",
       "      <td>change</td>\n",
       "      <td>191642.102</td>\n",
       "      <td>bid</td>\n",
       "      <td>191642.102</td>\n",
       "      <td>0.01</td>\n",
       "      <td>initial</td>\n",
       "    </tr>\n",
       "    <tr>\n",
       "      <th>1</th>\n",
       "      <td>5368619062</td>\n",
       "      <td>{'remaining': '22959.5', 'side': 'bid', 'delta...</td>\n",
       "      <td>0</td>\n",
       "      <td>change</td>\n",
       "      <td>22959.5</td>\n",
       "      <td>bid</td>\n",
       "      <td>22959.5</td>\n",
       "      <td>0.02</td>\n",
       "      <td>initial</td>\n",
       "    </tr>\n",
       "    <tr>\n",
       "      <th>2</th>\n",
       "      <td>5368619062</td>\n",
       "      <td>{'remaining': '33', 'side': 'bid', 'delta': '3...</td>\n",
       "      <td>0</td>\n",
       "      <td>change</td>\n",
       "      <td>33</td>\n",
       "      <td>bid</td>\n",
       "      <td>33</td>\n",
       "      <td>0.03</td>\n",
       "      <td>initial</td>\n",
       "    </tr>\n",
       "    <tr>\n",
       "      <th>3</th>\n",
       "      <td>5368619062</td>\n",
       "      <td>{'remaining': '0.00055', 'side': 'bid', 'delta...</td>\n",
       "      <td>0</td>\n",
       "      <td>change</td>\n",
       "      <td>0.00055</td>\n",
       "      <td>bid</td>\n",
       "      <td>0.00055</td>\n",
       "      <td>0.04</td>\n",
       "      <td>initial</td>\n",
       "    </tr>\n",
       "    <tr>\n",
       "      <th>4</th>\n",
       "      <td>5368619062</td>\n",
       "      <td>{'remaining': '3693', 'side': 'bid', 'delta': ...</td>\n",
       "      <td>0</td>\n",
       "      <td>change</td>\n",
       "      <td>3693</td>\n",
       "      <td>bid</td>\n",
       "      <td>3693</td>\n",
       "      <td>0.05</td>\n",
       "      <td>initial</td>\n",
       "    </tr>\n",
       "  </tbody>\n",
       "</table>\n",
       "</div>"
      ],
      "text/plain": [
       "      eventId                                             events  \\\n",
       "0  5368619062  {'remaining': '191642.102', 'side': 'bid', 'de...   \n",
       "1  5368619062  {'remaining': '22959.5', 'side': 'bid', 'delta...   \n",
       "2  5368619062  {'remaining': '33', 'side': 'bid', 'delta': '3...   \n",
       "3  5368619062  {'remaining': '0.00055', 'side': 'bid', 'delta...   \n",
       "4  5368619062  {'remaining': '3693', 'side': 'bid', 'delta': ...   \n",
       "\n",
       "   socket_sequence    type   remaining side       delta price   reason  \n",
       "0                0  change  191642.102  bid  191642.102  0.01  initial  \n",
       "1                0  change     22959.5  bid     22959.5  0.02  initial  \n",
       "2                0  change          33  bid          33  0.03  initial  \n",
       "3                0  change     0.00055  bid     0.00055  0.04  initial  \n",
       "4                0  change        3693  bid        3693  0.05  initial  "
      ]
     },
     "execution_count": 26,
     "metadata": {},
     "output_type": "execute_result"
    }
   ],
   "source": [
    "first_message_df.head()"
   ]
  },
  {
   "cell_type": "markdown",
   "metadata": {},
   "source": [
    "each price shows up once:"
   ]
  },
  {
   "cell_type": "code",
   "execution_count": 30,
   "metadata": {
    "collapsed": false
   },
   "outputs": [
    {
     "data": {
      "text/plain": [
       "717.00      1\n",
       "19000.74    1\n",
       "2915.00     1\n",
       "14700.00    1\n",
       "2660.10     1\n",
       "Name: price, dtype: int64"
      ]
     },
     "execution_count": 30,
     "metadata": {},
     "output_type": "execute_result"
    }
   ],
   "source": [
    "first_message_df.price.value_counts().head()"
   ]
  },
  {
   "cell_type": "markdown",
   "metadata": {},
   "source": [
    "delta always equals remaining:"
   ]
  },
  {
   "cell_type": "code",
   "execution_count": 32,
   "metadata": {
    "collapsed": false
   },
   "outputs": [
    {
     "data": {
      "text/plain": [
       "0"
      ]
     },
     "execution_count": 32,
     "metadata": {},
     "output_type": "execute_result"
    }
   ],
   "source": [
    "len(first_message_df[first_message_df.remaining != first_message_df.delta])"
   ]
  },
  {
   "cell_type": "code",
   "execution_count": 34,
   "metadata": {
    "collapsed": true
   },
   "outputs": [],
   "source": [
    "initial_interest = first_message_df[[\"side\", \"price\", \"remaining\"]].drop_duplicates()"
   ]
  },
  {
   "cell_type": "code",
   "execution_count": 35,
   "metadata": {
    "collapsed": true
   },
   "outputs": [],
   "source": [
    "import matplotlib.pyplot as plt\n",
    "import seaborn as sns\n",
    "%matplotlib inline"
   ]
  },
  {
   "cell_type": "code",
   "execution_count": 37,
   "metadata": {
    "collapsed": false
   },
   "outputs": [
    {
     "data": {
      "text/plain": [
       "side         object\n",
       "price        object\n",
       "remaining    object\n",
       "dtype: object"
      ]
     },
     "execution_count": 37,
     "metadata": {},
     "output_type": "execute_result"
    }
   ],
   "source": [
    "initial_interest.dtypes"
   ]
  },
  {
   "cell_type": "code",
   "execution_count": 60,
   "metadata": {
    "collapsed": true
   },
   "outputs": [],
   "source": [
    "first_message_df[\"price\"] = first_message_df.price.astype(\"float\")\n",
    "first_message_df[\"remaining\"] = first_message_df.remaining.astype(\"float\")"
   ]
  },
  {
   "cell_type": "code",
   "execution_count": 73,
   "metadata": {
    "collapsed": false
   },
   "outputs": [],
   "source": [
    "bids = first_message_df[first_message_df.side == \"bid\"].sort_values(\"price\", ascending = False)\n",
    "bids[\"cum_interest\"] = bids.remaining.cumsum()"
   ]
  },
  {
   "cell_type": "code",
   "execution_count": 80,
   "metadata": {
    "collapsed": false
   },
   "outputs": [],
   "source": [
    "asks = first_message_df[first_message_df.side == \"ask\"].sort_values(\"price\", ascending = True)\n",
    "asks[\"cum_interest\"] = asks.remaining.cumsum()"
   ]
  },
  {
   "cell_type": "code",
   "execution_count": 81,
   "metadata": {
    "collapsed": false
   },
   "outputs": [],
   "source": [
    "close_to_top = [s[s.price.between(3600, 3640)] for s in [bids, asks]]"
   ]
  },
  {
   "cell_type": "code",
   "execution_count": 82,
   "metadata": {
    "collapsed": false
   },
   "outputs": [
    {
     "data": {
      "text/plain": [
       "[<matplotlib.axes._subplots.AxesSubplot at 0x7f1b0e303828>,\n",
       " <matplotlib.axes._subplots.AxesSubplot at 0x7f1b0e303828>]"
      ]
     },
     "execution_count": 82,
     "metadata": {},
     "output_type": "execute_result"
    },
    {
     "data": {
      "image/png": "[encoded data removed]",
      "text/plain": [
       "<matplotlib.figure.Figure at 0x7f1b0e28aa20>"
      ]
     },
     "metadata": {
      "needs_background": "light"
     },
     "output_type": "display_data"
    }
   ],
   "source": [
    "fig, ax = plt.subplots(figsize = (10, 5))\n",
    "\n",
    "[sns.lineplot(ax = ax, data = s, x = \"price\", y = \"cum_interest\") for s in close_to_top]"
   ]
  },
  {
   "cell_type": "code",
   "execution_count": 53,
   "metadata": {
    "collapsed": false
   },
   "outputs": [
    {
     "data": {
      "text/plain": [
       "3620.4200000000001"
      ]
     },
     "execution_count": 53,
     "metadata": {},
     "output_type": "execute_result"
    }
   ],
   "source": [
    "first_message_df[first_message_df.side == \"bid\"].price.astype(\"float\").max()"
   ]
  },
  {
   "cell_type": "code",
   "execution_count": 52,
   "metadata": {
    "collapsed": false
   },
   "outputs": [
    {
     "data": {
      "text/plain": [
       "3621.9200000000001"
      ]
     },
     "execution_count": 52,
     "metadata": {},
     "output_type": "execute_result"
    }
   ],
   "source": [
    "first_message_df[first_message_df.side == \"ask\"].price.astype(\"float\").min()"
   ]
  },
  {
   "cell_type": "code",
   "execution_count": null,
   "metadata": {
    "collapsed": true
   },
   "outputs": [],
   "source": []
  }
 ],
 "metadata": {
  "kernelspec": {
   "display_name": "Python 3",
   "language": "python",
   "name": "python3"
  },
  "language_info": {
   "codemirror_mode": {
    "name": "ipython",
    "version": 3
   },
   "file_extension": ".py",
   "mimetype": "text/x-python",
   "name": "python",
   "nbconvert_exporter": "python",
   "pygments_lexer": "ipython3",
   "version": "3.5.4"
  }
 },
 "nbformat": 4,
 "nbformat_minor": 2
}
