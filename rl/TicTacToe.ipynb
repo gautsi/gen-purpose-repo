{
 "cells": [
  {
   "cell_type": "code",
   "execution_count": 120,
   "metadata": {
    "collapsed": false
   },
   "outputs": [],
   "source": [
    "import numpy as np\n",
    "from functools import reduce\n",
    "from tqdm import tqdm\n",
    "import pandas as pd"
   ]
  },
  {
   "cell_type": "code",
   "execution_count": 121,
   "metadata": {
    "collapsed": true
   },
   "outputs": [],
   "source": [
    "def get_sequences(start = 0, num_seq = 3, seq_len = 3, outer_step = 3, inner_step = 1, inner_step_change = 0):\n",
    "    seqs = []\n",
    "    st = start\n",
    "    curr_inner_step = inner_step\n",
    "    for _ in range(num_seq):\n",
    "        seq = []\n",
    "        entry = st\n",
    "        for _ in range(seq_len):\n",
    "            seq.append(entry)\n",
    "            entry += curr_inner_step\n",
    "        seqs.append(seq)\n",
    "        st += outer_step\n",
    "        curr_inner_step += inner_step_change\n",
    "    return seqs\n"
   ]
  },
  {
   "cell_type": "code",
   "execution_count": 122,
   "metadata": {
    "collapsed": false
   },
   "outputs": [],
   "source": [
    "class Strategy():\n",
    "    def __init__(self, pick_action, update_strategy):\n",
    "        self.pick_action = pick_action\n",
    "        self.update_strategy = update_strategy        \n",
    "        \n",
    "class TicTacToe(object):\n",
    "    def __init__(self):\n",
    "        self.board = 9 * [0]\n",
    "        self.num_moves = 0\n",
    "        self.game_end = False\n",
    "        self.winning_sequences = get_sequences() + \\\n",
    "            get_sequences(outer_step = 1, inner_step = 3) + \\\n",
    "            get_sequences(num_seq = 2, outer_step = 2, inner_step = 4, inner_step_change = -2)\n",
    "                    \n",
    "    def get_player(self):\n",
    "        return self.num_moves % 2 + 1\n",
    "        \n",
    "    def step(self, action):\n",
    "        reward = 0\n",
    "        if action >= 0 and action <= 9:\n",
    "            position = self.board[action]\n",
    "            if position == 0:\n",
    "                self.board[action] = self.get_player()\n",
    "                if self.check_win():\n",
    "                    reward = 1\n",
    "                    self.game_end = True\n",
    "                if self.check_cats_game():\n",
    "                    self.game_end = True\n",
    "        self.num_moves += 1\n",
    "        return reward\n",
    "    \n",
    "    def check_cats_game(self):\n",
    "        return len([i for i in self.board if i == 0]) == 0\n",
    "    \n",
    "    def check_seq(self, seq):\n",
    "        return reduce(\n",
    "            lambda x, y: x or y, map(\n",
    "                lambda p: reduce(\n",
    "                    lambda x, y: x and y, map(\n",
    "                        lambda x: self.board[x] == p, seq)), [1, 2]))\n",
    "            \n",
    "    def check_win(self):\n",
    "        return reduce(lambda x, y: x or y, map(lambda x: self.check_seq(x), self.winning_sequences))\n",
    "        \n",
    "    def switch_perspective(self):\n",
    "        return [1 if i == 2 else 2 if i == 1 else 0 for i in self.board]\n",
    "    \n",
    "    def render(self):\n",
    "        print(\n",
    "            \"\\n\".join([\" \".join(map(str, line)) for line in np.array(self.board).reshape(3, 3)] +\\\n",
    "                      [\"player {}'s move\".format(self.get_player())]))\n",
    "        \n",
    "def board_to_state(board):\n",
    "    state = 0\n",
    "    for ind, cell in enumerate(board):\n",
    "        state += np.power(3, ind) * cell\n",
    "    return state\n"
   ]
  },
  {
   "cell_type": "code",
   "execution_count": 123,
   "metadata": {
    "collapsed": true
   },
   "outputs": [],
   "source": [
    "def rand_pick_action(current_state, current_game):\n",
    "    return np.random.choice(range(9))\n",
    "\n",
    "def rand_update_strategy(current_state, action, next_state, reward, game_end):\n",
    "    pass\n",
    "\n",
    "rand_strategy = Strategy(rand_pick_action, rand_update_strategy)"
   ]
  },
  {
   "cell_type": "code",
   "execution_count": 162,
   "metadata": {
    "collapsed": true
   },
   "outputs": [],
   "source": [
    "def run_n_games(num_games, strategies, current_info_dict = False, use_tqdm = True, update = True):\n",
    "    states_info_dict = {\n",
    "      \"current_game\": [],\n",
    "      \"current_game_action_num\": [],\n",
    "      \"current_state\": [],\n",
    "      \"action\": [],\n",
    "      \"next_state\": [],\n",
    "      \"reward\": [],\n",
    "      \"end_game\": []\n",
    "    } if current_info_dict == False else current_info_dict\n",
    "\n",
    "    prev_games_played = 0 if current_info_dict == False else len(set(current_info_dict[\"current_game\"]))\n",
    "    \n",
    "    loop_list = tqdm(range(1, num_games + 1)) if use_tqdm else range(1, num_games + 1)\n",
    "\n",
    "    # run the games\n",
    "    for game_num in loop_list:\n",
    "        game = TicTacToe()\n",
    "        game_end = False\n",
    "        current_state = board_to_state(game.board)\n",
    "        current_game_action_num = 1\n",
    "        while not game_end:\n",
    "            reward = [0, 0]\n",
    "            # move\n",
    "            player = (current_game_action_num - 1) % 2\n",
    "            player_perspective_state = current_state if player == 1 else board_to_state(game.switch_perspective())\n",
    "            strategy = strategies[player] if len(strategies) == 2 else strategies[0]\n",
    "            action = strategy.pick_action(player_perspective_state, game_num + prev_games_played)\n",
    "            reward[player] = game.step(action)\n",
    "            next_state = board_to_state(game.board)\n",
    "            game_end = game.game_end\n",
    "            if update:\n",
    "                strategy.update_strategy(current_state, action, next_state, reward[player], game_end)\n",
    "\n",
    "            # add info to dict\n",
    "            states_info_dict[\"current_game\"].append(game_num + prev_games_played)\n",
    "            states_info_dict[\"current_game_action_num\"].append(current_game_action_num)\n",
    "            states_info_dict[\"current_state\"].append(current_state)\n",
    "            states_info_dict[\"action\"].append(action)\n",
    "            states_info_dict[\"next_state\"].append(next_state)\n",
    "            states_info_dict[\"reward\"].append(reward)\n",
    "            states_info_dict[\"end_game\"].append(game_end)\n",
    "\n",
    "            # update info\n",
    "            current_state = next_state\n",
    "            current_game_action_num += 1\n",
    "\n",
    "    game_df = pd.DataFrame(states_info_dict)\n",
    "    # add_state_row_column(game_df, [\"current_state\", \"next_state\"])\n",
    "    return states_info_dict, game_df\n",
    "\n",
    "def print_game_stats(game_df):\n",
    "    num_games = max(game_df.current_game)\n",
    "\n",
    "    # total number of moves?\n",
    "    print(\"Total number of moves: {}\\nNumber of moves per game: {}\".format(\n",
    "        len(game_df),\n",
    "        1.0 * len(game_df) / num_games))\n",
    "\n",
    "    # winning percentage?\n",
    "    num_games_won = reduce(lambda x, y: np.array(x) + np.array(y), game_df[game_df.end_game].reward)\n",
    "    print(\n",
    "        \"Total number of games won by player 1: {}\\nTotal number of games won by player 2: {}\\nPercentage of games won: {}\".format(\n",
    "            num_games_won[0],\n",
    "            num_games_won[1],\n",
    "            100.0 * num_games_won.sum() / num_games))"
   ]
  },
  {
   "cell_type": "code",
   "execution_count": 178,
   "metadata": {
    "collapsed": true
   },
   "outputs": [],
   "source": [
    "class TicTacToeQTable(Strategy):\n",
    "    \n",
    "    def __init__(self, gamma = 0.95, learning_rate = 0.9, damper = 0.0001):\n",
    "        self.gamma = gamma\n",
    "        self.learning_rate = learning_rate\n",
    "        self.q_table = np.random.rand(np.power(3, 9), 9) * damper\n",
    "        \n",
    "    def pick_action(self, current_state, current_game):\n",
    "        return np.argmax(self.q_table[current_state,:] + np.random.randn(1, 9) * (1.0 / (current_game + 1)))\n",
    "\n",
    "    def update_strategy(self, current_state, action, next_state, reward, game_end):\n",
    "        self.q_table[current_state, action] = self.q_table[current_state, action] -\\\n",
    "          self.learning_rate * (self.q_table[current_state, action] - reward - self.gamma * np.max(self.q_table[next_state, :]))\n"
   ]
  },
  {
   "cell_type": "code",
   "execution_count": 164,
   "metadata": {
    "collapsed": false
   },
   "outputs": [],
   "source": [
    "game = TicTacToe()"
   ]
  },
  {
   "cell_type": "code",
   "execution_count": 165,
   "metadata": {
    "collapsed": false
   },
   "outputs": [
    {
     "name": "stdout",
     "output_type": "stream",
     "text": [
      "0 0 0\n",
      "0 0 0\n",
      "0 0 0\n",
      "player 1's move\n"
     ]
    }
   ],
   "source": [
    "game.render()"
   ]
  },
  {
   "cell_type": "code",
   "execution_count": 166,
   "metadata": {
    "collapsed": false
   },
   "outputs": [
    {
     "data": {
      "text/plain": [
       "3"
      ]
     },
     "execution_count": 166,
     "metadata": {},
     "output_type": "execute_result"
    }
   ],
   "source": [
    "game.step(1)\n",
    "board_to_state(game.board)"
   ]
  },
  {
   "cell_type": "code",
   "execution_count": 167,
   "metadata": {
    "collapsed": false
   },
   "outputs": [
    {
     "data": {
      "text/plain": [
       "1"
      ]
     },
     "execution_count": 167,
     "metadata": {},
     "output_type": "execute_result"
    }
   ],
   "source": [
    "game.step(0)\n",
    "game.step(1)\n",
    "game.step(3)\n",
    "game.step(2)\n",
    "game.step(6)"
   ]
  },
  {
   "cell_type": "code",
   "execution_count": 168,
   "metadata": {
    "collapsed": false
   },
   "outputs": [
    {
     "name": "stdout",
     "output_type": "stream",
     "text": [
      "2 1 1\n",
      "2 0 0\n",
      "2 0 0\n",
      "player 1's move\n"
     ]
    }
   ],
   "source": [
    "game.render()"
   ]
  },
  {
   "cell_type": "code",
   "execution_count": 169,
   "metadata": {
    "collapsed": false
   },
   "outputs": [
    {
     "data": {
      "text/plain": [
       "True"
      ]
     },
     "execution_count": 169,
     "metadata": {},
     "output_type": "execute_result"
    }
   ],
   "source": [
    "game.check_win()"
   ]
  },
  {
   "cell_type": "code",
   "execution_count": null,
   "metadata": {
    "collapsed": true
   },
   "outputs": [],
   "source": []
  },
  {
   "cell_type": "code",
   "execution_count": 180,
   "metadata": {
    "collapsed": false
   },
   "outputs": [],
   "source": [
    "qtable = TicTacToeQTable()"
   ]
  },
  {
   "cell_type": "code",
   "execution_count": 171,
   "metadata": {
    "collapsed": false
   },
   "outputs": [
    {
     "data": {
      "text/plain": [
       "(19683, 9)"
      ]
     },
     "execution_count": 171,
     "metadata": {},
     "output_type": "execute_result"
    }
   ],
   "source": [
    "qtable.q_table.shape"
   ]
  },
  {
   "cell_type": "code",
   "execution_count": 192,
   "metadata": {
    "collapsed": false
   },
   "outputs": [],
   "source": [
    "rand_games_df = run_n_games(num_games = 10000, strategies = [rand_strategy], use_tqdm = False)[1]"
   ]
  },
  {
   "cell_type": "code",
   "execution_count": 193,
   "metadata": {
    "collapsed": false
   },
   "outputs": [
    {
     "name": "stdout",
     "output_type": "stream",
     "text": [
      "Total number of moves: 150613\n",
      "Number of moves per game: 15.0613\n",
      "Total number of games won by player 1: 5547\n",
      "Total number of games won by player 2: 3667\n",
      "Percentage of games won: 92.14\n"
     ]
    }
   ],
   "source": [
    "print_game_stats(rand_games_df)"
   ]
  },
  {
   "cell_type": "code",
   "execution_count": 197,
   "metadata": {
    "collapsed": false
   },
   "outputs": [],
   "source": [
    "qtable_games_df = run_n_games(num_games = 100000, strategies = [qtable], use_tqdm = False)[1]"
   ]
  },
  {
   "cell_type": "code",
   "execution_count": 198,
   "metadata": {
    "collapsed": false
   },
   "outputs": [
    {
     "name": "stdout",
     "output_type": "stream",
     "text": [
      "Total number of moves: 796461\n",
      "Number of moves per game: 7.96461\n",
      "Total number of games won by player 1: 10288\n",
      "Total number of games won by player 2: 89207\n",
      "Percentage of games won: 99.495\n"
     ]
    }
   ],
   "source": [
    "print_game_stats(qtable_games_df)"
   ]
  },
  {
   "cell_type": "code",
   "execution_count": null,
   "metadata": {
    "collapsed": true
   },
   "outputs": [],
   "source": []
  }
 ],
 "metadata": {
  "kernelspec": {
   "display_name": "Python 3",
   "language": "python",
   "name": "python3"
  },
  "language_info": {
   "codemirror_mode": {
    "name": "ipython",
    "version": 3
   },
   "file_extension": ".py",
   "mimetype": "text/x-python",
   "name": "python",
   "nbconvert_exporter": "python",
   "pygments_lexer": "ipython3",
   "version": "3.5.1"
  }
 },
 "nbformat": 4,
 "nbformat_minor": 0
}
