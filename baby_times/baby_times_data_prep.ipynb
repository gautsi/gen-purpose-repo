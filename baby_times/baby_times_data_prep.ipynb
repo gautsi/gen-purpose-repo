{
 "cells": [
  {
   "cell_type": "markdown",
   "metadata": {},
   "source": [
    "# Baby times\n",
    "## Data prep\n",
    "Notebook to prep baby times data"
   ]
  },
  {
   "cell_type": "code",
   "execution_count": 42,
   "metadata": {
    "collapsed": false
   },
   "outputs": [],
   "source": [
    "import pandas as pd\n",
    "import re\n",
    "from functools import reduce\n",
    "import datetime as dt"
   ]
  },
  {
   "cell_type": "code",
   "execution_count": 43,
   "metadata": {
    "collapsed": false
   },
   "outputs": [
    {
     "data": {
      "text/plain": [
       "'080819'"
      ]
     },
     "execution_count": 43,
     "metadata": {},
     "output_type": "execute_result"
    }
   ],
   "source": [
    "date = dt.datetime.now().strftime(\"%m%d%y\")\n",
    "date"
   ]
  },
  {
   "cell_type": "code",
   "execution_count": 44,
   "metadata": {
    "collapsed": true
   },
   "outputs": [],
   "source": [
    "%matplotlib inline"
   ]
  },
  {
   "cell_type": "code",
   "execution_count": 45,
   "metadata": {
    "collapsed": true
   },
   "outputs": [],
   "source": [
    "with open(\"./baby_times_080319.txt\") as f:\n",
    "    times = f.read()"
   ]
  },
  {
   "cell_type": "code",
   "execution_count": 46,
   "metadata": {
    "collapsed": false
   },
   "outputs": [],
   "source": [
    "time_lines = [{\"raw\": l} for l in times.split(\"\\n\")]"
   ]
  },
  {
   "cell_type": "code",
   "execution_count": 47,
   "metadata": {
    "collapsed": false
   },
   "outputs": [
    {
     "data": {
      "text/plain": [
       "313"
      ]
     },
     "execution_count": 47,
     "metadata": {},
     "output_type": "execute_result"
    }
   ],
   "source": [
    "len(time_lines)"
   ]
  },
  {
   "cell_type": "code",
   "execution_count": 48,
   "metadata": {
    "collapsed": false
   },
   "outputs": [],
   "source": [
    "line_types = [\n",
    "    {\n",
    "        \"type\": \"date\",\n",
    "        \"regex\": \"^[0-9]{6}$\"\n",
    "    }\n",
    "] + [\n",
    "    {\n",
    "        \"type\": i.lower(),\n",
    "        \"regex\": \"^\" + i + \" [0-9]{1,2}:[0-9]{1,2}(A|P)\"\n",
    "    } for i in [\"Feed\", \"Wake\", \"Sleep\"]]"
   ]
  },
  {
   "cell_type": "code",
   "execution_count": 49,
   "metadata": {
    "collapsed": true
   },
   "outputs": [],
   "source": [
    "def line_type(l):\n",
    "    matched_types = [t[\"type\"] for t in line_types if re.search(t[\"regex\"], l[\"raw\"])]\n",
    "    if len(matched_types) == 0:\n",
    "        return \"no type\"\n",
    "    elif len(matched_types) == 1:\n",
    "        return matched_types[0]\n",
    "    else:\n",
    "        return \"multiple types\""
   ]
  },
  {
   "cell_type": "code",
   "execution_count": 50,
   "metadata": {
    "collapsed": false
   },
   "outputs": [],
   "source": [
    "for i, l in enumerate(time_lines):\n",
    "    l[\"line_num\"] = i\n",
    "    l[\"type\"] = line_type(l)"
   ]
  },
  {
   "cell_type": "code",
   "execution_count": 51,
   "metadata": {
    "collapsed": false
   },
   "outputs": [],
   "source": [
    "times_df = pd.DataFrame(time_lines)"
   ]
  },
  {
   "cell_type": "markdown",
   "metadata": {},
   "source": [
    "add date"
   ]
  },
  {
   "cell_type": "code",
   "execution_count": 52,
   "metadata": {
    "collapsed": true
   },
   "outputs": [],
   "source": [
    "times_df[\"date_ind\"] = times_df[\"type\"].map(lambda x: 1 if x == \"date\" else 0)"
   ]
  },
  {
   "cell_type": "code",
   "execution_count": 53,
   "metadata": {
    "collapsed": false
   },
   "outputs": [],
   "source": [
    "times_df[\"date_num\"] = times_df.sort_values(\"line_num\").date_ind.cumsum()"
   ]
  },
  {
   "cell_type": "code",
   "execution_count": 54,
   "metadata": {
    "collapsed": false
   },
   "outputs": [],
   "source": [
    "rest_times_df = times_df[times_df[\"type\"].isin([\"feed\", \"wake\", \"sleep\"])].merge(\n",
    "    right = times_df[times_df[\"type\"] == \"date\"][[\"raw\", \"date_num\"]].rename(columns = {\"raw\": \"date\"}),\n",
    "    on = [\"date_num\"],\n",
    "    how = \"left\").sort_values(\"line_num\")"
   ]
  },
  {
   "cell_type": "code",
   "execution_count": 55,
   "metadata": {
    "collapsed": false
   },
   "outputs": [],
   "source": [
    "rest_times_df[\"hour\"] = rest_times_df.raw.map(lambda x: x.split(\" \")[1].split(\":\")[0].rjust(2, \"0\"))\n",
    "rest_times_df[\"min\"] = rest_times_df.raw.map(lambda x: x.split(\" \")[1].split(\":\")[1][:-1].rjust(2, \"0\"))\n",
    "rest_times_df[\"am_pm\"] = rest_times_df.raw.map(lambda x: x.split(\" \")[1].split(\":\")[1][-1] + \"M\")"
   ]
  },
  {
   "cell_type": "code",
   "execution_count": 56,
   "metadata": {
    "collapsed": false
   },
   "outputs": [],
   "source": [
    "rest_times_df[\"date_and_time\"] = reduce(lambda x, y: x + y, map(lambda x: rest_times_df[x], [\"date\", \"hour\", \"min\", \"am_pm\"]))"
   ]
  },
  {
   "cell_type": "code",
   "execution_count": 57,
   "metadata": {
    "collapsed": false
   },
   "outputs": [],
   "source": [
    "rest_times_df[\"dt\"] = pd.to_datetime(rest_times_df.date_and_time, format = \"%m%d%y%I%M%p\")"
   ]
  },
  {
   "cell_type": "markdown",
   "metadata": {},
   "source": [
    "get next line info"
   ]
  },
  {
   "cell_type": "code",
   "execution_count": 58,
   "metadata": {
    "collapsed": true
   },
   "outputs": [],
   "source": [
    "for i in [\"type\", \"dt\"]:\n",
    "    rest_times_df[\"next_\" + i] = rest_times_df[i].shift(-1)"
   ]
  },
  {
   "cell_type": "code",
   "execution_count": 59,
   "metadata": {
    "collapsed": false
   },
   "outputs": [],
   "source": [
    "rest_times_df[\"time_to_next_min\"] = (rest_times_df.next_dt - rest_times_df.dt).dt.seconds / 60\n",
    "rest_times_df[\"time_to_next_hr\"] = (rest_times_df.next_dt - rest_times_df.dt).dt.seconds / 3600\n",
    "rest_times_df[\"next_time_valid\"] = rest_times_df.time_to_next_hr < 8"
   ]
  },
  {
   "cell_type": "code",
   "execution_count": 60,
   "metadata": {
    "collapsed": false
   },
   "outputs": [],
   "source": [
    "rest_times_df[[\"line_num\", \"type\", \"dt\", \"next_dt\", \"next_time_valid\"]].to_csv(\"baby_times_prep_ver1_{}.csv\".format(date), index = False)"
   ]
  },
  {
   "cell_type": "code",
   "execution_count": 61,
   "metadata": {
    "collapsed": false
   },
   "outputs": [
    {
     "data": {
      "text/plain": [
       "080619    31\n",
       "080319    25\n",
       "072819    25\n",
       "080419    22\n",
       "080219    20\n",
       "080519    20\n",
       "080119    20\n",
       "072919    16\n",
       "072719    15\n",
       "073019    15\n",
       "080819    14\n",
       "080719    12\n",
       "073119     7\n",
       "072319     6\n",
       "072219     5\n",
       "072519     4\n",
       "072419     4\n",
       "072619     3\n",
       "Name: date, dtype: int64"
      ]
     },
     "execution_count": 61,
     "metadata": {},
     "output_type": "execute_result"
    }
   ],
   "source": [
    "rest_times_df.date.value_counts()"
   ]
  },
  {
   "cell_type": "code",
   "execution_count": 41,
   "metadata": {
    "collapsed": false
   },
   "outputs": [
    {
     "data": {
      "text/plain": [
       "0"
      ]
     },
     "execution_count": 41,
     "metadata": {},
     "output_type": "execute_result"
    }
   ],
   "source": [
    "rest_times_df.date.isna().sum()"
   ]
  }
 ],
 "metadata": {
  "kernelspec": {
   "display_name": "Python 3",
   "language": "python",
   "name": "python3"
  },
  "language_info": {
   "codemirror_mode": {
    "name": "ipython",
    "version": 3
   },
   "file_extension": ".py",
   "mimetype": "text/x-python",
   "name": "python",
   "nbconvert_exporter": "python",
   "pygments_lexer": "ipython3",
   "version": "3.5.4"
  }
 },
 "nbformat": 4,
 "nbformat_minor": 2
}
