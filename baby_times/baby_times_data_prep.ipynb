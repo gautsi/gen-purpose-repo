{
 "cells": [
  {
   "cell_type": "markdown",
   "metadata": {},
   "source": [
    "# Baby times\n",
    "## Data prep\n",
    "Notebook to prep baby times data"
   ]
  },
  {
   "cell_type": "code",
   "execution_count": 42,
   "metadata": {
    "collapsed": true
   },
   "outputs": [],
   "source": [
    "import pandas as pd\n",
    "import re\n",
    "from functools import reduce"
   ]
  },
  {
   "cell_type": "code",
   "execution_count": 78,
   "metadata": {
    "collapsed": true
   },
   "outputs": [],
   "source": [
    "%matplotlib inline"
   ]
  },
  {
   "cell_type": "code",
   "execution_count": 1,
   "metadata": {
    "collapsed": true
   },
   "outputs": [],
   "source": [
    "with open(\"./baby_times_080319.txt\") as f:\n",
    "    times = f.read()"
   ]
  },
  {
   "cell_type": "code",
   "execution_count": 3,
   "metadata": {
    "collapsed": false
   },
   "outputs": [],
   "source": [
    "time_lines = [{\"raw\": l} for l in times.split(\"\\n\")]"
   ]
  },
  {
   "cell_type": "code",
   "execution_count": 7,
   "metadata": {
    "collapsed": false
   },
   "outputs": [
    {
     "data": {
      "text/plain": [
       "199"
      ]
     },
     "execution_count": 7,
     "metadata": {},
     "output_type": "execute_result"
    }
   ],
   "source": [
    "len(time_lines)"
   ]
  },
  {
   "cell_type": "code",
   "execution_count": 21,
   "metadata": {
    "collapsed": false
   },
   "outputs": [],
   "source": [
    "line_types = [\n",
    "    {\n",
    "        \"type\": \"date\",\n",
    "        \"regex\": \"^[0-9]{6}$\"\n",
    "    }\n",
    "] + [\n",
    "    {\n",
    "        \"type\": i.lower(),\n",
    "        \"regex\": \"^\" + i + \" [0-9]{1,2}:[0-9]{1,2}(A|P)\"\n",
    "    } for i in [\"Feed\", \"Wake\", \"Sleep\"]]"
   ]
  },
  {
   "cell_type": "code",
   "execution_count": 22,
   "metadata": {
    "collapsed": true
   },
   "outputs": [],
   "source": [
    "def line_type(l):\n",
    "    matched_types = [t[\"type\"] for t in line_types if re.search(t[\"regex\"], l[\"raw\"])]\n",
    "    if len(matched_types) == 0:\n",
    "        return \"no type\"\n",
    "    elif len(matched_types) == 1:\n",
    "        return matched_types[0]\n",
    "    else:\n",
    "        return \"multiple types\""
   ]
  },
  {
   "cell_type": "code",
   "execution_count": 23,
   "metadata": {
    "collapsed": false
   },
   "outputs": [],
   "source": [
    "for i, l in enumerate(time_lines):\n",
    "    l[\"line_num\"] = i\n",
    "    l[\"type\"] = line_type(l)"
   ]
  },
  {
   "cell_type": "code",
   "execution_count": 24,
   "metadata": {
    "collapsed": false
   },
   "outputs": [],
   "source": [
    "times_df = pd.DataFrame(time_lines)"
   ]
  },
  {
   "cell_type": "markdown",
   "metadata": {},
   "source": [
    "add date"
   ]
  },
  {
   "cell_type": "code",
   "execution_count": 25,
   "metadata": {
    "collapsed": true
   },
   "outputs": [],
   "source": [
    "times_df[\"date_ind\"] = times_df[\"type\"].map(lambda x: 1 if x == \"date\" else 0)"
   ]
  },
  {
   "cell_type": "code",
   "execution_count": 27,
   "metadata": {
    "collapsed": false
   },
   "outputs": [],
   "source": [
    "times_df[\"date_num\"] = times_df.sort_values(\"line_num\").date_ind.cumsum()"
   ]
  },
  {
   "cell_type": "code",
   "execution_count": 57,
   "metadata": {
    "collapsed": false
   },
   "outputs": [],
   "source": [
    "rest_times_df = times_df[times_df[\"type\"].isin([\"feed\", \"wake\", \"sleep\"])].merge(\n",
    "    right = times_df[times_df[\"type\"] == \"date\"][[\"raw\", \"date_num\"]].rename(columns = {\"raw\": \"date\"}),\n",
    "    on = [\"date_num\"],\n",
    "    how = \"left\").sort_values(\"line_num\")"
   ]
  },
  {
   "cell_type": "code",
   "execution_count": 58,
   "metadata": {
    "collapsed": false
   },
   "outputs": [],
   "source": [
    "rest_times_df[\"hour\"] = rest_times_df.raw.map(lambda x: x.split(\" \")[1].split(\":\")[0].rjust(2, \"0\"))\n",
    "rest_times_df[\"min\"] = rest_times_df.raw.map(lambda x: x.split(\" \")[1].split(\":\")[1][:-1].rjust(2, \"0\"))\n",
    "rest_times_df[\"am_pm\"] = rest_times_df.raw.map(lambda x: x.split(\" \")[1].split(\":\")[1][-1] + \"M\")"
   ]
  },
  {
   "cell_type": "code",
   "execution_count": 59,
   "metadata": {
    "collapsed": false
   },
   "outputs": [],
   "source": [
    "rest_times_df[\"date_and_time\"] = reduce(lambda x, y: x + y, map(lambda x: rest_times_df[x], [\"date\", \"hour\", \"min\", \"am_pm\"]))"
   ]
  },
  {
   "cell_type": "code",
   "execution_count": 60,
   "metadata": {
    "collapsed": false
   },
   "outputs": [],
   "source": [
    "rest_times_df[\"dt\"] = pd.to_datetime(rest_times_df.date_and_time, format = \"%m%d%y%I%M%p\")"
   ]
  },
  {
   "cell_type": "markdown",
   "metadata": {},
   "source": [
    "get next line info"
   ]
  },
  {
   "cell_type": "code",
   "execution_count": 64,
   "metadata": {
    "collapsed": true
   },
   "outputs": [],
   "source": [
    "for i in [\"type\", \"dt\"]:\n",
    "    rest_times_df[\"next_\" + i] = rest_times_df[i].shift(-1)"
   ]
  },
  {
   "cell_type": "code",
   "execution_count": 81,
   "metadata": {
    "collapsed": false
   },
   "outputs": [],
   "source": [
    "rest_times_df[\"time_to_next_min\"] = (rest_times_df.next_dt - rest_times_df.dt).dt.seconds / 60\n",
    "rest_times_df[\"time_to_next_hr\"] = (rest_times_df.next_dt - rest_times_df.dt).dt.seconds / 3600\n",
    "rest_times_df[\"next_time_valid\"] = rest_times_df.time_to_next_hr < 8"
   ]
  },
  {
   "cell_type": "code",
   "execution_count": 85,
   "metadata": {
    "collapsed": false
   },
   "outputs": [],
   "source": [
    "rest_times_df[[\"type\", \"dt\", \"next_dt\", \"next_time_valid\"]].to_csv(\"baby_times_prep_080319.csv\")"
   ]
  }
 ],
 "metadata": {
  "kernelspec": {
   "display_name": "Python 3",
   "language": "python",
   "name": "python3"
  },
  "language_info": {
   "codemirror_mode": {
    "name": "ipython",
    "version": 3
   },
   "file_extension": ".py",
   "mimetype": "text/x-python",
   "name": "python",
   "nbconvert_exporter": "python",
   "pygments_lexer": "ipython3",
   "version": "3.5.4"
  }
 },
 "nbformat": 4,
 "nbformat_minor": 2
}
