{
 "cells": [
  {
   "cell_type": "code",
   "execution_count": 10,
   "metadata": {
    "collapsed": true
   },
   "outputs": [],
   "source": [
    "import json\n",
    "import requests"
   ]
  },
  {
   "cell_type": "code",
   "execution_count": 3,
   "metadata": {
    "collapsed": false
   },
   "outputs": [],
   "source": [
    "with open(\"./cams.json\") as f:\n",
    "    cams = json.load(f)"
   ]
  },
  {
   "cell_type": "code",
   "execution_count": 7,
   "metadata": {
    "collapsed": false
   },
   "outputs": [],
   "source": [
    "with open(\"./nyc_dev_access_keys.json\") as f:\n",
    "    access = json.load(f)"
   ]
  },
  {
   "cell_type": "code",
   "execution_count": 4,
   "metadata": {
    "collapsed": false
   },
   "outputs": [
    {
     "data": {
      "text/plain": [
       "654"
      ]
     },
     "execution_count": 4,
     "metadata": {},
     "output_type": "execute_result"
    }
   ],
   "source": [
    "len(cams)"
   ]
  },
  {
   "cell_type": "code",
   "execution_count": 5,
   "metadata": {
    "collapsed": false
   },
   "outputs": [
    {
     "data": {
      "text/plain": [
       "{'borough': 'Manhattan',\n",
       " 'cam_id': 1,\n",
       " 'img_addr': 'http://207.251.86.238/cctv261.jpg',\n",
       " 'location': '1 Ave @ 110 St',\n",
       " 'multiview_id': '368'}"
      ]
     },
     "execution_count": 5,
     "metadata": {},
     "output_type": "execute_result"
    }
   ],
   "source": [
    "cams[0]"
   ]
  },
  {
   "cell_type": "code",
   "execution_count": 15,
   "metadata": {
    "collapsed": true
   },
   "outputs": [],
   "source": [
    "addr = \"https://api.cityofnewyork.us/geoclient/v1/\"\n",
    "inter = lambda x, y, b: \"intersection.json?crossStreetOne={}&crossStreetTwo={}&borough={}\".format(x, y, b)\n",
    "auth = \"&app_id={}&app_key={}\".format(access[\"id\"], access[\"key\"])"
   ]
  },
  {
   "cell_type": "code",
   "execution_count": 16,
   "metadata": {
    "collapsed": true
   },
   "outputs": [],
   "source": [
    "full = addr + inter(cams[0][\"location\"].split(\" @ \")[0], cams[0][\"location\"].split(\" @ \")[1], cams[0][\"borough\"]) + auth "
   ]
  },
  {
   "cell_type": "code",
   "execution_count": 18,
   "metadata": {
    "collapsed": true
   },
   "outputs": [],
   "source": [
    "res = requests.get(full)"
   ]
  },
  {
   "cell_type": "code",
   "execution_count": 19,
   "metadata": {
    "collapsed": false
   },
   "outputs": [
    {
     "data": {
      "text/plain": [
       "<Response [200]>"
      ]
     },
     "execution_count": 19,
     "metadata": {},
     "output_type": "execute_result"
    }
   ],
   "source": [
    "res"
   ]
  },
  {
   "cell_type": "code",
   "execution_count": 20,
   "metadata": {
    "collapsed": false
   },
   "outputs": [
    {
     "data": {
      "text/plain": [
       "{'intersection': {'assemblyDistrict': '68',\n",
       "  'atomicPolygon': '401',\n",
       "  'boroughCode1In': '1',\n",
       "  'censusTract1990': ' 162  ',\n",
       "  'censusTract2000': ' 162  ',\n",
       "  'censusTract2010': ' 162  ',\n",
       "  'cityCouncilDistrict': '08',\n",
       "  'civilCourtDistrict': '06',\n",
       "  'communityDistrict': '111',\n",
       "  'communityDistrictBoroughCode': '1',\n",
       "  'communityDistrictNumber': '11',\n",
       "  'communitySchoolDistrict': '04',\n",
       "  'congressionalDistrict': '13',\n",
       "  'crossStreetNamesFlagIn': 'E',\n",
       "  'dcpPreferredLgcForStreet1': '01',\n",
       "  'dcpPreferredLgcForStreet2': '01',\n",
       "  'dotStreetLightContractorArea': '1',\n",
       "  'fireBattalion': '12',\n",
       "  'fireCompanyNumber': '091',\n",
       "  'fireCompanyType': 'E',\n",
       "  'fireDivision': '03',\n",
       "  'firstBoroughName': 'MANHATTAN',\n",
       "  'firstStreetCode': '11001001010',\n",
       "  'firstStreetNameNormalized': '1 AVENUE',\n",
       "  'geosupportFunctionCode': '2',\n",
       "  'geosupportReturnCode': '01',\n",
       "  'healthArea': '2600',\n",
       "  'healthCenterDistrict': '12',\n",
       "  'instructionalRegion': 'MN',\n",
       "  'interimAssistanceEligibilityIndicator': 'E',\n",
       "  'intersectingStreet1': '110010',\n",
       "  'intersectingStreet2': '119170',\n",
       "  'latitude': 40.79218684737525,\n",
       "  'lionNodeNumber': '0042056',\n",
       "  'listOfPairsOfLevelCodes': 'MMMM',\n",
       "  'longitude': -73.93819371001852,\n",
       "  'message': 'EAST  110 STREET ASSUMED',\n",
       "  'numberOfIntersectingStreets': '2',\n",
       "  'numberOfStreetCodesAndNamesInList': '02',\n",
       "  'policePatrolBoroughCommand': '2',\n",
       "  'policePrecinct': '023',\n",
       "  'policeSector': '23A',\n",
       "  'reasonCode': 'J',\n",
       "  'sanbornBoroughCode1': '1',\n",
       "  'sanbornBoroughCode2': '1',\n",
       "  'sanbornPageNumber1': '066',\n",
       "  'sanbornPageNumber2': '060',\n",
       "  'sanbornVolumeNumber1': '08',\n",
       "  'sanbornVolumeNumber2': '08',\n",
       "  'sanbornVolumeNumberSuffix1': 'N',\n",
       "  'sanbornVolumeNumberSuffix2': 'N',\n",
       "  'sanitationCollectionSchedulingSectionAndSubsection': '1B',\n",
       "  'sanitationDistrict': '111',\n",
       "  'sanitationSection': '121',\n",
       "  'secondStreetCode': '11917001010',\n",
       "  'secondStreetNameNormalized': 'EAST  110 STREET',\n",
       "  'stateSenatorialDistrict': '29',\n",
       "  'streetCode1': '11001001',\n",
       "  'streetCode2': '11917001',\n",
       "  'streetName1': '1 AVENUE',\n",
       "  'streetName1In': '1 AVE',\n",
       "  'streetName2': 'EAST  110 STREET',\n",
       "  'streetName2In': '110 ST',\n",
       "  'workAreaFormatIndicatorIn': 'C',\n",
       "  'xCoordinate': '1001364',\n",
       "  'yCoordinate': '0227898',\n",
       "  'zipCode': '10029'}}"
      ]
     },
     "execution_count": 20,
     "metadata": {},
     "output_type": "execute_result"
    }
   ],
   "source": [
    "res.json()"
   ]
  },
  {
   "cell_type": "code",
   "execution_count": null,
   "metadata": {
    "collapsed": true
   },
   "outputs": [],
   "source": []
  }
 ],
 "metadata": {
  "kernelspec": {
   "display_name": "Python 3",
   "language": "python",
   "name": "python3"
  },
  "language_info": {
   "codemirror_mode": {
    "name": "ipython",
    "version": 3
   },
   "file_extension": ".py",
   "mimetype": "text/x-python",
   "name": "python",
   "nbconvert_exporter": "python",
   "pygments_lexer": "ipython3",
   "version": "3.5.4"
  }
 },
 "nbformat": 4,
 "nbformat_minor": 2
}
