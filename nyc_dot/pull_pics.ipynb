{
 "cells": [
  {
   "cell_type": "code",
   "execution_count": 1,
   "metadata": {},
   "outputs": [],
   "source": [
    "import json"
   ]
  },
  {
   "cell_type": "code",
   "execution_count": 2,
   "metadata": {},
   "outputs": [],
   "source": [
    "import requests"
   ]
  },
  {
   "cell_type": "code",
   "execution_count": 3,
   "metadata": {},
   "outputs": [],
   "source": [
    "from io import BytesIO"
   ]
  },
  {
   "cell_type": "code",
   "execution_count": 4,
   "metadata": {},
   "outputs": [],
   "source": [
    "from PIL import Image"
   ]
  },
  {
   "cell_type": "code",
   "execution_count": 5,
   "metadata": {},
   "outputs": [],
   "source": [
    "cams_json_file_loc = \"./cams.json\"\n",
    "log_file_loc = \"./pics.log\"\n",
    "pic_folder = \"./pics/\""
   ]
  },
  {
   "cell_type": "code",
   "execution_count": 6,
   "metadata": {},
   "outputs": [],
   "source": [
    "from datetime import datetime as dt"
   ]
  },
  {
   "cell_type": "code",
   "execution_count": 7,
   "metadata": {},
   "outputs": [],
   "source": [
    "def get_pic(cams_json_file_loc, log_file_loc, pic_folder):\n",
    "    # get all cams\n",
    "    with open(cams_json_file_loc, \"r\") as f:\n",
    "        cams = json.load(f)\n",
    "        \n",
    "    cam_ids = [cam[\"cam_id\"] for cam in cams]\n",
    "    \n",
    "    # read the log to see which cam was last pulled\n",
    "    curr_cam_id = cam_ids[0]\n",
    "    with open(log_file_loc, \"r\") as f:\n",
    "        lines = f.readlines()\n",
    "        if len(lines) > 0:\n",
    "            last_line = lines[-1]\n",
    "            last_cam_id = int(last_line.split(\"\\t\")[0].split(\" \")[1])\n",
    "            last_cam_id_ind = [i for i, cam_id in enumerate(cam_ids) if cam_id == last_cam_id][0]\n",
    "            curr_cam_id_ind = last_cam_id_ind + 1 if last_cam_id_ind + 1 < len(cam_ids) else 0\n",
    "            curr_cam_id = cam_ids[curr_cam_id_ind]\n",
    "    \n",
    "    curr_cam = cams[curr_cam_id]\n",
    "    \n",
    "    # get the image\n",
    "    pull_dt = dt.now().strftime(\"%m%d%y_%H%M%S\")\n",
    "    img_addr = curr_cam[\"img_addr\"]\n",
    "    raw_img = requests.get(img_addr).content\n",
    "    img = Image.open(BytesIO(raw_img))\n",
    "    \n",
    "    # save the image\n",
    "    img_filename = \"cam_id_{}_{}.png\".format(curr_cam_id, pull_dt)\n",
    "    img.save(\"{}{}\".format(pic_folder, img_filename))\n",
    "    \n",
    "    # update the log\n",
    "    with open(log_file_loc, \"a\") as f:\n",
    "        f.write(\"cam_id: {} pulled: {} to: {}{}\\n\".format(curr_cam_id, pull_dt, pic_folder, img_filename))"
   ]
  },
  {
   "cell_type": "code",
   "execution_count": 10,
   "metadata": {},
   "outputs": [],
   "source": [
    "get_pic(cams_json_file_loc = cams_json_file_loc, log_file_loc = log_file_loc, pic_folder = pic_folder)"
   ]
  },
  {
   "cell_type": "code",
   "execution_count": null,
   "metadata": {},
   "outputs": [],
   "source": []
  }
 ],
 "metadata": {
  "kernelspec": {
   "display_name": "Python 3",
   "language": "python",
   "name": "python3"
  },
  "language_info": {
   "codemirror_mode": {
    "name": "ipython",
    "version": 3
   },
   "file_extension": ".py",
   "mimetype": "text/x-python",
   "name": "python",
   "nbconvert_exporter": "python",
   "pygments_lexer": "ipython3",
   "version": "3.6.7"
  }
 },
 "nbformat": 4,
 "nbformat_minor": 2
}
