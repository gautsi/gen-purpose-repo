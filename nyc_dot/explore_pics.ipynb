{
 "cells": [
  {
   "cell_type": "code",
   "execution_count": 1,
   "metadata": {},
   "outputs": [],
   "source": [
    "import pandas as pd"
   ]
  },
  {
   "cell_type": "markdown",
   "metadata": {},
   "source": [
    "following https://cloud.google.com/storage/docs/reference/libraries"
   ]
  },
  {
   "cell_type": "code",
   "execution_count": 7,
   "metadata": {},
   "outputs": [],
   "source": [
    "from google.oauth2 import service_account"
   ]
  },
  {
   "cell_type": "code",
   "execution_count": 8,
   "metadata": {},
   "outputs": [],
   "source": [
    "cred = service_account.Credentials.from_service_account_file(\"./dell_local.json\")"
   ]
  },
  {
   "cell_type": "code",
   "execution_count": 26,
   "metadata": {},
   "outputs": [],
   "source": [
    "# Imports the Google Cloud client library\n",
    "from google.cloud import storage\n",
    "\n",
    "# Instantiates a client\n",
    "storage_client = storage.Client(credentials=cred)"
   ]
  },
  {
   "cell_type": "code",
   "execution_count": 29,
   "metadata": {},
   "outputs": [
    {
     "ename": "TypeError",
     "evalue": "download_blob_to_file() missing 2 required positional arguments: 'blob_or_uri' and 'file_obj'",
     "output_type": "error",
     "traceback": [
      "\u001b[0;31m---------------------------------------------------------------------------\u001b[0m",
      "\u001b[0;31mTypeError\u001b[0m                                 Traceback (most recent call last)",
      "\u001b[0;32m<ipython-input-29-97cc379b1e7f>\u001b[0m in \u001b[0;36m<module>\u001b[0;34m\u001b[0m\n\u001b[0;32m----> 1\u001b[0;31m \u001b[0mstorage_client\u001b[0m\u001b[0;34m.\u001b[0m\u001b[0mdownload_blob_to_file\u001b[0m\u001b[0;34m(\u001b[0m\u001b[0;34m)\u001b[0m\u001b[0;34m\u001b[0m\u001b[0;34m\u001b[0m\u001b[0m\n\u001b[0m",
      "\u001b[0;31mTypeError\u001b[0m: download_blob_to_file() missing 2 required positional arguments: 'blob_or_uri' and 'file_obj'"
     ]
    }
   ],
   "source": [
    "storage_client.download_blob_to_file()"
   ]
  },
  {
   "cell_type": "code",
   "execution_count": 30,
   "metadata": {},
   "outputs": [],
   "source": [
    "bucket = storage_client.get_bucket(\"nys_dot_webcam_pics\")"
   ]
  },
  {
   "cell_type": "code",
   "execution_count": 36,
   "metadata": {},
   "outputs": [],
   "source": [
    "blobs = bucket.list_blobs()"
   ]
  },
  {
   "cell_type": "code",
   "execution_count": 37,
   "metadata": {},
   "outputs": [
    {
     "name": "stdout",
     "output_type": "stream",
     "text": [
      "<Blob: nys_dot_webcam_pics, bucket_test.txt>\n",
      "<Blob: nys_dot_webcam_pics, nyc_dot_webcam_pics/cam_id_100_050819_230609.png>\n",
      "<Blob: nys_dot_webcam_pics, nyc_dot_webcam_pics/cam_id_100_050919_031722.png>\n",
      "<Blob: nys_dot_webcam_pics, nyc_dot_webcam_pics/cam_id_100_050919_034237.png>\n",
      "<Blob: nys_dot_webcam_pics, nyc_dot_webcam_pics/cam_id_100_050919_035512.png>\n",
      "<Blob: nys_dot_webcam_pics, nyc_dot_webcam_pics/cam_id_100_050919_040750.png>\n",
      "<Blob: nys_dot_webcam_pics, nyc_dot_webcam_pics/cam_id_100_050919_042028.png>\n",
      "<Blob: nys_dot_webcam_pics, nyc_dot_webcam_pics/cam_id_100_050919_043309.png>\n",
      "<Blob: nys_dot_webcam_pics, nyc_dot_webcam_pics/cam_id_100_050919_044552.png>\n",
      "<Blob: nys_dot_webcam_pics, nyc_dot_webcam_pics/cam_id_100_050919_045835.png>\n",
      "<Blob: nys_dot_webcam_pics, nyc_dot_webcam_pics/cam_id_100_050919_051119.png>\n"
     ]
    }
   ],
   "source": [
    "i = 0\n",
    "for b in blobs:\n",
    "    if i > 10:\n",
    "        break\n",
    "    else:\n",
    "        print(b)\n",
    "        i += 1"
   ]
  },
  {
   "cell_type": "code",
   "execution_count": 40,
   "metadata": {},
   "outputs": [],
   "source": [
    "b.download_to_filename(\"test.png\")"
   ]
  },
  {
   "cell_type": "code",
   "execution_count": null,
   "metadata": {},
   "outputs": [],
   "source": []
  }
 ],
 "metadata": {
  "kernelspec": {
   "display_name": "Python 3",
   "language": "python",
   "name": "python3"
  },
  "language_info": {
   "codemirror_mode": {
    "name": "ipython",
    "version": 3
   },
   "file_extension": ".py",
   "mimetype": "text/x-python",
   "name": "python",
   "nbconvert_exporter": "python",
   "pygments_lexer": "ipython3",
   "version": "3.6.7"
  }
 },
 "nbformat": 4,
 "nbformat_minor": 2
}
