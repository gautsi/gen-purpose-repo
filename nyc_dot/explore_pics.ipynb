{
 "cells": [
  {
   "cell_type": "code",
   "execution_count": 1,
   "metadata": {
    "collapsed": true
   },
   "outputs": [],
   "source": [
    "import pandas as pd"
   ]
  },
  {
   "cell_type": "markdown",
   "metadata": {},
   "source": [
    "following https://cloud.google.com/storage/docs/reference/libraries"
   ]
  },
  {
   "cell_type": "code",
   "execution_count": 2,
   "metadata": {
    "collapsed": false
   },
   "outputs": [
    {
     "ename": "ImportError",
     "evalue": "No module named 'google.cloud'",
     "output_type": "error",
     "traceback": [
      "\u001b[1;31m---------------------------------------------------------------------------\u001b[0m",
      "\u001b[1;31mImportError\u001b[0m                               Traceback (most recent call last)",
      "\u001b[1;32m<ipython-input-2-59485cf13fa4>\u001b[0m in \u001b[0;36m<module>\u001b[1;34m()\u001b[0m\n\u001b[0;32m      1\u001b[0m \u001b[1;31m# Imports the Google Cloud client library\u001b[0m\u001b[1;33m\u001b[0m\u001b[1;33m\u001b[0m\u001b[0m\n\u001b[1;32m----> 2\u001b[1;33m \u001b[1;32mfrom\u001b[0m \u001b[0mgoogle\u001b[0m\u001b[1;33m.\u001b[0m\u001b[0mcloud\u001b[0m \u001b[1;32mimport\u001b[0m \u001b[0mstorage\u001b[0m\u001b[1;33m\u001b[0m\u001b[0m\n\u001b[0m\u001b[0;32m      3\u001b[0m \u001b[1;33m\u001b[0m\u001b[0m\n\u001b[0;32m      4\u001b[0m \u001b[1;31m# Instantiates a client\u001b[0m\u001b[1;33m\u001b[0m\u001b[1;33m\u001b[0m\u001b[0m\n\u001b[0;32m      5\u001b[0m \u001b[0mstorage_client\u001b[0m \u001b[1;33m=\u001b[0m \u001b[0mstorage\u001b[0m\u001b[1;33m.\u001b[0m\u001b[0mClient\u001b[0m\u001b[1;33m(\u001b[0m\u001b[1;33m)\u001b[0m\u001b[1;33m\u001b[0m\u001b[0m\n",
      "\u001b[1;31mImportError\u001b[0m: No module named 'google.cloud'"
     ]
    }
   ],
   "source": [
    "# Imports the Google Cloud client library\n",
    "from google.cloud import storage\n",
    "\n",
    "# Instantiates a client\n",
    "storage_client = storage.Client()"
   ]
  },
  {
   "cell_type": "code",
   "execution_count": 3,
   "metadata": {
    "collapsed": false
   },
   "outputs": [
    {
     "name": "stdout",
     "output_type": "stream",
     "text": [
      "Requirement already satisfied: google-cloud in /home/gautam_sisodia/anaconda3/lib/python3.5/site-packages (0.34.0)\n",
      "\u001b[33mYou are using pip version 18.0, however version 19.1.1 is available.\n",
      "You should consider upgrading via the 'pip install --upgrade pip' command.\u001b[0m\n"
     ]
    }
   ],
   "source": [
    "!pip3 install google-cloud"
   ]
  },
  {
   "cell_type": "code",
   "execution_count": 5,
   "metadata": {
    "collapsed": false
   },
   "outputs": [
    {
     "name": "stdout",
     "output_type": "stream",
     "text": [
      "Collecting google-cloud-storage\n",
      "  Using cached https://files.pythonhosted.org/packages/34/7c/e2f563c1af1d9042b1a4e03dfcdd73fc31a5236fd108440b4981b4eaea8d/google_cloud_storage-1.16.0-py2.py3-none-any.whl\n",
      "Requirement already satisfied, skipping upgrade: google-auth>=1.2.0 in /home/gautam_sisodia/anaconda3/lib/python3.5/site-packages (from google-cloud-storage) (1.6.3)\n",
      "Collecting google-api-core<2.0.0dev,>=1.6.0 (from google-cloud-storage)\n",
      "  Using cached https://files.pythonhosted.org/packages/32/df/1af46c943d13332e0f113b8d1478d9d466a39db5a2c9edf1e533b720421a/google_api_core-1.11.0-py2.py3-none-any.whl\n",
      "Collecting google-cloud-core<2.0dev,>=1.0.0 (from google-cloud-storage)\n",
      "  Using cached https://files.pythonhosted.org/packages/34/ba/251d9b6a1695d25d9f081a3db537b0dfb15edaf2037b423e4a98280df7f9/google_cloud_core-1.0.0-py2.py3-none-any.whl\n",
      "Requirement already satisfied, skipping upgrade: google-resumable-media>=0.3.1 in /home/gautam_sisodia/anaconda3/lib/python3.5/site-packages (from google-cloud-storage) (0.3.2)\n",
      "Requirement already satisfied, skipping upgrade: cachetools>=2.0.0 in /home/gautam_sisodia/anaconda3/lib/python3.5/site-packages (from google-auth>=1.2.0->google-cloud-storage) (3.1.1)\n",
      "Requirement already satisfied, skipping upgrade: pyasn1-modules>=0.2.1 in /home/gautam_sisodia/anaconda3/lib/python3.5/site-packages (from google-auth>=1.2.0->google-cloud-storage) (0.2.5)\n",
      "Requirement already satisfied, skipping upgrade: six>=1.9.0 in /home/gautam_sisodia/anaconda3/lib/python3.5/site-packages (from google-auth>=1.2.0->google-cloud-storage) (1.11.0)\n",
      "Requirement already satisfied, skipping upgrade: rsa>=3.1.4 in /home/gautam_sisodia/anaconda3/lib/python3.5/site-packages (from google-auth>=1.2.0->google-cloud-storage) (4.0)\n",
      "Requirement already satisfied, skipping upgrade: googleapis-common-protos!=1.5.4,<2.0dev,>=1.5.3 in /home/gautam_sisodia/anaconda3/lib/python3.5/site-packages (from google-api-core<2.0.0dev,>=1.6.0->google-cloud-storage) (1.6.0)\n",
      "Requirement already satisfied, skipping upgrade: requests<3.0.0dev,>=2.18.0 in /home/gautam_sisodia/anaconda3/lib/python3.5/site-packages (from google-api-core<2.0.0dev,>=1.6.0->google-cloud-storage) (2.19.1)\n",
      "Collecting setuptools>=34.0.0 (from google-api-core<2.0.0dev,>=1.6.0->google-cloud-storage)\n",
      "  Using cached https://files.pythonhosted.org/packages/ec/51/f45cea425fd5cb0b0380f5b0f048ebc1da5b417e48d304838c02d6288a1e/setuptools-41.0.1-py2.py3-none-any.whl\n",
      "Requirement already satisfied, skipping upgrade: protobuf>=3.4.0 in /home/gautam_sisodia/anaconda3/lib/python3.5/site-packages (from google-api-core<2.0.0dev,>=1.6.0->google-cloud-storage) (3.7.1)\n",
      "Requirement already satisfied, skipping upgrade: pytz in /home/gautam_sisodia/anaconda3/lib/python3.5/site-packages (from google-api-core<2.0.0dev,>=1.6.0->google-cloud-storage) (2018.3)\n",
      "Collecting pyasn1<0.5.0,>=0.4.1 (from pyasn1-modules>=0.2.1->google-auth>=1.2.0->google-cloud-storage)\n",
      "  Using cached https://files.pythonhosted.org/packages/7b/7c/c9386b82a25115cccf1903441bba3cbadcfae7b678a20167347fa8ded34c/pyasn1-0.4.5-py2.py3-none-any.whl\n",
      "Requirement already satisfied, skipping upgrade: chardet<3.1.0,>=3.0.2 in /home/gautam_sisodia/anaconda3/lib/python3.5/site-packages (from requests<3.0.0dev,>=2.18.0->google-api-core<2.0.0dev,>=1.6.0->google-cloud-storage) (3.0.4)\n",
      "Requirement already satisfied, skipping upgrade: idna<2.8,>=2.5 in /home/gautam_sisodia/anaconda3/lib/python3.5/site-packages (from requests<3.0.0dev,>=2.18.0->google-api-core<2.0.0dev,>=1.6.0->google-cloud-storage) (2.7)\n",
      "Requirement already satisfied, skipping upgrade: certifi>=2017.4.17 in /home/gautam_sisodia/anaconda3/lib/python3.5/site-packages (from requests<3.0.0dev,>=2.18.0->google-api-core<2.0.0dev,>=1.6.0->google-cloud-storage) (2018.8.24)\n",
      "Requirement already satisfied, skipping upgrade: urllib3<1.24,>=1.21.1 in /home/gautam_sisodia/anaconda3/lib/python3.5/site-packages (from requests<3.0.0dev,>=2.18.0->google-api-core<2.0.0dev,>=1.6.0->google-cloud-storage) (1.23)\n",
      "\u001b[31mtensorflow-tensorboard 0.1.8 has requirement bleach==1.5.0, but you'll have bleach 2.1.4 which is incompatible.\u001b[0m\n",
      "\u001b[31mtensorflow-tensorboard 0.1.8 has requirement html5lib==0.9999999, but you'll have html5lib 1.0.1 which is incompatible.\u001b[0m\n",
      "Installing collected packages: setuptools, google-api-core, google-cloud-core, google-cloud-storage, pyasn1\n",
      "  Found existing installation: setuptools 20.3\n",
      "\u001b[31mCannot remove entries from nonexistent file /home/gautam_sisodia/anaconda3/lib/python3.5/site-packages/easy-install.pth\u001b[0m\n",
      "\u001b[33mYou are using pip version 18.0, however version 19.1.1 is available.\n",
      "You should consider upgrading via the 'pip install --upgrade pip' command.\u001b[0m\n"
     ]
    }
   ],
   "source": [
    "!pip3 install --upgrade google-cloud-storage"
   ]
  },
  {
   "cell_type": "code",
   "execution_count": null,
   "metadata": {
    "collapsed": true
   },
   "outputs": [],
   "source": []
  }
 ],
 "metadata": {
  "kernelspec": {
   "display_name": "Python 3",
   "language": "python",
   "name": "python3"
  },
  "language_info": {
   "codemirror_mode": {
    "name": "ipython",
    "version": 3
   },
   "file_extension": ".py",
   "mimetype": "text/x-python",
   "name": "python",
   "nbconvert_exporter": "python",
   "pygments_lexer": "ipython3",
   "version": "3.5.4"
  }
 },
 "nbformat": 4,
 "nbformat_minor": 2
}
